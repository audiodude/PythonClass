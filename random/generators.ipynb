{
 "cells": [
  {
   "cell_type": "markdown",
   "metadata": {},
   "source": [
    "In Python an [**iterable**](https://docs.python.org/3/glossary.html#term-iterable) is a \"an object capable of returning its items one at a time\". In practice, you can think of an iterable as anything that can be used in a for loop. Lists, tuples, dictionaries and strings are all iterable."
   ]
  },
  {
   "cell_type": "code",
   "execution_count": null,
   "metadata": {},
   "outputs": [],
   "source": [
    "fruits = ['apple', 'banana', 'kiwi']\n",
    "\n",
    "for fruit in fruits:\n",
    "  print(fruit)"
   ]
  },
  {
   "cell_type": "code",
   "execution_count": null,
   "metadata": {},
   "outputs": [],
   "source": [
    "fruits = ('melon', 'apple', 'pear')\n",
    "\n",
    "for fruit in fruits:\n",
    "  print(fruit)"
   ]
  },
  {
   "cell_type": "code",
   "execution_count": null,
   "metadata": {},
   "outputs": [],
   "source": [
    "fruits = {'apple': 1.29, 'lime': 0.89, 'cherry': 0.12}\n",
    "\n",
    "for fruit in fruits:\n",
    "  print(fruit)"
   ]
  },
  {
   "cell_type": "code",
   "execution_count": null,
   "metadata": {},
   "outputs": [],
   "source": [
    "x = 'fruits'\n",
    "\n",
    "for character in x:\n",
    "  print(character)"
   ]
  },
  {
   "cell_type": "markdown",
   "metadata": {},
   "source": [
    "\n",
    "Python has an interesting way to create functions that return **iterables**. They're called **generators** and they are built using the `yield` keyword.\n"
   ]
  },
  {
   "cell_type": "code",
   "execution_count": 4,
   "metadata": {},
   "outputs": [
    {
     "name": "stdout",
     "output_type": "stream",
     "text": [
      "apple\n",
      "None\n",
      "42\n",
      "banana\n",
      "cherry\n"
     ]
    }
   ],
   "source": [
    "def fruit_basket():\n",
    "  yield 'apple'\n",
    "  yield\n",
    "  yield 42\n",
    "  yield 'banana'\n",
    "  yield 'cherry'\n",
    "\n",
    "for fruit in fruit_basket():\n",
    "  print(fruit)"
   ]
  },
  {
   "cell_type": "markdown",
   "metadata": {},
   "source": [
    "At first glance, this doesn't seem particularly useful, because we could just return a list."
   ]
  },
  {
   "cell_type": "code",
   "execution_count": null,
   "metadata": {},
   "outputs": [],
   "source": [
    "def fruit_basket():\n",
    "  return ['apple', 'banana', 'cherry']\n",
    "\n",
    "for fruit in fruit_basket():\n",
    "  print(fruit)"
   ]
  },
  {
   "cell_type": "markdown",
   "metadata": {},
   "source": [
    "However, generators let us \"stream data\". Maybe we're reading data from a socket or file and we don't know how much will be coming. We can use a generator to provide data as it becomes available. Or perhaps we want to iterate over a potentially infinite sequence."
   ]
  },
  {
   "cell_type": "code",
   "execution_count": 3,
   "metadata": {},
   "outputs": [
    {
     "name": "stdout",
     "output_type": "stream",
     "text": [
      "1\n",
      "3\n",
      "5\n",
      "7\n",
      "9\n"
     ]
    }
   ],
   "source": [
    "def odd_numbers():\n",
    "  n = 1\n",
    "  yield n\n",
    "  while True:\n",
    "    n += 2\n",
    "    yield n\n",
    "\n",
    "for n in odd_numbers():\n",
    "  if n > 10:\n",
    "    break\n",
    "  print(n)"
   ]
  },
  {
   "cell_type": "code",
   "execution_count": 14,
   "metadata": {},
   "outputs": [
    {
     "name": "stdout",
     "output_type": "stream",
     "text": [
      "Building the desk...\n",
      "...Unbuilding the desk\n",
      "Generator is exhausted!\n",
      "None\n"
     ]
    },
    {
     "ename": "UnboundLocalError",
     "evalue": "cannot access local variable 'y' where it is not associated with a value",
     "output_type": "error",
     "traceback": [
      "\u001b[0;31m---------------------------------------------------------------------------\u001b[0m",
      "\u001b[0;31mUnboundLocalError\u001b[0m                         Traceback (most recent call last)",
      "Cell \u001b[0;32mIn[14], line 21\u001b[0m\n\u001b[1;32m     18\u001b[0m   \u001b[38;5;28mprint\u001b[39m(x)\n\u001b[1;32m     19\u001b[0m   \u001b[38;5;28mprint\u001b[39m(y)\n\u001b[0;32m---> 21\u001b[0m \u001b[43mlifespan_manual\u001b[49m\u001b[43m(\u001b[49m\u001b[43m)\u001b[49m\n\u001b[1;32m     23\u001b[0m \u001b[38;5;28;01mdef\u001b[39;00m \u001b[38;5;21mrun_web_app\u001b[39m():\n\u001b[1;32m     24\u001b[0m   lifespan_generator \u001b[38;5;241m=\u001b[39m lifespan()\n",
      "Cell \u001b[0;32mIn[14], line 19\u001b[0m, in \u001b[0;36mlifespan_manual\u001b[0;34m()\u001b[0m\n\u001b[1;32m     17\u001b[0m   \u001b[38;5;28mprint\u001b[39m(\u001b[38;5;124m'\u001b[39m\u001b[38;5;124mGenerator is exhausted!\u001b[39m\u001b[38;5;124m'\u001b[39m)\n\u001b[1;32m     18\u001b[0m \u001b[38;5;28mprint\u001b[39m(x)\n\u001b[0;32m---> 19\u001b[0m \u001b[38;5;28mprint\u001b[39m(\u001b[43my\u001b[49m)\n",
      "\u001b[0;31mUnboundLocalError\u001b[0m: cannot access local variable 'y' where it is not associated with a value"
     ]
    }
   ],
   "source": [
    "def lifespan():\n",
    "  print('Building the desk...')\n",
    "  yield\n",
    "  print('...Unbuilding the desk')\n",
    "  return\n",
    "\n",
    "def lifespan_for():\n",
    "  for value in lifespan():\n",
    "    print(value)\n",
    "\n",
    "def lifespan_manual():\n",
    "  lifespan_generator = lifespan()\n",
    "  try:\n",
    "    x = next(lifespan_generator)\n",
    "    y = next(lifespan_generator)\n",
    "  except StopIteration:\n",
    "    print('Generator is exhausted!')\n",
    "  print(x)\n",
    "  print(y)\n",
    "\n",
    "lifespan_manual()\n",
    "\n",
    "def run_web_app():\n",
    "  lifespan_generator = lifespan()\n",
    "  next(lifespan_generator)\n",
    "  print('Serving a web app')\n",
    "  print('processing a request')\n",
    "  next(lifespan_generator)\n"
   ]
  },
  {
   "cell_type": "code",
   "execution_count": 15,
   "metadata": {},
   "outputs": [
    {
     "name": "stdout",
     "output_type": "stream",
     "text": [
      "==== Greetings ====\n",
      "Hello, Alice!\n",
      "The weather today is sunny\n",
      "Goodbye, Alice!\n"
     ]
    }
   ],
   "source": [
    "def template(name):\n",
    "  print(f'Hello, {name}!')\n",
    "  pass\n",
    "  yield\n",
    "  print(f'Goodbye, {name}!')\n",
    "\n",
    "template_generator = template('Alice')\n",
    "\n",
    "pass\n",
    "\n",
    "next(template_generator)\n",
    "print('==== Weather ====')\n",
    "print('The weather today is sunny')\n",
    "print('...')\n",
    "try:\n",
    "  next(template_generator)\n",
    "except StopIteration:\n",
    "  pass"
   ]
  },
  {
   "cell_type": "code",
   "execution_count": 18,
   "metadata": {},
   "outputs": [
    {
     "name": "stdout",
     "output_type": "stream",
     "text": [
      "Starting work\n",
      "Serving web requests: 2024-07-08 19:28:11.345866\n",
      "Finishing web requests: 2024-07-08 19:28:11.345866\n",
      "Ending\n",
      "hello\n"
     ]
    }
   ],
   "source": [
    "from contextlib import contextmanager\n",
    "import datetime\n",
    "import time\n",
    "\n",
    "@contextmanager\n",
    "def logger(unit):\n",
    "  print('Starting work')\n",
    "  if unit == 'seconds':\n",
    "    yield datetime.datetime.now().second\n",
    "  elif unit == 'minutes':\n",
    "    yield datetime.datetime.now().minute\n",
    "  print('Ending')\n",
    "\n",
    "with logger() as start_time:\n",
    "  print(f'Serving web requests: {start_time}')\n",
    "  time.sleep(5)\n",
    "  print(f'Finishing web requests: {start_time}')\n",
    "x = 'hello'\n",
    "print(x)\n"
   ]
  },
  {
   "cell_type": "code",
   "execution_count": null,
   "metadata": {},
   "outputs": [],
   "source": []
  }
 ],
 "metadata": {
  "kernelspec": {
   "display_name": "PythonClass-vcBxlNeB",
   "language": "python",
   "name": "python3"
  },
  "language_info": {
   "codemirror_mode": {
    "name": "ipython",
    "version": 3
   },
   "file_extension": ".py",
   "mimetype": "text/x-python",
   "name": "python",
   "nbconvert_exporter": "python",
   "pygments_lexer": "ipython3",
   "version": "3.11.6"
  }
 },
 "nbformat": 4,
 "nbformat_minor": 2
}
