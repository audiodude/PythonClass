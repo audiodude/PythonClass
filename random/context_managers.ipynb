{
 "cells": [
  {
   "cell_type": "code",
   "execution_count": null,
   "metadata": {},
   "outputs": [],
   "source": [
    "import sqlite3\n",
    "\n",
    "def connect():\n",
    "    # This is the file that will store our database, we can\n",
    "    # name it anything we want, but it's nice to have a .sqlite\n",
    "    # or .sqlite3 extension.\n",
    "    return sqlite3.connect('radish.sqlite')\n",
    "\n",
    "db = connect()"
   ]
  },
  {
   "cell_type": "code",
   "execution_count": null,
   "metadata": {},
   "outputs": [],
   "source": [
    "from contextlib import closing\n",
    "\n",
    "db = connect()\n",
    "\n",
    "with closing(db.cursor()) as cursor:\n",
    "    with open('schema.sql', 'r') as f:\n",
    "        # Execute all of the SQL statements in the schema file\n",
    "        cursor.executescript(f.read())"
   ]
  },
  {
   "cell_type": "code",
   "execution_count": null,
   "metadata": {},
   "outputs": [],
   "source": [
    "cursor = db.cursor()\n",
    "cursor.execute('INSERT INTO links (id, name) VALUES (1, \"Google\")')\n",
    "cursor.execute('INSERT INTO links (id, name) VALUES (2, \"Amazon\")')\n",
    "cursor.close()"
   ]
  },
  {
   "cell_type": "code",
   "execution_count": null,
   "metadata": {},
   "outputs": [],
   "source": [
    "cursor = db.cursor()\n",
    "cursor.execute('SELECT * FROM links')\n",
    "print(cursor.fetchall())\n",
    "cursor.close()"
   ]
  },
  {
   "cell_type": "code",
   "execution_count": null,
   "metadata": {},
   "outputs": [],
   "source": [
    "def get_string():\n",
    "  return 'apple'\n",
    "\n",
    "with closing(get_string()) as apple:\n",
    "  print(apple)"
   ]
  },
  {
   "cell_type": "code",
   "execution_count": null,
   "metadata": {},
   "outputs": [],
   "source": [
    "from contextlib import closing\n",
    "\n",
    "with closing(db.cursor()) as cursor:\n",
    "    cursor.execute('SELECT * FROM links')\n",
    "    print(cursor.fetchall())"
   ]
  },
  {
   "cell_type": "code",
   "execution_count": null,
   "metadata": {},
   "outputs": [],
   "source": [
    "def with_cursor(func):\n",
    "  def wrapper(*args, **kwargs):\n",
    "    cursor = db.cursor()\n",
    "    func(cursor, *args, **kwargs)\n",
    "    cursor.close()\n",
    "\n",
    "  return wrapper\n",
    "\n",
    "@with_cursor\n",
    "def get_all_links(cursor):\n",
    "    cursor.execute('SELECT * FROM links')\n",
    "    print(cursor.fetchall())\n",
    "\n",
    "get_all_links()\n"
   ]
  },
  {
   "cell_type": "code",
   "execution_count": null,
   "metadata": {},
   "outputs": [],
   "source": [
    "from contextlib import contextmanager\n",
    "\n",
    "@contextmanager\n",
    "def with_context_cursor():\n",
    "    cursor = db.cursor()\n",
    "    try:\n",
    "        yield cursor\n",
    "    finally:\n",
    "        cursor.close()\n",
    "\n",
    "with with_context_cursor() as cursor:\n",
    "    cursor.execute('SELECT * FROM links')\n",
    "    print(cursor.fetchall())\n",
    "\n",
    "with closing(db.cursor()) as cursor:\n",
    "    cursor.execute('SELECT * FROM links')\n",
    "    print(cursor.fetchall())"
   ]
  }
 ],
 "metadata": {
  "kernelspec": {
   "display_name": "PythonClass-vcBxlNeB",
   "language": "python",
   "name": "python3"
  },
  "language_info": {
   "codemirror_mode": {
    "name": "ipython",
    "version": 3
   },
   "file_extension": ".py",
   "mimetype": "text/x-python",
   "name": "python",
   "nbconvert_exporter": "python",
   "pygments_lexer": "ipython3",
   "version": "3.11.6"
  }
 },
 "nbformat": 4,
 "nbformat_minor": 2
}
