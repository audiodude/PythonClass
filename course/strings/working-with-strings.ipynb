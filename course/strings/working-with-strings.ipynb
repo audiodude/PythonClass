{
 "cells": [
  {
   "cell_type": "markdown",
   "metadata": {
    "slideshow": {
     "slide_type": "slide"
    }
   },
   "source": [
    "# Types and Collections"
   ]
  },
  {
   "cell_type": "markdown",
   "metadata": {},
   "source": [
    "* type determines how data is represented, and it's rules for use.\n",
    "* collections let us assemble data into facts about the world"
   ]
  },
  {
   "cell_type": "markdown",
   "metadata": {
    "slideshow": {
     "slide_type": "slide"
    }
   },
   "source": [
    "# List\n",
    "* Ordered\n",
    "* Mutible\n",
    "* 'Examples of'"
   ]
  },
  {
   "cell_type": "code",
   "execution_count": null,
   "metadata": {},
   "outputs": [],
   "source": [
    "# examples of creation, indexing and assignment"
   ]
  },
  {
   "cell_type": "markdown",
   "metadata": {
    "slideshow": {
     "slide_type": "slide"
    }
   },
   "source": [
    "# Tuple\n",
    "* Ordered\n",
    "* Immutable\n",
    "* 'Related information'"
   ]
  },
  {
   "cell_type": "code",
   "execution_count": null,
   "metadata": {},
   "outputs": [],
   "source": [
    "# examples of creation, indexing and assignment"
   ]
  },
  {
   "cell_type": "markdown",
   "metadata": {
    "slideshow": {
     "slide_type": "slide"
    }
   },
   "source": [
    "# Dictionary\n",
    "* Access values based on keys\n",
    "* Keys must be immutable\n",
    "* 'I want this information on demand'"
   ]
  },
  {
   "cell_type": "code",
   "execution_count": null,
   "metadata": {},
   "outputs": [],
   "source": [
    "# examples of creation, retrieval and assignment"
   ]
  },
  {
   "cell_type": "markdown",
   "metadata": {
    "slideshow": {
     "slide_type": "slide"
    }
   },
   "source": [
    "# Set\n",
    "* unordered\n",
    "* unique\n",
    "* 'member of' or 'property of'"
   ]
  },
  {
   "cell_type": "code",
   "execution_count": null,
   "metadata": {},
   "outputs": [],
   "source": [
    "# examples of creation, and membership test"
   ]
  },
  {
   "cell_type": "markdown",
   "metadata": {
    "slideshow": {
     "slide_type": "slide"
    }
   },
   "source": [
    "A string acts like a tuple of characters\n",
    "===============================\n",
    "* ordered\n",
    "* immutable"
   ]
  },
  {
   "cell_type": "markdown",
   "metadata": {
    "slideshow": {
     "slide_type": "slide"
    }
   },
   "source": [
    "Indices!\n",
    "-----------"
   ]
  },
  {
   "cell_type": "markdown",
   "metadata": {},
   "source": [
    "# Indices are zero indexed"
   ]
  },
  {
   "cell_type": "markdown",
   "metadata": {
    "slideshow": {
     "slide_type": "slide"
    }
   },
   "source": [
    "Negative indices count from the end of the list\n",
    "------------------------------------------------------------------\n",
    "\n",
    "`numbers[-i]` is equivalent to `numbers[len(numbers) - i]`"
   ]
  },
  {
   "cell_type": "code",
   "execution_count": 4,
   "metadata": {},
   "outputs": [
    {
     "name": "stdout",
     "output_type": "stream",
     "text": [
      "5 == 5\n",
      "2 == 2\n"
     ]
    }
   ],
   "source": [
    "numbers = [0, 1, 2, 3, 4, 5]\n",
    "print(numbers[-1], '==', numbers[len(numbers) - 1])\n",
    "print(numbers[-4], '==', numbers[len(numbers) - 4])"
   ]
  },
  {
   "cell_type": "markdown",
   "metadata": {
    "slideshow": {
     "slide_type": "subslide"
    }
   },
   "source": [
    "Indices support assignment\n",
    "----------------------------------------"
   ]
  },
  {
   "cell_type": "code",
   "execution_count": 5,
   "metadata": {},
   "outputs": [
    {
     "name": "stdout",
     "output_type": "stream",
     "text": [
      "[0, 1, 2, 3, 4, 'five']\n"
     ]
    }
   ],
   "source": [
    "numbers = [0, 1, 2, 3, 4, 5]\n",
    "numbers[5] = 'five'\n",
    "\n",
    "print(numbers)"
   ]
  },
  {
   "cell_type": "markdown",
   "metadata": {
    "slideshow": {
     "slide_type": "subslide"
    }
   },
   "source": [
    "Repeated indices retrieve data from nested collections\n",
    "------------------------------------------------------------------------------"
   ]
  },
  {
   "cell_type": "code",
   "execution_count": 6,
   "metadata": {},
   "outputs": [
    {
     "name": "stdout",
     "output_type": "stream",
     "text": [
      "(0, 1)\n"
     ]
    }
   ],
   "source": [
    "table = [\n",
    "    [(0, 0), (0, 1), (0, 2)],\n",
    "    [(1, 0), (1, 1), (1, 2)],\n",
    "    [(2, 0), (2, 1), (2, 2)]\n",
    "]\n",
    "\n",
    "print(table[0][1])"
   ]
  },
  {
   "cell_type": "markdown",
   "metadata": {
    "slideshow": {
     "slide_type": "-"
    }
   },
   "source": [
    "What will `print(table[1][2][0])` show? \n",
    "\n",
    "How about `print(table[0][0][-1])`?"
   ]
  },
  {
   "cell_type": "markdown",
   "metadata": {
    "slideshow": {
     "slide_type": "slide"
    }
   },
   "source": [
    "Slices!\n",
    "----------\n",
    "\n",
    "`list[start:stop]` means \n",
    " * from index `start`\n",
    " * up to but not including, index `stop`"
   ]
  },
  {
   "cell_type": "code",
   "execution_count": null,
   "metadata": {},
   "outputs": [],
   "source": [
    "numbers = [0, 1, 2, 3, 4, 5, 6, 7, 8, 9]\n",
    "print(numbers[2:5])"
   ]
  },
  {
   "cell_type": "code",
   "execution_count": null,
   "metadata": {},
   "outputs": [],
   "source": [
    "numbers[2:5] = 'two', 'three', 'four'\n",
    "print(numbers)"
   ]
  },
  {
   "cell_type": "markdown",
   "metadata": {
    "slideshow": {
     "slide_type": "slide"
    }
   },
   "source": [
    "### Slicing means from index `start` up to but not including index `stop`\n",
    "\n",
    "What will `print(numbers[2:2])` show?\n",
    "\n",
    "How about `print(numbers[5:2])`?"
   ]
  },
  {
   "cell_type": "markdown",
   "metadata": {
    "slideshow": {
     "slide_type": "slide"
    }
   },
   "source": [
    "### In the slice `a:b`, both `a` and `b` are optional.\n",
    "- `numbers[:b]` is equivalent to `numbers[0:b]`.\n",
    "- `numbers[a:]` is equivalent to `numbers[a:len(my_list)]`\n",
    "- what does `numbers[:]` do?"
   ]
  },
  {
   "cell_type": "markdown",
   "metadata": {
    "slideshow": {
     "slide_type": "slide"
    }
   },
   "source": [
    "# In the slice `a:b`, `a` and `b` can also be negative."
   ]
  },
  {
   "cell_type": "code",
   "execution_count": null,
   "metadata": {},
   "outputs": [],
   "source": [
    "numbers = [0, 1, 2, 3, 4, 5, 6, 7, 8, 9]\n",
    "print(numbers[-4:])"
   ]
  },
  {
   "cell_type": "markdown",
   "metadata": {
    "slideshow": {
     "slide_type": "slide"
    }
   },
   "source": [
    "### The way to get indices correct is to imaginge the number coming before the elements."
   ]
  },
  {
   "cell_type": "markdown",
   "metadata": {
    "slideshow": {
     "slide_type": "slide"
    }
   },
   "source": [
    "Step size!\n",
    "--------------\n",
    "\n",
    "Slices have a third optional parameter that controls the stride\n",
    "\n",
    "`list[start:stop:step]` means \n",
    " * from index `start`\n",
    " * return every element `step` apart\n",
    " * up to but not including `stop`"
   ]
  },
  {
   "cell_type": "markdown",
   "metadata": {
    "slideshow": {
     "slide_type": "slide"
    }
   },
   "source": [
    "Which one of these does what you expect it to?\n",
    "* `numbers[2:5:-1]`\n",
    "* `numbers[5:2:-1]`"
   ]
  },
  {
   "cell_type": "code",
   "execution_count": null,
   "metadata": {
    "slideshow": {
     "slide_type": "slide"
    }
   },
   "outputs": [],
   "source": [
    "# What elements will the following slices return?\n",
    "numbers = [1, 2, 3, 4, 5, 6, 7, 8 , 9]\n",
    "print(numbers[:-2])\n",
    "print(numbers[2:-2])\n",
    "print(numbers[-2:2])\n",
    "print(numbers[-2:])\n",
    "print(numbers[-5::-1])"
   ]
  },
  {
   "cell_type": "markdown",
   "metadata": {
    "slideshow": {
     "slide_type": "slide"
    }
   },
   "source": [
    "Copying!\n",
    "-------------\n",
    "\n",
    "Making a slice performs a shallow copy."
   ]
  },
  {
   "cell_type": "code",
   "execution_count": null,
   "metadata": {},
   "outputs": [],
   "source": [
    "numbers = [0, 1, 2, 3, 4, 5, 6, 7, 8, 9]\n",
    "\n",
    "copy = numbers[:5]\n",
    "copy = ['zero', 'one', 'two', 'three', 'four']\n",
    "print(copy)\n",
    "print(numbers[:5])"
   ]
  },
  {
   "cell_type": "code",
   "execution_count": null,
   "metadata": {},
   "outputs": [],
   "source": [
    "deep_data = [[0], [1], [2]]\n",
    "\n",
    "copy = deep_data[:2]\n",
    "copy[0][0] = 'zero'\n",
    "print(copy)\n",
    "print(deep_data[:2])"
   ]
  },
  {
   "cell_type": "markdown",
   "metadata": {
    "slideshow": {
     "slide_type": "slide"
    }
   },
   "source": [
    "numpy only copies when you explicitly tell it to."
   ]
  },
  {
   "cell_type": "code",
   "execution_count": null,
   "metadata": {},
   "outputs": [],
   "source": [
    "import numpy\n",
    "\n",
    "numbers = numpy.array([0, 1, 2, 3, 4, 5])\n",
    "view = numbers[-3:]\n",
    "view[:] = [0, 0, 0]\n",
    "\n",
    "print(view)\n",
    "print(numbers)"
   ]
  },
  {
   "cell_type": "markdown",
   "metadata": {
    "slideshow": {
     "slide_type": "slide"
    }
   },
   "source": [
    "Concatination\n",
    "--------------------\n",
    "\n",
    "Use `+` to concatinate lists."
   ]
  },
  {
   "cell_type": "code",
   "execution_count": null,
   "metadata": {},
   "outputs": [],
   "source": [
    "print([0, 1, 2] + ['three', 'four', 'five'])"
   ]
  },
  {
   "cell_type": "markdown",
   "metadata": {
    "slideshow": {
     "slide_type": "slide"
    }
   },
   "source": [
    "How would you rotate a list `i` steps to the left?\n",
    "\n",
    "`012345` rotated 2 steps to the left becomes `234501`"
   ]
  },
  {
   "cell_type": "markdown",
   "metadata": {},
   "source": [
    "How would you assign every odd element in a list to the even element immediately preceding it?"
   ]
  },
  {
   "cell_type": "code",
   "execution_count": null,
   "metadata": {
    "slideshow": {
     "slide_type": "slide"
    }
   },
   "outputs": [],
   "source": [
    "i = 2\n",
    "print(numbers[i:] + numbers[:i])"
   ]
  },
  {
   "cell_type": "code",
   "execution_count": null,
   "metadata": {},
   "outputs": [],
   "source": [
    "numbers[1::2] = numbers[::2]\n",
    "print(numbers)"
   ]
  },
  {
   "cell_type": "markdown",
   "metadata": {
    "slideshow": {
     "slide_type": "slide"
    }
   },
   "source": [
    "### Strings!"
   ]
  },
  {
   "cell_type": "markdown",
   "metadata": {},
   "source": [
    "If strings act like tuples of characters, what will the following do?\n",
    "* `\"cat\" + \"goes meow\"`\n",
    "* `\"cat goes meow\"[:3]`\n",
    "* `\"cat goes meow\"[::-1]`\n",
    "* `\"cat goes meow\"[:2] = 'p', 'a'`\n",
    "* `for c in \"my string\": print(c)`"
   ]
  },
  {
   "cell_type": "markdown",
   "metadata": {
    "slideshow": {
     "slide_type": "slide"
    }
   },
   "source": [
    "### Strings can be manipulated with string methods"
   ]
  },
  {
   "cell_type": "code",
   "execution_count": null,
   "metadata": {
    "slideshow": {
     "slide_type": "-"
    }
   },
   "outputs": [],
   "source": [
    "s = \"my string\"\n",
    "print(s.upper())"
   ]
  },
  {
   "cell_type": "markdown",
   "metadata": {},
   "source": [
    "If strings are immutable, what is happening here?"
   ]
  },
  {
   "cell_type": "markdown",
   "metadata": {
    "slideshow": {
     "slide_type": "slide"
    }
   },
   "source": [
    "### Use dir to get a list of all methods associated with a string"
   ]
  },
  {
   "cell_type": "code",
   "execution_count": null,
   "metadata": {},
   "outputs": [],
   "source": [
    "dir(\"hello world\")"
   ]
  },
  {
   "cell_type": "markdown",
   "metadata": {
    "slideshow": {
     "slide_type": "slide"
    }
   },
   "source": [
    "### Methods operate on objects\n",
    "* python objects:\n",
    "  * `'hello noisebridge'`\n",
    "  * `5`\n",
    "  * `['one', 'two', 'three']`\n",
    "* We say they are instances of type string, integer and list.\n",
    "* Any syntactically complete atom of python is an object, and has a similar interface."
   ]
  },
  {
   "cell_type": "markdown",
   "metadata": {
    "slideshow": {
     "slide_type": "slide"
    }
   },
   "source": [
    "### There are lots of excellent methods to work with strings:\n",
    "- split\n",
    "- join\n",
    "- strip\n",
    "- lower/upper\n",
    "- replace\n",
    "- startswith"
   ]
  },
  {
   "cell_type": "code",
   "execution_count": null,
   "metadata": {},
   "outputs": [],
   "source": [
    "comma_seperated_values = '1, 2, 3, 4'\n",
    "list_values = comma_seperated_values.split(',')\n",
    "\n",
    "print(list_values)\n",
    "original_values = ','.join(list_values)\n",
    "print(original_values)"
   ]
  },
  {
   "cell_type": "markdown",
   "metadata": {
    "slideshow": {
     "slide_type": "slide"
    }
   },
   "source": [
    "Challenge question: convert the string '1, 2, 3, 4' into the list of integers `[1, 2, 3, 4]`"
   ]
  },
  {
   "cell_type": "markdown",
   "metadata": {
    "slideshow": {
     "slide_type": "slide"
    }
   },
   "source": [
    "### String literals help you write text with newlines in it."
   ]
  },
  {
   "cell_type": "code",
   "execution_count": null,
   "metadata": {},
   "outputs": [],
   "source": [
    "poem = '''\n",
    "        hickory dickory dock\n",
    "        the mouse ran up the clock\n",
    "'''"
   ]
  },
  {
   "cell_type": "markdown",
   "metadata": {
    "slideshow": {
     "slide_type": "slide"
    }
   },
   "source": [
    "### Format Strings!\n",
    "\n",
    "Python keeps reinventing string formatting, the latest is format strings (Python version >= 3.6)"
   ]
  },
  {
   "cell_type": "code",
   "execution_count": null,
   "metadata": {},
   "outputs": [],
   "source": [
    "# example of format strings"
   ]
  },
  {
   "cell_type": "markdown",
   "metadata": {
    "slideshow": {
     "slide_type": "slide"
    }
   },
   "source": [
    "Formatting options for everyone!\n",
    "\n",
    "Check out https://pyformat.info/ for details."
   ]
  },
  {
   "cell_type": "code",
   "execution_count": null,
   "metadata": {},
   "outputs": [],
   "source": [
    "import math\n",
    "\n",
    "name = 'Noisebridge'\n",
    "my_name = 'Jared'\n",
    "\n",
    "print(f'I love {math.pi} -> I love {math.pi * 10:.3}')\n",
    "print(f'I love fixed width {name:^11}')\n",
    "print(f'I love fixed width {my_name:^11}')"
   ]
  },
  {
   "cell_type": "markdown",
   "metadata": {
    "slideshow": {
     "slide_type": "slide"
    }
   },
   "source": [
    "The previous preferred way of formatting strings was the .format method"
   ]
  },
  {
   "cell_type": "code",
   "execution_count": null,
   "metadata": {},
   "outputs": [],
   "source": [
    "name = 'Noisebridge'\n",
    "print('Hello {0}, {1}!'.format(name, \"nice to meet you\"))"
   ]
  },
  {
   "cell_type": "markdown",
   "metadata": {
    "slideshow": {
     "slide_type": "slide"
    }
   },
   "source": [
    "You can get pretty silly with these"
   ]
  },
  {
   "cell_type": "code",
   "execution_count": null,
   "metadata": {},
   "outputs": [],
   "source": [
    "import sys\n",
    "print(f'Hello {sys.exit()}')"
   ]
  },
  {
   "cell_type": "markdown",
   "metadata": {
    "slideshow": {
     "slide_type": "slide"
    }
   },
   "source": [
    "### Regular Expressions!"
   ]
  },
  {
   "cell_type": "markdown",
   "metadata": {},
   "source": [
    "A regular expression is a pattern that matches some set of strings.\n",
    "* the regular expression `abc` matches exactly one string: \"abc\"\n",
    "* the regular expression `\\d` matches any single character, 1-9\n",
    "* the regular expression `.` matches any single character\n",
    "* `*` matches any number of repetitions for the previous character. `a*` matches \"\", \"a\", \"aa\", \"aaa\"...\n",
    "* `+` matches one or more repetitions\n",
    "* `?` matches zero or one repetitions\n",
    "* `()` is a group that can be operated on collectively. `(ABC)?` matches \"\" or \"ABC\"\n"
   ]
  },
  {
   "cell_type": "code",
   "execution_count": null,
   "metadata": {
    "slideshow": {
     "slide_type": "slide"
    }
   },
   "outputs": [],
   "source": [
    "import re\n",
    "re_digit = re.compile('\\d')\n",
    "match = re_digit.match('1')\n",
    "if match is not None:\n",
    "    print(match.group())"
   ]
  },
  {
   "cell_type": "code",
   "execution_count": null,
   "metadata": {},
   "outputs": [],
   "source": [
    "for match in re.finditer(pattern, string):\n",
    "    print(match)"
   ]
  },
  {
   "cell_type": "markdown",
   "metadata": {
    "slideshow": {
     "slide_type": "-"
    }
   },
   "source": [
    "Special characters in regular expressions:\n",
    "   - \\d any digit\n",
    "   - \\ escape\n",
    "   - . any single character\n",
    "   - \\* between 0 and infinite repetitions of the previous character\n",
    "   - \\+ between 1 and infinite repetitions of the previous character\n",
    "   - ? between 0 and 1 repetitions of the previous character\n",
    "   - {i,j} between i and j repetitions of the previous character\n",
    "   - () group that can be operated on, or referenced later with \\1 ... \\9\n",
    "   - lots more ...\n",
    "    \n",
    "Lets make a regular expression that matches a phone number!"
   ]
  },
  {
   "cell_type": "markdown",
   "metadata": {
    "slideshow": {
     "slide_type": "slide"
    }
   },
   "source": [
    "Check out:\n",
    "=========\n",
    "* string methods for more useful string manipulation\n",
    "* numpy for fancier indexing\n",
    "* the itertools module for yet more collection manipulation\n",
    "* https://regexr.com to learn regular expressions"
   ]
  }
 ],
 "metadata": {
  "celltoolbar": "Slideshow",
  "kernelspec": {
   "display_name": "Python 3",
   "language": "python",
   "name": "python3"
  },
  "language_info": {
   "codemirror_mode": {
    "name": "ipython",
    "version": 3
   },
   "file_extension": ".py",
   "mimetype": "text/x-python",
   "name": "python",
   "nbconvert_exporter": "python",
   "pygments_lexer": "ipython3",
   "version": "3.7.2"
  }
 },
 "nbformat": 4,
 "nbformat_minor": 1
}
