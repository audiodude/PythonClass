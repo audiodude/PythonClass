{
 "cells": [
  {
   "cell_type": "markdown",
   "metadata": {
    "slideshow": {
     "slide_type": "slide"
    }
   },
   "source": [
    "A string is an immutable list of characters\n",
    "=================================="
   ]
  },
  {
   "cell_type": "markdown",
   "metadata": {
    "slideshow": {
     "slide_type": "slide"
    }
   },
   "source": [
    "Indices!\n",
    "-----------"
   ]
  },
  {
   "cell_type": "markdown",
   "metadata": {},
   "source": [
    "We can select an element with an index\n",
    "--------------------------------------------------------"
   ]
  },
  {
   "cell_type": "code",
   "execution_count": 1,
   "metadata": {},
   "outputs": [
    {
     "name": "stdout",
     "output_type": "stream",
     "text": [
      "5\n"
     ]
    }
   ],
   "source": [
    "numbers = [0, 1, 2, 3, 4, 5, 6, 7, 8, 9]\n",
    "print(numbers[5])"
   ]
  },
  {
   "cell_type": "markdown",
   "metadata": {
    "slideshow": {
     "slide_type": "subslide"
    }
   },
   "source": [
    "Negative indices count from the end of the list\n",
    "------------------------------------------------------------------\n",
    "\n",
    "`numbers[-i]` is equivalent to `numbers[len(numbers) - i]`"
   ]
  },
  {
   "cell_type": "code",
   "execution_count": 2,
   "metadata": {},
   "outputs": [
    {
     "name": "stdout",
     "output_type": "stream",
     "text": [
      "9 == 9\n",
      "6 == 6\n"
     ]
    }
   ],
   "source": [
    "print(numbers[-1], '==', numbers[len(numbers) - 1])\n",
    "print(numbers[-4], '==', numbers[len(numbers) - 4])"
   ]
  },
  {
   "cell_type": "markdown",
   "metadata": {
    "slideshow": {
     "slide_type": "subslide"
    }
   },
   "source": [
    "Indices support assignment\n",
    "----------------------------------------"
   ]
  },
  {
   "cell_type": "code",
   "execution_count": 3,
   "metadata": {},
   "outputs": [
    {
     "name": "stdout",
     "output_type": "stream",
     "text": [
      "[0, 1, 2, 3, 4, 'five', 6, 7, 8, 9]\n"
     ]
    }
   ],
   "source": [
    "numbers[5] = 'five'\n",
    "\n",
    "print(numbers)"
   ]
  },
  {
   "cell_type": "markdown",
   "metadata": {
    "slideshow": {
     "slide_type": "subslide"
    }
   },
   "source": [
    "Repeated indices retrieve data from nested collections\n",
    "------------------------------------------------------------------------------"
   ]
  },
  {
   "cell_type": "code",
   "execution_count": null,
   "metadata": {},
   "outputs": [],
   "source": [
    "table = [\n",
    "    [(0, 0), (0, 1), (0, 2)],\n",
    "    [(1, 0), (1, 1), (1, 2)],\n",
    "    [(2, 0), (2, 1), (2, 2)]\n",
    "]\n",
    "\n",
    "print(table[0][1])"
   ]
  },
  {
   "cell_type": "markdown",
   "metadata": {
    "slideshow": {
     "slide_type": "-"
    }
   },
   "source": [
    "What will `print(table[1][2][0])` show? \n",
    "\n",
    "How about `print(table[0][0][-1])`?"
   ]
  },
  {
   "cell_type": "markdown",
   "metadata": {
    "slideshow": {
     "slide_type": "slide"
    }
   },
   "source": [
    "Slices!\n",
    "----------\n",
    "\n",
    "`list[start:stop]` means \n",
    " * from index `start`\n",
    " * up to but not including, index `stop`"
   ]
  },
  {
   "cell_type": "code",
   "execution_count": 4,
   "metadata": {},
   "outputs": [
    {
     "name": "stdout",
     "output_type": "stream",
     "text": [
      "[2, 3, 4]\n"
     ]
    }
   ],
   "source": [
    "numbers = [0, 1, 2, 3, 4, 5, 6, 7, 8, 9]\n",
    "print(numbers[2:5])"
   ]
  },
  {
   "cell_type": "code",
   "execution_count": 5,
   "metadata": {},
   "outputs": [
    {
     "name": "stdout",
     "output_type": "stream",
     "text": [
      "[0, 1, 'two', 'three', 'four', 5, 6, 7, 8, 9]\n"
     ]
    }
   ],
   "source": [
    "numbers[2:5] = 'two', 'three', 'four'\n",
    "print(numbers)"
   ]
  },
  {
   "cell_type": "markdown",
   "metadata": {
    "slideshow": {
     "slide_type": "subslide"
    }
   },
   "source": [
    "What will `print(numbers[2:2])` show?\n",
    "\n",
    "How about `print(numbers[5:2])`?"
   ]
  },
  {
   "cell_type": "markdown",
   "metadata": {
    "slideshow": {
     "slide_type": "subslide"
    }
   },
   "source": [
    "In the slice `a:b`, both `a` and `b` are optional.\n",
    "- `numbers[:b]` is equivalent to `numbers[0:b]`.\n",
    "- `numbers[a:]` is equivalent to `numbers[a:len(my_list)]`\n",
    "- what does `numbers[:]` do?"
   ]
  },
  {
   "cell_type": "markdown",
   "metadata": {
    "slideshow": {
     "slide_type": "subslide"
    }
   },
   "source": [
    "`a` and `b` can also be negative."
   ]
  },
  {
   "cell_type": "code",
   "execution_count": 6,
   "metadata": {},
   "outputs": [
    {
     "name": "stdout",
     "output_type": "stream",
     "text": [
      "[6, 7, 8, 9]\n"
     ]
    }
   ],
   "source": [
    "numbers = [0, 1, 2, 3, 4, 5, 6, 7, 8, 9]\n",
    "print(numbers[-4:])"
   ]
  },
  {
   "cell_type": "markdown",
   "metadata": {
    "slideshow": {
     "slide_type": "subslide"
    }
   },
   "source": [
    "Given a two dimensional table, how would you select the four elements of the first row?"
   ]
  },
  {
   "cell_type": "markdown",
   "metadata": {
    "slideshow": {
     "slide_type": "slide"
    }
   },
   "source": [
    "Step size!\n",
    "--------------\n",
    "\n",
    "Slices have a third optional parameter that controls the stride\n",
    "\n",
    "`list[start:stop:step]` means \n",
    " * from index `start`\n",
    " * return every element `step` apart\n",
    " * up to but not including `stop`"
   ]
  },
  {
   "cell_type": "markdown",
   "metadata": {
    "slideshow": {
     "slide_type": "subslide"
    }
   },
   "source": [
    "Which one of these does what you expect it to?\n",
    "* `numbers[2:5:-1]`\n",
    "* `numbers[5:2:-1]`"
   ]
  },
  {
   "cell_type": "code",
   "execution_count": null,
   "metadata": {
    "slideshow": {
     "slide_type": "subslide"
    }
   },
   "outputs": [],
   "source": [
    "# What elements will the following slices return?\n",
    "print(numbers[:-2])\n",
    "print(numbers[2:-2])\n",
    "print(numbers[-2:2])\n",
    "print(numbers[-2:])\n",
    "print(numbers[-5::-1])"
   ]
  },
  {
   "cell_type": "markdown",
   "metadata": {
    "slideshow": {
     "slide_type": "slide"
    }
   },
   "source": [
    "Copying!\n",
    "-------------\n",
    "\n",
    "Making a slice performs a shallow copy."
   ]
  },
  {
   "cell_type": "code",
   "execution_count": 12,
   "metadata": {},
   "outputs": [
    {
     "name": "stdout",
     "output_type": "stream",
     "text": [
      "['zero', 'one', 'two', 'three', 'four']\n",
      "[0, 1, 2, 3, 4]\n"
     ]
    }
   ],
   "source": [
    "numbers = [0, 1, 2, 3, 4, 5, 6, 7, 8, 9]\n",
    "\n",
    "copy = numbers[:5]\n",
    "copy = ['zero', 'one', 'two', 'three', 'four']\n",
    "print(copy)\n",
    "print(numbers[:5])"
   ]
  },
  {
   "cell_type": "code",
   "execution_count": 15,
   "metadata": {},
   "outputs": [
    {
     "name": "stdout",
     "output_type": "stream",
     "text": [
      "[['zero'], [1]]\n",
      "[['zero'], [1]]\n"
     ]
    }
   ],
   "source": [
    "deep_data = [[0], [1], [2]]\n",
    "\n",
    "copy = deep_data[:2]\n",
    "copy[0][0] = 'zero'\n",
    "print(copy)\n",
    "print(deep_data[:2])"
   ]
  },
  {
   "cell_type": "markdown",
   "metadata": {
    "slideshow": {
     "slide_type": "subslide"
    }
   },
   "source": [
    "numpy only copies when you explicitly tell it to."
   ]
  },
  {
   "cell_type": "code",
   "execution_count": 18,
   "metadata": {},
   "outputs": [
    {
     "name": "stdout",
     "output_type": "stream",
     "text": [
      "[0 0 0]\n",
      "[0 1 2 0 0 0]\n"
     ]
    }
   ],
   "source": [
    "import numpy\n",
    "\n",
    "numbers = numpy.array([0, 1, 2, 3, 4, 5])\n",
    "view = numbers[-3:]\n",
    "view[:] = [0, 0, 0]\n",
    "\n",
    "print(view)\n",
    "print(numbers)"
   ]
  },
  {
   "cell_type": "markdown",
   "metadata": {
    "slideshow": {
     "slide_type": "slide"
    }
   },
   "source": [
    "Concatination\n",
    "--------------------\n",
    "\n",
    "Use `+` to concatinate lists."
   ]
  },
  {
   "cell_type": "code",
   "execution_count": 7,
   "metadata": {},
   "outputs": [
    {
     "name": "stdout",
     "output_type": "stream",
     "text": [
      "[0, 1, 2, 'three', 'four', 'five']\n"
     ]
    }
   ],
   "source": [
    "print([0, 1, 2] + ['three', 'four', 'five'])"
   ]
  },
  {
   "cell_type": "markdown",
   "metadata": {
    "slideshow": {
     "slide_type": "slide"
    }
   },
   "source": [
    "How would you rotate a list `i` steps to the left?\n",
    "\n",
    "`012345` rotated 2 steps to the left becomes `234501`"
   ]
  },
  {
   "cell_type": "markdown",
   "metadata": {},
   "source": [
    "How would you assign every odd element in a list to the even element immediately preceding it?"
   ]
  },
  {
   "cell_type": "code",
   "execution_count": 8,
   "metadata": {
    "slideshow": {
     "slide_type": "subslide"
    }
   },
   "outputs": [
    {
     "name": "stdout",
     "output_type": "stream",
     "text": [
      "[2, 3, 4, 5, 6, 7, 8, 9, 0, 1]\n"
     ]
    }
   ],
   "source": [
    "i = 2\n",
    "print(numbers[i:] + numbers[:i])"
   ]
  },
  {
   "cell_type": "code",
   "execution_count": 9,
   "metadata": {},
   "outputs": [
    {
     "name": "stdout",
     "output_type": "stream",
     "text": [
      "[0, 0, 2, 2, 4, 4, 6, 6, 8, 8]\n"
     ]
    }
   ],
   "source": [
    "numbers[1::2] = numbers[::2]\n",
    "print(numbers)"
   ]
  },
  {
   "cell_type": "markdown",
   "metadata": {
    "slideshow": {
     "slide_type": "slide"
    }
   },
   "source": [
    "### Strings!"
   ]
  },
  {
   "cell_type": "markdown",
   "metadata": {},
   "source": [
    "If strings are immutable lists of characters, what will the following do?\n",
    "* `\"my\" + \"string\"`\n",
    "* `\"my string\"[:-6]`\n",
    "* `\"my string\"[::-1]`\n",
    "* `\"my string\"[:2] = 'a', ' '`\n",
    "* `for c in \"my string\": print(c)`"
   ]
  },
  {
   "cell_type": "markdown",
   "metadata": {
    "slideshow": {
     "slide_type": "subslide"
    }
   },
   "source": [
    "Convert to and from the string type"
   ]
  },
  {
   "cell_type": "code",
   "execution_count": 19,
   "metadata": {},
   "outputs": [
    {
     "name": "stdout",
     "output_type": "stream",
     "text": [
      "My number: 54\n",
      "My number: 57\n"
     ]
    }
   ],
   "source": [
    "print('My number: ' + str(54))\n",
    "\n",
    "# Before printing, this line of code performs 4 operations\n",
    "# from the inner most parenthesies out.\n",
    "# What are they?\n",
    "print('My number: ' + str(int('54') + 3))"
   ]
  },
  {
   "cell_type": "markdown",
   "metadata": {
    "slideshow": {
     "slide_type": "subslide"
    }
   },
   "source": [
    "There are lots of excellent methods to work with strings:\n",
    "- split\n",
    "- join\n",
    "- strip\n",
    "- lower/upper\n",
    "- replace\n",
    "- startswith"
   ]
  },
  {
   "cell_type": "code",
   "execution_count": 23,
   "metadata": {},
   "outputs": [
    {
     "name": "stdout",
     "output_type": "stream",
     "text": [
      "['1', ' 2', ' 3', ' 4']\n",
      "1, 2, 3, 4\n"
     ]
    }
   ],
   "source": [
    "comma_seperated_values = '1, 2, 3, 4'\n",
    "list_values = comma_seperated_values.split(',')\n",
    "\n",
    "print(list_values)\n",
    "original_values = ','.join(list_values)\n",
    "print(original_values)"
   ]
  },
  {
   "cell_type": "markdown",
   "metadata": {
    "slideshow": {
     "slide_type": "subslide"
    }
   },
   "source": [
    "Challenge question: convert the string '1, 2, 3, 4' into the list of integers `[1, 2, 3, 4]`"
   ]
  },
  {
   "cell_type": "code",
   "execution_count": 22,
   "metadata": {
    "slideshow": {
     "slide_type": "subslide"
    }
   },
   "outputs": [
    {
     "name": "stdout",
     "output_type": "stream",
     "text": [
      "[1, 2, 3, 4]\n"
     ]
    }
   ],
   "source": [
    "comma_seperated_values = \"1, 2, 3, 4\"\n",
    "num_list = []\n",
    "for num in comma_seperated_values.split(','):\n",
    "    num_list = num_list + [int(num.strip())]\n",
    "    \n",
    "print(num_list)"
   ]
  },
  {
   "cell_type": "markdown",
   "metadata": {
    "slideshow": {
     "slide_type": "subslide"
    }
   },
   "source": [
    "String litterals help you write text with newlines in it."
   ]
  },
  {
   "cell_type": "code",
   "execution_count": 20,
   "metadata": {},
   "outputs": [
    {
     "name": "stdout",
     "output_type": "stream",
     "text": [
      "\n",
      "hickory dickory dock\n",
      "the mouse ran up the clock\n",
      "\n"
     ]
    }
   ],
   "source": [
    "poem = '''\n",
    "hickory dickory dock\n",
    "the mouse ran up the clock\n",
    "'''\n",
    "\n",
    "# poem is equivalent to 'hickory dickory dock\\nthe mouse ran up the clock'\n",
    "print(poem)"
   ]
  },
  {
   "cell_type": "markdown",
   "metadata": {
    "slideshow": {
     "slide_type": "slide"
    }
   },
   "source": [
    "### Format Strings!"
   ]
  },
  {
   "cell_type": "markdown",
   "metadata": {},
   "source": [
    "Python keeps reinventing string formatting, the latest is format strings (Python version >= 3.6)"
   ]
  },
  {
   "cell_type": "code",
   "execution_count": 24,
   "metadata": {},
   "outputs": [
    {
     "name": "stdout",
     "output_type": "stream",
     "text": [
      "Hello Noisebridge\n"
     ]
    }
   ],
   "source": [
    "name = 'Noisebridge'\n",
    "print(f'Hello {name}')"
   ]
  },
  {
   "cell_type": "code",
   "execution_count": 25,
   "metadata": {
    "slideshow": {
     "slide_type": "subslide"
    }
   },
   "outputs": [
    {
     "name": "stdout",
     "output_type": "stream",
     "text": [
      "Hello 2\n"
     ]
    }
   ],
   "source": [
    "print(f'Hello {1 + 1}')"
   ]
  },
  {
   "cell_type": "markdown",
   "metadata": {
    "slideshow": {
     "slide_type": "subslide"
    }
   },
   "source": [
    "Everything between the brackets in the format string is evaluated"
   ]
  },
  {
   "cell_type": "code",
   "execution_count": 26,
   "metadata": {},
   "outputs": [
    {
     "name": "stdout",
     "output_type": "stream",
     "text": [
      "Hello NOISEBRIDGE!\n"
     ]
    }
   ],
   "source": [
    "print(f'Hello {name.upper()}!')"
   ]
  },
  {
   "cell_type": "markdown",
   "metadata": {
    "slideshow": {
     "slide_type": "subslide"
    }
   },
   "source": [
    "Formatting options for everyone!\n",
    "\n",
    "Check out https://pyformat.info/ for details."
   ]
  },
  {
   "cell_type": "code",
   "execution_count": 27,
   "metadata": {},
   "outputs": [
    {
     "name": "stdout",
     "output_type": "stream",
     "text": [
      "I love 3.141592653589793 -> I love 31.4\n",
      "I love fixed width Noisebridge\n",
      "I love fixed width    Jared   \n"
     ]
    }
   ],
   "source": [
    "import math\n",
    "\n",
    "name = 'Noisebridge'\n",
    "my_name = 'Jared'\n",
    "\n",
    "print(f'I love {math.pi} -> I love {math.pi * 10:.3}')\n",
    "print(f'I love fixed width {name:^11}')\n",
    "print(f'I love fixed width {my_name:^11}')"
   ]
  },
  {
   "cell_type": "markdown",
   "metadata": {
    "slideshow": {
     "slide_type": "subslide"
    }
   },
   "source": [
    "The previous preferred way of formatting strings was the .format method"
   ]
  },
  {
   "cell_type": "code",
   "execution_count": 28,
   "metadata": {},
   "outputs": [
    {
     "name": "stdout",
     "output_type": "stream",
     "text": [
      "Hello Noisebridge!\n"
     ]
    }
   ],
   "source": [
    "name = 'Noisebridge'\n",
    "print('Hello {0}!'.format(name))"
   ]
  },
  {
   "cell_type": "markdown",
   "metadata": {
    "slideshow": {
     "slide_type": "subslide"
    }
   },
   "source": [
    "You can get pretty silly with these"
   ]
  },
  {
   "cell_type": "code",
   "execution_count": 29,
   "metadata": {},
   "outputs": [
    {
     "ename": "SystemExit",
     "evalue": "",
     "output_type": "error",
     "traceback": [
      "An exception has occurred, use %tb to see the full traceback.\n",
      "\u001b[0;31mSystemExit\u001b[0m\n"
     ]
    },
    {
     "name": "stderr",
     "output_type": "stream",
     "text": [
      "/home/jared/local/share/virtualenvs/strings-q-j1Vb5k/lib/python3.6/site-packages/IPython/core/interactiveshell.py:3273: UserWarning: To exit: use 'exit', 'quit', or Ctrl-D.\n",
      "  warn(\"To exit: use 'exit', 'quit', or Ctrl-D.\", stacklevel=1)\n"
     ]
    }
   ],
   "source": [
    "import sys\n",
    "print(f'Hello {sys.exit()}')"
   ]
  },
  {
   "cell_type": "code",
   "execution_count": 30,
   "metadata": {},
   "outputs": [
    {
     "name": "stdout",
     "output_type": "stream",
     "text": [
      "Hello FORMAT STRING\n"
     ]
    }
   ],
   "source": [
    "format_string = 'format string'\n",
    "# Haha\n",
    "print(f\"Hello {f'{format_string}'.upper()}\")"
   ]
  },
  {
   "cell_type": "markdown",
   "metadata": {},
   "source": [
    "We have fun here"
   ]
  },
  {
   "cell_type": "markdown",
   "metadata": {
    "slideshow": {
     "slide_type": "slide"
    }
   },
   "source": [
    "### Regular Expressions!"
   ]
  },
  {
   "cell_type": "markdown",
   "metadata": {},
   "source": [
    "A regular expression is a pattern that matches some set of strings.\n",
    "* the regular expression `abc` matches exactly one string: \"abc\"\n",
    "* the regular expression `\\d` matches any single character, 1-9\n",
    "* the regular expression `.` matches any single character\n",
    "* `*` matches any number of repetitions for the previous character. `a*` matches \"\", \"a\", \"aa\", \"aaa\"...\n",
    "* `+` matches one or more repetitions\n",
    "* `?` matches zero or one repetitions\n",
    "* `()` is a group that can be operated on collectively. `(ABC)?` matches \"\" or \"ABC\"\n"
   ]
  },
  {
   "cell_type": "code",
   "execution_count": 31,
   "metadata": {
    "slideshow": {
     "slide_type": "subslide"
    }
   },
   "outputs": [
    {
     "name": "stdout",
     "output_type": "stream",
     "text": [
      "1\n"
     ]
    }
   ],
   "source": [
    "import re\n",
    "re_digit = re.compile('\\d')\n",
    "match = re_digit.match('1')\n",
    "if match is not None:\n",
    "    print(match.group())"
   ]
  },
  {
   "cell_type": "markdown",
   "metadata": {
    "slideshow": {
     "slide_type": "-"
    }
   },
   "source": [
    "Special characters in regular expressions:\n",
    "   - \\d any digit\n",
    "   - \\ escape\n",
    "   - . any single character\n",
    "   - \\* between 0 and infinite repetitions of the previous character\n",
    "   - \\+ between 1 and infinite repetitions of the previous character\n",
    "   - ? between 0 and 1 repetitions of the previous character\n",
    "   - {i,j} between i and j repetitions of the previous character\n",
    "   - () group that can be operated on, or referenced later with \\1 ... \\9\n",
    "   - lots more ...\n",
    "    \n",
    "Lets make a regular expression that matches a phone number!"
   ]
  }
 ],
 "metadata": {
  "celltoolbar": "Slideshow",
  "kernelspec": {
   "display_name": "Python 3",
   "language": "python",
   "name": "python3"
  },
  "language_info": {
   "codemirror_mode": {
    "name": "ipython",
    "version": 3
   },
   "file_extension": ".py",
   "mimetype": "text/x-python",
   "name": "python",
   "nbconvert_exporter": "python",
   "pygments_lexer": "ipython3",
   "version": "3.6.6"
  }
 },
 "nbformat": 4,
 "nbformat_minor": 1
}
