{
 "cells": [
  {
   "cell_type": "markdown",
   "metadata": {
    "slideshow": {
     "slide_type": "slide"
    }
   },
   "source": [
    "# If you don't have Python, you can use ReplIt:\n",
    "\n",
    "# https://repl.it/languages/Python3"
   ]
  },
  {
   "cell_type": "markdown",
   "metadata": {
    "slideshow": {
     "slide_type": "slide"
    }
   },
   "source": [
    "# What are these type things, and why do we need them?"
   ]
  },
  {
   "cell_type": "code",
   "execution_count": null,
   "metadata": {},
   "outputs": [],
   "source": []
  },
  {
   "cell_type": "markdown",
   "metadata": {
    "slideshow": {
     "slide_type": "slide"
    }
   },
   "source": [
    "# Types determine representation and behavior\n",
    "* csv files don't have types\n",
    "* Bash (shell) scripts don't have types"
   ]
  },
  {
   "cell_type": "markdown",
   "metadata": {
    "slideshow": {
     "slide_type": "slide"
    }
   },
   "source": [
    "## Gene name errors are widespread in the scientific literature\n",
    "\n",
    "Mark Ziemann, Yotam Eren and Assam El-Osta\n",
    "\n",
    "https://doi.org/10.1186/s13059-016-1044-7\n",
    "    \n",
    ">The spreadsheet software Microsoft Excel, when used with default settings, is known to convert gene names to dates and floating point numbers.  A programmatic scan of leading genomics journals reveals that approximately one-fifth of papers with supplementary Excel gene lists contain erroneous gene name conversions."
   ]
  },
  {
   "cell_type": "markdown",
   "metadata": {
    "slideshow": {
     "slide_type": "slide"
    }
   },
   "source": [
    "## List: [ , , ]\n",
    "\n",
    "* Mutable sequence\n",
    "* Think 'examples of X'"
   ]
  },
  {
   "cell_type": "code",
   "execution_count": null,
   "metadata": {},
   "outputs": [],
   "source": []
  },
  {
   "cell_type": "markdown",
   "metadata": {
    "slideshow": {
     "slide_type": "slide"
    }
   },
   "source": [
    "## Tuple    ( , , )\n",
    "\n",
    "* Immutable sequence\n",
    "* Think 'group of associated data'\n",
    "* Also look up typing.NamedTuple"
   ]
  },
  {
   "cell_type": "code",
   "execution_count": null,
   "metadata": {},
   "outputs": [],
   "source": []
  },
  {
   "cell_type": "markdown",
   "metadata": {
    "slideshow": {
     "slide_type": "slide"
    }
   },
   "source": [
    "## Dictionary    { : , : }\n",
    "\n",
    "* Unique Key Value Pairs\n",
    "* Keys must be immutable\n",
    "* Think 'I want to look this up later'"
   ]
  },
  {
   "cell_type": "code",
   "execution_count": null,
   "metadata": {},
   "outputs": [],
   "source": []
  },
  {
   "cell_type": "markdown",
   "metadata": {
    "slideshow": {
     "slide_type": "slide"
    }
   },
   "source": [
    "# Set    { , , }\n",
    "\n",
    "* Unique Collection\n",
    "* Can be used for unique counting or to test for membership"
   ]
  },
  {
   "cell_type": "code",
   "execution_count": null,
   "metadata": {},
   "outputs": [],
   "source": []
  },
  {
   "cell_type": "markdown",
   "metadata": {
    "slideshow": {
     "slide_type": "slide"
    }
   },
   "source": [
    "# Combine these collections to represent the world"
   ]
  },
  {
   "cell_type": "code",
   "execution_count": 2,
   "metadata": {},
   "outputs": [],
   "source": [
    "# people currently in space, from http://api.open-notify.org/astros.json\n",
    "\n",
    "space_people = {\n",
    "    \"people\": [\n",
    "        {\"name\": \"Oleg Kononenko\", \"craft\": \"ISS\"}, \n",
    "        {\"name\": \"David Saint-Jacques\", \"craft\": \"ISS\"}, \n",
    "        {\"name\": \"Anne McClain\", \"craft\": \"ISS\"}\n",
    "    ], \n",
    "    \"number\": 3, \n",
    "}"
   ]
  },
  {
   "cell_type": "markdown",
   "metadata": {},
   "source": [
    "## 1. Copy this data from the url, then use it to print the name of everyone in space.\n",
    "## 2. Programatically add yourself to space!"
   ]
  },
  {
   "cell_type": "markdown",
   "metadata": {
    "slideshow": {
     "slide_type": "slide"
    }
   },
   "source": [
    "# These are internal to Python, what about the rest of the world?"
   ]
  },
  {
   "cell_type": "markdown",
   "metadata": {
    "slideshow": {
     "slide_type": "-"
    }
   },
   "source": [
    "## JSON is a lightweight specification (15 pages) for text based data\n",
    "\n",
    "## It describes:\n",
    "| <span style=\"font-size: xx-large;\">Element</span> | <span style=\"font-size: xx-large;\">Syntax</span> |   |\n",
    "| ------- | ------ | - |\n",
    "| <span style=\"color:blue;font-size: xx-large;\">strings</span> | <span style=\"font-size: xx-large;\">\"...\"</span> | |\n",
    "| <span style=\"color:blue;font-size: xx-large;\">booleans</span> | <span style=\"font-size: xx-large;\">true/false</span> | |\n",
    "| <span style=\"color:blue;font-size: xx-large;\">integers</span> | <span style=\"font-size: xx-large;\">123</span> | |\n",
    "| <span style=\"color:blue;font-size: xx-large;\">floats</span> | <span style=\"font-size: xx-large;\">1.2 or 3.7E-5</span> | |\n",
    "| <span style=\"color:blue;font-size: xx-large;\">nulls</span> | <span style=\"font-size: xx-large;\">null</span> | <span style=\"font-size: xx-large;\">called None in Python</span> |\n",
    "| <span style=\"color:red;font-size: xx-large;\">Objects</span> | <span style=\"font-size: xx-large;\">{ key1: value1, key2: value2}</span> | <span style=\"font-size: xx-large;\">called dictionary in Python</span> |\n",
    "| <span style=\"color:red;font-size: xx-large;\">Array</span> | <span style=\"font-size: xx-large;\">[ value1, value2, value3]</span> | <span style=\"font-size: xx-large;\">called list in Python</span> |"
   ]
  },
  {
   "cell_type": "markdown",
   "metadata": {
    "slideshow": {
     "slide_type": "slide"
    }
   },
   "source": [
    "## Describe the difference between \"123\" and 123 in a few sentences.\n",
    "\n",
    "## Why doesn't JSON provide Set and Tuple collections?"
   ]
  },
  {
   "cell_type": "markdown",
   "metadata": {
    "slideshow": {
     "slide_type": "slide"
    }
   },
   "source": [
    "# Why use JSON?"
   ]
  },
  {
   "cell_type": "markdown",
   "metadata": {
    "slideshow": {
     "slide_type": "-"
    }
   },
   "source": [
    "## Text data is much more robust than binary data\n",
    "* Self documenting\n",
    "* Much much easier to debug\n",
    "* Easier to version\n",
    "* Cost doesn't matter for small data\n",
    "* Most data is small data"
   ]
  },
  {
   "cell_type": "markdown",
   "metadata": {
    "slideshow": {
     "slide_type": "slide"
    }
   },
   "source": [
    "## Having ambiguous data suggests unlimited work.\n",
    "* There is always another date format\n",
    "* It is hard to guess what format other tools expect"
   ]
  },
  {
   "cell_type": "markdown",
   "metadata": {
    "slideshow": {
     "slide_type": "slide"
    }
   },
   "source": [
    "## Poorly specified formats are hard to implement\n",
    "* Many csv parsers fail when values contain commas or newlines"
   ]
  },
  {
   "cell_type": "markdown",
   "metadata": {
    "slideshow": {
     "slide_type": "slide"
    }
   },
   "source": [
    "# Writing and reading JSON\n",
    "## Strings\n",
    "* Input with json.loads\n",
    "* Output with json.dumps\n",
    "\n",
    "## Files\n",
    "* Input with json.load\n",
    "* Output with json.dump"
   ]
  },
  {
   "cell_type": "markdown",
   "metadata": {
    "slideshow": {
     "slide_type": "-"
    }
   },
   "source": [
    "# What happens when you encode something that can not be represented in JSON?"
   ]
  },
  {
   "cell_type": "markdown",
   "metadata": {
    "slideshow": {
     "slide_type": "slide"
    }
   },
   "source": [
    "## What Doesn't JSON have?\n",
    "* Comments\n",
    "* Anything fancy.  Dates, links, colors, etc."
   ]
  },
  {
   "cell_type": "markdown",
   "metadata": {
    "slideshow": {
     "slide_type": "slide"
    }
   },
   "source": [
    "## Use Toml/Yaml Instead"
   ]
  },
  {
   "cell_type": "markdown",
   "metadata": {
    "slideshow": {
     "slide_type": "-"
    }
   },
   "source": [
    "## Toml vs Yaml is a good argument for minimal data formats\n",
    "* YAML is 86 pages\n",
    "* Toml is comparable to JSON in size\n",
    "* Loading YAML is a security risk by default\n",
    "* Lots of variation between parsers.  Lots of incomplete implementation."
   ]
  },
  {
   "cell_type": "markdown",
   "metadata": {
    "slideshow": {
     "slide_type": "slide"
    }
   },
   "source": [
    "## Things to watch out for: \n",
    "\n",
    "\n",
    "### Writing down something in JSON that can't be represented in the language."
   ]
  },
  {
   "cell_type": "code",
   "execution_count": 15,
   "metadata": {},
   "outputs": [
    {
     "name": "stdout",
     "output_type": "stream",
     "text": [
      "{'number': 1.6}\n"
     ]
    }
   ],
   "source": [
    "l = json.loads('{\"number\": 1.6000000000000000000001}')\n",
    "print(l)"
   ]
  },
  {
   "cell_type": "markdown",
   "metadata": {
    "slideshow": {
     "slide_type": "slide"
    }
   },
   "source": [
    "## Things to watch out for:\n",
    "\n",
    "### Encoding/Decoding can get expensive"
   ]
  },
  {
   "cell_type": "markdown",
   "metadata": {
    "slideshow": {
     "slide_type": "slide"
    }
   },
   "source": [
    "## Let's write some text to disk!"
   ]
  },
  {
   "cell_type": "code",
   "execution_count": 1,
   "metadata": {},
   "outputs": [
    {
     "name": "stdout",
     "output_type": "stream",
     "text": [
      "Hello World!\n"
     ]
    }
   ],
   "source": [
    "# https://repl.it/languages/Python3\n",
    "\n",
    "f = open('input.txt', mode='w')\n",
    "f.write(\"Hello World!\")\n",
    "f.close()\n",
    "\n",
    "f = open('input.txt', mode='r')\n",
    "print(f.read())\n",
    "f.close()"
   ]
  },
  {
   "cell_type": "markdown",
   "metadata": {
    "slideshow": {
     "slide_type": "slide"
    }
   },
   "source": [
    "## There are a lot of fiddly bits to files, how do you look up the options and operations?"
   ]
  },
  {
   "cell_type": "markdown",
   "metadata": {
    "slideshow": {
     "slide_type": "slide"
    }
   },
   "source": [
    "## What do you expect to happen if you read after closing?\n",
    "## What do you expect to happen if you open many files without closing them?\n",
    "## What happens if an error occurs while you are reading?"
   ]
  },
  {
   "cell_type": "code",
   "execution_count": null,
   "metadata": {},
   "outputs": [],
   "source": []
  },
  {
   "cell_type": "markdown",
   "metadata": {
    "slideshow": {
     "slide_type": "slide"
    }
   },
   "source": [
    "## Python Context Managers help us avoid these sorts of mistakes"
   ]
  },
  {
   "cell_type": "code",
   "execution_count": 4,
   "metadata": {},
   "outputs": [
    {
     "name": "stdout",
     "output_type": "stream",
     "text": [
      "Hello World!\n",
      "True\n"
     ]
    }
   ],
   "source": [
    "with open('input.txt') as f:\n",
    "    print(f.read())\n",
    "    \n",
    "print(f.closed)"
   ]
  },
  {
   "cell_type": "markdown",
   "metadata": {
    "slideshow": {
     "slide_type": "slide"
    }
   },
   "source": [
    "## What do you expect to happen if you read twice?"
   ]
  },
  {
   "cell_type": "code",
   "execution_count": 5,
   "metadata": {},
   "outputs": [
    {
     "name": "stdout",
     "output_type": "stream",
     "text": [
      "Hello World!\n",
      "\n"
     ]
    }
   ],
   "source": [
    "with open('input.txt') as f:\n",
    "    print(f.read())\n",
    "    print(f.read())\n"
   ]
  },
  {
   "cell_type": "markdown",
   "metadata": {
    "slideshow": {
     "slide_type": "slide"
    }
   },
   "source": [
    "## Files contain a position that advances as you read and write."
   ]
  },
  {
   "cell_type": "markdown",
   "metadata": {
    "slideshow": {
     "slide_type": "slide"
    }
   },
   "source": [
    "## How do you read a file line by line?"
   ]
  },
  {
   "cell_type": "code",
   "execution_count": 6,
   "metadata": {},
   "outputs": [
    {
     "name": "stdout",
     "output_type": "stream",
     "text": [
      "I've got a lovely bunch of coconuts\n",
      "\n",
      "There they are, all standing in a row\n",
      "\n",
      "Big ones, small ones, some as big as your head\n",
      "\n",
      "Give them a twist a flick of the wrist\n",
      "\n",
      "That's what the showman said\n"
     ]
    }
   ],
   "source": [
    "coconuts = 'coconuts.txt'\n",
    "with open(coconuts, 'w') as f:\n",
    "    f.write(\"I've got a lovely bunch of coconuts\\n\")\n",
    "    f.write(\"There they are, all standing in a row\\n\")\n",
    "    f.write(\"Big ones, small ones, some as big as your head\\n\")\n",
    "    f.write(\"Give them a twist a flick of the wrist\\n\")\n",
    "    f.write(\"That's what the showman said\")\n",
    "    \n",
    "with open(coconuts, 'r') as f:\n",
    "    for line in f:\n",
    "        print(line)"
   ]
  },
  {
   "cell_type": "markdown",
   "metadata": {
    "slideshow": {
     "slide_type": "slide"
    }
   },
   "source": [
    "# Takeaways!\n",
    "* look up file handling options with help, dir, and ?\n",
    "* Avoid dangling files and other resources by using context managers (`with` statement)\n",
    "* Use Python types and collections to unambiguously represent your data\n",
    "* Look up David Beazly's talk \"Builtin Superheros\" for more information on collections\n",
    "* To make your software more robust, use text data\n",
    "* Start with JSON, evolve as needed"
   ]
  },
  {
   "cell_type": "markdown",
   "metadata": {
    "slideshow": {
     "slide_type": "slide"
    }
   },
   "source": [
    "# Challenge! \n",
    "# Implement functools.lru_cache"
   ]
  }
 ],
 "metadata": {
  "celltoolbar": "Slideshow",
  "kernelspec": {
   "display_name": "Python 3",
   "language": "python",
   "name": "python3"
  },
  "language_info": {
   "codemirror_mode": {
    "name": "ipython",
    "version": 3
   },
   "file_extension": ".py",
   "mimetype": "text/x-python",
   "name": "python",
   "nbconvert_exporter": "python",
   "pygments_lexer": "ipython3",
   "version": "3.7.2"
  }
 },
 "nbformat": 4,
 "nbformat_minor": 1
}
