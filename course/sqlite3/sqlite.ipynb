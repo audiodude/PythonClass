{
 "cells": [
  {
   "cell_type": "markdown",
   "metadata": {
    "slideshow": {
     "slide_type": "slide"
    }
   },
   "source": [
    "<h1 style=\"text-align: center;\">What is a database and why do we need it?</h1>"
   ]
  },
  {
   "cell_type": "markdown",
   "metadata": {
    "slideshow": {
     "slide_type": "slide"
    }
   },
   "source": [
    "<h1 style=\"text-align: center;\">Python Collections</h1>"
   ]
  },
  {
   "cell_type": "markdown",
   "metadata": {
    "slideshow": {
     "slide_type": "slide"
    }
   },
   "source": [
    "<h1 style=\"text-align: center;\">list: [1, 2, 3 ...]</h1>\n",
    "\n",
    "- ### expandable collection of objects that can be accessed with an index\n",
    "- ### useful for 'I have a bunch of examples of X'\n",
    "- ### or 'I need to enforce order'"
   ]
  },
  {
   "cell_type": "markdown",
   "metadata": {
    "slideshow": {
     "slide_type": "slide"
    }
   },
   "source": [
    "<h1 style=\"text-align: center;\"> tuple (1, 2, 3 ...) </h1>\n",
    "\n",
    "- ### immutable collection of objects that can be accessed with an index\n",
    "- ### useful for rows in a spreadsheet/database, arguments to a function, or other correlated data\n",
    "- ### immutability is useful for sharing information outside the python process.\n",
    "- ### look up namedtuple"
   ]
  },
  {
   "cell_type": "markdown",
   "metadata": {
    "slideshow": {
     "slide_type": "slide"
    }
   },
   "source": [
    "<h1 style=\"text-align: center;\">dictionary {\"one\": 1, \"two\": 2 ...}</h1>\n",
    "\n",
    "- ### collection of key value pairs that provides 'jump to' access\n",
    "- ### useful for quick lookup"
   ]
  },
  {
   "cell_type": "markdown",
   "metadata": {
    "slideshow": {
     "slide_type": "slide"
    }
   },
   "source": [
    "<h1 style=\"text-align: center;\">set {1, 2, 3, ...}</h1>\n",
    "\n",
    "- ### unordered collection of unique values\n",
    "- ### useful for when duplicate values aren't interesting\n",
    "- ### Or quick membership testing\n",
    "\n",
    "```python\n",
    "if day in {'Saturday', 'Sunday', 'Monday'}:\n",
    "    ...\n",
    "```"
   ]
  },
  {
   "cell_type": "markdown",
   "metadata": {
    "slideshow": {
     "slide_type": "slide"
    }
   },
   "source": [
    "### What collections would you combine to create a phone book?\n"
   ]
  },
  {
   "cell_type": "markdown",
   "metadata": {
    "slideshow": {
     "slide_type": "slide"
    }
   },
   "source": [
    "- ### Databases have advanced <span style=\"color: red;\">data modeling</span> capabilities.\n",
    "- ### Databases provide <span style=\"color: red;\">consistency</span> through <span style=\"color: red;\">transactions</span>.\n",
    "- ### Once your data no longer fits in ram, can still access it through an <span style=\"color: red;\">index</span>.\n",
    "- ### Relational databases allow queries through the <span style=\"color: red;\">declarative language</span> SQL language."
   ]
  },
  {
   "cell_type": "markdown",
   "metadata": {
    "slideshow": {
     "slide_type": "slide"
    }
   },
   "source": [
    "<h1 style=\"text-align: center;\">Relational Modeling</h1>"
   ]
  },
  {
   "cell_type": "markdown",
   "metadata": {
    "slideshow": {
     "slide_type": "slide"
    }
   },
   "source": [
    "### How do you find the number of trees at Jordan's house?\n",
    "\n",
    "### Before relational databases, there were hierarchical databases and network databases.\n",
    "\n",
    "---\n",
    "\n",
    "- ### Jordan\n",
    "    - ### Jordan's house\n",
    "        - ### Jordan's yard\n",
    "            - ### Tree 1\n",
    "            - ### Tree 2\n",
    "            \n",
    "---\n",
    "\n",
    "### What if we want to count the trees on one block?"
   ]
  },
  {
   "cell_type": "markdown",
   "metadata": {
    "slideshow": {
     "slide_type": "slide"
    }
   },
   "source": [
    "# Relational models use non-heirarchical tables.\n",
    "\n",
    "<table style=\"border-collapse: separate; border-spacing: 30px;\">\n",
    "<tr><td>\n",
    "    \n",
    "|  <span style=\"font-size: 30px;\">Name</span>  |  <span style=\"font-size: 30px;\">House</span>  |\n",
    "| ------ | ------- |\n",
    "| <span style=\"font-size: 30px;\">Jean</span>   | <span style=\"font-size: 30px;\">House 1</span> |\n",
    "| <span style=\"font-size: 30px;\">Jordan</span> | <span style=\"font-size: 30px;\">House 2</span> |\n",
    "| <span style=\"font-size: 30px;\">Jordan</span> | <span style=\"font-size: 30px;\">House 3</span> |\n",
    "\n",
    "</td><td>\n",
    "\n",
    "|  <span style=\"font-size: 30px;\">House</span>  | <span style=\"font-size: 30px;\">Location</span> |\n",
    "| ------- | -------- |\n",
    "| <span style=\"font-size: 30px;\">House 1</span> |   <span style=\"font-size: 30px;\">Loc 1</span>  |\n",
    "| <span style=\"font-size: 30px;\">House 2</span> |   <span style=\"font-size: 30px;\">Loc 1</span>  |\n",
    "| <span style=\"font-size: 30px;\">House 3</span> |   <span style=\"font-size: 30px;\">Loc 2</span>  |\n",
    "\n",
    "</td><td>\n",
    "\n",
    "|  <span style=\"font-size: 30px;\">Tree</span>  | <span style=\"font-size: 30px;\">Location</span> |\n",
    "| ------ | -------- |\n",
    "| <span style=\"font-size: 30px;\">Tree 1</span> |   <span style=\"font-size: 30px;\">Loc 2</span>  |\n",
    "| <span style=\"font-size: 30px;\">Tree 2</span> |   <span style=\"font-size: 30px;\">Loc 2</span>  |\n",
    "| <span style=\"font-size: 30px;\">Tree 3</span> |   <span style=\"font-size: 30px;\">Null</span>   |\n",
    "\n",
    "</td>\n",
    "</tr></table>\n",
    "\n",
    "This allows us to find the number of trees at Jordan's house by\n",
    "1. Finding all Jordan's houses\n",
    "2. Finding all the locations of Jordan's houses\n",
    "3. Finding all the trees with those locations"
   ]
  },
  {
   "cell_type": "markdown",
   "metadata": {
    "slideshow": {
     "slide_type": "slide"
    }
   },
   "source": [
    "### Relational databases make it\n",
    "* ### Easier to decide who owns what information\n",
    "* ### Easier to keep data from duplicating\n",
    "* ### Easier to keep data consistent"
   ]
  },
  {
   "cell_type": "markdown",
   "metadata": {
    "slideshow": {
     "slide_type": "slide"
    }
   },
   "source": [
    "<h1 style=\"text-align: center;\">Let's try it out</h1>\n",
    "\n",
    "### Get a sqlite dataset of trees in San Fransisco from \n",
    "### https://san-francisco.datasettes.com/sf-trees-ebc2ad9"
   ]
  },
  {
   "cell_type": "code",
   "execution_count": 15,
   "metadata": {
    "collapsed": true,
    "slideshow": {
     "slide_type": "slide"
    }
   },
   "outputs": [
    {
     "name": "stdout",
     "output_type": "stream",
     "text": [
      "{'DBH': 21,\n",
      " 'Latitude': 37.7759676911831,\n",
      " 'Location': '(37.7759676911831, -122.441396661871)',\n",
      " 'Longitude': -122.441396661871,\n",
      " 'PermitNotes': 'Permit Number 25401',\n",
      " 'PlantDate': '07/21/1988 12:00:00 AM',\n",
      " 'PlantType': 1,\n",
      " 'PlotSize': 'Width 0ft',\n",
      " 'SiteOrder': 1,\n",
      " 'TreeID': 141565,\n",
      " 'XCoord': 6000609.0,\n",
      " 'YCoord': 2110829.0,\n",
      " 'qAddress': '501X Baker St',\n",
      " 'qCareAssistant': None,\n",
      " 'qCaretaker': 1,\n",
      " 'qLegalStatus': 1,\n",
      " 'qSiteInfo': 1,\n",
      " 'qSpecies': 1}\n"
     ]
    }
   ],
   "source": [
    "import sqlite3\n",
    "from pprint import pprint\n",
    "\n",
    "# Return one row with the column names attached\n",
    "with sqlite3.connect('sf-trees.db', timeout=1) as conn:\n",
    "    conn.row_factory = sqlite3.Row  # return keys and values in rows\n",
    "    cursor = conn.execute('''\n",
    "            SELECT * FROM Street_Tree_List\n",
    "            LIMIT 1;\n",
    "            '''\n",
    "        )\n",
    "        \n",
    "    for row in cursor:\n",
    "        pprint(dict(row))"
   ]
  },
  {
   "cell_type": "code",
   "execution_count": 30,
   "metadata": {
    "collapsed": true,
    "slideshow": {
     "slide_type": "slide"
    }
   },
   "outputs": [
    {
     "name": "stdout",
     "output_type": "stream",
     "text": [
      "('Private',)\n",
      "('DPW',)\n",
      "('Rec/Park',)\n",
      "('SFUSD',)\n",
      "('Dept of Real Estate',)\n",
      "('MTA',)\n",
      "('Mayor Office of Housing',)\n",
      "('Health Dept',)\n",
      "('Port',)\n",
      "('DPW for City Agency',)\n",
      "('Fire Dept',)\n",
      "('City College',)\n",
      "('PUC',)\n",
      "('Public Library',)\n",
      "('Purchasing Dept',)\n",
      "('Asian Arts Commission',)\n",
      "('War Memorial',)\n",
      "('Police Dept',)\n",
      "('Arts Commission',)\n",
      "('Housing Authority',)\n",
      "('Office of Mayor',)\n"
     ]
    }
   ],
   "source": [
    "# Return all values from qCaretaker\n",
    "with sqlite3.connect('sf-trees.db', timeout=1) as conn:\n",
    "    cursor = conn.execute(\"SELECT value FROM qCaretaker;\")\n",
    "        \n",
    "    for row in cursor:\n",
    "        print(row)"
   ]
  },
  {
   "cell_type": "code",
   "execution_count": 32,
   "metadata": {
    "collapsed": true,
    "slideshow": {
     "slide_type": "slide"
    }
   },
   "outputs": [
    {
     "name": "stdout",
     "output_type": "stream",
     "text": [
      "('1499 TURK ST',)\n",
      "('1499 Turk St',)\n",
      "('1499 TURK ST',)\n",
      "('1499 TURK ST',)\n",
      "('1499 Turk St',)\n",
      "('1499 TURK ST',)\n",
      "('1499 TURK ST',)\n",
      "('1499 TURK ST',)\n",
      "('1499 TURK ST',)\n",
      "('1499 Turk St',)\n",
      "('1499 TURK ST',)\n",
      "('1499 TURK ST',)\n",
      "('1499 Turk St',)\n",
      "('630 Valencia St',)\n",
      "('630 Valencia St',)\n",
      "('630 Valencia St',)\n",
      "('1401X Turk St',)\n",
      "('1401X Turk St',)\n",
      "('3403x 17TH ST',)\n",
      "('1401X Turk St',)\n",
      "('3401x 17TH ST',)\n",
      "('1150X Steiner St',)\n",
      "('1150X Steiner St',)\n",
      "('630 Valencia St',)\n",
      "('1401X Turk St',)\n",
      "('3403x 17TH ST',)\n",
      "('1401X Turk St',)\n",
      "('1150X Steiner St',)\n",
      "('630 Valencia St',)\n",
      "('1401X Turk St',)\n",
      "('630 Valencia St',)\n",
      "('3401x 17TH ST',)\n",
      "('1401X Turk St',)\n",
      "('3403x 17TH ST',)\n",
      "('630 Valencia St',)\n",
      "('3403x 17TH ST',)\n",
      "('1150X Steiner St',)\n",
      "('630 Valencia St',)\n",
      "('630 Valencia St',)\n",
      "('1401X Turk St',)\n",
      "('1401X Turk St',)\n",
      "('3401x 17TH ST',)\n",
      "('1401X Turk St',)\n",
      "('1401X Turk St',)\n",
      "('1401X Turk St',)\n",
      "('1401X Turk St',)\n",
      "('1150X Steiner St',)\n",
      "('3403x 17TH ST',)\n",
      "('3403x 17TH ST',)\n",
      "('425 07th St',)\n"
     ]
    }
   ],
   "source": [
    "# Return the address of all trees that are taken care of by the police\n",
    "with sqlite3.connect('sf-trees.db', timeout=1) as conn:\n",
    "    cursor = conn.execute('''\n",
    "            SELECT Street_Tree_List.qAddress\n",
    "            FROM Street_Tree_List, qCaretaker\n",
    "            WHERE Street_Tree_List.qCaretaker == qCaretaker.id\n",
    "            AND qCaretaker.value == \"Police Dept\"\n",
    "            ;\n",
    "            '''\n",
    "        )\n",
    "        \n",
    "    for row in cursor:\n",
    "        print(row)"
   ]
  },
  {
   "cell_type": "markdown",
   "metadata": {
    "slideshow": {
     "slide_type": "slide"
    }
   },
   "source": [
    "- ### Find the address of all trees that are cared for by the war memorial\n",
    "- ### Find all trees that are cared for by the police, and have a legal status of \"Significant Tree\""
   ]
  },
  {
   "cell_type": "markdown",
   "metadata": {
    "slideshow": {
     "slide_type": "slide"
    }
   },
   "source": [
    "### Notes on SQL\n",
    "* ### The Sqlite documentation is probably my favorite documentation\n",
    "    * ### https://sqlite.org/lang.html\n",
    "* ### There are an amazing number of resources on using SQL\n",
    "* ### I think it is really easy to write bugs in SQL"
   ]
  },
  {
   "cell_type": "markdown",
   "metadata": {
    "slideshow": {
     "slide_type": "slide"
    }
   },
   "source": [
    "<h1 style=\"text-align: center;\">Transactional Consistency</h1>\n",
    "<h3 style=\"text-align: center;\">Avoid invalid intermediate states.</h3>"
   ]
  },
  {
   "cell_type": "code",
   "execution_count": 0,
   "metadata": {
    "slideshow": {
     "slide_type": "slide"
    }
   },
   "outputs": [],
   "source": [
    "# Without transactions, we can accidentally create money\n",
    "\n",
    "Bank1 = 100\n",
    "Bank2 = 50\n",
    "\n",
    "Bank1 += 50\n",
    "1 / 0  # uh oh!\n",
    "Bank2 -= 50\n"
   ]
  },
  {
   "cell_type": "code",
   "execution_count": null,
   "metadata": {
    "slideshow": {
     "slide_type": "slide"
    }
   },
   "outputs": [],
   "source": [
    "with sqlite3.connect('sf-trees.db', timeout=1) as conn:\n",
    "    with conn as transaction:\n",
    "        transaction.execute('''\n",
    "            UPDATE banks\n",
    "            SET cash = cash + 50\n",
    "            WHERE name == \"bank 1\"\n",
    "        ''')\n",
    "        \n",
    "        1 / 0  # we are fine\n",
    "        \n",
    "        transaction.execute('''\n",
    "            UPDATE banks\n",
    "            SET cash = cash + 50\n",
    "            WHERE name == \"bank 1\"\n",
    "        ''')"
   ]
  },
  {
   "cell_type": "markdown",
   "metadata": {
    "slideshow": {
     "slide_type": "slide"
    }
   },
   "source": [
    "<h3 style=\"text-align: center;\">While we are talking about defensive programming</h3>\n",
    "\n",
    "- Why do we need a timeout?\n",
    "- What is the outer with statement doing here?"
   ]
  },
  {
   "cell_type": "markdown",
   "metadata": {
    "slideshow": {
     "slide_type": "slide"
    }
   },
   "source": [
    "<h1 style=\"text-align: center;\">SQLite</h1>"
   ]
  },
  {
   "cell_type": "markdown",
   "metadata": {
    "slideshow": {
     "slide_type": "slide"
    }
   },
   "source": [
    "<h3 style=\"text-align: center;\">Why use SQLite?</h3> \n",
    "\n",
    "- \"Tiny, self contained, serverless, zero-configuration, transactional SQL database\"\n",
    "- \"The intent of the developers is to support SQLite through the year 2050\"\n",
    "- \"Think of SQLite not as a replacement for Oracle but as a replacement for fopen\"\n",
    "- Has my favorite documentation of any software project -- https://www.sqlite.org\n"
   ]
  },
  {
   "cell_type": "markdown",
   "metadata": {
    "slideshow": {
     "slide_type": "slide"
    }
   },
   "source": [
    "<h3 style=\"text-align: center;\">Wait a second, Serverless?</h3>"
   ]
  },
  {
   "cell_type": "code",
   "execution_count": 10,
   "metadata": {},
   "outputs": [
    {
     "ename": "OperationalError",
     "evalue": "database is locked",
     "output_type": "error",
     "traceback": [
      "\u001b[0;31m---------------------------------------------------------------------------\u001b[0m",
      "\u001b[0;31mOperationalError\u001b[0m                          Traceback (most recent call last)",
      "\u001b[0;32m<ipython-input-10-cefd5e3224e3>\u001b[0m in \u001b[0;36m<module>\u001b[0;34m()\u001b[0m\n\u001b[1;32m      7\u001b[0m \u001b[0;34m\u001b[0m\u001b[0m\n\u001b[1;32m      8\u001b[0m \u001b[0mcur1\u001b[0m\u001b[0;34m.\u001b[0m\u001b[0mexecute\u001b[0m\u001b[0;34m(\u001b[0m\u001b[0;34m'''INSERT INTO student VALUES (1, 'Jared', 'Garst', '');'''\u001b[0m\u001b[0;34m)\u001b[0m\u001b[0;34m\u001b[0m\u001b[0m\n\u001b[0;32m----> 9\u001b[0;31m \u001b[0mcur2\u001b[0m\u001b[0;34m.\u001b[0m\u001b[0mexecute\u001b[0m\u001b[0;34m(\u001b[0m\u001b[0;34m'''INSERT INTO student VALUES (2, 'Jared', 'Garst', 'Mad Dog');'''\u001b[0m\u001b[0;34m)\u001b[0m\u001b[0;34m\u001b[0m\u001b[0m\n\u001b[0m",
      "\u001b[0;31mOperationalError\u001b[0m: database is locked"
     ]
    }
   ],
   "source": [
    "#Create database locking error\n",
    "\n",
    "conn1 = sqlite3.connect('test.db', timeout=1)\n",
    "conn2 = sqlite3.connect('test.db', timeout=1)\n",
    "cur1 = conn1.cursor()\n",
    "cur2 = conn2.cursor()\n",
    "\n",
    "cur1.execute('''INSERT INTO student VALUES (1, 'Jared', 'Garst', '');''')\n",
    "\n",
    "#cur2.execute('''INSERT INTO student VALUES (2, 'Jared', 'Garst', 'Mad Dog');''')\n"
   ]
  },
  {
   "cell_type": "markdown",
   "metadata": {
    "slideshow": {
     "slide_type": "slide"
    }
   },
   "source": [
    "<h3 style=\"text-align: center;\">Create a Table</h3>\n",
    "\n",
    "- go to https://archive.ics.uci.edu/ml/datasets/forest+fires and look at the csv dataset\n",
    "- use the sqlite documentation to create a table that can store this information. https://www.sqlite.org/datatype3.html\n",
    "- insert the first row of the table with\n",
    "\n",
    "```SQL\n",
    "INSERT INTO tablename VALUES (col1, col2, ...);\n",
    "```\n",
    "\n",
    "- check that the data is in the table with\n",
    "\n",
    "```python\n",
    "cur.execute('SELECT * FROM tablename;').fetchall()\n",
    "```\n",
    "\n",
    "- We will iterate and insert the rest of the data later."
   ]
  },
  {
   "cell_type": "markdown",
   "metadata": {
    "slideshow": {
     "slide_type": "slide"
    }
   },
   "source": [
    "<h3 style=\"text-align: center;\">Always keep Data and Logic seperate</h3>"
   ]
  },
  {
   "cell_type": "code",
   "execution_count": 65,
   "metadata": {},
   "outputs": [],
   "source": [
    "# Little bobby tables\n",
    "name = \"); DROP TABLE student;\"\n",
    "with sqlite3.connect('test.db', timeout=1) as conn:\n",
    "    with conn as cur:\n",
    "        cur.execute(f'INSERT INTO student VALUES (3, ?, \"b\", ?);', ('Jared', 'Mad Dog'))"
   ]
  },
  {
   "cell_type": "markdown",
   "metadata": {
    "slideshow": {
     "slide_type": "slide"
    }
   },
   "source": [
    "<h1 style=\"text-align: center;\">Download and insert the rest of the fires data into your database</h1>"
   ]
  },
  {
   "cell_type": "markdown",
   "metadata": {
    "slideshow": {
     "slide_type": "slide"
    }
   },
   "source": [
    "<h1 style=\"text-align: center;\">SQL uses indices to access the data.</h1>\n",
    "\n",
    "- ### Indices take up space, and computational power on insertion.\n",
    "- ### They allow you to decouple the question of 'how am I storing my data', and 'how am I accessing my data'.\n",
    "- ### They can be used to enforce consistency accross rows."
   ]
  },
  {
   "cell_type": "markdown",
   "metadata": {
    "slideshow": {
     "slide_type": "slide"
    }
   },
   "source": [
    "<h3 style=\"text-align: center;\">SQL is declarative. You tell it what you want, it figures out how to get there</h3>\n",
    "\n",
    "- ### The set of actions it takes can vary wildly, depending on if you are operating on 100, 10,000 or 1,000,000 rows\n",
    "- ### Ask it what it is doing by using Explain"
   ]
  },
  {
   "cell_type": "markdown",
   "metadata": {
    "slideshow": {
     "slide_type": "slide"
    }
   },
   "source": [
    "<h1 style=\"text-align: center;\">Key Takeaways</h1>\n",
    "\n",
    "- ### Databases are the only realistic way to keep your data uncorrupted\n",
    "- ### Databases allow sophisticated control over \n",
    "    - ### How the data is stored\n",
    "    - ### How to data is verified\n",
    "    - ### How the data is accessed\n",
    "- ### Databases decouple those questions. Changing the answer to one does not change the answer to the others."
   ]
  },
  {
   "cell_type": "code",
   "execution_count": null,
   "metadata": {},
   "outputs": [],
   "source": []
  }
 ],
 "metadata": {
  "celltoolbar": "Slideshow",
  "kernelspec": {
   "display_name": "Python 3",
   "language": "python",
   "name": "python3"
  },
  "language_info": {
   "codemirror_mode": {
    "name": "ipython",
    "version": 3
   },
   "file_extension": ".py",
   "mimetype": "text/x-python",
   "name": "python",
   "nbconvert_exporter": "python",
   "pygments_lexer": "ipython3",
   "version": "3.6.6"
  }
 },
 "nbformat": 4,
 "nbformat_minor": 1
}
