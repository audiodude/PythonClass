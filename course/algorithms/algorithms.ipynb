{
 "cells": [
  {
   "cell_type": "markdown",
   "metadata": {
    "slideshow": {
     "slide_type": "slide"
    }
   },
   "source": [
    "# Big O notation\n",
    "\n",
    "Big O notation is a way of catagorizing algorithms that only pays attention to the way cost grows as we process more data."
   ]
  },
  {
   "cell_type": "markdown",
   "metadata": {
    "slideshow": {
     "slide_type": "slide"
    }
   },
   "source": [
    "What is the big O of the following?\n",
    "\n",
    "1. Find an item in a list.\n",
    "2. Find an item in a dictionary.\n",
    "3. Sorting a list by finding the smallest item, then the next smallest item, continuing for each element in turn.\n",
    "4. Sort a list by putting all elements in random order until they happen to be in sorted order."
   ]
  },
  {
   "cell_type": "markdown",
   "metadata": {
    "slideshow": {
     "slide_type": "slide"
    }
   },
   "source": [
    "Given an array of integers, find the maximum sum of any contiguous slice. If the maximum is negative, return zero.\n",
    "\n",
    "```\n",
    "-------------------------------------------------------\n",
    "| 31 | -41 | 59 | 26 | -53 | 58 | 97 | -93 | -23 | 84 |\n",
    "-------------------------------------------------------\n",
    "           ↑                    ↑\n",
    "           2                    6\n",
    "```\n",
    "\n",
    "Here the slice `[2:6]` a sum of 187, which is the maximum of all possible slices `[i:j]`."
   ]
  },
  {
   "cell_type": "markdown",
   "metadata": {},
   "source": [
    "What is the worst, simpelest strategy we could use to find the maximum sum?"
   ]
  },
  {
   "cell_type": "code",
   "execution_count": 26,
   "metadata": {
    "slideshow": {
     "slide_type": "slide"
    }
   },
   "outputs": [
    {
     "name": "stdout",
     "output_type": "stream",
     "text": [
      "187\n"
     ]
    }
   ],
   "source": [
    "import numpy\n",
    "\n",
    "values = numpy.array([31, -41, 59, 26, -53, 58, 97, -93, -23, 84])\n",
    "\n",
    "def solution_1(values):\n",
    "    current_max = 0\n",
    "    for i in range(len(values)):\n",
    "        for j in range(i, len(values)):\n",
    "            current_max = max(current_max, sum(values[i:j]))\n",
    "            \n",
    "    return current_max\n",
    "        \n",
    "print(solution_1(values))"
   ]
  },
  {
   "cell_type": "markdown",
   "metadata": {
    "slideshow": {
     "slide_type": "slide"
    }
   },
   "source": [
    "What is the performance of this algorithm?\n",
    "1. $O(n)$\n",
    "2. $O(n log(n))$\n",
    "3. $O(n ^ 2)$\n",
    "4. $O(n ^ 3)$"
   ]
  },
  {
   "cell_type": "markdown",
   "metadata": {
    "slideshow": {
     "slide_type": "slide"
    }
   },
   "source": [
    "# Duplicate work\n",
    "\n",
    "The inner loop adds the same numbers together over and over.  There are two options to avoid this.\n",
    "\n",
    "1. Accumulate the sum as we iterate, instead of computing it again each time.\n",
    "\n",
    "2. Calculate the sums once ahead of time, and look them up later.\n",
    "\n",
    "For the second option, the trick is that\n",
    "```python\n",
    "sum(array[i:j]) = sum(array[:j]) - sum(array[:i-1])\n",
    "```\n",
    "and that we can compute the cumulative sum of the array ahead of time.\n",
    "\n",
    "Try adapting your implementation with one of these strategies."
   ]
  },
  {
   "cell_type": "code",
   "execution_count": 22,
   "metadata": {
    "slideshow": {
     "slide_type": "slide"
    }
   },
   "outputs": [
    {
     "name": "stdout",
     "output_type": "stream",
     "text": [
      "187\n"
     ]
    }
   ],
   "source": [
    "def solution_2(values):\n",
    "    current_max = 0\n",
    "    for i in range(len(values)):\n",
    "        current_sum = 0\n",
    "        for val in values[i:]:\n",
    "            current_sum += val\n",
    "            current_max = max(current_max, current_sum)\n",
    "    \n",
    "    return current_max\n",
    "            \n",
    "print(solution_2(values))"
   ]
  },
  {
   "cell_type": "code",
   "execution_count": 25,
   "metadata": {
    "slideshow": {
     "slide_type": "slide"
    }
   },
   "outputs": [
    {
     "name": "stdout",
     "output_type": "stream",
     "text": [
      "187\n"
     ]
    }
   ],
   "source": [
    "def solution_3(values):\n",
    "    cumulative = numpy.zeros(len(values) + 1, dtype=int)\n",
    "    current_sum = 0\n",
    "\n",
    "    # This is equivalent to itertools.accumulate plus a leading zero\n",
    "    for i, v in enumerate(values):\n",
    "        current_sum += v\n",
    "        cumulative[i + 1] = current_sum\n",
    "    \n",
    "    current_max = 0\n",
    "    for i, cumulative_i in enumerate(cumulative):\n",
    "        for j, cumulative_j in enumerate(cumulative[i:]):\n",
    "            current_sum = cumulative_j - cumulative_i\n",
    "            current_max = max(current_max, current_sum)\n",
    "    \n",
    "    return current_max\n",
    "\n",
    "print(solution_3(values))\n"
   ]
  },
  {
   "cell_type": "markdown",
   "metadata": {
    "slideshow": {
     "slide_type": "slide"
    }
   },
   "source": [
    "# Divide and Conquor\n",
    "\n",
    "There is a tricky way of going faster, by noticing that we can divide this problem in two.\n",
    "\n",
    "```\n",
    "          left maximum         right maximum\n",
    "-----------===========------    ===========-----------------\n",
    "| 31 | -41 | 59 | 26 | -53 |    | 58 | 97 | -93 | -23 | 84 |\n",
    "-----------===========-------   ===========-----------------\n",
    "```"
   ]
  },
  {
   "cell_type": "markdown",
   "metadata": {
    "slideshow": {
     "slide_type": "slide"
    }
   },
   "source": [
    "We can keep doing this recursively\n",
    "\n",
    "```\n",
    "       ------===========------         At each node we have three options:\n",
    "       | -41 | 59 | 26 | -53 |           1. left child's max\n",
    "       ------===========------           2. right child's max\n",
    "            /           \\                3. maximum crosses the middle\n",
    "           /             \\           \n",
    "     ------======    ======------    \n",
    "     | -41 | 59 |    | 26 | -53 |    \n",
    "     ------======    ======------    \n",
    "      /      \\          /     \\      \n",
    "-------    ======    =====-    -------\n",
    "| -41 |    | 59 |    | 26 |    | -53 |\n",
    "-------    ======    =====-    -------\n",
    "```\n",
    "\n"
   ]
  },
  {
   "cell_type": "markdown",
   "metadata": {
    "slideshow": {
     "slide_type": "slide"
    }
   },
   "source": [
    "Checking the third case takes O(n) at each node.\n",
    "- What is the big O complexity of this algorithm?\n",
    "- If we didn't have to worry about the third case, what would be the complexity?"
   ]
  },
  {
   "cell_type": "markdown",
   "metadata": {
    "slideshow": {
     "slide_type": "slide"
    }
   },
   "source": [
    "# Dynamic programming\n",
    "\n",
    "Let's say we have a solution to a list with N elements.  If we add an element on to the end, how do we need to modify the solution?\n",
    "\n",
    "```\n",
    "======-----------       ------\n",
    "| 59 | -41 | 31 |   +   | 30 |    =    ?\n",
    "======-----------       ------\n",
    "```"
   ]
  },
  {
   "cell_type": "code",
   "execution_count": 47,
   "metadata": {
    "slideshow": {
     "slide_type": "slide"
    }
   },
   "outputs": [
    {
     "name": "stdout",
     "output_type": "stream",
     "text": [
      "187\n"
     ]
    }
   ],
   "source": [
    "def solution_4(values):\n",
    "    current_max = 0\n",
    "    max_ending_here = 0\n",
    "    \n",
    "    for val in values:\n",
    "        max_ending_here = max(max_ending_here + val, 0)\n",
    "        current_max = max(current_max, max_ending_here)\n",
    "        \n",
    "    return current_max\n",
    "\n",
    "print(solution_4(values))"
   ]
  },
  {
   "cell_type": "markdown",
   "metadata": {
    "slideshow": {
     "slide_type": "slide"
    }
   },
   "source": [
    "Rules to remember:\n",
    "- Don't do work you don't have to do\n",
    "- Look it up instead of finding it each time\n",
    "- Look for ways to divide the problem into subproblems that can be combined into the full solution.\n",
    "- Look for simpler subproblems that can be extended into a full solution."
   ]
  }
 ],
 "metadata": {
  "celltoolbar": "Slideshow",
  "kernelspec": {
   "display_name": "Python 3",
   "language": "python",
   "name": "python3"
  },
  "language_info": {
   "codemirror_mode": {
    "name": "ipython",
    "version": 3
   },
   "file_extension": ".py",
   "mimetype": "text/x-python",
   "name": "python",
   "nbconvert_exporter": "python",
   "pygments_lexer": "ipython3",
   "version": "3.6.6"
  }
 },
 "nbformat": 4,
 "nbformat_minor": 2
}
