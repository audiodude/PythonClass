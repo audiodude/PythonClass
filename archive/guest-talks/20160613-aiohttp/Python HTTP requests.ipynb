{
 "cells": [
  {
   "cell_type": "code",
   "execution_count": 5,
   "metadata": {
    "collapsed": true
   },
   "outputs": [],
   "source": [
    "\"\"\"\n",
    "$ pip install requests\n",
    "\"\"\"\n",
    "\n",
    "import requests\n",
    "from IPython.core.display import display, HTML, Image\n"
   ]
  },
  {
   "cell_type": "code",
   "execution_count": 1,
   "metadata": {
    "collapsed": false
   },
   "outputs": [
    {
     "data": {
      "text/plain": [
       "sys.version_info(major=3, minor=5, micro=0, releaselevel='final', serial=0)"
      ]
     },
     "execution_count": 1,
     "metadata": {},
     "output_type": "execute_result"
    }
   ],
   "source": [
    "import sys\n",
    "sys.version_info"
   ]
  },
  {
   "cell_type": "code",
   "execution_count": 2,
   "metadata": {
    "collapsed": false
   },
   "outputs": [
    {
     "data": {
      "text/plain": [
       "<Response [200]>"
      ]
     },
     "execution_count": 2,
     "metadata": {},
     "output_type": "execute_result"
    }
   ],
   "source": [
    "requests.get('http://noisebridge.net')"
   ]
  },
  {
   "cell_type": "code",
   "execution_count": 3,
   "metadata": {
    "collapsed": false
   },
   "outputs": [
    {
     "data": {
      "text/plain": [
       "'<!DOCTYPE html>\\n<html lang=\"en\" dir=\"ltr\" class=\"client-nojs\">\\n<head>\\n<title>Noisebridge</title>\\n<meta charset=\"UTF-8\" />"
      ]
     },
     "execution_count": 3,
     "metadata": {},
     "output_type": "execute_result"
    }
   ],
   "source": [
    "requests.get('http://noisebridge.net').text"
   ]
  },
  {
   "cell_type": "code",
   "execution_count": 7,
   "metadata": {
    "collapsed": false
   },
   "outputs": [
    {
     "data": {
      "text/plain": [
       "'<p>what a <em>bold</em> statement</p>\\n'"
      ]
     },
     "execution_count": 7,
     "metadata": {},
     "output_type": "execute_result"
    }
   ],
   "source": [
    "requests.post('https://api.github.com/markdown', json={\n",
    "  'text': 'what a *bold* statement',\n",
    "}).text"
   ]
  },
  {
   "cell_type": "code",
   "execution_count": 8,
   "metadata": {
    "collapsed": false
   },
   "outputs": [
    {
     "data": {
      "text/html": [
       "<p>rage1 is <img class=\"emoji\" title=\":rage1:\" alt=\":rage1:\" src=\"https://assets-cdn.github.com/images/icons/emoji/rage1.png\" height=\"20\" width=\"20\" align=\"absmiddle\"> mount_fuji is <img class=\"emoji\" title=\":mount_fuji:\" alt=\":mount_fuji:\" src=\"https://assets-cdn.github.com/images/icons/emoji/mount_fuji.png\" height=\"20\" width=\"20\" align=\"absmiddle\">"
     ],
      "text/plain": [
       "<IPython.core.display.HTML object>"
      ]
     },
     "metadata": {},
     "output_type": "display_data"
    }
   ],
   "source": [
    "response = requests.get('https://api.github.com/emojis')\n",
    "data = response.json()\n",
    "\n",
    "html = requests.post('https://api.github.com/markdown', json={\n",
    "  \"text\": \" \".join(\"{0} is :{0}:\".format(k) for k in data.keys())[:500],\n",
    "}).text\n",
    "\n",
    "display(HTML(html))"
   ]
  },
  {
   "cell_type": "code",
   "execution_count": 9,
   "metadata": {
    "collapsed": false
   },
   "outputs": [
    {
     "data": {
      "text/plain": [
       "<Response [200]>"
      ]
     },
     "execution_count": 9,
     "metadata": {},
     "output_type": "execute_result"
    }
   ],
   "source": [
    "requests.post('https://api.postmarkapp.com/email',\n",
    "    headers={\n",
    "        'X-Postmark-Server-Token': os.environ['POSTMARK_API_TOKEN']\n",
    "    },\n",
    "    json={\n",
    "        'From': 'razzi@abuissa.net',\n",
    "        'To': 'razzi53@gmail.com',\n",
    "        'Subject': 'here are some emoji',\n",
    "        'HtmlBody': html\n",
    "    }\n",
    ")"
   ]
  },
  {
   "cell_type": "code",
   "execution_count": 11,
   "metadata": {
    "collapsed": false
   },
   "outputs": [
    {
     "data": {
      "text/plain": [
       "<_UnixSelectorEventLoop running=False closed=False debug=False>"
      ]
     },
     "execution_count": 11,
     "metadata": {},
     "output_type": "execute_result"
    }
   ],
   "source": [
    "import asyncio\n",
    "import aiohttp\n",
    "\n",
    "loop = asyncio.get_event_loop()\n",
    "loop"
   ]
  },
  {
   "cell_type": "code",
   "execution_count": 27,
   "metadata": {
    "collapsed": false
   },
   "outputs": [
    {
     "name": "stdout",
     "output_type": "stream",
     "text": [
      "200\n",
      "b'<!doctype html>\\n<!--[if lt IE 7]>   <html class=\"no-js ie6 lt-ie7 lt-ie8 lt-ie9\">   <![endif]-->\\n<!--[if IE 7]>      <html class=\"no-js ie7 lt-ie8 lt-ie9\">          <![endif]-->\\n<!--[if IE 8]>      <html class=\"no-js ie8 lt-ie9\">                 <![endif]-->\\n<!--[if gt IE 8]><!--><html class=\"no-js\" lang=\"en\" dir=\"ltr\">  <!--<![endif]-->\\n\\n<head>\\n    <meta charset=\"utf-8\">\\n    <meta http-equiv=\"X-UA-Compatible\" content=\"IE=edge\">\\n\\n    <link rel=\"prefetch\" href=\"//ajax.googleapis.com/ajax/libs/jquery/1.8.2/jquery.min.js\">\\n\\n    <meta name=\"application-name\" content=\"Python.org\">\\n    <meta name=\"msapplication-tooltip\" content=\"The official home of the Python Programming Language\">\\n "
     ]
    }
   ],
   "source": [
    "async def main(session):\n",
    "    response = await session.get('http://python.org')\n",
    "    status = response.status\n",
    "    print(status)\n",
    "    \n",
    "    content = await response.read()\n",
    "    print(content)\n",
    "\n",
    "    \n",
    "loop = asyncio.get_event_loop()\n",
    "\n",
    "with aiohttp.ClientSession(loop=loop) as session:\n",
    "    loop.run_until_complete(main(session))"
   ]
  },
  {
   "cell_type": "code",
   "execution_count": 16,
   "metadata": {
    "collapsed": false
   },
   "outputs": [
    {
     "data": {
      "text/plain": [
       "sys.version_info(major=3, minor=5, micro=0, releaselevel='final', serial=0)"
      ]
     },
     "execution_count": 16,
     "metadata": {},
     "output_type": "execute_result"
    }
   ],
   "source": [
    "import sys\n",
    "sys.version_info"
   ]
  },
  {
   "cell_type": "code",
   "execution_count": 45,
   "metadata": {
    "collapsed": false
   },
   "outputs": [
    {
     "name": "stdout",
     "output_type": "stream",
     "text": [
      "Total time: 1.1105239391326904\n"
     ]
    },
    {
     "data": {
      "image/png": "[encoded data removed]",
      "text/plain": [
       "<IPython.core.display.Image object>"
      ]
     },
     "metadata": {},
     "output_type": "display_data"
    },
    {
     "data": {
      "image/png": "[encoded data removed]",
      "text/plain": [
       "<IPython.core.display.Image object>"
      ]
     },
     "metadata": {},
     "output_type": "display_data"
    },
    {
     "data": {
      "image/png": "[encoded data removed]",
      "text/plain": [
       "<IPython.core.display.Image object>"
      ]
     },
     "metadata": {},
     "output_type": "display_data"
    },
    {
     "data": {
      "image/png": "[encoded data removed]",
      "text/plain": [
       "<IPython.core.display.Image object>"
      ]
     },
     "metadata": {},
     "output_type": "display_data"
    },
    {
     "data": {
      "image/png": "[encoded data removed]",
      "text/plain": [
       "<IPython.core.display.Image object>"
      ]
     },
     "metadata": {},
     "output_type": "display_data"
    }
   ],
   "source": [
    "# Asyncio version of 5 concurrent requests\n",
    "\n",
    "import asyncio\n",
    "import aiohttp\n",
    "import time\n",
    "\n",
    "async def main(session):\n",
    "    start_time = time.time()\n",
    "    \n",
    "    requests = [\n",
    "        session.get('http://placehold.it/350x{}'\n",
    "                    .format(i * 10))\n",
    "        for i in range(10, 15)\n",
    "    ]\n",
    "    \n",
    "    responses = await asyncio.gather(*requests)\n",
    "\n",
    "    images = await asyncio.gather(*[\n",
    "        resp.read()\n",
    "        for resp in responses\n",
    "    ])\n",
    "\n",
    "    print('Total time: {}'.format(time.time() - start_time))    \n",
    "    \n",
    "    for image in images:\n",
    "        display(Image(image))\n",
    "        \n",
    "        \n",
    "\n",
    "loop = asyncio.get_event_loop()\n",
    "\n",
    "with aiohttp.ClientSession(loop=loop) as session:\n",
    "    loop.run_until_complete(main(session))\n"
   ]
  },
  {
   "cell_type": "code",
   "execution_count": 46,
   "metadata": {
    "collapsed": false
   },
   "outputs": [
    {
     "name": "stdout",
     "output_type": "stream",
     "text": [
      "Total time: 5.6969568729400635\n"
     ]
    },
    {
     "data": {
      "image/png": "[encoded data removed]",
      "text/plain": [
       "<IPython.core.display.Image object>"
      ]
     },
     "metadata": {},
     "output_type": "display_data"
    },
    {
     "data": {
      "image/png": "[encoded data removed]",
      "text/plain": [
       "<IPython.core.display.Image object>"
      ]
     },
     "metadata": {},
     "output_type": "display_data"
    },
    {
     "data": {
      "image/png": "[encoded data removed]",
      "text/plain": [
       "<IPython.core.display.Image object>"
      ]
     },
     "metadata": {},
     "output_type": "display_data"
    },
    {
     "data": {
      "image/png": "[encoded data removed]",
      "text/plain": [
       "<IPython.core.display.Image object>"
      ]
     },
     "metadata": {},
     "output_type": "display_data"
    },
    {
     "data": {
      "image/png": "[encoded data removed]",
      "text/plain": [
       "<IPython.core.display.Image object>"
      ]
     },
     "metadata": {},
     "output_type": "display_data"
    }
   ],
   "source": [
    "# Synchronous 5 requests: about 5x slower\n",
    "\n",
    "def main():\n",
    "    start_time = time.time()\n",
    "    \n",
    "    urls = [\n",
    "        'http://placehold.it/350x{}'\n",
    "        .format(i * 10)\n",
    "        for i in range(10, 15)\n",
    "    ]\n",
    "    \n",
    "    images = [\n",
    "        requests.get(url).content\n",
    "        for url in urls\n",
    "    ]\n",
    "\n",
    "    print('Total time: {}'.format(time.time() - start_time))    \n",
    "    \n",
    "    for image in images:\n",
    "        display(Image(image))\n",
    "        \n",
    "main()"
   ]
  },
  {
   "cell_type": "code",
   "execution_count": null,
   "metadata": {
    "collapsed": true
   },
   "outputs": [],
   "source": [
    "# Other useful links\n",
    "\n",
    "\"\"\"\n",
    "Python HTTP library docs:\n",
    "\n",
    "http://python-requests.org/\n",
    "http://aiohttp.readthedocs.io/\n",
    "\n",
    "Other:\n",
    "\n",
    "httpbin.org: debug your http requests\n",
    "httpie: quickly interact with an http api\n",
    "\"\"\""
   ]
  }
 ],
 "metadata": {
  "kernelspec": {
   "display_name": "Python 3",
   "language": "python",
   "name": "python3"
  },
  "language_info": {
   "codemirror_mode": {
    "name": "ipython",
    "version": 3
   },
   "file_extension": ".py",
   "mimetype": "text/x-python",
   "name": "python",
   "nbconvert_exporter": "python",
   "pygments_lexer": "ipython3",
   "version": "3.5.0"
  }
 },
 "nbformat": 4,
 "nbformat_minor": 0
}
