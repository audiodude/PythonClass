{
 "cells": [
  {
   "cell_type": "markdown",
   "metadata": {},
   "source": [
    "# Dynamic Programming and Graph Algorithm Problems \n",
    "\n",
    "Here are what we went over in the class. In addition here are the links to the [MIT Course](https://www.youtube.com/watch?v=OQ5jsbhAv_M&t=2s) I mentioned and to [my repo](https://github.com/Robotikus/algorithm-interview) that has a lot more implementations of different types of algorithms and strategies. "
   ]
  },
  {
   "cell_type": "markdown",
   "metadata": {},
   "source": [
    "## Dynamic Programming\n",
    "\n",
    "Dynamic programming is about approaching problems with overlapping substructures. We are taking a careful brute force method where exponential search space is reduced to polynomial search space. "
   ]
  },
  {
   "cell_type": "markdown",
   "metadata": {},
   "source": [
    "### Canonical Example: Fibonacci Sequence"
   ]
  },
  {
   "cell_type": "code",
   "execution_count": 9,
   "metadata": {},
   "outputs": [
    {
     "data": {
      "text/plain": [
       "75025"
      ]
     },
     "execution_count": 9,
     "metadata": {},
     "output_type": "execute_result"
    }
   ],
   "source": [
    "def fib(n):\n",
    "    \n",
    "    if n < 0:\n",
    "        raise Exception(\"Index was negative. Cannot have a negative index in a series\")\n",
    "        \n",
    "    if n < 2:\n",
    "        return n\n",
    "    \n",
    "    return fib(n-1) + fib(n-2) \n",
    "\n",
    "fib(25)"
   ]
  },
  {
   "cell_type": "code",
   "execution_count": 4,
   "metadata": {},
   "outputs": [
    {
     "data": {
      "text/plain": [
       "75025"
      ]
     },
     "execution_count": 4,
     "metadata": {},
     "output_type": "execute_result"
    }
   ],
   "source": [
    "def fib(n):\n",
    "    \n",
    "    if n < 0:\n",
    "        raise Exception(\"Index was negative. Cannot have a negative index in a series\")\n",
    "        \n",
    "    if n < 2:\n",
    "        return n\n",
    "    \n",
    "    pred_pred, pred = 0, 1\n",
    "    \n",
    "    for _ in range(n-1):\n",
    "        current = pred + pred_pred\n",
    "        pred_pred = pred\n",
    "        pred = current\n",
    "    \n",
    "    return current\n",
    "\n",
    "fib(25)"
   ]
  },
  {
   "cell_type": "code",
   "execution_count": 8,
   "metadata": {},
   "outputs": [
    {
     "data": {
      "text/plain": [
       "75025"
      ]
     },
     "execution_count": 8,
     "metadata": {},
     "output_type": "execute_result"
    }
   ],
   "source": [
    "class Fibber:\n",
    "    def __init__(self):\n",
    "        self.memo = {}\n",
    "    \n",
    "    def fib(self, n):\n",
    "        if n < 0:\n",
    "            raise Exception('Index was negative. No such thing as a negative index in a series')\n",
    "        \n",
    "        elif n < 2:\n",
    "            return n;\n",
    "        \n",
    "        if n in self.memo:\n",
    "            return self.memo[n]\n",
    "        \n",
    "        result = self.fib(n-1) + self.fib(n-2)\n",
    "        \n",
    "        self.memo[n] = result\n",
    "        \n",
    "        return result\n",
    "\n",
    "fibs = Fibber()\n",
    "fibs.fib(25)"
   ]
  },
  {
   "cell_type": "markdown",
   "metadata": {},
   "source": [
    "There are two approaches to dynamic programming problems.\n",
    "\n",
    "1. Guessing + recursion + memoization. Pick out a feature of the problem space that we don't know and brute force an answer. Then we recurse over the problem space until we reach the part that is relevant for our specific instance. Then we memoize. Memoization takes what is often exponential time and makes linear/polynomial. \n",
    "\n",
    "2. The second is a bottom-up approach. We build a dynamic programming table until we can solve the original problem. \n"
   ]
  },
  {
   "cell_type": "markdown",
   "metadata": {},
   "source": [
    "### Problems to try:\n",
    "\n",
    "A child is running up a staircase with n steps and can hop either 1 step, 2 steps, or 3 steps at a time. Implement a method to count how many possible ways the child can run up the stairs.\n",
    "\n",
    "Imagine a robot sitting on the upper left corner of grid with r rows and c columns. The robot can only move in two directions, right and down, but certain cells are 'off limits' such that the robot cannot step on them. Design an algorithm to find a path for the robot from the top left to the bottom right."
   ]
  },
  {
   "cell_type": "code",
   "execution_count": 10,
   "metadata": {},
   "outputs": [
    {
     "data": {
      "text/plain": [
       "7"
      ]
     },
     "execution_count": 10,
     "metadata": {},
     "output_type": "execute_result"
    }
   ],
   "source": [
    "# Triple Step\n",
    "\n",
    "class triple_step():\n",
    "    def __init__(self):\n",
    "        self.memo = {}\n",
    "        \n",
    "    def triple_step(self, step):\n",
    "        if step < 0:\n",
    "            return 0\n",
    "        \n",
    "        self.memo[0] = 1\n",
    "        if step == 0:\n",
    "            return self.memo[0]\n",
    "        \n",
    "        self.memo[1] = 1\n",
    "        if step == 1:\n",
    "            return self.memo[1]\n",
    "        \n",
    "        result = self.triple_step(step-1) + self.triple_step(step-2) + self.triple_step(step-3)\n",
    "        self.memo[step] = result\n",
    "        \n",
    "        return result\n",
    "    \n",
    "t = triple_step()\n",
    "t.triple_step(4)"
   ]
  },
  {
   "cell_type": "markdown",
   "metadata": {},
   "source": [
    "# 0/1 Knapsack Problem\n",
    "\n",
    "Given a set of tuples that represent the weight and value of different goods, cakes in our examples, find the maximum value we can get given a knapsack with a certain weight restriction. Find the point where the value is maximum and the sum of their weight is equal to the total weight allowed by the knapsack. 0/1 means you cannot split an item. "
   ]
  },
  {
   "cell_type": "code",
   "execution_count": 12,
   "metadata": {},
   "outputs": [
    {
     "data": {
      "text/plain": [
       "555"
      ]
     },
     "execution_count": 12,
     "metadata": {},
     "output_type": "execute_result"
    }
   ],
   "source": [
    "# a cake tuple (3, 90) weighs 3 kilograms and has a value\n",
    "# of 90 pounds\n",
    "cake_tuples = [(7, 160), (3, 90), (2, 15)]\n",
    "capacity = 20\n",
    "\n",
    "def max_duffel_bag_value(cake_tuples, weight_capacity):\n",
    "    \n",
    "    # we make a list to hold the max possible value at every\n",
    "    # duffel bag weight capacity from 0 to weight_capacity\n",
    "    # starting each index with value 0\n",
    "    \n",
    "    #initialize an array of zeroes for each capacity limit\n",
    "    max_values_at_capacities = [0]*(weight_capacity + 1)\n",
    "    \n",
    "    for current_capacity in range(weight_capacity + 1):\n",
    "    \n",
    "        current_max_value = 0\n",
    "        \n",
    "        #iterate through our range of weights from 0 to capacity\n",
    "        for cake_weight, cake_value in cake_tuples:\n",
    "        \n",
    "            \n",
    "            if cake_weight <= current_capacity:\n",
    "                #check the cake would fit at all\n",
    "                \n",
    "                #take the value from the current capacity - the cake weight and add to the value of this cake\n",
    "                max_value_using_cake = cake_value + max_values_at_capacities[current_capacity - cake_weight]\n",
    "                \n",
    "                #do this for each cake, take the one that gives us the highest value \n",
    "                current_max_value = max(max_value_using_cake, current_max_value)\n",
    "         \n",
    "        #set that max value to the current capacity \n",
    "        max_values_at_capacities[current_capacity] = current_max_value\n",
    "    \n",
    "    \n",
    "    return max_values_at_capacities[weight_capacity]\n",
    "\n",
    "max_duffel_bag_value(cake_tuples, capacity)"
   ]
  },
  {
   "cell_type": "code",
   "execution_count": null,
   "metadata": {},
   "outputs": [],
   "source": [
    "def getPath(self, maze):\n",
    "    if len(maze) == 0 or len(maze[0]) == 0:\n",
    "        return None\n",
    "    path = []\n",
    "    failedPoints = set()\n",
    "    if self.pathFinder(maze, len(maze), len(maze[0]), path, failedPoints):\n",
    "        return path\n",
    "    return None\n",
    "\n",
    "def pathFinder(self, maze, row, col, path, failedPoints):\n",
    "    if col < 0 or row < 0 or not maze[row][col]:\n",
    "        return False\n",
    "    p = (row, col)\n",
    "    if p in failedPoints:\n",
    "        return False\n",
    "    isAtOrigin = (row == 0) and (col == 0)\n",
    "    if isAtOrigin or self.pathFinder(maze, row, col-1, path, failedPoints) or self.pathFinder(maze, row-1, col, path, failedPoints):\n",
    "        path.append(p)\n",
    "        return True\n",
    "    failedPoints.append(p)\n",
    "    return False"
   ]
  },
  {
   "cell_type": "markdown",
   "metadata": {},
   "source": [
    "#### Common dynamic programming problems:\n",
    "\n",
    "1. Fibonacci\n",
    "2. Shortest Path\n",
    "3. Parenthesization\n",
    "4. Shortest Path \n",
    "5. Knapsack\n",
    "6. Towers of Hanoi\n",
    "7. Edit Distance\n",
    "8. Eight Queens/ N Queens\n",
    "9. Coin change\n",
    "10. Longest Common Subsequence"
   ]
  },
  {
   "cell_type": "markdown",
   "metadata": {},
   "source": [
    "# Graph and Trees\n",
    "\n",
    "## Differences between graphs and trees\n",
    "Trees has a direct child/parent relationship and don't contain cycles. Trees are a DAG (directed acyclic graph) with the restriction that each child has one parent.\n",
    "\n",
    "### Binary Trees\n",
    "Binary Trees are a great restricted case of a graph problem that are a great way to get familiar with traversing and interacting with graph structures before jumping to something more abstract. \n",
    "\n",
    "A binary tree is only a binary tree if an inorder traversal is a sorted list of values. \n",
    "\n",
    "**Full** - Every node should have exactly 2 nodes except the leaves. The leaves have 0 children\n",
    "\n",
    "**Complete** - Every level, except the last, is completely filled, and all nodes are as far left as possible. A binary tree can be complete with nodes which have a single child if it is the leftmost child. \n",
    "\n",
    "**Balanced** - The left and right sides of the tree have a height difference of 1 or less. \n",
    "\n",
    "Here are some tasks you should know how to do with binary search trees:\n",
    "\n",
    "1. Build a binary tree from a sorted array\n",
    "2. Inorder, Preorder, Postorder traversal \n",
    "3. Depth-first and Breadth-first search\n",
    "4. Check if a BST is balanced\n",
    "5. Validate tree is a BST (must adhere to BST properties)\n",
    "6. Find common ancestor between two nodes\n"
   ]
  },
  {
   "cell_type": "code",
   "execution_count": null,
   "metadata": {},
   "outputs": [],
   "source": [
    "class Node:\n",
    "    def __init__(self, value):\n",
    "        self.v = value\n",
    "        self.right = None\n",
    "        self.left= None\n",
    "\n",
    "def checkBST(node):\n",
    "    return (checkBSThelper(node, -math.inf, math.inf))\n",
    "\n",
    "def checkBSThelper(node, mini, maxi):\n",
    "    if node is None:\n",
    "        return True\n",
    "    if node.v < mini or node.v >= maxi:\n",
    "        return False\n",
    "    return checkBSThelper(node.left, mini, node.v) and checkBSThelper(node.right, node.v, maxi) "
   ]
  },
  {
   "cell_type": "code",
   "execution_count": null,
   "metadata": {},
   "outputs": [],
   "source": [
    "class Node:\n",
    "    def __init__(self, value):\n",
    "        self.value = value\n",
    "        self.left = None\n",
    "        self.right = None\n",
    "\n",
    "def checkBalanced(root):\n",
    "    if root is None:\n",
    "        return 0\n",
    "    \n",
    "    left = checkBalanced(root.left)\n",
    "    right = checkBalanced(root.right) \n",
    "    \n",
    "    if abs(left - right) > 1:\n",
    "        return -1\n",
    "    \n",
    "    return max(left, right) + 1   "
   ]
  },
  {
   "cell_type": "markdown",
   "metadata": {},
   "source": [
    "# Graph Structures\n",
    "\n",
    "There are many graph structures that are useful.\n",
    "\n",
    "1. Tries- Tries are great for indexing words, alphabets, anything where you are trying to keep track of words tries are useful. The key to tries are that the letters lie along the edges of the graph and the vertices represent the word up to that point. Make sure that at the end of a word you have a special character to denote that you have reached the end of the word even if there are edges that continue towards another word. \n",
    "\n",
    "2. DAG - Directed Acyclic Graphs: DAG are really good structures for represented relationships between items. "
   ]
  },
  {
   "cell_type": "code",
   "execution_count": null,
   "metadata": {},
   "outputs": [],
   "source": [
    "class Trie:\n",
    "    \n",
    "    def __init__(self):\n",
    "        self.root_node = {}\n",
    "        \n",
    "    def check_present_and_add(self, word):\n",
    "        \n",
    "        current_node = self.root_node\n",
    "        is_new_word = False\n",
    "        \n",
    "        for char in word:\n",
    "            if char not in current_node:\n",
    "                is_new_word = True\n",
    "                current_node[char] = {}\n",
    "            current_node = current_node[char]\n",
    "            \n",
    "        if \"End of Word\" not in current_node:\n",
    "            is_new_word = True\n",
    "            current_node[\"End Of Word\"] = {}\n",
    "        \n",
    "        return is_new_word"
   ]
  },
  {
   "cell_type": "code",
   "execution_count": null,
   "metadata": {},
   "outputs": [],
   "source": [
    "#[2::][1::2]\n",
    "import collections\n",
    "\n",
    "words = [\"baa\", \"\", \"abcd\", \"abca\", \"cab\", \"cad\"]\n",
    "\n",
    "def alienOrder(words):\n",
    "    pre, suc = collections.defaultdict(set), collections.defaultdict(set)\n",
    "    for pair in zip(words, words[1:]):\n",
    "        print(pair)\n",
    "        for a, b in zip(*pair):\n",
    "            if a != b:\n",
    "                suc[a].add(b)\n",
    "                pre[b].add(a)\n",
    "                break\n",
    "    print('succ %s' % suc)\n",
    "    print('pred %s' % pre)\n",
    "    chars = set(''.join(words))\n",
    "    print('chars %s' % chars)\n",
    "    print(set(pre))\n",
    "    free = chars - set(pre)\n",
    "    print('free %s' % free)\n",
    "    order = ''\n",
    "    while free:\n",
    "        a = free.pop()\n",
    "        order += a\n",
    "        for b in suc[a]:\n",
    "            pre[b].discard(a)\n",
    "            if not pre[b]:\n",
    "                free.add(b)\n",
    "    \n",
    "    if set(order) == chars:\n",
    "        return order \n",
    "    else:\n",
    "        False\n",
    "#     return order * (set(order) == chars)\n",
    "    \n",
    "alienOrder(words)"
   ]
  }
 ],
 "metadata": {
  "kernelspec": {
   "display_name": "Python 3",
   "language": "python",
   "name": "python3"
  },
  "language_info": {
   "codemirror_mode": {
    "name": "ipython",
    "version": 3
   },
   "file_extension": ".py",
   "mimetype": "text/x-python",
   "name": "python",
   "nbconvert_exporter": "python",
   "pygments_lexer": "ipython3",
   "version": "3.5.2"
  }
 },
 "nbformat": 4,
 "nbformat_minor": 2
}
