{
 "cells": [
  {
   "cell_type": "markdown",
   "metadata": {},
   "source": [
    "# Cryptography!!"
   ]
  },
  {
   "cell_type": "markdown",
   "metadata": {},
   "source": [
    "Asymetric and symmetric\n",
    "\n",
    "in transit and at rest"
   ]
  },
  {
   "cell_type": "code",
   "execution_count": 1,
   "metadata": {
    "collapsed": false
   },
   "outputs": [
    {
     "data": {
      "text/plain": [
       "1"
      ]
     },
     "execution_count": 1,
     "metadata": {},
     "output_type": "execute_result"
    }
   ],
   "source": [
    "100 % 9"
   ]
  },
  {
   "cell_type": "code",
   "execution_count": 2,
   "metadata": {
    "collapsed": false
   },
   "outputs": [
    {
     "data": {
      "text/plain": [
       "6"
      ]
     },
     "execution_count": 2,
     "metadata": {},
     "output_type": "execute_result"
    }
   ],
   "source": [
    "(5**3) % 17"
   ]
  },
  {
   "cell_type": "markdown",
   "metadata": {},
   "source": [
    "$$ a = g^{b} \\text{mod } p $$"
   ]
  },
  {
   "cell_type": "code",
   "execution_count": 8,
   "metadata": {
    "collapsed": false
   },
   "outputs": [
    {
     "data": {
      "text/plain": [
       "59"
      ]
     },
     "execution_count": 8,
     "metadata": {},
     "output_type": "execute_result"
    }
   ],
   "source": [
    "import random\n",
    "random.randint(0, 100)"
   ]
  },
  {
   "cell_type": "code",
   "execution_count": 9,
   "metadata": {
    "collapsed": false
   },
   "outputs": [
    {
     "data": {
      "text/plain": [
       "127655184965292357528834588254369011680986639399801774380053531243130111608082697977683130879832513622690818970927896968"
      ]
     },
     "execution_count": 9,
     "metadata": {},
     "output_type": "execute_result"
    }
   ],
   "source": [
    "import os\n",
    " \n",
    "def rand_int(nbytes):\n",
    "    return int.from_bytes(os.urandom(nbytes), byteorder='little')\n",
    "\n",
    "rand_int(50)"
   ]
  },
  {
   "cell_type": "code",
   "execution_count": 14,
   "metadata": {
    "collapsed": true
   },
   "outputs": [],
   "source": [
    "def rand_less_than(upper_bound):\n",
    "    while True:\n",
    "        r = rand_int(((upper_bound).bit_length() + 7) // 8)\n",
    "        if r < upper_bound:\n",
    "            return r\n",
    "\n",
    "def is_prime(p):\n",
    "    for _ in range(5): # do this 5 times\n",
    "        a = rand_less_than(p)  # picks a number smaller than \n",
    "        if not pow(a, p - 1, p) == 1: # a**(p - 1) % p == 1\n",
    "            return False\n",
    "    return True"
   ]
  },
  {
   "cell_type": "code",
   "execution_count": 17,
   "metadata": {
    "collapsed": false
   },
   "outputs": [
    {
     "data": {
      "text/plain": [
       "True"
      ]
     },
     "execution_count": 17,
     "metadata": {},
     "output_type": "execute_result"
    }
   ],
   "source": [
    "is_prime(233)"
   ]
  },
  {
   "cell_type": "code",
   "execution_count": 18,
   "metadata": {
    "collapsed": true
   },
   "outputs": [],
   "source": [
    "# alice and bob are choose a big prime p, and a base g\n",
    "# alice choose a secret called 'a'\n",
    "# bob chooose a secret called 'b'\n",
    "# alices sends g**a % p = A\n",
    "# bob sends g**b % p = B\n",
    "# alice calculates B**a\n",
    "# bob calculates A**b"
   ]
  },
  {
   "cell_type": "code",
   "execution_count": 19,
   "metadata": {
    "collapsed": true
   },
   "outputs": [],
   "source": [
    "# A = g**a %p, b \n",
    "# A**b -> (g**a)**b % p"
   ]
  },
  {
   "cell_type": "code",
   "execution_count": 21,
   "metadata": {
    "collapsed": true
   },
   "outputs": [],
   "source": [
    "def choose_parameters():\n",
    "    while True:\n",
    "        modulus = rand_int(1024 // 8)\n",
    "        if is_prime(modulus):\n",
    "            break\n",
    "    base = rand_less_than(modulus)\n",
    "    return base, modulus"
   ]
  },
  {
   "cell_type": "code",
   "execution_count": 23,
   "metadata": {
    "collapsed": false
   },
   "outputs": [],
   "source": [
    "g, p = choose_parameters()"
   ]
  },
  {
   "cell_type": "code",
   "execution_count": 25,
   "metadata": {
    "collapsed": true
   },
   "outputs": [],
   "source": [
    "class Peep:\n",
    "    def __init__(self, base, modulus): # g, p\n",
    "        self.base = base\n",
    "        self.modulus = modulus\n",
    "        self.private = rand_less_than(modulus)\n",
    "        self.public = pow(base, self.private, modulus)\n",
    " \n",
    "    def send(self):\n",
    "        return self.public\n",
    " \n",
    "    def receive(self, B):\n",
    "        self.shared_secret = pow(B, self.private, self.modulus)\n",
    " "
   ]
  },
  {
   "cell_type": "code",
   "execution_count": 28,
   "metadata": {
    "collapsed": false
   },
   "outputs": [
    {
     "data": {
      "text/plain": [
       "(24884367485109881412398240459388202132430510874214116392826216896961808112532396722940032373483868378904805908462916890862520265237205108581293708361151486941372475305342247210458232831379436683178003919586769280726687382268327889799124403070326934672334549576363198524738244651326038281841416767666246730655,\n",
       " 123451532448179571111552285970321301090204456573277260185353415694384377333932310956418829246786739456896201533302942646394596942008383042519290721997220596110753176868150107032286884632491108153922711247397244185857059590918763005346644626176150984536255017479930078125497612205809491374834047297775179390262)"
      ]
     },
     "execution_count": 28,
     "metadata": {},
     "output_type": "execute_result"
    }
   ],
   "source": [
    "alice = Peep(g, p)\n",
    "bob = Peep(g, p)\n",
    "A = alice.send()\n",
    "B = bob.send()\n",
    "A, B"
   ]
  },
  {
   "cell_type": "code",
   "execution_count": 29,
   "metadata": {
    "collapsed": true
   },
   "outputs": [],
   "source": [
    "bob.receive(A)\n",
    "alice.receive(B)"
   ]
  },
  {
   "cell_type": "code",
   "execution_count": 30,
   "metadata": {
    "collapsed": false
   },
   "outputs": [
    {
     "data": {
      "text/plain": [
       "(98154807023808799859686391310632953640759958498387740789147814164993025124815305150197247517371956411339653685498422232379968612824088824431083307094109584364005421957478064216759538663523548369701059838612432800624511234894755816581827253236165243308738881594899993978365389892050969762960675131189982434863,\n",
       " 98154807023808799859686391310632953640759958498387740789147814164993025124815305150197247517371956411339653685498422232379968612824088824431083307094109584364005421957478064216759538663523548369701059838612432800624511234894755816581827253236165243308738881594899993978365389892050969762960675131189982434863)"
      ]
     },
     "execution_count": 30,
     "metadata": {},
     "output_type": "execute_result"
    }
   ],
   "source": [
    "alice.shared_secret, bob.shared_secret"
   ]
  },
  {
   "cell_type": "code",
   "execution_count": null,
   "metadata": {
    "collapsed": true
   },
   "outputs": [],
   "source": [
    "http://pastebin.com/7QARWsF0"
   ]
  },
  {
   "cell_type": "code",
   "execution_count": 31,
   "metadata": {
    "collapsed": true
   },
   "outputs": [],
   "source": [
    "from hashlib import sha256"
   ]
  },
  {
   "cell_type": "code",
   "execution_count": 35,
   "metadata": {
    "collapsed": false
   },
   "outputs": [],
   "source": [
    "hasher = sha256()"
   ]
  },
  {
   "cell_type": "code",
   "execution_count": 38,
   "metadata": {
    "collapsed": false
   },
   "outputs": [],
   "source": [
    "hasher.update('bad stuff'.encode('ascii'))"
   ]
  },
  {
   "cell_type": "code",
   "execution_count": 39,
   "metadata": {
    "collapsed": true
   },
   "outputs": [],
   "source": [
    "hasher.update('cuss words'.encode('ascii'))"
   ]
  },
  {
   "cell_type": "code",
   "execution_count": 40,
   "metadata": {
    "collapsed": false
   },
   "outputs": [
    {
     "data": {
      "text/plain": [
       "b'\\xe0r~\\xb1-\\x80\\x92\\xcc\\xcc<}\\xbb3\\x99\\x11\\xe0yY\\xc4\\x07\\x90\\xd8\\xfdv\\xb68_\\x97\\xf2\\xc3\\x16\\x9b'"
      ]
     },
     "execution_count": 40,
     "metadata": {},
     "output_type": "execute_result"
    }
   ],
   "source": [
    "hasher.digest()"
   ]
  },
  {
   "cell_type": "code",
   "execution_count": 41,
   "metadata": {
    "collapsed": false
   },
   "outputs": [
    {
     "data": {
      "text/plain": [
       "1461501637330902918203684832716283019655932542976"
      ]
     },
     "execution_count": 41,
     "metadata": {},
     "output_type": "execute_result"
    }
   ],
   "source": [
    "(2**8)**20"
   ]
  },
  {
   "cell_type": "code",
   "execution_count": 43,
   "metadata": {
    "collapsed": false
   },
   "outputs": [
    {
     "data": {
      "text/plain": [
       "48.16479930623699"
      ]
     },
     "execution_count": 43,
     "metadata": {},
     "output_type": "execute_result"
    }
   ],
   "source": [
    "import math\n",
    "math.log10(1461501637330902918203684832716283019655932542976)"
   ]
  },
  {
   "cell_type": "markdown",
   "metadata": {},
   "source": [
    "http://cryptopals.com/"
   ]
  }
 ],
 "metadata": {
  "kernelspec": {
   "display_name": "Python 3",
   "language": "python",
   "name": "python3"
  },
  "language_info": {
   "codemirror_mode": {
    "name": "ipython",
    "version": 3
   },
   "file_extension": ".py",
   "mimetype": "text/x-python",
   "name": "python",
   "nbconvert_exporter": "python",
   "pygments_lexer": "ipython3",
   "version": "3.6.0"
  }
 },
 "nbformat": 4,
 "nbformat_minor": 2
}
