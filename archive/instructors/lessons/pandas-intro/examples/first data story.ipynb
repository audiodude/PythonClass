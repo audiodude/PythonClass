{
 "metadata": {
  "name": "",
  "signature": "sha256:a2ea7464c7908d255896b6969a382e8a5e718f38190c157292959046bfe88a6a"
 },
 "nbformat": 3,
 "nbformat_minor": 0,
 "worksheets": [
  {
   "cells": [
    {
     "cell_type": "code",
     "collapsed": false,
     "input": [
      "import pandas as pd\n",
      "import numpy as np\n",
      "import matplotlib.pyplot as plt\n",
      "#pd.set_option('display.mpl_style', 'default') #deprecated I believe\n",
      "pd.options.display.mpl_style = 'default'\n",
      "%matplotlib inline"
     ],
     "language": "python",
     "metadata": {},
     "outputs": [],
     "prompt_number": 198
    },
    {
     "cell_type": "code",
     "collapsed": false,
     "input": [
      "#weather_2012_final = pd.read_csv('mtl-temps.csv', index_col='Date/Time')\n",
      "#weather_2012_final.plot()"
     ],
     "language": "python",
     "metadata": {},
     "outputs": [],
     "prompt_number": 14
    },
    {
     "cell_type": "code",
     "collapsed": false,
     "input": [
      "url_template = \"http://climate.weather.gc.ca/climateData/bulkdata_e.html?format=csv&stationID=5415&Year={year}&Month={month}&timeframe=1&submit=Download+Data\"\n",
      "url = url_template.format(month=3, year=2012)\n",
      "weather_mar2012 = pd.read_csv('mtl-temps.csv', skiprows=16, index_col='Date/Time', parse_dates=True, encoding='latin1')"
     ],
     "language": "python",
     "metadata": {},
     "outputs": [],
     "prompt_number": 17
    },
    {
     "cell_type": "code",
     "collapsed": false,
     "input": [
      "weather_mar2012.dropna(axis=1, how='any')[:3]\n"
     ],
     "language": "python",
     "metadata": {},
     "outputs": [
      {
       "html": [
        "<div style=\"max-height:1000px;max-width:1500px;overflow:auto;\">\n",
        "<table border=\"1\" class=\"dataframe\">\n",
        "  <thead>\n",
        "    <tr style=\"text-align: right;\">\n",
        "      <th></th>\n",
        "      <th>Year</th>\n",
        "      <th>Month</th>\n",
        "      <th>Day</th>\n",
        "      <th>Time</th>\n",
        "    </tr>\n",
        "    <tr>\n",
        "      <th>Date/Time</th>\n",
        "      <th></th>\n",
        "      <th></th>\n",
        "      <th></th>\n",
        "      <th></th>\n",
        "    </tr>\n",
        "  </thead>\n",
        "  <tbody>\n",
        "    <tr>\n",
        "      <th>2015-03-01 00:00:00</th>\n",
        "      <td> 2015</td>\n",
        "      <td> 3</td>\n",
        "      <td> 1</td>\n",
        "      <td> 00:00</td>\n",
        "    </tr>\n",
        "    <tr>\n",
        "      <th>2015-03-01 01:00:00</th>\n",
        "      <td> 2015</td>\n",
        "      <td> 3</td>\n",
        "      <td> 1</td>\n",
        "      <td> 01:00</td>\n",
        "    </tr>\n",
        "    <tr>\n",
        "      <th>2015-03-01 02:00:00</th>\n",
        "      <td> 2015</td>\n",
        "      <td> 3</td>\n",
        "      <td> 1</td>\n",
        "      <td> 02:00</td>\n",
        "    </tr>\n",
        "  </tbody>\n",
        "</table>\n",
        "</div>"
       ],
       "metadata": {},
       "output_type": "pyout",
       "prompt_number": 135,
       "text": [
        "                     Year  Month  Day   Time\n",
        "Date/Time                                   \n",
        "2015-03-01 00:00:00  2015      3    1  00:00\n",
        "2015-03-01 01:00:00  2015      3    1  01:00\n",
        "2015-03-01 02:00:00  2015      3    1  02:00"
       ]
      }
     ],
     "prompt_number": 135
    },
    {
     "cell_type": "code",
     "collapsed": false,
     "input": [
      "import pandas.io.data as web\n",
      "import datetime\n",
      "\n",
      "start = datetime.datetime(2013, 1, 1)\n",
      "end = datetime.datetime(2015, 1, 27)\n",
      "data = web.DataReader?"
     ],
     "language": "python",
     "metadata": {},
     "outputs": [],
     "prompt_number": 25
    },
    {
     "cell_type": "code",
     "collapsed": false,
     "input": [
      "data = web.DataReader"
     ],
     "language": "python",
     "metadata": {},
     "outputs": []
    },
    {
     "cell_type": "code",
     "collapsed": false,
     "input": [
      "from pandas.io import wb"
     ],
     "language": "python",
     "metadata": {},
     "outputs": [],
     "prompt_number": 26
    },
    {
     "cell_type": "code",
     "collapsed": false,
     "input": [
      "wb.search()"
     ],
     "language": "python",
     "metadata": {},
     "outputs": [],
     "prompt_number": 27
    },
    {
     "cell_type": "code",
     "collapsed": false,
     "input": [
      "pwd\n"
     ],
     "language": "python",
     "metadata": {},
     "outputs": [
      {
       "metadata": {},
       "output_type": "pyout",
       "prompt_number": 28,
       "text": [
        "u'/Users/me/Documents/Py/sci-py'"
       ]
      }
     ],
     "prompt_number": 28
    },
    {
     "cell_type": "code",
     "collapsed": false,
     "input": [
      "u_cols = ['user_id', 'age', 'sex', 'occupation', 'zip_code']\n",
      "users = pd.read_csv('ml-100k/u.user', sep='|', names=u_cols)"
     ],
     "language": "python",
     "metadata": {},
     "outputs": [],
     "prompt_number": 29
    },
    {
     "cell_type": "code",
     "collapsed": false,
     "input": [
      "r_cols = ['user_id', 'movie_id', 'rating', 'unix_timestamp']\n",
      "ratings = pd.read_csv('ml-100k/u.data', sep='\\t', names=r_cols)\n",
      "ratings.head()"
     ],
     "language": "python",
     "metadata": {},
     "outputs": [
      {
       "html": [
        "<div style=\"max-height:1000px;max-width:1500px;overflow:auto;\">\n",
        "<table border=\"1\" class=\"dataframe\">\n",
        "  <thead>\n",
        "    <tr style=\"text-align: right;\">\n",
        "      <th></th>\n",
        "      <th>user_id</th>\n",
        "      <th>movie_id</th>\n",
        "      <th>rating</th>\n",
        "      <th>unix_timestamp</th>\n",
        "    </tr>\n",
        "  </thead>\n",
        "  <tbody>\n",
        "    <tr>\n",
        "      <th>0</th>\n",
        "      <td> 196</td>\n",
        "      <td> 242</td>\n",
        "      <td> 3</td>\n",
        "      <td> 881250949</td>\n",
        "    </tr>\n",
        "    <tr>\n",
        "      <th>1</th>\n",
        "      <td> 186</td>\n",
        "      <td> 302</td>\n",
        "      <td> 3</td>\n",
        "      <td> 891717742</td>\n",
        "    </tr>\n",
        "    <tr>\n",
        "      <th>2</th>\n",
        "      <td>  22</td>\n",
        "      <td> 377</td>\n",
        "      <td> 1</td>\n",
        "      <td> 878887116</td>\n",
        "    </tr>\n",
        "    <tr>\n",
        "      <th>3</th>\n",
        "      <td> 244</td>\n",
        "      <td>  51</td>\n",
        "      <td> 2</td>\n",
        "      <td> 880606923</td>\n",
        "    </tr>\n",
        "    <tr>\n",
        "      <th>4</th>\n",
        "      <td> 166</td>\n",
        "      <td> 346</td>\n",
        "      <td> 1</td>\n",
        "      <td> 886397596</td>\n",
        "    </tr>\n",
        "  </tbody>\n",
        "</table>\n",
        "</div>"
       ],
       "metadata": {},
       "output_type": "pyout",
       "prompt_number": 36,
       "text": [
        "   user_id  movie_id  rating  unix_timestamp\n",
        "0      196       242       3       881250949\n",
        "1      186       302       3       891717742\n",
        "2       22       377       1       878887116\n",
        "3      244        51       2       880606923\n",
        "4      166       346       1       886397596"
       ]
      }
     ],
     "prompt_number": 36
    },
    {
     "cell_type": "code",
     "collapsed": false,
     "input": [
      "m_cols = ['movie_id', 'title', 'release_date', 'video_release_date', 'imdb_url']\n",
      "movies = pd.read_csv('ml-100k/u.item', sep='|', names=m_cols, usecols=range(5))\n",
      "movies.head()"
     ],
     "language": "python",
     "metadata": {},
     "outputs": [
      {
       "html": [
        "<div style=\"max-height:1000px;max-width:1500px;overflow:auto;\">\n",
        "<table border=\"1\" class=\"dataframe\">\n",
        "  <thead>\n",
        "    <tr style=\"text-align: right;\">\n",
        "      <th></th>\n",
        "      <th>movie_id</th>\n",
        "      <th>title</th>\n",
        "      <th>release_date</th>\n",
        "      <th>video_release_date</th>\n",
        "      <th>imdb_url</th>\n",
        "    </tr>\n",
        "  </thead>\n",
        "  <tbody>\n",
        "    <tr>\n",
        "      <th>0</th>\n",
        "      <td> 1</td>\n",
        "      <td>  Toy Story (1995)</td>\n",
        "      <td> 01-Jan-1995</td>\n",
        "      <td>NaN</td>\n",
        "      <td> http://us.imdb.com/M/title-exact?Toy%20Story%2...</td>\n",
        "    </tr>\n",
        "    <tr>\n",
        "      <th>1</th>\n",
        "      <td> 2</td>\n",
        "      <td>  GoldenEye (1995)</td>\n",
        "      <td> 01-Jan-1995</td>\n",
        "      <td>NaN</td>\n",
        "      <td> http://us.imdb.com/M/title-exact?GoldenEye%20(...</td>\n",
        "    </tr>\n",
        "    <tr>\n",
        "      <th>2</th>\n",
        "      <td> 3</td>\n",
        "      <td> Four Rooms (1995)</td>\n",
        "      <td> 01-Jan-1995</td>\n",
        "      <td>NaN</td>\n",
        "      <td> http://us.imdb.com/M/title-exact?Four%20Rooms%...</td>\n",
        "    </tr>\n",
        "    <tr>\n",
        "      <th>3</th>\n",
        "      <td> 4</td>\n",
        "      <td> Get Shorty (1995)</td>\n",
        "      <td> 01-Jan-1995</td>\n",
        "      <td>NaN</td>\n",
        "      <td> http://us.imdb.com/M/title-exact?Get%20Shorty%...</td>\n",
        "    </tr>\n",
        "    <tr>\n",
        "      <th>4</th>\n",
        "      <td> 5</td>\n",
        "      <td>    Copycat (1995)</td>\n",
        "      <td> 01-Jan-1995</td>\n",
        "      <td>NaN</td>\n",
        "      <td> http://us.imdb.com/M/title-exact?Copycat%20(1995)</td>\n",
        "    </tr>\n",
        "  </tbody>\n",
        "</table>\n",
        "</div>"
       ],
       "metadata": {},
       "output_type": "pyout",
       "prompt_number": 37,
       "text": [
        "   movie_id              title release_date  video_release_date  \\\n",
        "0         1   Toy Story (1995)  01-Jan-1995                 NaN   \n",
        "1         2   GoldenEye (1995)  01-Jan-1995                 NaN   \n",
        "2         3  Four Rooms (1995)  01-Jan-1995                 NaN   \n",
        "3         4  Get Shorty (1995)  01-Jan-1995                 NaN   \n",
        "4         5     Copycat (1995)  01-Jan-1995                 NaN   \n",
        "\n",
        "                                            imdb_url  \n",
        "0  http://us.imdb.com/M/title-exact?Toy%20Story%2...  \n",
        "1  http://us.imdb.com/M/title-exact?GoldenEye%20(...  \n",
        "2  http://us.imdb.com/M/title-exact?Four%20Rooms%...  \n",
        "3  http://us.imdb.com/M/title-exact?Get%20Shorty%...  \n",
        "4  http://us.imdb.com/M/title-exact?Copycat%20(1995)  "
       ]
      }
     ],
     "prompt_number": 37
    },
    {
     "cell_type": "code",
     "collapsed": false,
     "input": [
      "movie_ratings = pd.merge(movies, ratings)\n",
      "lens = pd.merge(movie_ratings, users)\n",
      "movie_ratings.head()\n",
      "lens.tail()"
     ],
     "language": "python",
     "metadata": {},
     "outputs": [
      {
       "html": [
        "<div style=\"max-height:1000px;max-width:1500px;overflow:auto;\">\n",
        "<table border=\"1\" class=\"dataframe\">\n",
        "  <thead>\n",
        "    <tr style=\"text-align: right;\">\n",
        "      <th></th>\n",
        "      <th>movie_id</th>\n",
        "      <th>title</th>\n",
        "      <th>release_date</th>\n",
        "      <th>video_release_date</th>\n",
        "      <th>imdb_url</th>\n",
        "      <th>user_id</th>\n",
        "      <th>rating</th>\n",
        "      <th>unix_timestamp</th>\n",
        "      <th>age</th>\n",
        "      <th>sex</th>\n",
        "      <th>occupation</th>\n",
        "      <th>zip_code</th>\n",
        "    </tr>\n",
        "  </thead>\n",
        "  <tbody>\n",
        "    <tr>\n",
        "      <th>99995</th>\n",
        "      <td> 748</td>\n",
        "      <td>          Saint, The (1997)</td>\n",
        "      <td> 14-Mar-1997</td>\n",
        "      <td>NaN</td>\n",
        "      <td> http://us.imdb.com/M/title-exact?Saint%2C%20Th...</td>\n",
        "      <td> 729</td>\n",
        "      <td> 4</td>\n",
        "      <td> 893286638</td>\n",
        "      <td> 19</td>\n",
        "      <td> M</td>\n",
        "      <td> student</td>\n",
        "      <td> 56567</td>\n",
        "    </tr>\n",
        "    <tr>\n",
        "      <th>99996</th>\n",
        "      <td> 751</td>\n",
        "      <td> Tomorrow Never Dies (1997)</td>\n",
        "      <td> 01-Jan-1997</td>\n",
        "      <td>NaN</td>\n",
        "      <td> http://us.imdb.com/M/title-exact?imdb-title-12...</td>\n",
        "      <td> 729</td>\n",
        "      <td> 3</td>\n",
        "      <td> 893286338</td>\n",
        "      <td> 19</td>\n",
        "      <td> M</td>\n",
        "      <td> student</td>\n",
        "      <td> 56567</td>\n",
        "    </tr>\n",
        "    <tr>\n",
        "      <th>99997</th>\n",
        "      <td> 879</td>\n",
        "      <td>     Peacemaker, The (1997)</td>\n",
        "      <td> 01-Jan-1997</td>\n",
        "      <td>NaN</td>\n",
        "      <td> http://us.imdb.com/M/title-exact?Peacemaker%2C...</td>\n",
        "      <td> 729</td>\n",
        "      <td> 3</td>\n",
        "      <td> 893286299</td>\n",
        "      <td> 19</td>\n",
        "      <td> M</td>\n",
        "      <td> student</td>\n",
        "      <td> 56567</td>\n",
        "    </tr>\n",
        "    <tr>\n",
        "      <th>99998</th>\n",
        "      <td> 894</td>\n",
        "      <td>        Home Alone 3 (1997)</td>\n",
        "      <td> 01-Jan-1997</td>\n",
        "      <td>NaN</td>\n",
        "      <td> http://us.imdb.com/M/title-exact?imdb-title-11...</td>\n",
        "      <td> 729</td>\n",
        "      <td> 1</td>\n",
        "      <td> 893286511</td>\n",
        "      <td> 19</td>\n",
        "      <td> M</td>\n",
        "      <td> student</td>\n",
        "      <td> 56567</td>\n",
        "    </tr>\n",
        "    <tr>\n",
        "      <th>99999</th>\n",
        "      <td> 901</td>\n",
        "      <td>           Mr. Magoo (1997)</td>\n",
        "      <td> 25-Dec-1997</td>\n",
        "      <td>NaN</td>\n",
        "      <td> http://us.imdb.com/M/title-exact?imdb-title-11...</td>\n",
        "      <td> 729</td>\n",
        "      <td> 1</td>\n",
        "      <td> 893286491</td>\n",
        "      <td> 19</td>\n",
        "      <td> M</td>\n",
        "      <td> student</td>\n",
        "      <td> 56567</td>\n",
        "    </tr>\n",
        "  </tbody>\n",
        "</table>\n",
        "</div>"
       ],
       "metadata": {},
       "output_type": "pyout",
       "prompt_number": 44,
       "text": [
        "       movie_id                       title release_date  video_release_date  \\\n",
        "99995       748           Saint, The (1997)  14-Mar-1997                 NaN   \n",
        "99996       751  Tomorrow Never Dies (1997)  01-Jan-1997                 NaN   \n",
        "99997       879      Peacemaker, The (1997)  01-Jan-1997                 NaN   \n",
        "99998       894         Home Alone 3 (1997)  01-Jan-1997                 NaN   \n",
        "99999       901            Mr. Magoo (1997)  25-Dec-1997                 NaN   \n",
        "\n",
        "                                                imdb_url  user_id  rating  \\\n",
        "99995  http://us.imdb.com/M/title-exact?Saint%2C%20Th...      729       4   \n",
        "99996  http://us.imdb.com/M/title-exact?imdb-title-12...      729       3   \n",
        "99997  http://us.imdb.com/M/title-exact?Peacemaker%2C...      729       3   \n",
        "99998  http://us.imdb.com/M/title-exact?imdb-title-11...      729       1   \n",
        "99999  http://us.imdb.com/M/title-exact?imdb-title-11...      729       1   \n",
        "\n",
        "       unix_timestamp  age sex occupation zip_code  \n",
        "99995       893286638   19   M    student    56567  \n",
        "99996       893286338   19   M    student    56567  \n",
        "99997       893286299   19   M    student    56567  \n",
        "99998       893286511   19   M    student    56567  \n",
        "99999       893286491   19   M    student    56567  "
       ]
      }
     ],
     "prompt_number": 44
    },
    {
     "cell_type": "code",
     "collapsed": false,
     "input": [
      "most_rated = lens.groupby('title').size().order(ascending=False)[:10]\n",
      "print most_rated"
     ],
     "language": "python",
     "metadata": {},
     "outputs": [
      {
       "output_type": "stream",
       "stream": "stdout",
       "text": [
        "title\n",
        "Star Wars (1977)                 583\n",
        "Contact (1997)                   509\n",
        "Fargo (1996)                     508\n",
        "Return of the Jedi (1983)        507\n",
        "Liar Liar (1997)                 485\n",
        "English Patient, The (1996)      481\n",
        "Scream (1996)                    478\n",
        "Toy Story (1995)                 452\n",
        "Air Force One (1997)             431\n",
        "Independence Day (ID4) (1996)    429\n",
        "dtype: int64\n"
       ]
      }
     ],
     "prompt_number": 41
    },
    {
     "cell_type": "code",
     "collapsed": false,
     "input": [
      "lens.title.value_counts()[:10]"
     ],
     "language": "python",
     "metadata": {},
     "outputs": [
      {
       "metadata": {},
       "output_type": "pyout",
       "prompt_number": 46,
       "text": [
        "Star Wars (1977)                 583\n",
        "Contact (1997)                   509\n",
        "Fargo (1996)                     508\n",
        "Return of the Jedi (1983)        507\n",
        "Liar Liar (1997)                 485\n",
        "English Patient, The (1996)      481\n",
        "Scream (1996)                    478\n",
        "Toy Story (1995)                 452\n",
        "Air Force One (1997)             431\n",
        "Independence Day (ID4) (1996)    429\n",
        "dtype: int64"
       ]
      }
     ],
     "prompt_number": 46
    },
    {
     "cell_type": "code",
     "collapsed": false,
     "input": [
      "movie_stats = lens.groupby('title').agg({'rating':[np.size, np.mean, np.median]})\n",
      "movie_stats[:4]"
     ],
     "language": "python",
     "metadata": {},
     "outputs": [
      {
       "html": [
        "<div style=\"max-height:1000px;max-width:1500px;overflow:auto;\">\n",
        "<table border=\"1\" class=\"dataframe\">\n",
        "  <thead>\n",
        "    <tr>\n",
        "      <th></th>\n",
        "      <th colspan=\"3\" halign=\"left\">rating</th>\n",
        "    </tr>\n",
        "    <tr>\n",
        "      <th></th>\n",
        "      <th>size</th>\n",
        "      <th>mean</th>\n",
        "      <th>median</th>\n",
        "    </tr>\n",
        "    <tr>\n",
        "      <th>title</th>\n",
        "      <th></th>\n",
        "      <th></th>\n",
        "      <th></th>\n",
        "    </tr>\n",
        "  </thead>\n",
        "  <tbody>\n",
        "    <tr>\n",
        "      <th>'Til There Was You (1997)</th>\n",
        "      <td>   9</td>\n",
        "      <td> 2.333333</td>\n",
        "      <td> 2</td>\n",
        "    </tr>\n",
        "    <tr>\n",
        "      <th>1-900 (1994)</th>\n",
        "      <td>   5</td>\n",
        "      <td> 2.600000</td>\n",
        "      <td> 3</td>\n",
        "    </tr>\n",
        "    <tr>\n",
        "      <th>101 Dalmatians (1996)</th>\n",
        "      <td> 109</td>\n",
        "      <td> 2.908257</td>\n",
        "      <td> 3</td>\n",
        "    </tr>\n",
        "    <tr>\n",
        "      <th>12 Angry Men (1957)</th>\n",
        "      <td> 125</td>\n",
        "      <td> 4.344000</td>\n",
        "      <td> 4</td>\n",
        "    </tr>\n",
        "  </tbody>\n",
        "</table>\n",
        "</div>"
       ],
       "metadata": {},
       "output_type": "pyout",
       "prompt_number": 136,
       "text": [
        "                          rating                 \n",
        "                            size      mean median\n",
        "title                                            \n",
        "'Til There Was You (1997)      9  2.333333      2\n",
        "1-900 (1994)                   5  2.600000      3\n",
        "101 Dalmatians (1996)        109  2.908257      3\n",
        "12 Angry Men (1957)          125  4.344000      4"
       ]
      }
     ],
     "prompt_number": 136
    },
    {
     "cell_type": "code",
     "collapsed": false,
     "input": [
      "movie_stats.sort([('rating', 'mean')], ascending=False).head()"
     ],
     "language": "python",
     "metadata": {},
     "outputs": [
      {
       "html": [
        "<div style=\"max-height:1000px;max-width:1500px;overflow:auto;\">\n",
        "<table border=\"1\" class=\"dataframe\">\n",
        "  <thead>\n",
        "    <tr>\n",
        "      <th></th>\n",
        "      <th colspan=\"3\" halign=\"left\">rating</th>\n",
        "    </tr>\n",
        "    <tr>\n",
        "      <th></th>\n",
        "      <th>size</th>\n",
        "      <th>mean</th>\n",
        "      <th>median</th>\n",
        "    </tr>\n",
        "    <tr>\n",
        "      <th>title</th>\n",
        "      <th></th>\n",
        "      <th></th>\n",
        "      <th></th>\n",
        "    </tr>\n",
        "  </thead>\n",
        "  <tbody>\n",
        "    <tr>\n",
        "      <th>They Made Me a Criminal (1939)</th>\n",
        "      <td> 1</td>\n",
        "      <td> 5</td>\n",
        "      <td> 5</td>\n",
        "    </tr>\n",
        "    <tr>\n",
        "      <th>Marlene Dietrich: Shadow and Light (1996) </th>\n",
        "      <td> 1</td>\n",
        "      <td> 5</td>\n",
        "      <td> 5</td>\n",
        "    </tr>\n",
        "    <tr>\n",
        "      <th>Saint of Fort Washington, The (1993)</th>\n",
        "      <td> 2</td>\n",
        "      <td> 5</td>\n",
        "      <td> 5</td>\n",
        "    </tr>\n",
        "    <tr>\n",
        "      <th>Someone Else's America (1995)</th>\n",
        "      <td> 1</td>\n",
        "      <td> 5</td>\n",
        "      <td> 5</td>\n",
        "    </tr>\n",
        "    <tr>\n",
        "      <th>Star Kid (1997)</th>\n",
        "      <td> 3</td>\n",
        "      <td> 5</td>\n",
        "      <td> 5</td>\n",
        "    </tr>\n",
        "  </tbody>\n",
        "</table>\n",
        "</div>"
       ],
       "metadata": {},
       "output_type": "pyout",
       "prompt_number": 60,
       "text": [
        "                                           rating            \n",
        "                                             size mean median\n",
        "title                                                        \n",
        "They Made Me a Criminal (1939)                  1    5      5\n",
        "Marlene Dietrich: Shadow and Light (1996)       1    5      5\n",
        "Saint of Fort Washington, The (1993)            2    5      5\n",
        "Someone Else's America (1995)                   1    5      5\n",
        "Star Kid (1997)                                 3    5      5"
       ]
      }
     ],
     "prompt_number": 60
    },
    {
     "cell_type": "code",
     "collapsed": false,
     "input": [
      "movie_stats.sort([('rating', 'size')], ascending=False).head()\n",
      "#note DF use .sort  Series uses .order"
     ],
     "language": "python",
     "metadata": {},
     "outputs": [
      {
       "html": [
        "<div style=\"max-height:1000px;max-width:1500px;overflow:auto;\">\n",
        "<table border=\"1\" class=\"dataframe\">\n",
        "  <thead>\n",
        "    <tr>\n",
        "      <th></th>\n",
        "      <th colspan=\"3\" halign=\"left\">rating</th>\n",
        "    </tr>\n",
        "    <tr>\n",
        "      <th></th>\n",
        "      <th>size</th>\n",
        "      <th>mean</th>\n",
        "      <th>median</th>\n",
        "    </tr>\n",
        "    <tr>\n",
        "      <th>title</th>\n",
        "      <th></th>\n",
        "      <th></th>\n",
        "      <th></th>\n",
        "    </tr>\n",
        "  </thead>\n",
        "  <tbody>\n",
        "    <tr>\n",
        "      <th>Star Wars (1977)</th>\n",
        "      <td> 583</td>\n",
        "      <td> 4.358491</td>\n",
        "      <td> 5</td>\n",
        "    </tr>\n",
        "    <tr>\n",
        "      <th>Contact (1997)</th>\n",
        "      <td> 509</td>\n",
        "      <td> 3.803536</td>\n",
        "      <td> 4</td>\n",
        "    </tr>\n",
        "    <tr>\n",
        "      <th>Fargo (1996)</th>\n",
        "      <td> 508</td>\n",
        "      <td> 4.155512</td>\n",
        "      <td> 4</td>\n",
        "    </tr>\n",
        "    <tr>\n",
        "      <th>Return of the Jedi (1983)</th>\n",
        "      <td> 507</td>\n",
        "      <td> 4.007890</td>\n",
        "      <td> 4</td>\n",
        "    </tr>\n",
        "    <tr>\n",
        "      <th>Liar Liar (1997)</th>\n",
        "      <td> 485</td>\n",
        "      <td> 3.156701</td>\n",
        "      <td> 3</td>\n",
        "    </tr>\n",
        "  </tbody>\n",
        "</table>\n",
        "</div>"
       ],
       "metadata": {},
       "output_type": "pyout",
       "prompt_number": 62,
       "text": [
        "                          rating                 \n",
        "                            size      mean median\n",
        "title                                            \n",
        "Star Wars (1977)             583  4.358491      5\n",
        "Contact (1997)               509  3.803536      4\n",
        "Fargo (1996)                 508  4.155512      4\n",
        "Return of the Jedi (1983)    507  4.007890      4\n",
        "Liar Liar (1997)             485  3.156701      3"
       ]
      }
     ],
     "prompt_number": 62
    },
    {
     "cell_type": "code",
     "collapsed": false,
     "input": [
      "atleast_100 = movie_stats['rating']['size'] >= 100\n",
      "#print movie_stats[atleast_100].sort([('rating', 'mean')], ascending=False)[:15]\n",
      "#atleast_100\n",
      "#movie_stats['rating']['size']\n",
      "#movie_stats['rating'].size\n",
      "atleast_100\n",
      "movie_stats[atleast_100].sort([('rating', 'mean')], ascending=False)[:15]"
     ],
     "language": "python",
     "metadata": {},
     "outputs": [
      {
       "html": [
        "<div style=\"max-height:1000px;max-width:1500px;overflow:auto;\">\n",
        "<table border=\"1\" class=\"dataframe\">\n",
        "  <thead>\n",
        "    <tr>\n",
        "      <th></th>\n",
        "      <th colspan=\"3\" halign=\"left\">rating</th>\n",
        "    </tr>\n",
        "    <tr>\n",
        "      <th></th>\n",
        "      <th>size</th>\n",
        "      <th>mean</th>\n",
        "      <th>median</th>\n",
        "    </tr>\n",
        "    <tr>\n",
        "      <th>title</th>\n",
        "      <th></th>\n",
        "      <th></th>\n",
        "      <th></th>\n",
        "    </tr>\n",
        "  </thead>\n",
        "  <tbody>\n",
        "    <tr>\n",
        "      <th>Close Shave, A (1995)</th>\n",
        "      <td> 112</td>\n",
        "      <td> 4.491071</td>\n",
        "      <td> 5</td>\n",
        "    </tr>\n",
        "    <tr>\n",
        "      <th>Schindler's List (1993)</th>\n",
        "      <td> 298</td>\n",
        "      <td> 4.466443</td>\n",
        "      <td> 5</td>\n",
        "    </tr>\n",
        "    <tr>\n",
        "      <th>Wrong Trousers, The (1993)</th>\n",
        "      <td> 118</td>\n",
        "      <td> 4.466102</td>\n",
        "      <td> 5</td>\n",
        "    </tr>\n",
        "    <tr>\n",
        "      <th>Casablanca (1942)</th>\n",
        "      <td> 243</td>\n",
        "      <td> 4.456790</td>\n",
        "      <td> 5</td>\n",
        "    </tr>\n",
        "    <tr>\n",
        "      <th>Shawshank Redemption, The (1994)</th>\n",
        "      <td> 283</td>\n",
        "      <td> 4.445230</td>\n",
        "      <td> 5</td>\n",
        "    </tr>\n",
        "    <tr>\n",
        "      <th>Rear Window (1954)</th>\n",
        "      <td> 209</td>\n",
        "      <td> 4.387560</td>\n",
        "      <td> 5</td>\n",
        "    </tr>\n",
        "    <tr>\n",
        "      <th>Usual Suspects, The (1995)</th>\n",
        "      <td> 267</td>\n",
        "      <td> 4.385768</td>\n",
        "      <td> 5</td>\n",
        "    </tr>\n",
        "    <tr>\n",
        "      <th>Star Wars (1977)</th>\n",
        "      <td> 583</td>\n",
        "      <td> 4.358491</td>\n",
        "      <td> 5</td>\n",
        "    </tr>\n",
        "    <tr>\n",
        "      <th>12 Angry Men (1957)</th>\n",
        "      <td> 125</td>\n",
        "      <td> 4.344000</td>\n",
        "      <td> 4</td>\n",
        "    </tr>\n",
        "    <tr>\n",
        "      <th>Citizen Kane (1941)</th>\n",
        "      <td> 198</td>\n",
        "      <td> 4.292929</td>\n",
        "      <td> 5</td>\n",
        "    </tr>\n",
        "    <tr>\n",
        "      <th>To Kill a Mockingbird (1962)</th>\n",
        "      <td> 219</td>\n",
        "      <td> 4.292237</td>\n",
        "      <td> 4</td>\n",
        "    </tr>\n",
        "    <tr>\n",
        "      <th>One Flew Over the Cuckoo's Nest (1975)</th>\n",
        "      <td> 264</td>\n",
        "      <td> 4.291667</td>\n",
        "      <td> 4</td>\n",
        "    </tr>\n",
        "    <tr>\n",
        "      <th>Silence of the Lambs, The (1991)</th>\n",
        "      <td> 390</td>\n",
        "      <td> 4.289744</td>\n",
        "      <td> 4</td>\n",
        "    </tr>\n",
        "    <tr>\n",
        "      <th>North by Northwest (1959)</th>\n",
        "      <td> 179</td>\n",
        "      <td> 4.284916</td>\n",
        "      <td> 4</td>\n",
        "    </tr>\n",
        "    <tr>\n",
        "      <th>Godfather, The (1972)</th>\n",
        "      <td> 413</td>\n",
        "      <td> 4.283293</td>\n",
        "      <td> 5</td>\n",
        "    </tr>\n",
        "  </tbody>\n",
        "</table>\n",
        "</div>"
       ],
       "metadata": {},
       "output_type": "pyout",
       "prompt_number": 80,
       "text": [
        "                                       rating                 \n",
        "                                         size      mean median\n",
        "title                                                         \n",
        "Close Shave, A (1995)                     112  4.491071      5\n",
        "Schindler's List (1993)                   298  4.466443      5\n",
        "Wrong Trousers, The (1993)                118  4.466102      5\n",
        "Casablanca (1942)                         243  4.456790      5\n",
        "Shawshank Redemption, The (1994)          283  4.445230      5\n",
        "Rear Window (1954)                        209  4.387560      5\n",
        "Usual Suspects, The (1995)                267  4.385768      5\n",
        "Star Wars (1977)                          583  4.358491      5\n",
        "12 Angry Men (1957)                       125  4.344000      4\n",
        "Citizen Kane (1941)                       198  4.292929      5\n",
        "To Kill a Mockingbird (1962)              219  4.292237      4\n",
        "One Flew Over the Cuckoo's Nest (1975)    264  4.291667      4\n",
        "Silence of the Lambs, The (1991)          390  4.289744      4\n",
        "North by Northwest (1959)                 179  4.284916      4\n",
        "Godfather, The (1972)                     413  4.283293      5"
       ]
      }
     ],
     "prompt_number": 80
    },
    {
     "cell_type": "code",
     "collapsed": false,
     "input": [
      "most_50 = lens.groupby('movie_id').size().order(ascending=False)[:5]\n",
      "most_50\n",
      "users.age"
     ],
     "language": "python",
     "metadata": {},
     "outputs": [
      {
       "metadata": {},
       "output_type": "pyout",
       "prompt_number": 85,
       "text": [
        "movie_id\n",
        "50          583\n",
        "258         509\n",
        "100         508\n",
        "181         507\n",
        "294         485\n",
        "dtype: int64"
       ]
      }
     ],
     "prompt_number": 85
    },
    {
     "cell_type": "code",
     "collapsed": false,
     "input": [
      "users.age.hist(bins=30)\n",
      "plt.title(\"Distribution of users' ages\")\n",
      "plt.ylabel('count of users')\n",
      "plt.xlabel('age');"
     ],
     "language": "python",
     "metadata": {},
     "outputs": [
      {
       "metadata": {},
       "output_type": "display_data",
       "png": "[encoded data removed]",
       "text": [
        "<matplotlib.figure.Figure at 0x1184ccf10>"
       ]
      }
     ],
     "prompt_number": 138
    },
    {
     "cell_type": "code",
     "collapsed": false,
     "input": [
      "users.age.hist()\n",
      "users.age[:11]"
     ],
     "language": "python",
     "metadata": {},
     "outputs": [
      {
       "metadata": {},
       "output_type": "pyout",
       "prompt_number": 94,
       "text": [
        "0     24\n",
        "1     53\n",
        "2     23\n",
        "3     24\n",
        "4     33\n",
        "5     42\n",
        "6     57\n",
        "7     36\n",
        "8     29\n",
        "9     53\n",
        "10    39\n",
        "Name: age, dtype: int64"
       ]
      }
     ],
     "prompt_number": 94
    },
    {
     "cell_type": "code",
     "collapsed": false,
     "input": [
      "labels = ['0-9', '10-19', '20-29', '30-39', '40-49', '50-59', '60-69', '70-79']\n",
      "lens['age_group'] = pd.cut(lens.age, range(0, 81, 10), right=False, labels=labels) #exclusive of upper bounds in each bin\n",
      "lens['age_group']\n",
      "print lens[['age', 'age_group']].drop_duplicates()[:10]\n",
      "#pd.cut() to bin numeric data"
     ],
     "language": "python",
     "metadata": {},
     "outputs": [
      {
       "output_type": "stream",
       "stream": "stdout",
       "text": [
        "      age age_group\n",
        "0      60     60-69\n",
        "397    21     20-29\n",
        "459    33     30-39\n",
        "524    30     30-39\n",
        "782    23     20-29\n",
        "995    29     20-29\n",
        "1229   26     20-29\n",
        "1664   31     30-39\n",
        "1942   24     20-29\n",
        "2270   32     30-39\n"
       ]
      }
     ],
     "prompt_number": 99
    },
    {
     "cell_type": "code",
     "collapsed": false,
     "input": [
      "lens.set_index('movie_id', inplace=True)"
     ],
     "language": "python",
     "metadata": {},
     "outputs": [],
     "prompt_number": 100
    },
    {
     "cell_type": "code",
     "collapsed": false,
     "input": [
      "by_age = lens.ix[most_50.index].groupby(['title', 'age_group'])\n",
      "by_age.rating.mean().head(15)"
     ],
     "language": "python",
     "metadata": {},
     "outputs": [
      {
       "metadata": {},
       "output_type": "pyout",
       "prompt_number": 103,
       "text": [
        "title             age_group\n",
        "Contact (1997)    0-9          5.000000\n",
        "                  10-19        3.693878\n",
        "                  20-29        3.785714\n",
        "                  30-39        3.847458\n",
        "                  40-49        3.866667\n",
        "                  50-59        3.739130\n",
        "                  60-69        3.777778\n",
        "Fargo (1996)      10-19        3.937500\n",
        "                  20-29        4.010471\n",
        "                  30-39        4.230769\n",
        "                  40-49        4.294118\n",
        "                  50-59        4.442308\n",
        "                  60-69        4.000000\n",
        "                  70-79        4.333333\n",
        "Liar Liar (1997)  0-9          4.000000\n",
        "Name: rating, dtype: float64"
       ]
      }
     ],
     "prompt_number": 103
    },
    {
     "cell_type": "code",
     "collapsed": false,
     "input": [
      "by_age.rating.mean().unstack(1).fillna(0)"
     ],
     "language": "python",
     "metadata": {},
     "outputs": [
      {
       "html": [
        "<div style=\"max-height:1000px;max-width:1500px;overflow:auto;\">\n",
        "<table border=\"1\" class=\"dataframe\">\n",
        "  <thead>\n",
        "    <tr style=\"text-align: right;\">\n",
        "      <th>age_group</th>\n",
        "      <th>0-9</th>\n",
        "      <th>10-19</th>\n",
        "      <th>20-29</th>\n",
        "      <th>30-39</th>\n",
        "      <th>40-49</th>\n",
        "      <th>50-59</th>\n",
        "      <th>60-69</th>\n",
        "      <th>70-79</th>\n",
        "    </tr>\n",
        "    <tr>\n",
        "      <th>title</th>\n",
        "      <th></th>\n",
        "      <th></th>\n",
        "      <th></th>\n",
        "      <th></th>\n",
        "      <th></th>\n",
        "      <th></th>\n",
        "      <th></th>\n",
        "      <th></th>\n",
        "    </tr>\n",
        "  </thead>\n",
        "  <tbody>\n",
        "    <tr>\n",
        "      <th>Contact (1997)</th>\n",
        "      <td> 5</td>\n",
        "      <td> 3.693878</td>\n",
        "      <td> 3.785714</td>\n",
        "      <td> 3.847458</td>\n",
        "      <td> 3.866667</td>\n",
        "      <td> 3.739130</td>\n",
        "      <td> 3.777778</td>\n",
        "      <td> 0.000000</td>\n",
        "    </tr>\n",
        "    <tr>\n",
        "      <th>Fargo (1996)</th>\n",
        "      <td> 0</td>\n",
        "      <td> 3.937500</td>\n",
        "      <td> 4.010471</td>\n",
        "      <td> 4.230769</td>\n",
        "      <td> 4.294118</td>\n",
        "      <td> 4.442308</td>\n",
        "      <td> 4.000000</td>\n",
        "      <td> 4.333333</td>\n",
        "    </tr>\n",
        "    <tr>\n",
        "      <th>Liar Liar (1997)</th>\n",
        "      <td> 4</td>\n",
        "      <td> 3.191489</td>\n",
        "      <td> 3.321244</td>\n",
        "      <td> 3.080645</td>\n",
        "      <td> 2.916667</td>\n",
        "      <td> 3.000000</td>\n",
        "      <td> 3.100000</td>\n",
        "      <td> 2.000000</td>\n",
        "    </tr>\n",
        "    <tr>\n",
        "      <th>Return of the Jedi (1983)</th>\n",
        "      <td> 4</td>\n",
        "      <td> 4.488372</td>\n",
        "      <td> 4.067308</td>\n",
        "      <td> 3.805970</td>\n",
        "      <td> 4.000000</td>\n",
        "      <td> 4.000000</td>\n",
        "      <td> 3.333333</td>\n",
        "      <td> 5.000000</td>\n",
        "    </tr>\n",
        "    <tr>\n",
        "      <th>Star Wars (1977)</th>\n",
        "      <td> 3</td>\n",
        "      <td> 4.630435</td>\n",
        "      <td> 4.413043</td>\n",
        "      <td> 4.305732</td>\n",
        "      <td> 4.166667</td>\n",
        "      <td> 4.469388</td>\n",
        "      <td> 4.000000</td>\n",
        "      <td> 4.000000</td>\n",
        "    </tr>\n",
        "  </tbody>\n",
        "</table>\n",
        "</div>"
       ],
       "metadata": {},
       "output_type": "pyout",
       "prompt_number": 109,
       "text": [
        "age_group                  0-9     10-19     20-29     30-39     40-49  \\\n",
        "title                                                                    \n",
        "Contact (1997)               5  3.693878  3.785714  3.847458  3.866667   \n",
        "Fargo (1996)                 0  3.937500  4.010471  4.230769  4.294118   \n",
        "Liar Liar (1997)             4  3.191489  3.321244  3.080645  2.916667   \n",
        "Return of the Jedi (1983)    4  4.488372  4.067308  3.805970  4.000000   \n",
        "Star Wars (1977)             3  4.630435  4.413043  4.305732  4.166667   \n",
        "\n",
        "age_group                     50-59     60-69     70-79  \n",
        "title                                                    \n",
        "Contact (1997)             3.739130  3.777778  0.000000  \n",
        "Fargo (1996)               4.442308  4.000000  4.333333  \n",
        "Liar Liar (1997)           3.000000  3.100000  2.000000  \n",
        "Return of the Jedi (1983)  4.000000  3.333333  5.000000  \n",
        "Star Wars (1977)           4.469388  4.000000  4.000000  "
       ]
      }
     ],
     "prompt_number": 109
    },
    {
     "cell_type": "code",
     "collapsed": false,
     "input": [
      "lens.reset_index('movie_id', inplace=True)"
     ],
     "language": "python",
     "metadata": {},
     "outputs": [],
     "prompt_number": 110
    },
    {
     "cell_type": "code",
     "collapsed": false,
     "input": [
      "pivoted = lens.pivot_table(index=['movie_id', 'title'],\n",
      "                           cols=['sex'],\n",
      "                           values='rating',\n",
      "                           fill_value=0)\n",
      "print pivoted.head()"
     ],
     "language": "python",
     "metadata": {},
     "outputs": [
      {
       "output_type": "stream",
       "stream": "stdout",
       "text": [
        "sex                                F         M\n",
        "movie_id title                                \n",
        "1        Toy Story (1995)   3.789916  3.909910\n",
        "2        GoldenEye (1995)   3.368421  3.178571\n",
        "3        Four Rooms (1995)  2.687500  3.108108\n",
        "4        Get Shorty (1995)  3.400000  3.591463\n",
        "5        Copycat (1995)     3.772727  3.140625\n"
       ]
      }
     ],
     "prompt_number": 112
    },
    {
     "cell_type": "code",
     "collapsed": false,
     "input": [
      "pivoted['diff'] = pivoted.M - pivoted.F\n",
      "print pivoted.head()"
     ],
     "language": "python",
     "metadata": {},
     "outputs": [
      {
       "output_type": "stream",
       "stream": "stdout",
       "text": [
        "sex                                F         M      diff\n",
        "movie_id title                                          \n",
        "1        Toy Story (1995)   3.789916  3.909910  0.119994\n",
        "2        GoldenEye (1995)   3.368421  3.178571 -0.189850\n",
        "3        Four Rooms (1995)  2.687500  3.108108  0.420608\n",
        "4        Get Shorty (1995)  3.400000  3.591463  0.191463\n",
        "5        Copycat (1995)     3.772727  3.140625 -0.632102\n"
       ]
      }
     ],
     "prompt_number": 113
    },
    {
     "cell_type": "code",
     "collapsed": false,
     "input": [
      "pivoted.reset_index('movie_id', inplace=True)"
     ],
     "language": "python",
     "metadata": {},
     "outputs": [],
     "prompt_number": 114
    },
    {
     "cell_type": "code",
     "collapsed": false,
     "input": [
      "disagreements = pivoted[pivoted.movie_id.isin(most_50.index)]['diff']\n",
      "disagreements.order().plot(kind='barh', figsize=[9, 15])\n",
      "plt.title('Male vs. Female Avg. Ratings\\n(Difference > 0 = Favored by Men)')\n",
      "plt.ylabel('Title')\n",
      "plt.xlabel('Average Rating Difference');"
     ],
     "language": "python",
     "metadata": {},
     "outputs": [
      {
       "metadata": {},
       "output_type": "display_data",
       "png": "[encoded data removed]",
       "text": [
        "<matplotlib.figure.Figure at 0x1184c3790>"
       ]
      }
     ],
     "prompt_number": 137
    },
    {
     "cell_type": "code",
     "collapsed": false,
     "input": [
      "SALES=pd.read_csv(\"sample-salesv2.csv\")\n",
      "SALES.head()"
     ],
     "language": "python",
     "metadata": {},
     "outputs": [
      {
       "html": [
        "<div style=\"max-height:1000px;max-width:1500px;overflow:auto;\">\n",
        "<table border=\"1\" class=\"dataframe\">\n",
        "  <thead>\n",
        "    <tr style=\"text-align: right;\">\n",
        "      <th></th>\n",
        "      <th>account number</th>\n",
        "      <th>name</th>\n",
        "      <th>sku</th>\n",
        "      <th>category</th>\n",
        "      <th>quantity</th>\n",
        "      <th>unit price</th>\n",
        "      <th>ext price</th>\n",
        "      <th>date</th>\n",
        "    </tr>\n",
        "  </thead>\n",
        "  <tbody>\n",
        "    <tr>\n",
        "      <th>0</th>\n",
        "      <td> 296809</td>\n",
        "      <td>                   Carroll PLC</td>\n",
        "      <td> QN-82852</td>\n",
        "      <td>  Belt</td>\n",
        "      <td> 13</td>\n",
        "      <td> 44.48</td>\n",
        "      <td>  578.24</td>\n",
        "      <td> 2014-09-27 07:13:03</td>\n",
        "    </tr>\n",
        "    <tr>\n",
        "      <th>1</th>\n",
        "      <td>  98022</td>\n",
        "      <td>             Heidenreich-Bosco</td>\n",
        "      <td> MJ-21460</td>\n",
        "      <td> Shoes</td>\n",
        "      <td> 19</td>\n",
        "      <td> 53.62</td>\n",
        "      <td> 1018.78</td>\n",
        "      <td> 2014-07-29 02:10:44</td>\n",
        "    </tr>\n",
        "    <tr>\n",
        "      <th>2</th>\n",
        "      <td> 563905</td>\n",
        "      <td> Kerluke, Reilly and Bechtelar</td>\n",
        "      <td> AS-93055</td>\n",
        "      <td> Shirt</td>\n",
        "      <td> 12</td>\n",
        "      <td> 24.16</td>\n",
        "      <td>  289.92</td>\n",
        "      <td> 2014-03-01 10:51:24</td>\n",
        "    </tr>\n",
        "    <tr>\n",
        "      <th>3</th>\n",
        "      <td>  93356</td>\n",
        "      <td>                 Waters-Walker</td>\n",
        "      <td> AS-93055</td>\n",
        "      <td> Shirt</td>\n",
        "      <td>  5</td>\n",
        "      <td> 82.68</td>\n",
        "      <td>  413.40</td>\n",
        "      <td> 2013-11-17 20:41:11</td>\n",
        "    </tr>\n",
        "    <tr>\n",
        "      <th>4</th>\n",
        "      <td> 659366</td>\n",
        "      <td>                 Waelchi-Fahey</td>\n",
        "      <td> AS-93055</td>\n",
        "      <td> Shirt</td>\n",
        "      <td> 18</td>\n",
        "      <td> 99.64</td>\n",
        "      <td> 1793.52</td>\n",
        "      <td> 2014-01-03 08:14:27</td>\n",
        "    </tr>\n",
        "  </tbody>\n",
        "</table>\n",
        "</div>"
       ],
       "metadata": {},
       "output_type": "pyout",
       "prompt_number": 118,
       "text": [
        "   account number                           name       sku category  quantity  \\\n",
        "0          296809                    Carroll PLC  QN-82852     Belt        13   \n",
        "1           98022              Heidenreich-Bosco  MJ-21460    Shoes        19   \n",
        "2          563905  Kerluke, Reilly and Bechtelar  AS-93055    Shirt        12   \n",
        "3           93356                  Waters-Walker  AS-93055    Shirt         5   \n",
        "4          659366                  Waelchi-Fahey  AS-93055    Shirt        18   \n",
        "\n",
        "   unit price  ext price                 date  \n",
        "0       44.48     578.24  2014-09-27 07:13:03  \n",
        "1       53.62    1018.78  2014-07-29 02:10:44  \n",
        "2       24.16     289.92  2014-03-01 10:51:24  \n",
        "3       82.68     413.40  2013-11-17 20:41:11  \n",
        "4       99.64    1793.52  2014-01-03 08:14:27  "
       ]
      }
     ],
     "prompt_number": 118
    },
    {
     "cell_type": "code",
     "collapsed": false,
     "input": [
      "report1 = SALES.pivot_table(values=['quantity'],index=['name'],columns=['category'], aggfunc=[np.sum])\n",
      "report = SALES.pivot_table(values=['quantity'],index=['name'],columns=['category'], aggfunc=[np.sum, np.mean, np.median])\n",
      "report1.head(n=10)"
     ],
     "language": "python",
     "metadata": {},
     "outputs": [
      {
       "html": [
        "<div style=\"max-height:1000px;max-width:1500px;overflow:auto;\">\n",
        "<table border=\"1\" class=\"dataframe\">\n",
        "  <thead>\n",
        "    <tr>\n",
        "      <th></th>\n",
        "      <th colspan=\"3\" halign=\"left\">sum</th>\n",
        "    </tr>\n",
        "    <tr>\n",
        "      <th></th>\n",
        "      <th colspan=\"3\" halign=\"left\">quantity</th>\n",
        "    </tr>\n",
        "    <tr>\n",
        "      <th>category</th>\n",
        "      <th>Belt</th>\n",
        "      <th>Shirt</th>\n",
        "      <th>Shoes</th>\n",
        "    </tr>\n",
        "    <tr>\n",
        "      <th>name</th>\n",
        "      <th></th>\n",
        "      <th></th>\n",
        "      <th></th>\n",
        "    </tr>\n",
        "  </thead>\n",
        "  <tbody>\n",
        "    <tr>\n",
        "      <th>Berge LLC</th>\n",
        "      <td> 120</td>\n",
        "      <td> 166</td>\n",
        "      <td> 236</td>\n",
        "    </tr>\n",
        "    <tr>\n",
        "      <th>Carroll PLC</th>\n",
        "      <td> 184</td>\n",
        "      <td> 257</td>\n",
        "      <td> 236</td>\n",
        "    </tr>\n",
        "    <tr>\n",
        "      <th>Cole-Eichmann</th>\n",
        "      <td> 147</td>\n",
        "      <td> 236</td>\n",
        "      <td> 155</td>\n",
        "    </tr>\n",
        "    <tr>\n",
        "      <th>Davis, Kshlerin and Reilly</th>\n",
        "      <td>  33</td>\n",
        "      <td> 161</td>\n",
        "      <td> 185</td>\n",
        "    </tr>\n",
        "    <tr>\n",
        "      <th>Ernser, Cruickshank and Lind</th>\n",
        "      <td>  97</td>\n",
        "      <td> 262</td>\n",
        "      <td>  96</td>\n",
        "    </tr>\n",
        "    <tr>\n",
        "      <th>Gorczany-Hahn</th>\n",
        "      <td> 103</td>\n",
        "      <td> 237</td>\n",
        "      <td> 100</td>\n",
        "    </tr>\n",
        "    <tr>\n",
        "      <th>Hamill-Hackett</th>\n",
        "      <td>  32</td>\n",
        "      <td> 148</td>\n",
        "      <td> 239</td>\n",
        "    </tr>\n",
        "    <tr>\n",
        "      <th>Hegmann and Sons</th>\n",
        "      <td>  88</td>\n",
        "      <td> 278</td>\n",
        "      <td> 240</td>\n",
        "    </tr>\n",
        "    <tr>\n",
        "      <th>Heidenreich-Bosco</th>\n",
        "      <td> 106</td>\n",
        "      <td>  92</td>\n",
        "      <td> 233</td>\n",
        "    </tr>\n",
        "    <tr>\n",
        "      <th>Huel-Haag</th>\n",
        "      <td>  43</td>\n",
        "      <td> 200</td>\n",
        "      <td> 115</td>\n",
        "    </tr>\n",
        "  </tbody>\n",
        "</table>\n",
        "</div>"
       ],
       "metadata": {},
       "output_type": "pyout",
       "prompt_number": 125,
       "text": [
        "                                  sum            \n",
        "                             quantity            \n",
        "category                         Belt Shirt Shoes\n",
        "name                                             \n",
        "Berge LLC                         120   166   236\n",
        "Carroll PLC                       184   257   236\n",
        "Cole-Eichmann                     147   236   155\n",
        "Davis, Kshlerin and Reilly         33   161   185\n",
        "Ernser, Cruickshank and Lind       97   262    96\n",
        "Gorczany-Hahn                     103   237   100\n",
        "Hamill-Hackett                     32   148   239\n",
        "Hegmann and Sons                   88   278   240\n",
        "Heidenreich-Bosco                 106    92   233\n",
        "Huel-Haag                          43   200   115"
       ]
      }
     ],
     "prompt_number": 125
    },
    {
     "cell_type": "code",
     "collapsed": false,
     "input": [
      "report = SALES.pivot_table(values=['ext price','quantity'],index=['name'],columns=['category'], aggfunc=[np.sum])\n",
      "report[:2]"
     ],
     "language": "python",
     "metadata": {},
     "outputs": [
      {
       "html": [
        "<div style=\"max-height:1000px;max-width:1500px;overflow:auto;\">\n",
        "<table border=\"1\" class=\"dataframe\">\n",
        "  <thead>\n",
        "    <tr>\n",
        "      <th></th>\n",
        "      <th colspan=\"6\" halign=\"left\">sum</th>\n",
        "    </tr>\n",
        "    <tr>\n",
        "      <th></th>\n",
        "      <th colspan=\"3\" halign=\"left\">ext price</th>\n",
        "      <th colspan=\"3\" halign=\"left\">quantity</th>\n",
        "    </tr>\n",
        "    <tr>\n",
        "      <th>category</th>\n",
        "      <th>Belt</th>\n",
        "      <th>Shirt</th>\n",
        "      <th>Shoes</th>\n",
        "      <th>Belt</th>\n",
        "      <th>Shirt</th>\n",
        "      <th>Shoes</th>\n",
        "    </tr>\n",
        "    <tr>\n",
        "      <th>name</th>\n",
        "      <th></th>\n",
        "      <th></th>\n",
        "      <th></th>\n",
        "      <th></th>\n",
        "      <th></th>\n",
        "      <th></th>\n",
        "    </tr>\n",
        "  </thead>\n",
        "  <tbody>\n",
        "    <tr>\n",
        "      <th>Berge LLC</th>\n",
        "      <td> 6033.53</td>\n",
        "      <td>  9670.24</td>\n",
        "      <td> 14361.10</td>\n",
        "      <td> 120</td>\n",
        "      <td> 166</td>\n",
        "      <td> 236</td>\n",
        "    </tr>\n",
        "    <tr>\n",
        "      <th>Carroll PLC</th>\n",
        "      <td> 9359.26</td>\n",
        "      <td> 13717.61</td>\n",
        "      <td> 12857.44</td>\n",
        "      <td> 184</td>\n",
        "      <td> 257</td>\n",
        "      <td> 236</td>\n",
        "    </tr>\n",
        "  </tbody>\n",
        "</table>\n",
        "</div>"
       ],
       "metadata": {},
       "output_type": "pyout",
       "prompt_number": 139,
       "text": [
        "                  sum                                         \n",
        "            ext price                     quantity            \n",
        "category         Belt     Shirt     Shoes     Belt Shirt Shoes\n",
        "name                                                          \n",
        "Berge LLC     6033.53   9670.24  14361.10      120   166   236\n",
        "Carroll PLC   9359.26  13717.61  12857.44      184   257   236"
       ]
      }
     ],
     "prompt_number": 139
    },
    {
     "cell_type": "code",
     "collapsed": false,
     "input": [
      "sales=pd.read_csv(\"sample-salesv2.csv\",parse_dates=['date'])\n",
      "sales.head()"
     ],
     "language": "python",
     "metadata": {},
     "outputs": [
      {
       "html": [
        "<div style=\"max-height:1000px;max-width:1500px;overflow:auto;\">\n",
        "<table border=\"1\" class=\"dataframe\">\n",
        "  <thead>\n",
        "    <tr style=\"text-align: right;\">\n",
        "      <th></th>\n",
        "      <th>account number</th>\n",
        "      <th>name</th>\n",
        "      <th>sku</th>\n",
        "      <th>category</th>\n",
        "      <th>quantity</th>\n",
        "      <th>unit price</th>\n",
        "      <th>ext price</th>\n",
        "      <th>date</th>\n",
        "    </tr>\n",
        "  </thead>\n",
        "  <tbody>\n",
        "    <tr>\n",
        "      <th>0</th>\n",
        "      <td> 296809</td>\n",
        "      <td>                   Carroll PLC</td>\n",
        "      <td> QN-82852</td>\n",
        "      <td>  Belt</td>\n",
        "      <td> 13</td>\n",
        "      <td> 44.48</td>\n",
        "      <td>  578.24</td>\n",
        "      <td>2014-09-27 07:13:03</td>\n",
        "    </tr>\n",
        "    <tr>\n",
        "      <th>1</th>\n",
        "      <td>  98022</td>\n",
        "      <td>             Heidenreich-Bosco</td>\n",
        "      <td> MJ-21460</td>\n",
        "      <td> Shoes</td>\n",
        "      <td> 19</td>\n",
        "      <td> 53.62</td>\n",
        "      <td> 1018.78</td>\n",
        "      <td>2014-07-29 02:10:44</td>\n",
        "    </tr>\n",
        "    <tr>\n",
        "      <th>2</th>\n",
        "      <td> 563905</td>\n",
        "      <td> Kerluke, Reilly and Bechtelar</td>\n",
        "      <td> AS-93055</td>\n",
        "      <td> Shirt</td>\n",
        "      <td> 12</td>\n",
        "      <td> 24.16</td>\n",
        "      <td>  289.92</td>\n",
        "      <td>2014-03-01 10:51:24</td>\n",
        "    </tr>\n",
        "    <tr>\n",
        "      <th>3</th>\n",
        "      <td>  93356</td>\n",
        "      <td>                 Waters-Walker</td>\n",
        "      <td> AS-93055</td>\n",
        "      <td> Shirt</td>\n",
        "      <td>  5</td>\n",
        "      <td> 82.68</td>\n",
        "      <td>  413.40</td>\n",
        "      <td>2013-11-17 20:41:11</td>\n",
        "    </tr>\n",
        "    <tr>\n",
        "      <th>4</th>\n",
        "      <td> 659366</td>\n",
        "      <td>                 Waelchi-Fahey</td>\n",
        "      <td> AS-93055</td>\n",
        "      <td> Shirt</td>\n",
        "      <td> 18</td>\n",
        "      <td> 99.64</td>\n",
        "      <td> 1793.52</td>\n",
        "      <td>2014-01-03 08:14:27</td>\n",
        "    </tr>\n",
        "  </tbody>\n",
        "</table>\n",
        "</div>"
       ],
       "metadata": {},
       "output_type": "pyout",
       "prompt_number": 140,
       "text": [
        "   account number                           name       sku category  quantity  \\\n",
        "0          296809                    Carroll PLC  QN-82852     Belt        13   \n",
        "1           98022              Heidenreich-Bosco  MJ-21460    Shoes        19   \n",
        "2          563905  Kerluke, Reilly and Bechtelar  AS-93055    Shirt        12   \n",
        "3           93356                  Waters-Walker  AS-93055    Shirt         5   \n",
        "4          659366                  Waelchi-Fahey  AS-93055    Shirt        18   \n",
        "\n",
        "   unit price  ext price                date  \n",
        "0       44.48     578.24 2014-09-27 07:13:03  \n",
        "1       53.62    1018.78 2014-07-29 02:10:44  \n",
        "2       24.16     289.92 2014-03-01 10:51:24  \n",
        "3       82.68     413.40 2013-11-17 20:41:11  \n",
        "4       99.64    1793.52 2014-01-03 08:14:27  "
       ]
      }
     ],
     "prompt_number": 140
    },
    {
     "cell_type": "code",
     "collapsed": false,
     "input": [
      "#sales['ext price'] = sales['total price']\n",
      "#sales.columns\n",
      "#sales = sales.rename(['account number', 'name', 'sku', 'category', 'quantity', 'unit price', 'total price', 'date'])"
     ],
     "language": "python",
     "metadata": {},
     "outputs": [],
     "prompt_number": 146
    },
    {
     "cell_type": "code",
     "collapsed": false,
     "input": [
      "customers = sales[['name','ext price','date']]\n",
      "customers.head()"
     ],
     "language": "python",
     "metadata": {},
     "outputs": [
      {
       "html": [
        "<div style=\"max-height:1000px;max-width:1500px;overflow:auto;\">\n",
        "<table border=\"1\" class=\"dataframe\">\n",
        "  <thead>\n",
        "    <tr style=\"text-align: right;\">\n",
        "      <th></th>\n",
        "      <th>name</th>\n",
        "      <th>ext price</th>\n",
        "      <th>date</th>\n",
        "    </tr>\n",
        "  </thead>\n",
        "  <tbody>\n",
        "    <tr>\n",
        "      <th>0</th>\n",
        "      <td>                   Carroll PLC</td>\n",
        "      <td>  578.24</td>\n",
        "      <td>2014-09-27 07:13:03</td>\n",
        "    </tr>\n",
        "    <tr>\n",
        "      <th>1</th>\n",
        "      <td>             Heidenreich-Bosco</td>\n",
        "      <td> 1018.78</td>\n",
        "      <td>2014-07-29 02:10:44</td>\n",
        "    </tr>\n",
        "    <tr>\n",
        "      <th>2</th>\n",
        "      <td> Kerluke, Reilly and Bechtelar</td>\n",
        "      <td>  289.92</td>\n",
        "      <td>2014-03-01 10:51:24</td>\n",
        "    </tr>\n",
        "    <tr>\n",
        "      <th>3</th>\n",
        "      <td>                 Waters-Walker</td>\n",
        "      <td>  413.40</td>\n",
        "      <td>2013-11-17 20:41:11</td>\n",
        "    </tr>\n",
        "    <tr>\n",
        "      <th>4</th>\n",
        "      <td>                 Waelchi-Fahey</td>\n",
        "      <td> 1793.52</td>\n",
        "      <td>2014-01-03 08:14:27</td>\n",
        "    </tr>\n",
        "  </tbody>\n",
        "</table>\n",
        "</div>"
       ],
       "metadata": {},
       "output_type": "pyout",
       "prompt_number": 147,
       "text": [
        "                            name  ext price                date\n",
        "0                    Carroll PLC     578.24 2014-09-27 07:13:03\n",
        "1              Heidenreich-Bosco    1018.78 2014-07-29 02:10:44\n",
        "2  Kerluke, Reilly and Bechtelar     289.92 2014-03-01 10:51:24\n",
        "3                  Waters-Walker     413.40 2013-11-17 20:41:11\n",
        "4                  Waelchi-Fahey    1793.52 2014-01-03 08:14:27"
       ]
      }
     ],
     "prompt_number": 147
    },
    {
     "cell_type": "code",
     "collapsed": false,
     "input": [
      "customer_group = customers.groupby('name')\n",
      "customer_group.size()[:6]"
     ],
     "language": "python",
     "metadata": {},
     "outputs": [
      {
       "metadata": {},
       "output_type": "pyout",
       "prompt_number": 153,
       "text": [
        "name\n",
        "Berge LLC                       52\n",
        "Carroll PLC                     57\n",
        "Cole-Eichmann                   51\n",
        "Davis, Kshlerin and Reilly      41\n",
        "Ernser, Cruickshank and Lind    47\n",
        "Gorczany-Hahn                   42\n",
        "dtype: int64"
       ]
      }
     ],
     "prompt_number": 153
    },
    {
     "cell_type": "code",
     "collapsed": false,
     "input": [
      "sales_totals5 = customer_group.sum().sort(columns='ext price').head()\n",
      "\n",
      "sales_totals = customer_group.sum().sort(columns='ext price')\n",
      "sales_totals[:2]"
     ],
     "language": "python",
     "metadata": {},
     "outputs": [
      {
       "html": [
        "<div style=\"max-height:1000px;max-width:1500px;overflow:auto;\">\n",
        "<table border=\"1\" class=\"dataframe\">\n",
        "  <thead>\n",
        "    <tr style=\"text-align: right;\">\n",
        "      <th></th>\n",
        "      <th>ext price</th>\n",
        "    </tr>\n",
        "    <tr>\n",
        "      <th>name</th>\n",
        "      <th></th>\n",
        "    </tr>\n",
        "  </thead>\n",
        "  <tbody>\n",
        "    <tr>\n",
        "      <th>Davis, Kshlerin and Reilly</th>\n",
        "      <td> 19054.76</td>\n",
        "    </tr>\n",
        "    <tr>\n",
        "      <th>Huel-Haag</th>\n",
        "      <td> 21087.88</td>\n",
        "    </tr>\n",
        "  </tbody>\n",
        "</table>\n",
        "</div>"
       ],
       "metadata": {},
       "output_type": "pyout",
       "prompt_number": 180,
       "text": [
        "                            ext price\n",
        "name                                 \n",
        "Davis, Kshlerin and Reilly   19054.76\n",
        "Huel-Haag                    21087.88"
       ]
      }
     ],
     "prompt_number": 180
    },
    {
     "cell_type": "code",
     "collapsed": false,
     "input": [
      "my_plot = sales_totals.plot(kind='bar')\n"
     ],
     "language": "python",
     "metadata": {},
     "outputs": [
      {
       "metadata": {},
       "output_type": "display_data",
       "png": "[encoded data removed]",
       "text": [
        "<matplotlib.figure.Figure at 0x11869a1d0>"
       ]
      }
     ],
     "prompt_number": 163
    },
    {
     "cell_type": "code",
     "collapsed": false,
     "input": [
      "sales_totals5.plot(kind='barh')"
     ],
     "language": "python",
     "metadata": {},
     "outputs": [
      {
       "metadata": {},
       "output_type": "pyout",
       "prompt_number": 169,
       "text": [
        "<matplotlib.axes._subplots.AxesSubplot at 0x119f92d10>"
       ]
      },
      {
       "metadata": {},
       "output_type": "display_data",
       "png": "[encoded data removed]",
       "text": [
        "<matplotlib.figure.Figure at 0x119fb0690>"
       ]
      }
     ],
     "prompt_number": 169
    },
    {
     "cell_type": "code",
     "collapsed": false,
     "input": [
      "sales_totals5.plot(kind='pie', subplots=True)"
     ],
     "language": "python",
     "metadata": {},
     "outputs": [
      {
       "metadata": {},
       "output_type": "pyout",
       "prompt_number": 171,
       "text": [
        "array([<matplotlib.axes._subplots.AxesSubplot object at 0x119d1c690>], dtype=object)"
       ]
      },
      {
       "metadata": {},
       "output_type": "display_data",
       "png": "[encoded data removed]",
       "text": [
        "<matplotlib.figure.Figure at 0x118b7be50>"
       ]
      }
     ],
     "prompt_number": 171
    },
    {
     "cell_type": "code",
     "collapsed": false,
     "input": [
      "my_plot = sales_totals.sort(columns='ext price',ascending=True).plot(kind='barh', legend=None, title=\"Total Sales by Customer\")\n",
      "my_plot.set_xlabel(\"Customers\")\n",
      "my_plot.set_ylabel(\"Sales ($)\")"
     ],
     "language": "python",
     "metadata": {},
     "outputs": [
      {
       "metadata": {},
       "output_type": "pyout",
       "prompt_number": 175,
       "text": [
        "<matplotlib.text.Text at 0x11ad4bb90>"
       ]
      },
      {
       "metadata": {},
       "output_type": "display_data",
       "png": "[encoded data removed]",
       "text": [
        "<matplotlib.figure.Figure at 0x11aabbf90>"
       ]
      }
     ],
     "prompt_number": 175
    },
    {
     "cell_type": "code",
     "collapsed": false,
     "input": [
      "my_plot = sales_totals5.sort(columns='ext price',ascending=True).plot(kind='pie', legend=None, title=\"Total Sales by Customer\", x='ext price', y='ext price')"
     ],
     "language": "python",
     "metadata": {},
     "outputs": [
      {
       "metadata": {},
       "output_type": "display_data",
       "png": "[encoded data removed]",
       "text": [
        "<matplotlib.figure.Figure at 0x11afa2b90>"
       ]
      }
     ],
     "prompt_number": 183
    },
    {
     "cell_type": "code",
     "collapsed": false,
     "input": [
      "customers = sales[['name','category','ext price','date']]\n",
      "customers.head()"
     ],
     "language": "python",
     "metadata": {},
     "outputs": [
      {
       "html": [
        "<div style=\"max-height:1000px;max-width:1500px;overflow:auto;\">\n",
        "<table border=\"1\" class=\"dataframe\">\n",
        "  <thead>\n",
        "    <tr style=\"text-align: right;\">\n",
        "      <th></th>\n",
        "      <th>name</th>\n",
        "      <th>category</th>\n",
        "      <th>ext price</th>\n",
        "      <th>date</th>\n",
        "    </tr>\n",
        "  </thead>\n",
        "  <tbody>\n",
        "    <tr>\n",
        "      <th>0</th>\n",
        "      <td>                   Carroll PLC</td>\n",
        "      <td>  Belt</td>\n",
        "      <td>  578.24</td>\n",
        "      <td>2014-09-27 07:13:03</td>\n",
        "    </tr>\n",
        "    <tr>\n",
        "      <th>1</th>\n",
        "      <td>             Heidenreich-Bosco</td>\n",
        "      <td> Shoes</td>\n",
        "      <td> 1018.78</td>\n",
        "      <td>2014-07-29 02:10:44</td>\n",
        "    </tr>\n",
        "    <tr>\n",
        "      <th>2</th>\n",
        "      <td> Kerluke, Reilly and Bechtelar</td>\n",
        "      <td> Shirt</td>\n",
        "      <td>  289.92</td>\n",
        "      <td>2014-03-01 10:51:24</td>\n",
        "    </tr>\n",
        "    <tr>\n",
        "      <th>3</th>\n",
        "      <td>                 Waters-Walker</td>\n",
        "      <td> Shirt</td>\n",
        "      <td>  413.40</td>\n",
        "      <td>2013-11-17 20:41:11</td>\n",
        "    </tr>\n",
        "    <tr>\n",
        "      <th>4</th>\n",
        "      <td>                 Waelchi-Fahey</td>\n",
        "      <td> Shirt</td>\n",
        "      <td> 1793.52</td>\n",
        "      <td>2014-01-03 08:14:27</td>\n",
        "    </tr>\n",
        "  </tbody>\n",
        "</table>\n",
        "</div>"
       ],
       "metadata": {},
       "output_type": "pyout",
       "prompt_number": 184,
       "text": [
        "                            name category  ext price                date\n",
        "0                    Carroll PLC     Belt     578.24 2014-09-27 07:13:03\n",
        "1              Heidenreich-Bosco    Shoes    1018.78 2014-07-29 02:10:44\n",
        "2  Kerluke, Reilly and Bechtelar    Shirt     289.92 2014-03-01 10:51:24\n",
        "3                  Waters-Walker    Shirt     413.40 2013-11-17 20:41:11\n",
        "4                  Waelchi-Fahey    Shirt    1793.52 2014-01-03 08:14:27"
       ]
      }
     ],
     "prompt_number": 184
    },
    {
     "cell_type": "code",
     "collapsed": false,
     "input": [
      "category_group=customers.groupby(['name','category']).sum()\n",
      "category_group.head()"
     ],
     "language": "python",
     "metadata": {},
     "outputs": [
      {
       "html": [
        "<div style=\"max-height:1000px;max-width:1500px;overflow:auto;\">\n",
        "<table border=\"1\" class=\"dataframe\">\n",
        "  <thead>\n",
        "    <tr style=\"text-align: right;\">\n",
        "      <th></th>\n",
        "      <th></th>\n",
        "      <th>ext price</th>\n",
        "    </tr>\n",
        "    <tr>\n",
        "      <th>name</th>\n",
        "      <th>category</th>\n",
        "      <th></th>\n",
        "    </tr>\n",
        "  </thead>\n",
        "  <tbody>\n",
        "    <tr>\n",
        "      <th rowspan=\"3\" valign=\"top\">Berge LLC</th>\n",
        "      <th>Belt</th>\n",
        "      <td>  6033.53</td>\n",
        "    </tr>\n",
        "    <tr>\n",
        "      <th>Shirt</th>\n",
        "      <td>  9670.24</td>\n",
        "    </tr>\n",
        "    <tr>\n",
        "      <th>Shoes</th>\n",
        "      <td> 14361.10</td>\n",
        "    </tr>\n",
        "    <tr>\n",
        "      <th rowspan=\"2\" valign=\"top\">Carroll PLC</th>\n",
        "      <th>Belt</th>\n",
        "      <td>  9359.26</td>\n",
        "    </tr>\n",
        "    <tr>\n",
        "      <th>Shirt</th>\n",
        "      <td> 13717.61</td>\n",
        "    </tr>\n",
        "  </tbody>\n",
        "</table>\n",
        "</div>"
       ],
       "metadata": {},
       "output_type": "pyout",
       "prompt_number": 185,
       "text": [
        "                      ext price\n",
        "name        category           \n",
        "Berge LLC   Belt        6033.53\n",
        "            Shirt       9670.24\n",
        "            Shoes      14361.10\n",
        "Carroll PLC Belt        9359.26\n",
        "            Shirt      13717.61"
       ]
      }
     ],
     "prompt_number": 185
    },
    {
     "cell_type": "code",
     "collapsed": false,
     "input": [
      "category_group.unstack().head()"
     ],
     "language": "python",
     "metadata": {},
     "outputs": [
      {
       "html": [
        "<div style=\"max-height:1000px;max-width:1500px;overflow:auto;\">\n",
        "<table border=\"1\" class=\"dataframe\">\n",
        "  <thead>\n",
        "    <tr>\n",
        "      <th></th>\n",
        "      <th colspan=\"3\" halign=\"left\">ext price</th>\n",
        "    </tr>\n",
        "    <tr>\n",
        "      <th>category</th>\n",
        "      <th>Belt</th>\n",
        "      <th>Shirt</th>\n",
        "      <th>Shoes</th>\n",
        "    </tr>\n",
        "    <tr>\n",
        "      <th>name</th>\n",
        "      <th></th>\n",
        "      <th></th>\n",
        "      <th></th>\n",
        "    </tr>\n",
        "  </thead>\n",
        "  <tbody>\n",
        "    <tr>\n",
        "      <th>Berge LLC</th>\n",
        "      <td> 6033.53</td>\n",
        "      <td>  9670.24</td>\n",
        "      <td> 14361.10</td>\n",
        "    </tr>\n",
        "    <tr>\n",
        "      <th>Carroll PLC</th>\n",
        "      <td> 9359.26</td>\n",
        "      <td> 13717.61</td>\n",
        "      <td> 12857.44</td>\n",
        "    </tr>\n",
        "    <tr>\n",
        "      <th>Cole-Eichmann</th>\n",
        "      <td> 8112.70</td>\n",
        "      <td> 14528.01</td>\n",
        "      <td>  7794.71</td>\n",
        "    </tr>\n",
        "    <tr>\n",
        "      <th>Davis, Kshlerin and Reilly</th>\n",
        "      <td> 1604.13</td>\n",
        "      <td>  7533.03</td>\n",
        "      <td>  9917.60</td>\n",
        "    </tr>\n",
        "    <tr>\n",
        "      <th>Ernser, Cruickshank and Lind</th>\n",
        "      <td> 5894.38</td>\n",
        "      <td> 16944.19</td>\n",
        "      <td>  5250.45</td>\n",
        "    </tr>\n",
        "  </tbody>\n",
        "</table>\n",
        "</div>"
       ],
       "metadata": {},
       "output_type": "pyout",
       "prompt_number": 186,
       "text": [
        "                             ext price                    \n",
        "category                          Belt     Shirt     Shoes\n",
        "name                                                      \n",
        "Berge LLC                      6033.53   9670.24  14361.10\n",
        "Carroll PLC                    9359.26  13717.61  12857.44\n",
        "Cole-Eichmann                  8112.70  14528.01   7794.71\n",
        "Davis, Kshlerin and Reilly     1604.13   7533.03   9917.60\n",
        "Ernser, Cruickshank and Lind   5894.38  16944.19   5250.45"
       ]
      }
     ],
     "prompt_number": 186
    },
    {
     "cell_type": "code",
     "collapsed": false,
     "input": [
      "my_plot = category_group.unstack().plot(kind='bar',stacked=True,title=\"Total Sales by Customer\")\n",
      "my_plot.set_xlabel(\"Customers\")\n",
      "my_plot.set_ylabel(\"Sales\")"
     ],
     "language": "python",
     "metadata": {},
     "outputs": [
      {
       "metadata": {},
       "output_type": "pyout",
       "prompt_number": 187,
       "text": [
        "<matplotlib.text.Text at 0x11cb5c810>"
       ]
      },
      {
       "metadata": {},
       "output_type": "display_data",
       "png": "[encoded data removed]",
       "text": [
        "<matplotlib.figure.Figure at 0x118175ad0>"
       ]
      }
     ],
     "prompt_number": 187
    },
    {
     "cell_type": "code",
     "collapsed": false,
     "input": [
      "my_plot = category_group.unstack().plot(kind='bar',stacked=True,title=\"Total Sales by Customer\",figsize=(9, 7))\n",
      "my_plot.set_xlabel(\"Customers\")\n",
      "my_plot.set_ylabel(\"Sales\")\n",
      "my_plot.legend([\"Total\",\"Belts\",\"Shirts\",\"Shoes\"], loc=9,ncol=4)"
     ],
     "language": "python",
     "metadata": {},
     "outputs": [
      {
       "metadata": {},
       "output_type": "pyout",
       "prompt_number": 188,
       "text": [
        "<matplotlib.legend.Legend at 0x11f98ed10>"
       ]
      },
      {
       "metadata": {},
       "output_type": "display_data",
       "png": "[encoded data removed]",
       "text": [
        "<matplotlib.figure.Figure at 0x11aef2c10>"
       ]
      }
     ],
     "prompt_number": 188
    },
    {
     "cell_type": "code",
     "collapsed": false,
     "input": [
      "purchase_patterns = sales[['ext price','date']]\n",
      "purchase_patterns.head()"
     ],
     "language": "python",
     "metadata": {},
     "outputs": [
      {
       "html": [
        "<div style=\"max-height:1000px;max-width:1500px;overflow:auto;\">\n",
        "<table border=\"1\" class=\"dataframe\">\n",
        "  <thead>\n",
        "    <tr style=\"text-align: right;\">\n",
        "      <th></th>\n",
        "      <th>ext price</th>\n",
        "      <th>date</th>\n",
        "    </tr>\n",
        "  </thead>\n",
        "  <tbody>\n",
        "    <tr>\n",
        "      <th>0</th>\n",
        "      <td>  578.24</td>\n",
        "      <td>2014-09-27 07:13:03</td>\n",
        "    </tr>\n",
        "    <tr>\n",
        "      <th>1</th>\n",
        "      <td> 1018.78</td>\n",
        "      <td>2014-07-29 02:10:44</td>\n",
        "    </tr>\n",
        "    <tr>\n",
        "      <th>2</th>\n",
        "      <td>  289.92</td>\n",
        "      <td>2014-03-01 10:51:24</td>\n",
        "    </tr>\n",
        "    <tr>\n",
        "      <th>3</th>\n",
        "      <td>  413.40</td>\n",
        "      <td>2013-11-17 20:41:11</td>\n",
        "    </tr>\n",
        "    <tr>\n",
        "      <th>4</th>\n",
        "      <td> 1793.52</td>\n",
        "      <td>2014-01-03 08:14:27</td>\n",
        "    </tr>\n",
        "  </tbody>\n",
        "</table>\n",
        "</div>"
       ],
       "metadata": {},
       "output_type": "pyout",
       "prompt_number": 189,
       "text": [
        "   ext price                date\n",
        "0     578.24 2014-09-27 07:13:03\n",
        "1    1018.78 2014-07-29 02:10:44\n",
        "2     289.92 2014-03-01 10:51:24\n",
        "3     413.40 2013-11-17 20:41:11\n",
        "4    1793.52 2014-01-03 08:14:27"
       ]
      }
     ],
     "prompt_number": 189
    },
    {
     "cell_type": "code",
     "collapsed": false,
     "input": [
      "purchase_plot = purchase_patterns['ext price'].hist(bins=20)\n",
      "purchase_plot.set_title(\"Purchase Patterns\")\n",
      "purchase_plot.set_xlabel(\"Order Amount($)\")\n",
      "purchase_plot.set_ylabel(\"Number of orders\")"
     ],
     "language": "python",
     "metadata": {},
     "outputs": [
      {
       "metadata": {},
       "output_type": "pyout",
       "prompt_number": 190,
       "text": [
        "<matplotlib.text.Text at 0x119689350>"
       ]
      },
      {
       "metadata": {},
       "output_type": "display_data",
       "png": "[encoded data removed]",
       "text": [
        "<matplotlib.figure.Figure at 0x11f8aab50>"
       ]
      }
     ],
     "prompt_number": 190
    },
    {
     "cell_type": "code",
     "collapsed": false,
     "input": [
      "purchase_patterns = sales[['ext price','date']]\n",
      "purchase_patterns.head()"
     ],
     "language": "python",
     "metadata": {},
     "outputs": [
      {
       "html": [
        "<div style=\"max-height:1000px;max-width:1500px;overflow:auto;\">\n",
        "<table border=\"1\" class=\"dataframe\">\n",
        "  <thead>\n",
        "    <tr style=\"text-align: right;\">\n",
        "      <th></th>\n",
        "      <th>ext price</th>\n",
        "      <th>date</th>\n",
        "    </tr>\n",
        "  </thead>\n",
        "  <tbody>\n",
        "    <tr>\n",
        "      <th>0</th>\n",
        "      <td>  578.24</td>\n",
        "      <td>2014-09-27 07:13:03</td>\n",
        "    </tr>\n",
        "    <tr>\n",
        "      <th>1</th>\n",
        "      <td> 1018.78</td>\n",
        "      <td>2014-07-29 02:10:44</td>\n",
        "    </tr>\n",
        "    <tr>\n",
        "      <th>2</th>\n",
        "      <td>  289.92</td>\n",
        "      <td>2014-03-01 10:51:24</td>\n",
        "    </tr>\n",
        "    <tr>\n",
        "      <th>3</th>\n",
        "      <td>  413.40</td>\n",
        "      <td>2013-11-17 20:41:11</td>\n",
        "    </tr>\n",
        "    <tr>\n",
        "      <th>4</th>\n",
        "      <td> 1793.52</td>\n",
        "      <td>2014-01-03 08:14:27</td>\n",
        "    </tr>\n",
        "  </tbody>\n",
        "</table>\n",
        "</div>"
       ],
       "metadata": {},
       "output_type": "pyout",
       "prompt_number": 191,
       "text": [
        "   ext price                date\n",
        "0     578.24 2014-09-27 07:13:03\n",
        "1    1018.78 2014-07-29 02:10:44\n",
        "2     289.92 2014-03-01 10:51:24\n",
        "3     413.40 2013-11-17 20:41:11\n",
        "4    1793.52 2014-01-03 08:14:27"
       ]
      }
     ],
     "prompt_number": 191
    },
    {
     "cell_type": "code",
     "collapsed": false,
     "input": [
      "purchase_patterns = purchase_patterns.set_index('date')\n",
      "purchase_patterns.head()"
     ],
     "language": "python",
     "metadata": {},
     "outputs": [
      {
       "html": [
        "<div style=\"max-height:1000px;max-width:1500px;overflow:auto;\">\n",
        "<table border=\"1\" class=\"dataframe\">\n",
        "  <thead>\n",
        "    <tr style=\"text-align: right;\">\n",
        "      <th></th>\n",
        "      <th>ext price</th>\n",
        "    </tr>\n",
        "    <tr>\n",
        "      <th>date</th>\n",
        "      <th></th>\n",
        "    </tr>\n",
        "  </thead>\n",
        "  <tbody>\n",
        "    <tr>\n",
        "      <th>2014-09-27 07:13:03</th>\n",
        "      <td>  578.24</td>\n",
        "    </tr>\n",
        "    <tr>\n",
        "      <th>2014-07-29 02:10:44</th>\n",
        "      <td> 1018.78</td>\n",
        "    </tr>\n",
        "    <tr>\n",
        "      <th>2014-03-01 10:51:24</th>\n",
        "      <td>  289.92</td>\n",
        "    </tr>\n",
        "    <tr>\n",
        "      <th>2013-11-17 20:41:11</th>\n",
        "      <td>  413.40</td>\n",
        "    </tr>\n",
        "    <tr>\n",
        "      <th>2014-01-03 08:14:27</th>\n",
        "      <td> 1793.52</td>\n",
        "    </tr>\n",
        "  </tbody>\n",
        "</table>\n",
        "</div>"
       ],
       "metadata": {},
       "output_type": "pyout",
       "prompt_number": 192,
       "text": [
        "                     ext price\n",
        "date                          \n",
        "2014-09-27 07:13:03     578.24\n",
        "2014-07-29 02:10:44    1018.78\n",
        "2014-03-01 10:51:24     289.92\n",
        "2013-11-17 20:41:11     413.40\n",
        "2014-01-03 08:14:27    1793.52"
       ]
      }
     ],
     "prompt_number": 192
    },
    {
     "cell_type": "code",
     "collapsed": false,
     "input": [
      "purchase_patterns.resample('M',how=sum)  #wtf?\n",
      "#purchase_patterns.resample?\n",
      "#purchase_plot = purchase_patterns.resample('M',how=sum).plot(title=\"Total Sales by Month\",legend=None)"
     ],
     "language": "python",
     "metadata": {},
     "outputs": [
      {
       "html": [
        "<div style=\"max-height:1000px;max-width:1500px;overflow:auto;\">\n",
        "<table border=\"1\" class=\"dataframe\">\n",
        "  <thead>\n",
        "    <tr style=\"text-align: right;\">\n",
        "      <th></th>\n",
        "      <th>ext price</th>\n",
        "    </tr>\n",
        "    <tr>\n",
        "      <th>date</th>\n",
        "      <th></th>\n",
        "    </tr>\n",
        "  </thead>\n",
        "  <tbody>\n",
        "    <tr>\n",
        "      <th>2013-10-31</th>\n",
        "      <td> 14085.27</td>\n",
        "    </tr>\n",
        "    <tr>\n",
        "      <th>2013-11-30</th>\n",
        "      <td> 44932.78</td>\n",
        "    </tr>\n",
        "    <tr>\n",
        "      <th>2013-12-31</th>\n",
        "      <td> 57752.23</td>\n",
        "    </tr>\n",
        "    <tr>\n",
        "      <th>2014-01-31</th>\n",
        "      <td> 53161.35</td>\n",
        "    </tr>\n",
        "    <tr>\n",
        "      <th>2014-02-28</th>\n",
        "      <td> 51783.56</td>\n",
        "    </tr>\n",
        "    <tr>\n",
        "      <th>2014-03-31</th>\n",
        "      <td> 44991.85</td>\n",
        "    </tr>\n",
        "    <tr>\n",
        "      <th>2014-04-30</th>\n",
        "      <td> 34098.05</td>\n",
        "    </tr>\n",
        "    <tr>\n",
        "      <th>2014-05-31</th>\n",
        "      <td> 50001.02</td>\n",
        "    </tr>\n",
        "    <tr>\n",
        "      <th>2014-06-30</th>\n",
        "      <td> 37477.65</td>\n",
        "    </tr>\n",
        "    <tr>\n",
        "      <th>2014-07-31</th>\n",
        "      <td> 41686.71</td>\n",
        "    </tr>\n",
        "    <tr>\n",
        "      <th>2014-08-31</th>\n",
        "      <td> 55497.09</td>\n",
        "    </tr>\n",
        "    <tr>\n",
        "      <th>2014-09-30</th>\n",
        "      <td> 57107.51</td>\n",
        "    </tr>\n",
        "    <tr>\n",
        "      <th>2014-10-31</th>\n",
        "      <td> 37268.83</td>\n",
        "    </tr>\n",
        "  </tbody>\n",
        "</table>\n",
        "</div>"
       ],
       "metadata": {},
       "output_type": "pyout",
       "prompt_number": 197,
       "text": [
        "            ext price\n",
        "date                 \n",
        "2013-10-31   14085.27\n",
        "2013-11-30   44932.78\n",
        "2013-12-31   57752.23\n",
        "2014-01-31   53161.35\n",
        "2014-02-28   51783.56\n",
        "2014-03-31   44991.85\n",
        "2014-04-30   34098.05\n",
        "2014-05-31   50001.02\n",
        "2014-06-30   37477.65\n",
        "2014-07-31   41686.71\n",
        "2014-08-31   55497.09\n",
        "2014-09-30   57107.51\n",
        "2014-10-31   37268.83"
       ]
      }
     ],
     "prompt_number": 197
    },
    {
     "cell_type": "code",
     "collapsed": false,
     "input": [
      "pwd"
     ],
     "language": "python",
     "metadata": {},
     "outputs": [
      {
       "metadata": {},
       "output_type": "pyout",
       "prompt_number": 199,
       "text": [
        "u'/Users/me/Documents/Py/sci-py'"
       ]
      }
     ],
     "prompt_number": 199
    },
    {
     "cell_type": "code",
     "collapsed": false,
     "input": [],
     "language": "python",
     "metadata": {},
     "outputs": []
    }
   ],
   "metadata": {}
  }
 ]
}