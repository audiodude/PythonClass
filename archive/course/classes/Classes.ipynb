{
 "cells": [
  {
   "cell_type": "markdown",
   "metadata": {
    "slideshow": {
     "slide_type": "slide"
    }
   },
   "source": [
    "# Everything is an object\n",
    "*`5` is an object with type `int`    \n",
    "*`\"Hello Noisebridge!\"` is an object with type `string`  \n",
    "*`[1, 1.2, 'one point four', None]` is an object with type `list`  \n",
    "*`int` is an object with type `type`  "
   ]
  },
  {
   "cell_type": "markdown",
   "metadata": {
    "slideshow": {
     "slide_type": "slide"
    }
   },
   "source": [
    "# Objects have state and behavior\n",
    "### State is what differentiates objects with the same type\n",
    "`1` and `5` are two instances of int with different state\n",
    "### behavior is what happens when you operate on objects\n",
    "`1 + 5` has different behavior than `'hi' + 'mom'`\n",
    "### behavior is also the functions bound to the object\n",
    "`str` instances have methods `str.upper()` and `str.lower()`  \n",
    "`float` instances have methods `float.as_integer_ratio()` and `float.is_integer()`\n"
   ]
  },
  {
   "cell_type": "markdown",
   "metadata": {
    "slideshow": {
     "slide_type": "slide"
    }
   },
   "source": [
    "# Find the functions bound to an object with `dir`"
   ]
  },
  {
   "cell_type": "code",
   "execution_count": null,
   "metadata": {},
   "outputs": [],
   "source": [
    "dir('hi mom')"
   ]
  },
  {
   "cell_type": "markdown",
   "metadata": {
    "slideshow": {
     "slide_type": "slide"
    }
   },
   "source": [
    "# Define your own types with `class`"
   ]
  },
  {
   "cell_type": "code",
   "execution_count": null,
   "metadata": {},
   "outputs": [],
   "source": [
    "class Circle:\n",
    "    pass\n",
    "\n",
    "circle = Circle()"
   ]
  },
  {
   "cell_type": "markdown",
   "metadata": {
    "slideshow": {
     "slide_type": "slide"
    }
   },
   "source": [
    "# When should you create your own class?"
   ]
  },
  {
   "cell_type": "code",
   "execution_count": null,
   "metadata": {},
   "outputs": [],
   "source": [
    "def kelvin_to_fahrenheit(temp):\n",
    "    '''\n",
    "    Accept a temperature `temp` in Kelvin and return \n",
    "    the same tempurature in Fahrenheight.\n",
    "    '''\n",
    "    return temp * (9 / 5) - 459.67\n",
    "\n",
    "def kelvin_to_celsius(temp):\n",
    "    '''\n",
    "    Accept a temperature `temp` in Kelvin and return\n",
    "    the same tempurature in Fahrenheight.\n",
    "    '''\n",
    "    return temp - 273.15\n",
    "\n",
    "def kelvin_to_newton(temp):\n",
    "    pass\n",
    "\n",
    "def fahrenheight_to_kelvin(temp):\n",
    "    pass"
   ]
  },
  {
   "cell_type": "markdown",
   "metadata": {
    "slideshow": {
     "slide_type": "slide"
    }
   },
   "source": [
    "# Functions that are defined inside the class are bound to it"
   ]
  },
  {
   "cell_type": "code",
   "execution_count": null,
   "metadata": {},
   "outputs": [],
   "source": [
    "class Temperature:\n",
    "    '''A value with units of temperature.'''\n",
    "    \n",
    "    def to_fahrenheight(self):\n",
    "        '''Return current tempurature in fahrenheight.'''\n",
    "        return self.temp * (9 / 5) - 459.67\n",
    "    "
   ]
  },
  {
   "cell_type": "markdown",
   "metadata": {},
   "source": [
    "* Creating a class is another opportunity to provide documentation.\n",
    "* Remember indentation means membership\n",
    "* Bound functions access their objects state with self"
   ]
  },
  {
   "cell_type": "markdown",
   "metadata": {
    "slideshow": {
     "slide_type": "slide"
    }
   },
   "source": [
    "# Objects act like dictionaries"
   ]
  },
  {
   "cell_type": "code",
   "execution_count": null,
   "metadata": {},
   "outputs": [],
   "source": [
    "how_cold = Temperature()\n",
    "how_cold.temp = 0\n",
    "\n",
    "print(how_cold.to_fahrenheight())"
   ]
  },
  {
   "cell_type": "markdown",
   "metadata": {
    "slideshow": {
     "slide_type": "slide"
    }
   },
   "source": [
    "# Add a from_fahrenheight method that takes a tempurature in fehrenheight and sets self.temp in kelvin"
   ]
  },
  {
   "cell_type": "markdown",
   "metadata": {
    "slideshow": {
     "slide_type": "slide"
    }
   },
   "source": [
    "# Functions with double underscores are called `dunder methods`, and change what the python syntax means\n",
    "* `__init__` runs immediately after object creation\n",
    "* `__add__` changes what the `+` operator does\n",
    "* `__str__` changes what is returned when the object is coerced into a string. `str(5.7)`"
   ]
  },
  {
   "cell_type": "code",
   "execution_count": null,
   "metadata": {
    "slideshow": {
     "slide_type": "slide"
    }
   },
   "outputs": [],
   "source": [
    "class Temperature:\n",
    "    '''A value with units of temperature.'''\n",
    "    \n",
    "    def __init__(self, temp):\n",
    "        '''Set temperature value with a Kelvin value.'''\n",
    "        self.temp = temp\n",
    "        \n",
    "    \n",
    "    def to_fahrenheight(self):\n",
    "        '''Return current tempurature in fahrenheight.'''\n",
    "        return self.temp * (9 / 5) - 459.67\n",
    "    \n",
    "\n",
    "how_cold = Temperature(0)\n",
    "print(how_cold.to_fahrenheight())"
   ]
  },
  {
   "cell_type": "markdown",
   "metadata": {
    "slideshow": {
     "slide_type": "slide"
    }
   },
   "source": [
    "# Create a __str__ method that returns a string representation of Tempurature"
   ]
  },
  {
   "cell_type": "markdown",
   "metadata": {
    "slideshow": {
     "slide_type": "slide"
    }
   },
   "source": [
    "# Methods that begin with an underscore are internal by convention"
   ]
  },
  {
   "cell_type": "code",
   "execution_count": null,
   "metadata": {},
   "outputs": [],
   "source": [
    "class Temperature:\n",
    "    '''A value with units of temperature.'''\n",
    "    \n",
    "    def __init__(self, temp):\n",
    "        '''Set temperature value with a Kelvin value.'''\n",
    "        self.temp = temp\n",
    "        \n",
    "    \n",
    "    def to_fahrenheight(self):\n",
    "        '''Return current tempurature in fahrenheight.'''\n",
    "        return self.temp * (9 / 5) - 459.67\n",
    "    \n",
    "    def _is_impossible(self):\n",
    "        return self.temp < 0"
   ]
  },
  {
   "cell_type": "markdown",
   "metadata": {
    "slideshow": {
     "slide_type": "slide"
    }
   },
   "source": [
    "# Class variables do not vary by instance"
   ]
  },
  {
   "cell_type": "code",
   "execution_count": null,
   "metadata": {},
   "outputs": [],
   "source": [
    "class Temperature:\n",
    "    '''A value with units of temperature.'''\n",
    "    \n",
    "    unit = 'Kelvin'\n",
    "    \n",
    "    def __init__(self, temp):\n",
    "        '''Set temperature value with a Kelvin value.'''\n",
    "        self.temp = temp\n",
    "        \n",
    "    \n",
    "    def to_fahrenheight(self):\n",
    "        '''Return current tempurature in fahrenheight.'''\n",
    "        return self.temp * (9 / 5) - 459.67\n",
    "    "
   ]
  },
  {
   "cell_type": "code",
   "execution_count": null,
   "metadata": {},
   "outputs": [],
   "source": []
  },
  {
   "cell_type": "markdown",
   "metadata": {
    "slideshow": {
     "slide_type": "slide"
    }
   },
   "source": [
    "# Functions can also be bound to the type with `@classmethod`"
   ]
  },
  {
   "cell_type": "code",
   "execution_count": null,
   "metadata": {},
   "outputs": [],
   "source": [
    "class Temperature:\n",
    "    '''A value with units of temperature.'''\n",
    "    \n",
    "    unit = 'Kelvin'\n",
    "        \n",
    "    @classmethod\n",
    "    def from_kelvin(cls, temp):\n",
    "        '''Return current tempurature in fahrenheight.'''\n",
    "        temperature = cls()\n",
    "        temperature.temp = temp\n",
    "        return temperature"
   ]
  },
  {
   "cell_type": "code",
   "execution_count": null,
   "metadata": {},
   "outputs": [],
   "source": [
    "how_cold = Temperature.from_kelvin(0)\n",
    "print(how_cold.temp)"
   ]
  },
  {
   "cell_type": "markdown",
   "metadata": {
    "slideshow": {
     "slide_type": "slide"
    }
   },
   "source": [
    "# Turn your from_fahrenheight method into a @classmethod alternate constructor"
   ]
  },
  {
   "cell_type": "markdown",
   "metadata": {
    "slideshow": {
     "slide_type": "slide"
    }
   },
   "source": [
    "# `@property` allows you to define your own logic when getting and setting values"
   ]
  },
  {
   "cell_type": "code",
   "execution_count": null,
   "metadata": {},
   "outputs": [],
   "source": [
    "class Temperature():\n",
    "    \n",
    "    def __init__(self, temp):\n",
    "        self._kelvin = temp\n",
    "        \n",
    "    @property\n",
    "    def kelvin(self):\n",
    "        return self._kelvin\n",
    "    \n",
    "    @kelvin.setter\n",
    "    def kelvin(self, temp):\n",
    "        if temp < 0:\n",
    "            raise ValueError(f'bad tempurature {temp}!')\n",
    "        self._kelvin = temp\n",
    "        \n"
   ]
  },
  {
   "cell_type": "code",
   "execution_count": null,
   "metadata": {},
   "outputs": [],
   "source": [
    "how_cold = Temperature(0)\n",
    "\n",
    "how_cold.kelvin = -100\n",
    "print(how_cold.kelvin)"
   ]
  },
  {
   "cell_type": "markdown",
   "metadata": {
    "slideshow": {
     "slide_type": "slide"
    }
   },
   "source": [
    "# Create a getter and setter for fahrenheight"
   ]
  },
  {
   "cell_type": "markdown",
   "metadata": {
    "slideshow": {
     "slide_type": "slide"
    }
   },
   "source": [
    "# Inheritance allows us to copy behavior from other classes"
   ]
  },
  {
   "cell_type": "code",
   "execution_count": null,
   "metadata": {},
   "outputs": [],
   "source": [
    "class MyList(list):\n",
    "    '''An excersize in reinventing the wheel.'''\n",
    "    \n",
    "    def append_twice(self, val):\n",
    "        '''Add a single value `val` to the end of the list twice.'''\n",
    "        self.append(val)\n",
    "        self.append(val)\n",
    "    "
   ]
  },
  {
   "cell_type": "code",
   "execution_count": null,
   "metadata": {},
   "outputs": [],
   "source": [
    "my_list = MyList()\n",
    "my_list.append_twice('Whee!')\n",
    "print(my_list)"
   ]
  },
  {
   "cell_type": "markdown",
   "metadata": {
    "slideshow": {
     "slide_type": "slide"
    }
   },
   "source": [
    "# We can check to see what an object self identifies as with `isinstance`"
   ]
  },
  {
   "cell_type": "code",
   "execution_count": null,
   "metadata": {},
   "outputs": [],
   "source": [
    "isinstance(my_list, list)"
   ]
  },
  {
   "cell_type": "markdown",
   "metadata": {
    "slideshow": {
     "slide_type": "slide"
    }
   },
   "source": [
    "# A class can access information from the class it inherited from with Super"
   ]
  },
  {
   "cell_type": "code",
   "execution_count": null,
   "metadata": {},
   "outputs": [],
   "source": [
    "class NonEmptyList(list):\n",
    "    '''A list that refuses to be empty.'''\n",
    "    \n",
    "    def __init__(self, data):\n",
    "        if len(data) == 0:\n",
    "            super().__init__([1])\n",
    "        else:\n",
    "            super().__init__(data)\n",
    "        "
   ]
  },
  {
   "cell_type": "code",
   "execution_count": null,
   "metadata": {},
   "outputs": [],
   "source": [
    "print(NonEmptyList([]))\n",
    "print(NonEmptyList([1, 2, 3]))"
   ]
  },
  {
   "cell_type": "markdown",
   "metadata": {
    "slideshow": {
     "slide_type": "slide"
    }
   },
   "source": [
    "# Inheritance can be complicated.\n",
    "\n",
    "* Take a look at Path from pathlib.\n",
    "* This allows you to reuse code and better define your programming model\n",
    "* This also makes your system more fragile"
   ]
  },
  {
   "cell_type": "markdown",
   "metadata": {
    "slideshow": {
     "slide_type": "slide"
    }
   },
   "source": [
    "# I couldn't come up with an inheritance example I liked\n",
    "\n",
    "# If you come back tomorrow we can work through excersises in _Learn Python the Hard Way_"
   ]
  },
  {
   "cell_type": "markdown",
   "metadata": {},
   "source": [
    "objects\n",
    "    everything you can type in is an object\n",
    "    objects are like dictionaries\n",
    "    objects have state and behavior\n",
    "    behavior and possible states are determined by type\n",
    "\n",
    "classes\n",
    "    if you want to color outside the lines, you can create your own types\n",
    "    class docstrings\n",
    "    defining functions inside a class binds it to that class.  Useful when you see repeated function arguments\n",
    "    defining functions with a single leading underscore communicates that a function is internal.  This effects import all and tools\n",
    "    functions with double underscores change the behavior of python's syntax\n",
    "    class variables versus instance variables\n",
    "    class method\n",
    "        alternate constructors\n",
    "    inheritance allows us to copy behavior from other classes\n",
    "    be careful about deep, fragile inheritance\n",
    "    super\n",
    "    property\n",
    "    "
   ]
  }
 ],
 "metadata": {
  "celltoolbar": "Slideshow",
  "kernelspec": {
   "display_name": "Python 3",
   "language": "python",
   "name": "python3"
  },
  "language_info": {
   "codemirror_mode": {
    "name": "ipython",
    "version": 3
   },
   "file_extension": ".py",
   "mimetype": "text/x-python",
   "name": "python",
   "nbconvert_exporter": "python",
   "pygments_lexer": "ipython3",
   "version": "3.7.2"
  }
 },
 "nbformat": 4,
 "nbformat_minor": 2
}
