{
 "cells": [
  {
   "cell_type": "markdown",
   "metadata": {
    "slideshow": {
     "slide_type": "slide"
    }
   },
   "source": [
    "# How much, how long?"
   ]
  },
  {
   "cell_type": "code",
   "execution_count": 1,
   "metadata": {},
   "outputs": [
    {
     "name": "stdout",
     "output_type": "stream",
     "text": [
      "Help on built-in function getsizeof in module sys:\n",
      "\n",
      "getsizeof(...)\n",
      "    getsizeof(object, default) -> int\n",
      "    \n",
      "    Return the size of object in bytes.\n",
      "\n"
     ]
    }
   ],
   "source": [
    "from sys import getsizeof\n",
    "\n",
    "help(getsizeof)"
   ]
  },
  {
   "cell_type": "code",
   "execution_count": 2,
   "metadata": {},
   "outputs": [
    {
     "name": "stdout",
     "output_type": "stream",
     "text": [
      "Help on function timeit in module timeit:\n",
      "\n",
      "timeit(stmt='pass', setup='pass', timer=<built-in function perf_counter>, number=1000000, globals=None)\n",
      "    Convenience function to create Timer object and call timeit method.\n",
      "\n"
     ]
    }
   ],
   "source": [
    "from timeit import timeit\n",
    "\n",
    "help(timeit)"
   ]
  },
  {
   "cell_type": "markdown",
   "metadata": {
    "slideshow": {
     "slide_type": "slide"
    }
   },
   "source": [
    "# We can ask how big a python object is\n",
    "\n",
    "### Be careful of the reference versus object distinction"
   ]
  },
  {
   "cell_type": "code",
   "execution_count": 3,
   "metadata": {
    "slideshow": {
     "slide_type": "-"
    }
   },
   "outputs": [
    {
     "name": "stdout",
     "output_type": "stream",
     "text": [
      "[]: 64\n",
      "1: 28\n",
      "[1]: 72\n"
     ]
    }
   ],
   "source": [
    "from sys import getsizeof\n",
    "print('[]:', getsizeof([]))\n",
    "print('1:', getsizeof(1))\n",
    "print('[1]:', getsizeof([1]))"
   ]
  },
  {
   "cell_type": "markdown",
   "metadata": {
    "slideshow": {
     "slide_type": "slide"
    }
   },
   "source": [
    "# The standard library timeit module makes some poor choices in methodology"
   ]
  },
  {
   "cell_type": "code",
   "execution_count": 4,
   "metadata": {},
   "outputs": [
    {
     "name": "stdout",
     "output_type": "stream",
     "text": [
      "2000000 loops, best of 5: 179 nsec per loop\n"
     ]
    }
   ],
   "source": [
    "%%bash\n",
    "\n",
    "python -m timeit \"5000 in range(100)\""
   ]
  },
  {
   "cell_type": "code",
   "execution_count": 5,
   "metadata": {},
   "outputs": [
    {
     "name": "stdout",
     "output_type": "stream",
     "text": [
      ".....................\n",
      "Mean +- std dev: 185 ns +- 9 ns\n"
     ]
    }
   ],
   "source": [
    "%%bash\n",
    "\n",
    "python -m perf timeit \"5000 in range(100)\""
   ]
  },
  {
   "cell_type": "markdown",
   "metadata": {
    "slideshow": {
     "slide_type": "slide"
    }
   },
   "source": [
    "# Run timeit on your computer to find out in rough terms how long it takes to print \"hello noisebridge!\".\n",
    "\n",
    "# Put the result on the whiteboard"
   ]
  },
  {
   "cell_type": "markdown",
   "metadata": {
    "slideshow": {
     "slide_type": "slide"
    }
   },
   "source": [
    "# Every operating system has a different way of asking how much space a process is using \n",
    "\n",
    "# : (\n",
    "\n",
    "### psutil is a python library that tries to create a common interface to ask about your system"
   ]
  },
  {
   "cell_type": "code",
   "execution_count": 6,
   "metadata": {},
   "outputs": [
    {
     "data": {
      "text/plain": [
       "pmem(rss=48652288, vms=531881984, shared=14782464, text=8192, lib=0, data=101851136, dirty=0)"
      ]
     },
     "execution_count": 6,
     "metadata": {},
     "output_type": "execute_result"
    }
   ],
   "source": [
    "import os\n",
    "\n",
    "import psutil  # Not in the standard library!\n",
    "\n",
    "process = psutil.Process(os.getpid())\n",
    "process.memory_info()"
   ]
  },
  {
   "cell_type": "markdown",
   "metadata": {
    "slideshow": {
     "slide_type": "slide"
    }
   },
   "source": [
    "# \"How efficient is this code?\" is a hard and poorly defined question.  \n",
    "\n",
    "### It depends on what we care about and what computer we are using "
   ]
  },
  {
   "cell_type": "markdown",
   "metadata": {
    "slideshow": {
     "slide_type": "slide"
    }
   },
   "source": [
    "# Big O notation\n",
    "\n",
    "### Big O notation is a way of catagorizing code. \n",
    "\n",
    "### Big O only examines how cost grows as you add data."
   ]
  },
  {
   "cell_type": "markdown",
   "metadata": {
    "slideshow": {
     "slide_type": "slide"
    }
   },
   "source": [
    "# The memory occupied by a list with `N` elements\n",
    "\n",
    "### 64 + 8 * N bytes\n",
    "### &rarr; O(1) + O(N) bytes\n",
    "### &rarr; O(N) bytes"
   ]
  },
  {
   "cell_type": "markdown",
   "metadata": {
    "slideshow": {
     "slide_type": "slide"
    }
   },
   "source": [
    "# The time it takes to print `N` numbers\n",
    "\n",
    "### 'time to set up the code' + 'time to print one number' * N\n",
    "### &rarr; O(1) + O(N) time\n",
    "### &rarr; O(N) time"
   ]
  },
  {
   "cell_type": "code",
   "execution_count": null,
   "metadata": {},
   "outputs": [],
   "source": [
    "N = 10\n",
    "for i in range(N):\n",
    "    print(i)"
   ]
  },
  {
   "cell_type": "markdown",
   "metadata": {
    "slideshow": {
     "slide_type": "slide"
    }
   },
   "source": [
    "# Use sys.getsizeof to determine the big O category for memory of\n",
    "# * range(N) \n",
    "# * list(range(N))"
   ]
  },
  {
   "cell_type": "markdown",
   "metadata": {
    "slideshow": {
     "slide_type": "slide"
    }
   },
   "source": [
    "# Big O complexity signifies\n",
    "\n",
    "### The extra resources it takes to process an extra bit of data, \n",
    "### in the worst case, \n",
    "### if we are already processing many elements."
   ]
  },
  {
   "cell_type": "markdown",
   "metadata": {
    "slideshow": {
     "slide_type": "slide"
    }
   },
   "source": [
    "# What is the big O complexity for execution time of the following code?"
   ]
  },
  {
   "cell_type": "code",
   "execution_count": 22,
   "metadata": {},
   "outputs": [],
   "source": [
    "def find_max(collection):\n",
    "    \"\"\"Print the maximum element of `collection`, which has N elements.\"\"\"\n",
    "    collection_max = collection[0]\n",
    "    max_index = 0\n",
    "    for i, item in enumerate(collection):\n",
    "        if collection_max < item:\n",
    "            collection_max = item\n",
    "            max_index = i\n",
    "    \n",
    "    print(collection_max)\n",
    "    return i"
   ]
  },
  {
   "cell_type": "code",
   "execution_count": 9,
   "metadata": {
    "slideshow": {
     "slide_type": "slide"
    }
   },
   "outputs": [],
   "source": [
    "def find_duplicates(collection):\n",
    "    \"\"\"Print any elements of `collection` that occur twice.\"\"\"\n",
    "    \n",
    "    for i, item1 in enumerate(collection):\n",
    "        for j, item2 in enumerate(collection):\n",
    "            if i != j and item1 == item2:\n",
    "                print(item1)"
   ]
  },
  {
   "cell_type": "code",
   "execution_count": 23,
   "metadata": {
    "slideshow": {
     "slide_type": "slide"
    }
   },
   "outputs": [],
   "source": [
    "def sort(collection):\n",
    "    \"\"\"Print elements of `collection` in descending order.\"\"\"\n",
    "    new_collection = list(collection)\n",
    "    for i in range(len(new_collection)):\n",
    "        index = find_max(new_collection)\n",
    "        del new_collection[index]\n"
   ]
  },
  {
   "cell_type": "markdown",
   "metadata": {
    "slideshow": {
     "slide_type": "slide"
    }
   },
   "source": [
    "# Python builtin collections give you control over time complexity\n",
    "* Accessing an element by index from a list or tuple is O(1)\n",
    "* Finding an element in a list or tuple is O(N)\n",
    "* Finding an element in a set or dictionary is O(1)"
   ]
  },
  {
   "cell_type": "markdown",
   "metadata": {
    "slideshow": {
     "slide_type": "slide"
    }
   },
   "source": [
    "Given an array of integers, find the maximum sum of any contiguous slice. If the maximum is negative, return zero.\n",
    "\n",
    "```\n",
    "-------------------------------------------------------\n",
    "| 31 | -41 | 59 | 26 | -53 | 58 | 97 | -93 | -23 | 84 |\n",
    "-------------------------------------------------------\n",
    "           ↑                         ↑\n",
    "           2                         7\n",
    "```\n",
    "\n",
    "Here the slice `[2:7]` has a sum of 187.\n",
    "\n",
    "What is the worst strategy we could use to find the maximum sum?"
   ]
  },
  {
   "cell_type": "code",
   "execution_count": 25,
   "metadata": {
    "slideshow": {
     "slide_type": "slide"
    }
   },
   "outputs": [
    {
     "name": "stdout",
     "output_type": "stream",
     "text": [
      "187\n"
     ]
    }
   ],
   "source": [
    "values = [31, -41, 59, 26, -53, 58, 97, -93, -23, 84]\n",
    "\n",
    "def solution_1(values):\n",
    "    current_max = 0\n",
    "    for i in range(len(values)):\n",
    "        for j in range(i, len(values)):\n",
    "            current_max = max(current_max, sum(values[i:j]))  # O(N)\n",
    "            \n",
    "    return current_max\n",
    "        \n",
    "print(solution_1(values))"
   ]
  },
  {
   "cell_type": "markdown",
   "metadata": {
    "slideshow": {
     "slide_type": "-"
    }
   },
   "source": [
    "What is the performance of this algorithm?\n",
    "1. $O(n)$\n",
    "2. $O(n log(n))$\n",
    "3. $O(n ^ 2)$\n",
    "4. $O(n ^ 3)$"
   ]
  },
  {
   "cell_type": "markdown",
   "metadata": {
    "slideshow": {
     "slide_type": "slide"
    }
   },
   "source": [
    "# Duplicate work\n",
    "\n",
    "The inner loop adds the same numbers together over and over.  There are two options to avoid this.\n",
    "\n",
    "1. Accumulate the sum as we iterate, instead of recomputing it.\n",
    "\n",
    "2. Calculate sums ahead of time, and look them up later."
   ]
  },
  {
   "cell_type": "markdown",
   "metadata": {
    "slideshow": {
     "slide_type": "slide"
    }
   },
   "source": [
    "# Duplicate work\n",
    "\n",
    "Adapt your implementation by accumulating the sum while iterating, or by calculating the sums ahead of time.\n",
    "\n",
    "For the second option, you can use\n",
    "```python\n",
    "sum(array[i:j]) = sum(array[:j]) - sum(array[:i-1])\n",
    "```\n",
    "to find the sum of a slice from the cumulative sum."
   ]
  },
  {
   "cell_type": "code",
   "execution_count": 26,
   "metadata": {
    "slideshow": {
     "slide_type": "slide"
    }
   },
   "outputs": [
    {
     "name": "stdout",
     "output_type": "stream",
     "text": [
      "187\n"
     ]
    }
   ],
   "source": [
    "def solution_2(values):\n",
    "    current_max = 0\n",
    "    for i in range(len(values)):\n",
    "        current_sum = 0\n",
    "        for val in values[i:]:\n",
    "            current_sum += val\n",
    "            current_max = max(current_max, current_sum)\n",
    "    \n",
    "    return current_max\n",
    "            \n",
    "print(solution_2(values))"
   ]
  },
  {
   "cell_type": "code",
   "execution_count": 29,
   "metadata": {
    "slideshow": {
     "slide_type": "slide"
    }
   },
   "outputs": [
    {
     "name": "stdout",
     "output_type": "stream",
     "text": [
      "187\n"
     ]
    }
   ],
   "source": [
    "def solution_3(values):\n",
    "    cumulative = [0 for i in range(len(values) + 1)]\n",
    "    current_sum = 0\n",
    "\n",
    "    # This is equivalent to itertools.accumulate plus a leading zero\n",
    "    for i, v in enumerate(values):\n",
    "        current_sum += v\n",
    "        cumulative[i + 1] = current_sum\n",
    "    \n",
    "    current_max = 0\n",
    "    for i, cumulative_i in enumerate(cumulative):\n",
    "        for j, cumulative_j in enumerate(cumulative[i:]):\n",
    "            current_sum = cumulative_j - cumulative_i\n",
    "            current_max = max(current_max, current_sum)\n",
    "    \n",
    "    return current_max\n",
    "\n",
    "print(solution_3(values))\n"
   ]
  },
  {
   "cell_type": "markdown",
   "metadata": {
    "slideshow": {
     "slide_type": "slide"
    }
   },
   "source": [
    "# Divide and Conquor\n",
    "\n",
    "There is a tricky way of going faster, by noticing that we can divide this problem in two.\n",
    "\n",
    "```\n",
    "      left maximum       right maximum\n",
    "------===========------   ===========------------\n",
    "| -41 | 59 | 26 | -53 |   | 58 | 97 | -93 | -23 |\n",
    "------===========------   ===========------------\n",
    "```"
   ]
  },
  {
   "cell_type": "markdown",
   "metadata": {
    "slideshow": {
     "slide_type": "slide"
    }
   },
   "source": [
    "We can keep doing this recursively\n",
    "\n",
    "```\n",
    "       ------===========------         \n",
    "       | -41 | 59 | 26 | -53 |           \n",
    "       ------===========------           \n",
    "            /           \\                \n",
    "     ------======    ======------    \n",
    "     | -41 | 59 |    | 26 | -53 |    \n",
    "     ------======    ======------    \n",
    "      /      \\          /     \\      \n",
    "-------    ======    =====-    -------\n",
    "| -41 |    | 59 |    | 26 |    | -53 |\n",
    "-------    ======    =====-    -------\n",
    "```"
   ]
  },
  {
   "cell_type": "markdown",
   "metadata": {
    "slideshow": {
     "slide_type": "slide"
    }
   },
   "source": [
    "At each node we have three options:\n",
    "\n",
    "1. left child's max\n",
    "2. right child's max\n",
    "3. maximum crosses the middle"
   ]
  },
  {
   "cell_type": "markdown",
   "metadata": {
    "slideshow": {
     "slide_type": "slide"
    }
   },
   "source": [
    "Checking the third case takes O(n) at each node.\n",
    "- What is the big O complexity of this algorithm?\n",
    "- If we didn't have to worry about the third case, what would be the complexity?"
   ]
  },
  {
   "cell_type": "markdown",
   "metadata": {
    "slideshow": {
     "slide_type": "slide"
    }
   },
   "source": [
    "# Dynamic programming\n",
    "\n",
    "Let's say we have a solution to a list with N elements.  If we add an element on to the end, how do we need to modify the solution?\n",
    "\n",
    "```\n",
    "======-----------       ------\n",
    "| 59 | -41 | 31 |   +   | 30 |    =    ?\n",
    "======-----------       ------\n",
    "```"
   ]
  },
  {
   "cell_type": "code",
   "execution_count": 30,
   "metadata": {
    "slideshow": {
     "slide_type": "slide"
    }
   },
   "outputs": [
    {
     "name": "stdout",
     "output_type": "stream",
     "text": [
      "187\n"
     ]
    }
   ],
   "source": [
    "def solution_4(values):\n",
    "    current_max = 0\n",
    "    max_ending_here = 0\n",
    "    \n",
    "    for val in values:\n",
    "        max_ending_here = max(max_ending_here + val, 0)\n",
    "        current_max = max(current_max, max_ending_here)\n",
    "        \n",
    "    return current_max\n",
    "\n",
    "print(solution_4(values))"
   ]
  },
  {
   "cell_type": "markdown",
   "metadata": {
    "slideshow": {
     "slide_type": "slide"
    }
   },
   "source": [
    "Rules to remember:\n",
    "- Don't do work you don't have to do\n",
    "- Look it up instead of finding it each time\n",
    "- Look for ways to divide the problem into subproblems that can be combined into the full solution.\n",
    "- Look for simpler subproblems that can be extended into a full solution.\n",
    "- The way you would solve the problem with pen and paper might be close to the optimal method."
   ]
  }
 ],
 "metadata": {
  "celltoolbar": "Slideshow",
  "kernelspec": {
   "display_name": "Python 3",
   "language": "python",
   "name": "python3"
  },
  "language_info": {
   "codemirror_mode": {
    "name": "ipython",
    "version": 3
   },
   "file_extension": ".py",
   "mimetype": "text/x-python",
   "name": "python",
   "nbconvert_exporter": "python",
   "pygments_lexer": "ipython3",
   "version": "3.7.2"
  }
 },
 "nbformat": 4,
 "nbformat_minor": 2
}
