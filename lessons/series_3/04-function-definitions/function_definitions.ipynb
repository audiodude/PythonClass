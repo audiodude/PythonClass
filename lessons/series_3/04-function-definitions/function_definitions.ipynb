{
 "cells": [
  {
   "cell_type": "markdown",
   "id": "f7c62b1b",
   "metadata": {},
   "source": [
    "Welcome to Lesson 4 of the Noisebridge Python class! ([Noisebridge Wiki](https://www.noisebridge.net/wiki/PyClass) | [Github](https://github.com/audiodude/PythonClass))\n",
    "\n",
    "* Definitions of positional and keyword arguments to functions\n",
    "* The special Python arguments: `*args` and `*kwargs`\n",
    "* Function 'scope'\n",
    "* Using keyword arguments to extend functionality in a backwards compatible way"
   ]
  },
  {
   "cell_type": "markdown",
   "id": "ee120cda",
   "metadata": {},
   "source": [
    "## Function definitions\n",
    "\n",
    "Let's move on to function definitions. Functions can have any number of **positional arguments** and **keyword arguments**. Positional arguments are what we have seen so far, they are required when calling a function:"
   ]
  },
  {
   "cell_type": "code",
   "execution_count": null,
   "id": "388c7ae3",
   "metadata": {},
   "outputs": [],
   "source": [
    "def print_name_and_age(name, age):\n",
    "    print(name, age)\n",
    "\n",
    "print_name_and_age('Mateo', 42)"
   ]
  },
  {
   "cell_type": "markdown",
   "id": "8474c1fb",
   "metadata": {},
   "source": [
    "The following is an error (missing the second positional argument)."
   ]
  },
  {
   "cell_type": "code",
   "execution_count": null,
   "id": "91e0173f",
   "metadata": {},
   "outputs": [],
   "source": [
    "print_name_and_age('Fred')"
   ]
  },
  {
   "cell_type": "markdown",
   "id": "0d355c2a",
   "metadata": {},
   "source": [
    "Keyword arguments are optional and are defined with a **default value**. If the function is called with a given keyword argument missing, the default value is used inside the function. Otherwise, you can assign a value to a keyword argument when calling a function by specifying the name of the argument with an equal sign, then the value."
   ]
  },
  {
   "cell_type": "code",
   "execution_count": null,
   "id": "cd8cbcf8",
   "metadata": {},
   "outputs": [],
   "source": [
    "def print_name_and_age(name, age, add_newline=False):\n",
    "    print(name, age)\n",
    "    if add_newline:\n",
    "        # No need to put \\n, print with empty parameters will just be a newline\n",
    "        print()\n",
    "\n",
    "print_name_and_age('Mateo', 42)\n",
    "print_name_and_age('Mateo', 42, add_newline=True)\n",
    "print('after function calls')"
   ]
  },
  {
   "cell_type": "markdown",
   "id": "377b0fd5",
   "metadata": {},
   "source": [
    "When calling a function, you must specify the keyword arguments *after* the positional arguments. So the following is an error:"
   ]
  },
  {
   "cell_type": "code",
   "execution_count": null,
   "id": "344c12ef",
   "metadata": {},
   "outputs": [],
   "source": [
    "print_name_and_age('Mateo', add_newline=True, 42)"
   ]
  },
  {
   "cell_type": "markdown",
   "id": "19545908",
   "metadata": {},
   "source": [
    "Keyword arguments themselves, however, can be specified in any order."
   ]
  },
  {
   "cell_type": "code",
   "execution_count": null,
   "id": "52b560c6",
   "metadata": {},
   "outputs": [],
   "source": [
    "def print_name_and_age(name, age, add_newline=False, multiply_age=False, age_multiplier=2):\n",
    "    if multiply_age:\n",
    "        age = age * age_multiplier\n",
    "    print(name, age)\n",
    "    if add_newline:\n",
    "        # No need to put \\n, print with empty arguments will just be a newline\n",
    "        print()\n",
    "\n",
    "print_name_and_age('Mateo', 42, age_multiplier=3, multiply_age=True, add_newline=True)\n",
    "# Keyword arguments can be specified with the same value as their defaults\n",
    "print_name_and_age('Belinda', 10, multiply_age=False, add_newline=False)\n",
    "print('after function calls')"
   ]
  },
  {
   "cell_type": "markdown",
   "id": "8c2aa989",
   "metadata": {},
   "source": [
    "You can also specify keyword arguments as if they were positional arguments:"
   ]
  },
  {
   "cell_type": "code",
   "execution_count": null,
   "id": "1e03a214",
   "metadata": {},
   "outputs": [],
   "source": [
    "print_name_and_age('Kelly', 25, True, True, 4)\n",
    "# Missing keyword arguments get their default values, as usual\n",
    "print_name_and_age('Chan', 10, False)\n",
    "print('after function calls')"
   ]
  },
  {
   "cell_type": "markdown",
   "id": "8fc0e890",
   "metadata": {},
   "source": [
    "And positional arguments as if they were keyword arguments:"
   ]
  },
  {
   "cell_type": "code",
   "execution_count": null,
   "id": "7847cd08",
   "metadata": {},
   "outputs": [],
   "source": [
    "print_name_and_age(add_newline=True, name='Mateo', age=42)\n",
    "print('after function calls')"
   ]
  },
  {
   "cell_type": "markdown",
   "id": "b9a9a268",
   "metadata": {},
   "source": [
    "Though in practice, doing so can cause confusion for folks who are reading your code."
   ]
  },
  {
   "cell_type": "markdown",
   "id": "ae00900c",
   "metadata": {},
   "source": [
    "\n",
    "### Excercise\n",
    "\n",
    "Give the following function definition:"
   ]
  },
  {
   "cell_type": "code",
   "execution_count": null,
   "id": "c40a12d8",
   "metadata": {},
   "outputs": [],
   "source": [
    "fruits = {\n",
    "  'apple': 'red',\n",
    "  'pear': 'brown',\n",
    "  'lime': 'green',\n",
    "}\n",
    "def print_fruit_color(fruit_name, print_if_missing=False, override=False, override_color='blue'):\n",
    "  if fruit_name in fruits:\n",
    "    color = fruits[fruit_name]\n",
    "    if override:\n",
    "      color = override_color\n",
    "    print('%s is %s' % (fruit_name, color))\n",
    "  elif print_if_missing:\n",
    "    print('No known fruit')"
   ]
  },
  {
   "cell_type": "markdown",
   "id": "ef9c399c",
   "metadata": {},
   "source": [
    "Try different ways of calling the function, with different values for the arguments. Try calling it in all the ways we've seen:\n",
    "\n",
    "* With just the positional argument\n",
    "* With the positional argument and one or more keyword arguments\n",
    "* With the keyword arguments out of order"
   ]
  },
  {
   "cell_type": "markdown",
   "id": "3650d42e",
   "metadata": {},
   "source": [
    "---"
   ]
  },
  {
   "cell_type": "markdown",
   "id": "1fd19655-820b-4047-b82f-96eef42c0089",
   "metadata": {},
   "source": [
    "## Function 'scope'\n",
    "\n",
    "In programming, scope refers to the places where you can refer to a variable. A variable that you can refer to without a `NameError` is referred to as being \"in-scope\"."
   ]
  },
  {
   "cell_type": "code",
   "execution_count": null,
   "id": "64ec97a3-1c74-430f-ba9a-d32665a21871",
   "metadata": {},
   "outputs": [],
   "source": [
    "def get_discount(price):\n",
    "    return round(price * 0.8, 2)\n",
    "\n",
    "prices = [1.50, 2.10, 3.29]\n",
    "for p in prices:\n",
    "    print(get_discount(p))"
   ]
  },
  {
   "cell_type": "markdown",
   "id": "5ffe9b18-6f31-4707-8f74-1ae1567c9976",
   "metadata": {},
   "source": [
    "The scope of the variable `price`, as defined in the `get_discount` function definition, is only within the get_discount function. You can't refer to that variable outside of the function:"
   ]
  },
  {
   "cell_type": "code",
   "execution_count": null,
   "id": "04a5de37-101c-4d11-bd18-d29fac3d2067",
   "metadata": {},
   "outputs": [],
   "source": [
    "discount_multiplier = 0.8\n",
    "\n",
    "def get_discount(price):\n",
    "    return round(price * discount_multiplier, 2)\n",
    "\n",
    "prices = [1.50, 2.10, 3.29]\n",
    "print(f'Applying discounts with {discount_multiplier}')\n",
    "for p in prices:\n",
    "    print(get_discount(p))\n",
    "    print(price)  # NameError"
   ]
  },
  {
   "cell_type": "markdown",
   "id": "9150037a-ac31-415c-987c-48b8b98e6d85",
   "metadata": {},
   "source": [
    "You can use the same variable name in multiple places, and they will refer to different things:"
   ]
  },
  {
   "cell_type": "code",
   "execution_count": null,
   "id": "eb404f16-6117-4264-979f-23d304920d2f",
   "metadata": {},
   "outputs": [],
   "source": [
    "def get_discount(price):\n",
    "    return price * 0.8\n",
    "\n",
    "def apply_discounts():\n",
    "    price = 1.29\n",
    "    # The get_discount function doesn't use the price variable\n",
    "    # we just defined.\n",
    "    discounted = get_discount(10.59)\n",
    "    print(discounted)\n",
    "\n",
    "apply_discounts()"
   ]
  },
  {
   "cell_type": "markdown",
   "id": "83e5ba02-b5be-48ba-aba3-39d68d11175b",
   "metadata": {},
   "source": [
    "In Python, blocks do not interact with scope. So if you have a variable that is assigned in an `if` or `for` block, it is still available after the block is finished. This can be surprising!"
   ]
  },
  {
   "cell_type": "code",
   "execution_count": null,
   "id": "3b01a2af-8506-44de-857f-c1a011ffe98d",
   "metadata": {},
   "outputs": [],
   "source": [
    "prices = [1.50, 2.10, 3.29]\n",
    "\n",
    "for price in prices:\n",
    "    get_discount(price)\n",
    "\n",
    "# Price still refers to the last thing it was assigned in the for loop!\n",
    "print(price)"
   ]
  },
  {
   "cell_type": "markdown",
   "id": "31ebc9af",
   "metadata": {},
   "source": [
    "## Adding default arguments\n",
    "\n",
    "A popular pattern when writing Python code is to use keyword arguments to introduce new features to a function without having to update all of the existing places where it is called."
   ]
  },
  {
   "cell_type": "code",
   "execution_count": null,
   "id": "1ea57c5f",
   "metadata": {},
   "outputs": [],
   "source": [
    "def find_job(database, cpu):\n",
    "    workers = []\n",
    "    for name, cycles in database.items():\n",
    "        if cycles >= cpu:\n",
    "            workers.append(name)\n",
    "    return workers\n",
    "        \n",
    "def find_increasing_jobs(database):\n",
    "    candidates = {}\n",
    "    for i in range(0, 100, 10):\n",
    "        candidates[i] = find_job(database, i)\n",
    "    return candidates\n",
    "        \n",
    "db = {\n",
    "    'alpha': 45,\n",
    "    'beta': 55,\n",
    "    'gamma': 91,\n",
    "    'phi': 27,\n",
    "}\n",
    "\n",
    "data = find_increasing_jobs(db)\n",
    "print(data)"
   ]
  },
  {
   "cell_type": "markdown",
   "id": "7801a176",
   "metadata": {},
   "source": [
    "We can add an argument for only returning the first job that meets our criteria. The main thing here to consider is that the default value of the argument should match the behavior before we modified the code. Here we introduce the `first_only` keyword argument, and set it to `False` because the old version of the function behaved as if this value was `False`."
   ]
  },
  {
   "cell_type": "code",
   "execution_count": null,
   "id": "229bc790",
   "metadata": {},
   "outputs": [],
   "source": [
    "def find_job(database, cpu, first_only=False):\n",
    "    workers = []\n",
    "    for name, cycles in database.items():\n",
    "        if cycles >= cpu:\n",
    "            workers.append(name)\n",
    "            if first_only:\n",
    "                break\n",
    "    return workers\n",
    "\n",
    "def find_first_increasing_jobs(database):\n",
    "    candidates = {}\n",
    "    for i in range(0, 100, 10):\n",
    "        candidates[i] = find_job(database, i, first_only=True)\n",
    "    return candidates\n",
    "\n",
    "data = find_increasing_jobs(db)\n",
    "print(data)\n",
    "\n",
    "print('===')\n",
    "\n",
    "data2 = find_first_increasing_jobs(db)\n",
    "print(data2)"
   ]
  },
  {
   "cell_type": "markdown",
   "id": "2d8743ae-61aa-4e06-baf7-0ebcc515bcb0",
   "metadata": {},
   "source": [
    "# *args and **kwargs\n",
    "\n",
    "Python provides the special parameters `*args` and `**kwargs`, that capture all of the remaining positional (`*args`) and keyword (`**kwargs`) arguments to a function. Let's see this in practice."
   ]
  },
  {
   "cell_type": "code",
   "execution_count": null,
   "id": "236afb28",
   "metadata": {},
   "outputs": [],
   "source": [
    "def color_them(color, *args):\n",
    "    for arg in args:\n",
    "        print('%s: %s' % (color, arg))\n",
    "        \n",
    "color_them('red', 1, 2, 3)"
   ]
  },
  {
   "cell_type": "markdown",
   "id": "75647ddb-ea1b-4e83-b126-f579d5529308",
   "metadata": {},
   "source": [
    "The first argument, `'red'` is assigned to the argument `color`. Then the next positional arguments, as many as we want, are assigned to `args`, which is a list. Notice that when referring to `args` in the code, we omit the asterisk (`*`), which is only used in the function definition to indicate that `args` is a special variable that is capturing all of the remaining positional arguments.\n",
    "\n",
    "We can define keyword arguments after `*args` if we like."
   ]
  },
  {
   "cell_type": "code",
   "execution_count": null,
   "id": "fdb9aa54",
   "metadata": {},
   "outputs": [],
   "source": [
    "def color_them2(color, *args, print_twice=False):\n",
    "    for arg in args:\n",
    "        i = 1\n",
    "        if print_twice:\n",
    "            i = 2\n",
    "        # We use a single underscore, '_', to indicate that\n",
    "        # we're not using a variable. It doesn't have any\n",
    "        # special meaning, it's just a convention.\n",
    "        for _ in range(i):\n",
    "            print('%s: %s' % (color, arg))\n",
    "            \n",
    "color_them2('blue', 10, 20, 30, 40, 50, print_twice=True)"
   ]
  },
  {
   "cell_type": "markdown",
   "id": "654286ea-2248-4fb0-99d8-cb10040473e6",
   "metadata": {},
   "source": [
    "What if we want to use a variable length list of `*args` to call a function that can take a variable length list of `*args`?"
   ]
  },
  {
   "cell_type": "code",
   "execution_count": null,
   "id": "8d59b033",
   "metadata": {},
   "outputs": [],
   "source": [
    "def color_with_header(color, *args):\n",
    "    print('=== %s ===' % color)\n",
    "    color_them(color, *args)\n",
    "    \n",
    "color_with_header('green', 100, 150, 200, 250)"
   ]
  },
  {
   "cell_type": "markdown",
   "id": "ee25a0fc-46e9-428e-bd15-e830160f207c",
   "metadata": {},
   "source": [
    "Here, we again using the asterisk (`*`) but it has a different meaning. When we use it on line 5 above in our call to `color_them`, we are using it as the **unpacking operator**. This means, take an actual list of items, and extract each one, rather than just passing it as a list.\n",
    "\n",
    "You may be wondering why we would use `*args` instead of just passing a single item that represents a list. We'll get back to that, promise."
   ]
  },
  {
   "cell_type": "code",
   "execution_count": null,
   "id": "8b418172",
   "metadata": {},
   "outputs": [],
   "source": [
    "def color_them3(color, things):\n",
    "    for thing in things:\n",
    "        print('%s: %s' % (color, thing))\n",
    "\n",
    "color_them3('yellow', [3, 5, 7])"
   ]
  },
  {
   "cell_type": "markdown",
   "id": "ab2100d9-ffeb-492c-9f18-22b487ac5ce3",
   "metadata": {},
   "source": [
    "Just like we have a way to capture any variable number of positional args, we can also capture keyword args using `**kwargs`."
   ]
  },
  {
   "cell_type": "code",
   "execution_count": null,
   "id": "8ef472bb",
   "metadata": {},
   "outputs": [],
   "source": [
    "def print_prices(header, multiplier=1, **kwargs):\n",
    "    print(header)\n",
    "    for thing, price in kwargs.items():\n",
    "        print('%s costs %s' % (thing, price * multiplier))\n",
    "        \n",
    "print_prices('The prices:', apple=1.29, orange=1.59, banana=0.89)"
   ]
  },
  {
   "cell_type": "markdown",
   "id": "535962f4-a980-4a6c-b787-85fe6e50be36",
   "metadata": {},
   "source": [
    "We can pass literally any valid python identifier to the `print_prices` function, and they will all be captured in the dictionary `kwargs`. Notice that there is still a positional argument (we can have as many of those as we like) and a named keyword argument (`multiplier`) that can be specified as well and will be captured outside of `kwargs` (so `multiplier` won't be part of the `kwargs` dictionary)."
   ]
  },
  {
   "cell_type": "code",
   "execution_count": null,
   "id": "c2774bc6",
   "metadata": {},
   "outputs": [],
   "source": [
    "print_prices('Toy prices:', train=5.50, multiplier=2, blocks=1.00)"
   ]
  },
  {
   "cell_type": "markdown",
   "id": "23eefbdd-2c7d-499e-8e30-85615ecaa317",
   "metadata": {},
   "source": [
    "Like `*args`, we can use the dictionary destruction operator `**` to pass a dictionary to a function as keyword arguments."
   ]
  },
  {
   "cell_type": "code",
   "execution_count": null,
   "id": "be92022b",
   "metadata": {},
   "outputs": [],
   "source": [
    "def turn_the_car(direction='left', speed=30):\n",
    "    print(direction, speed)\n",
    "    \n",
    "my_kwargs = {'direction': 'right'}\n",
    "turn_the_car(**my_kwargs)"
   ]
  },
  {
   "cell_type": "markdown",
   "id": "e448986f-5f24-4cb1-a138-7dd0ee066970",
   "metadata": {},
   "source": [
    "It's important to note that you can't call the function `turn_the_car` with an arbitrary destructured dictionary, because it's not set up to accept arbitrary keyword arguments."
   ]
  },
  {
   "cell_type": "code",
   "execution_count": null,
   "id": "4a732d61",
   "metadata": {},
   "outputs": [],
   "source": [
    "my_kwargs2 = {'direction': 'up', 'brake': True, 'foo': 'bar'}\n",
    "turn_the_car(**my_kwargs2)"
   ]
  },
  {
   "cell_type": "markdown",
   "id": "fe2e00ec-7823-4f28-afdd-f0fb1a292017",
   "metadata": {},
   "source": [
    "So what's the point of all this? The main reason to capture `*args` and `**kwargs` is so that you can confidently delegate to or wrap helper functions. Let's say we had a function that performs some task. Maybe we want to print out a logging message before and after the task."
   ]
  },
  {
   "cell_type": "code",
   "execution_count": null,
   "id": "b9fb3531",
   "metadata": {},
   "outputs": [],
   "source": [
    "def perform_task(data, instruction, preference=False, num_rows=100):\n",
    "    # Doesn't actually do anything, left to your imagination\n",
    "    print(data, instruction, preference, num_rows)\n",
    "\n",
    "def log_perform_task(*args, **kwargs):\n",
    "    print('About to run perform_task')\n",
    "    perform_task(*args, **kwargs)\n",
    "    print('Done with perform_task')\n",
    "    \n",
    "perform_task([1,2,3], 'foo')\n",
    "log_perform_task([4,5,6], 'bar', num_rows=50)"
   ]
  },
  {
   "cell_type": "markdown",
   "id": "2121b3ba-7dc9-4cc7-a4af-e66ff34e86a7",
   "metadata": {},
   "source": [
    "Here, what we're basicially saying is: \"Whatever positional arguments and keyword arguments were passed to this function, pass those same arguments to the function we're calling\". So the `*args` and `**kwargs` arguments in the definition of `log_perform_task` capture the positional and keyword arguments, which are then **destructured** and passed as the positional and keyword arguments of `perform_task`.\n",
    "\n",
    "We could also modify or remove parameters:"
   ]
  },
  {
   "cell_type": "code",
   "execution_count": null,
   "id": "eb7f442a",
   "metadata": {},
   "outputs": [],
   "source": [
    "def perform_twice_as_many_rows(*args, **kwargs):\n",
    "    if 'num_rows' in kwargs:\n",
    "        kwargs['num_rows'] *= 2\n",
    "    perform_task(*args, **kwargs)\n",
    "    \n",
    "perform_twice_as_many_rows([1,2,3], 'foo', num_rows=500)"
   ]
  },
  {
   "cell_type": "markdown",
   "id": "97bde14e-2612-411d-bf84-dde1ad24e166",
   "metadata": {},
   "source": [
    "We could have also explicitly defined the necessary parameters for our utility function:"
   ]
  },
  {
   "cell_type": "code",
   "execution_count": null,
   "id": "8d369ee4",
   "metadata": {},
   "outputs": [],
   "source": [
    "def log_perform_task_worse(data, instruction, preference=False, num_rows=100):\n",
    "    print('About to run perform_task')\n",
    "    perform_task(data, instruction, preference=preference, num_rows=num_rows)\n",
    "    print('Done with perform_task')"
   ]
  },
  {
   "cell_type": "markdown",
   "id": "8439077f-3903-4851-871b-e274b6ef5886",
   "metadata": {},
   "source": [
    "The problem with that approach is that we have to update all of our utility functions (and we already have two of them!) whenever the definition of `perform_task` updates. So if we add a new parameter to `perform_task`, the function `log_perfrom_task_worse` will also need to be updated."
   ]
  },
  {
   "cell_type": "code",
   "execution_count": null,
   "id": "e9484dde",
   "metadata": {},
   "outputs": [],
   "source": [
    "def perform_task(data, instruction, preference=False, num_rows=100, capture=True):\n",
    "    print(data, instruction, preference, num_rows, capture)\n",
    "    \n",
    "def log_perform_task_worse(data, instruction, preference=False, num_rows=100, capture=True):\n",
    "    print('About to run perform_task')\n",
    "    perform_task(data, instruction, preference=preference, num_rows=num_rows, capture=capture)\n",
    "    print('Done with perform_task')"
   ]
  },
  {
   "cell_type": "markdown",
   "id": "bdf9ce47-c276-4e47-be2a-0857f4f40a03",
   "metadata": {},
   "source": [
    "Instead, the `*args`/`**kwargs` approach let's us basically say \"We don't care what the arguments to the delegated function are, pass them\"."
   ]
  },
  {
   "cell_type": "markdown",
   "id": "9a4e59dc",
   "metadata": {},
   "source": [
    "## Appendix: Iterating over dictionaries\n",
    "\n",
    "We can iterate over dictionaries by calling the dictionary's `.items()` method. It returns an iterable of tuples, with each tuple containing a key and its value:"
   ]
  },
  {
   "cell_type": "code",
   "execution_count": null,
   "id": "fb67d3f5",
   "metadata": {},
   "outputs": [],
   "source": [
    "prices = {\n",
    "    'apple': 0.99,\n",
    "    'orange': 1.29,\n",
    "    'watermelon': {'one': 1.79, 'two': 2.99},\n",
    "}\n",
    "\n",
    "for key, value in prices.items():\n",
    "    print(f'Key is {key}, value is {value}')"
   ]
  }
 ],
 "metadata": {
  "kernelspec": {
   "display_name": "Python 3 (ipykernel)",
   "language": "python",
   "name": "python3"
  },
  "language_info": {
   "codemirror_mode": {
    "name": "ipython",
    "version": 3
   },
   "file_extension": ".py",
   "mimetype": "text/x-python",
   "name": "python",
   "nbconvert_exporter": "python",
   "pygments_lexer": "ipython3",
   "version": "3.12.0"
  }
 },
 "nbformat": 4,
 "nbformat_minor": 5
}
