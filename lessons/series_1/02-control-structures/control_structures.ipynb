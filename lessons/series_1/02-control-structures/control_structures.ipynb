{
 "cells": [
  {
   "cell_type": "markdown",
   "id": "d4c2ff74",
   "metadata": {},
   "source": [
    "Welcome to week 2 of the Noisebridge Python Class(https://github.com/audiodude/PythonClass)!\n",
    "\n",
    "This week, we will learn more about the basic building blocks of Python programs, starting with keywords and syntax used for what's called **flow control**.\n",
    "\n",
    "We will learn about:\n",
    "\n",
    "* if statements\n",
    "* Boolean variables\n",
    "* Boolean operators\n",
    "* for loops\n",
    "* list comprehensions\n",
    "\n",
    "The first thing we will learn is the **if statement**:"
   ]
  },
  {
   "cell_type": "code",
   "execution_count": null,
   "id": "dd1009bf",
   "metadata": {},
   "outputs": [],
   "source": [
    "x = 3\n",
    "\n",
    "if x + 2 == 5:\n",
    "    print('x is 3')\n",
    "else:\n",
    "    print('x is something other than 3')"
   ]
  },
  {
   "cell_type": "markdown",
   "id": "aaf28ba8",
   "metadata": {},
   "source": [
    "Try changing the value of x in the example above. We can see that the print statement on line 4 is executed only when x + 2 is equal (`==`) to 5. Otherwise (`else`), it prints that x is something other than 3."
   ]
  },
  {
   "cell_type": "code",
   "execution_count": null,
   "id": "8a908dd7",
   "metadata": {},
   "outputs": [],
   "source": [
    "x = 'boo'\n",
    "result = 'scary'\n",
    "\n",
    "if len(x) > 4:\n",
    "    result = 'not scary'\n",
    "    \n",
    "if len(x) > 5:\n",
    "    result = 'still not scary'\n",
    "    \n",
    "print(result)"
   ]
  },
  {
   "cell_type": "markdown",
   "id": "619b87fc",
   "metadata": {},
   "source": [
    "The `if` statement doesn't have to have an else statement along with it. In this example, the length of x (the number of characters it contains) is not greater than 4, so line 4 does not execute. It's also not greater than 5, so line 7 does not execute. The end result is the equivalent of the following:"
   ]
  },
  {
   "cell_type": "code",
   "execution_count": null,
   "id": "9ac4a1f8",
   "metadata": {},
   "outputs": [],
   "source": [
    "x = 'boo'\n",
    "result = 'scary'\n",
    "\n",
    "print(result)"
   ]
  },
  {
   "cell_type": "markdown",
   "id": "04f41ace",
   "metadata": {},
   "source": [
    "We can also express 'truthiness' (it's an actual term!) and 'falsiness' (this one too!) with **boolean variables**. A boolean variable has either the value of `True` or `False`."
   ]
  },
  {
   "cell_type": "code",
   "execution_count": null,
   "id": "35a4e5e8",
   "metadata": {},
   "outputs": [],
   "source": [
    "is_raining = True\n",
    "is_going_outside = True\n",
    "\n",
    "# Note, we are setting these values to False here not because\n",
    "# the \"final answer/result\" for them is False, but because they\n",
    "# should default to False if the code below ends up not setting\n",
    "# them to True.\n",
    "need_umbrella = False\n",
    "need_exercise = False\n",
    "\n",
    "if is_raining and is_going_outside: # The if statement executes if both values are truthy\n",
    "    need_umbrella = True\n",
    "elif not is_going_outside: # elif means \"else if\". It combines an else statement with a new if statement\n",
    "    need_exercise = True\n",
    "\n",
    "printed_something = False # Again, default value.\n",
    "if need_umbrella:\n",
    "    print('You need an umbrella')\n",
    "    printed_something = True\n",
    "\n",
    "if need_exercise:\n",
    "    print('You need to get some exercise')\n",
    "    printed_something = True\n",
    "\n",
    "if not printed_something:\n",
    "    print('Have a nice day!')"
   ]
  },
  {
   "cell_type": "markdown",
   "id": "86d35720",
   "metadata": {},
   "source": [
    "Try modifying the values of `is_raining` and `is_going_outside` above and re-running the code."
   ]
  },
  {
   "cell_type": "markdown",
   "id": "497d3493",
   "metadata": {},
   "source": [
    "---"
   ]
  },
  {
   "cell_type": "markdown",
   "id": "328213e6",
   "metadata": {},
   "source": [
    "There are also **boolean operators** which operate on boolean variables (and anything which can be evaluated for truthiness or falsiness). The important ones are:\n",
    "\n",
    "* `and`\n",
    "* `or`\n",
    "* `not`\n",
    "\n",
    "*(Note: In other languages (like C++ or Javascript), `and` is written as `&&` for example. Python is a bit more fluent in that regard)*"
   ]
  },
  {
   "cell_type": "code",
   "execution_count": null,
   "id": "4ff63cf9",
   "metadata": {},
   "outputs": [],
   "source": [
    "def deserves_ice_cream(age):\n",
    "    if age < 12:\n",
    "        return True\n",
    "    else:\n",
    "        return False\n",
    "    \n",
    "def deserves_ice_cream2(age):\n",
    "    return age < 12\n",
    "\n",
    "def is_in_park(location):\n",
    "    return location == 'playground' or location == 'picnic'\n",
    "\n",
    "alice = (35, 'playground')\n",
    "bob = (55, 'gazebo')\n",
    "claire = (5, 'playground')\n",
    "dennis = (15, 'picnic')\n",
    "\n",
    "if deserves_ice_cream(alice[0]) and is_in_park(alice[1]):\n",
    "    print('Ice cream for %s!' % (alice,))\n",
    "else:\n",
    "    print('Carry on, %s' % (alice,))"
   ]
  },
  {
   "cell_type": "markdown",
   "id": "c748eb4f",
   "metadata": {},
   "source": [
    "Try this example with different values instead of alice (like bob, claire, etc).\n",
    "\n",
    "Notice that we're using slice notation `[]` again on line 18, but we haven't actually defined a list. The variable `alice` actually refers to a **tuple**. Tuples are like lists, in that they are an ordered collection of any type of value. Aa we see, they can also be indexed and sliced just like lists. The main difference is that tuples are **immutable**, which means that once they are defined, they can't grow or shrink, or have any of their items change places like lists can. Use tuples for lists or collections of values that are static or constant."
   ]
  },
  {
   "cell_type": "markdown",
   "id": "afc93068",
   "metadata": {},
   "source": [
    "In the example above, we checked if we should give `alice` ice cream. However, it would be nice if we had a way of checking *all* of the people for whether they deserve ice cream and acting appropriately. We need some way of taking a list or tuple and running code for each item of the list. The flow control syntax for this process is called the **for loop**."
   ]
  },
  {
   "cell_type": "code",
   "execution_count": null,
   "id": "a3e69016",
   "metadata": {},
   "outputs": [],
   "source": [
    "alice = (35, 'playground', 'Alice')\n",
    "bob = (55, 'gazebo', 'Bob')\n",
    "claire = (5, 'playground', 'Claire')\n",
    "dennis = (15, 'picnic', 'Dennis')\n",
    "\n",
    "everyone = (alice, bob, claire, dennis)\n",
    "\n",
    "# This is the for loop.\n",
    "for person in everyone:\n",
    "    # Let's make a variable to hold the name, since we refer to it\n",
    "    # twice below.\n",
    "    name = person[2]\n",
    "    # Don't really need extra variables for age and location since\n",
    "    # they're only used once. But it might be more legible to do so.\n",
    "    if deserves_ice_cream(person[0]) and is_in_park(person[1]):\n",
    "        print('Ice cream for %s!' % name)\n",
    "    else:\n",
    "        print('Carry on, %s' % name)"
   ]
  },
  {
   "cell_type": "markdown",
   "id": "1b38c350",
   "metadata": {},
   "source": [
    "The way this code works is that when the interpreter gets to line 9, it starts assigning items from `everyone` to the variable `person`. The variable `person` first contains the value for `alice`, then `bob`, etc. When we say:\n",
    "\n",
    "`name = person[2]`\n",
    "\n",
    "We're saying \"Set the variable name to the item at index 2 of the person we're on, whichever one in the list we're on\".\n",
    "\n",
    "Also note that `everyone` is a tuple of tuples. That is, each item in the `everyone` tuple is, itself, a tuple. Tuples (and lists and dictionaries...) can be **nested** arbitrarily deeply in this way.\n",
    "\n",
    "Let's try counting how many people got ice cream."
   ]
  },
  {
   "cell_type": "code",
   "execution_count": null,
   "id": "aab3c665",
   "metadata": {},
   "outputs": [],
   "source": [
    "count = 0\n",
    "for person in everyone:\n",
    "    if deserves_ice_cream(person[0]) and is_in_park(person[1]):\n",
    "        print('Ice cream for %s' % person[2])\n",
    "        count += 1 # x += y is the same as x = x + y\n",
    "        \n",
    "if count:\n",
    "    if count == 1:\n",
    "        person_noun = 'person'\n",
    "    else:\n",
    "        person_noun = 'people'\n",
    "    print('Wow, %s %s got ice cream' % (count, person_noun))"
   ]
  },
  {
   "cell_type": "markdown",
   "id": "82fe5fd6",
   "metadata": {},
   "source": [
    "Alongside this notebook, we have provided a file which contains a list of numbers labelled with a letter. One data item is on each line. What does this data represent? Who knows! But we're going to process it. Let's start by opening the file and reading each line into it's own entry in a list."
   ]
  },
  {
   "cell_type": "code",
   "execution_count": null,
   "id": "3ae94aba",
   "metadata": {},
   "outputs": [],
   "source": [
    "with open('data.txt', 'r') as file:\n",
    "    lines = file.read().splitlines()"
   ]
  },
  {
   "cell_type": "markdown",
   "id": "97fc9e87",
   "metadata": {},
   "source": [
    "Now we can write a program that prints all the lines that start with `'A'`"
   ]
  },
  {
   "cell_type": "code",
   "execution_count": null,
   "id": "1b2e7185",
   "metadata": {},
   "outputs": [],
   "source": [
    "for line in lines:\n",
    "    if line.startswith('A'):\n",
    "        print(line)"
   ]
  },
  {
   "cell_type": "markdown",
   "id": "383f6223",
   "metadata": {},
   "source": [
    "Since we have all those lines, we can split them (remember `split`?) on the space and then **cast** the numbers to integers, so that we can do extract the values and add them all up."
   ]
  },
  {
   "cell_type": "code",
   "execution_count": null,
   "id": "0cbeb4b6",
   "metadata": {},
   "outputs": [],
   "source": [
    "total = 0\n",
    "for line in lines:\n",
    "    if line.startswith('A'):\n",
    "        # Since the result of the .split is two values, we can assign them both at once\n",
    "        letter, number_as_string = line.split(' ')\n",
    "        total += int(number_as_string)\n",
    "print('Total for A is: %s' % total)"
   ]
  },
  {
   "cell_type": "markdown",
   "id": "6a3d9a4e",
   "metadata": {},
   "source": [
    "Try to understand why we had to call `int(number_as_string)`. What is the difference between `2` and `'2'`?"
   ]
  },
  {
   "cell_type": "markdown",
   "id": "1501825d",
   "metadata": {},
   "source": [
    "We can use a **list comprehension** to build new lists based on our lists of lines. For example, we can extract a list of letters, or numbers only."
   ]
  },
  {
   "cell_type": "code",
   "execution_count": null,
   "id": "02c64baf",
   "metadata": {},
   "outputs": [],
   "source": [
    "letters = [line.split(' ')[0] for line in lines]\n",
    "numbers = [int(line.split(' ')[1]) for line in lines]\n",
    "\n",
    "print(letters)\n",
    "print(numbers)"
   ]
  },
  {
   "cell_type": "markdown",
   "id": "8ebf4f60",
   "metadata": {},
   "source": [
    "A list comprehension is like a for loop all one one line. Here, we're assigning each value in `lines` to the variable `line`. Then, the expression on the leftmost side (`line.split(' ')[0]`) is executed for each `line`. The result is returned as a new list.\n",
    "\n",
    "*Side note: it might not be the best idea to go through the lists twice, once for letters and once for numbers, especially if the lists are particularly huge. For our purposes, it doesn't matter.*\n",
    "\n",
    "We can also add the `if` keyword to our list comprehensions, to do filtering of all kinds."
   ]
  },
  {
   "cell_type": "code",
   "execution_count": null,
   "id": "8b16849b",
   "metadata": {},
   "outputs": [],
   "source": [
    "a_lines = [line for line in lines if line.startswith('A')]\n",
    "print(a_lines)"
   ]
  },
  {
   "cell_type": "markdown",
   "id": "23efe722",
   "metadata": {},
   "source": [
    "This is almost equivalent to our for loop above that printed every line that started with 'A', except that now the values are being collected into a new list.\n",
    "\n",
    "Finally, just for fun, let's look at a \"one liner\" that calculates the total of all lines that begin with a certain letter."
   ]
  },
  {
   "cell_type": "code",
   "execution_count": null,
   "id": "bb053be2",
   "metadata": {},
   "outputs": [],
   "source": [
    "total_a = sum([int(line.split(' ')[1]) for line in lines if line.startswith('A')])\n",
    "print(total_a)"
   ]
  },
  {
   "cell_type": "markdown",
   "id": "bce333f9",
   "metadata": {},
   "source": [
    "That's it for this lesson! Be sure to check out the [official Python docs](https://docs.python.org/3/tutorial/controlflow.html) on control structures.\n",
    "\n",
    "As an assignment, try to write programs that **Finds the letter that has the largest sum of numbers and prints it out**. So if the numbers for A add up to 270, but the numbers for B add up to 320, it would print 'B'.\n",
    "\n",
    "You can write your program in this notebook by simply using \"insert cell below\"."
   ]
  }
 ],
 "metadata": {
  "kernelspec": {
   "display_name": "Python 3 (ipykernel)",
   "language": "python",
   "name": "python3"
  },
  "language_info": {
   "codemirror_mode": {
    "name": "ipython",
    "version": 3
   },
   "file_extension": ".py",
   "mimetype": "text/x-python",
   "name": "python",
   "nbconvert_exporter": "python",
   "pygments_lexer": "ipython3",
   "version": "3.9.7"
  }
 },
 "nbformat": 4,
 "nbformat_minor": 5
}
