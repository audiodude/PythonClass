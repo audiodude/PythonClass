{
 "cells": [
  {
   "cell_type": "markdown",
   "id": "c5488ddf",
   "metadata": {},
   "source": [
    "Welcome to week 9, of the [Noisebridge Python Class](https://github.com/audiodude/PythonClass), part 2 of the Web Apps lesson!\n",
    "\n",
    "In this lesson you will learn:\n",
    "\n",
    "* Setting up an SQL schema for use with the app (repeat of SQL lesson)\n",
    "* Receiving input from the URL and URL matching\n",
    "* Receiving input using GET/query parameters\n",
    "* Receiving user input from a `<form>` and creating a new row in a database\n",
    "* Using templating to display a list of the data added to the app\n",
    "\n",
    "Okay, let's go!"
   ]
  },
  {
   "cell_type": "markdown",
   "id": "7613e068",
   "metadata": {},
   "source": [
    "Similar to what we did in [Lesson 5](https://sfpythonlab.com/hub/user-redirect/git-pull?repo=https%3A%2F%2Fgithub.com%2Faudiodude%2FPythonClass&branch=main&urlpath=tree%2FPythonClass%2Flessons%2F05-sql%2Fsql_in_python.ipynb), we can set up a schema for our web app, in order to store and persist data.\n",
    "\n",
    "We will use the same schema we used there. As a reminder it's:\n",
    "\n",
    "```sql\n",
    "CREATE TABLE IF NOT EXISTS links (\n",
    "  id INTEGER NOT NULL PRIMARY KEY,\n",
    "  name VARCHAR(255),\n",
    "  url TEXT,\n",
    "  created_at TIMESTAMP,\n",
    "  upvotes INTEGER DEFAULT 0,\n",
    "  downvotes INTEGER DEFAULT 0\n",
    ");\n",
    "\n",
    "CREATE TABLE IF NOT EXISTS users (\n",
    "  id INTEGER NOT NULL PRIMARY KEY,\n",
    "  email TEXT,\n",
    "  hashed_password VARCHAR(255),\n",
    "  profile TEXT\n",
    ");\n",
    "```\n",
    "\n",
    "This data is available in `schema.sql` in this directory.\n",
    "\n",
    "To load the schema in a sqlite database, we can use the command line to do that process \"offline\", aka outside of the code of the web app itself. From the `radish/` directory we run:\n",
    "\n",
    "\n",
    "```\n",
    "sqlite3 db.sqlite < ../schema.sql\n",
    "```\n",
    "\n",
    "This runs all of the SQL commands in schema.sql as input to the `sqlite3 db.sqlite` comand, which then creates the given database from those commands (which are database creation commands)."
   ]
  },
  {
   "cell_type": "markdown",
   "id": "f3a3c148",
   "metadata": {},
   "source": [
    "We can take user input directly from the URL using \"URL matching\". Let's look at an example (in `01-url-matching`):"
   ]
  },
  {
   "cell_type": "code",
   "execution_count": null,
   "id": "464c93f3",
   "metadata": {},
   "outputs": [],
   "source": [
    "import flask\n",
    "\n",
    "app = flask.Flask(__name__)\n",
    "\n",
    "@app.route('/hello/<name>')\n",
    "def hello(name):\n",
    "  return f'Hello {name}'"
   ]
  },
  {
   "cell_type": "markdown",
   "id": "4b1aabcb",
   "metadata": {},
   "source": [
    "If we go to http://localhost:5000/hello/Abby, we see \"Hello Abby\". Note that the name of the function doesn't matter, but the paramter name needs to match the value in angle brackets in the route (`name`).\n",
    "\n",
    "*If you haven't read through lesson 8, web apps part 1, yet, now would be a good time to read about setting up an activating a virtual env, and installing and running Flask.*\n",
    "\n",
    "We can use multiple routes on the same function along with a default value to provide a greeting even when the name is omitted:"
   ]
  },
  {
   "cell_type": "code",
   "execution_count": null,
   "id": "0983fc5b",
   "metadata": {},
   "outputs": [],
   "source": [
    "import flask\n",
    "\n",
    "app = flask.Flask(__name__)\n",
    "\n",
    "@app.route('/hello/')\n",
    "@app.route('/hello/<name>')\n",
    "def hello(name='World'):\n",
    "  return f'Hello {name}'"
   ]
  },
  {
   "cell_type": "markdown",
   "id": "def3be32",
   "metadata": {},
   "source": [
    "*(This is the example in 01-url-matching/main.py)*"
   ]
  },
  {
   "cell_type": "markdown",
   "id": "bc245e91",
   "metadata": {},
   "source": [
    "We have to provide a default parameter to `name`, making it a keyword argument, so that if the first route is triggered and it doesn't have a value, the function can still run.\n",
    "\n",
    "We can also use what are known as **query parameters** to capture the value we wish to display. You've probably seen query parameters (maybe sometimes called \"GET parameters\") in URLs before, like:\n",
    "\n",
    "https://www.google.com/search?q=flask+python&rlz=1C1CHBF_enUS1029US1029&\n",
    "\n",
    "Where everything after the `?` is the query. Query parameters come as key/value pairs, where the key is on the left side of the equal sign and the value is on the right. So in the above, `q=flask+python` means that the key `q` has a value of `flask+python` (+ signs in query parameters represent spaces, and will be sent to your web app as such).\n",
    "\n",
    "Let's re-write our flask app to use query parameters:"
   ]
  },
  {
   "cell_type": "code",
   "execution_count": 3,
   "id": "b828ad74",
   "metadata": {},
   "outputs": [],
   "source": [
    "import flask\n",
    "\n",
    "app = flask.Flask(__name__)\n",
    "\n",
    "@app.route('/hello/')\n",
    "def hello():\n",
    "  name = flask.request.args.get('name', 'World')\n",
    "  return f'Hello {name}'"
   ]
  },
  {
   "cell_type": "markdown",
   "id": "b29be3e2",
   "metadata": {},
   "source": [
    "Here we use the special flask variable `request`, which contains lots of useful information about the incoming request. We're interested in `args`, which operates almost like a Python dictionary with a few special exceptions. We use the `get` method of args to retrieve the query with the key `name`, defaulting to the string `'World'` if it doesn't exist.\n",
    "\n",
    "When we visit http://localhost:5000/hello/?name=Abby we see \"Hello Abby\" and when we visit http://localhost:5000/hello we see \"Hello World\". One thing to note about query params is that there is no inherent error if they are missing or if additional parameters are specified. We can visit http://localhost:5000/hello/?naame=Abby&foo=bar and see that we get \"Hello World\" (since name is mispelled: `naame`, there is no entry for `name` in the params)."
   ]
  },
  {
   "cell_type": "markdown",
   "id": "23f35eec",
   "metadata": {},
   "source": [
    "Now, most web apps don't expect the users to put parameters directly in the URL. We should create a form for greeting people. Here is `templates/index.html`:"
   ]
  },
  {
   "cell_type": "markdown",
   "id": "96c866c5",
   "metadata": {},
   "source": [
    "```html\n",
    "<!DOCTYPE html>\n",
    "<html>\n",
    "  <head>\n",
    "    <title>Hello</title>\n",
    "  </head>\n",
    "  <body>\n",
    "    <form action=\"/hello\">\n",
    "      Name: <input name=\"name\" placeholder=\"Your name\" /><br />\n",
    "      <button>Enter</button>\n",
    "    </form>\n",
    "  </body>\n",
    "</html>\n",
    "```"
   ]
  },
  {
   "cell_type": "markdown",
   "id": "dbced963",
   "metadata": {},
   "source": [
    "When we add a handler for the main page of the site, we can visit it and see this form:\n",
    "\n",
    "![Screenshot of a simple web form](https://pixelfed.social/storage/m/_v2/588554065884192073/c51ea9690-856390/XLASpCaktHQy/iWmmCS2KcWpUh9qmyUzL1YgFwMVLx6eM2Fw3OWQj.png)\n",
    "\n",
    "When we fill out the form and click \"Enter\", the browser converts the parameters to query parameters and sends us to `/hello/`, which we specified as the `action` of the `<form>`.\n",
    "\n",
    "*(The code for this part is in 02-get-params)*"
   ]
  },
  {
   "cell_type": "markdown",
   "id": "899abc42",
   "metadata": {},
   "source": [
    "---"
   ]
  },
  {
   "cell_type": "markdown",
   "id": "125d0984",
   "metadata": {},
   "source": [
    "Query parameters are useful when you want to capture data from the user, but you want any visitor to the URL to see the page rendered with those params. For example, my link to Google above will work if you click on it, and will take you to a page with the same query as the one I entered when I copied the URL. In the same way, going to http://localhost:5000/hello?name=Brad will always show \"Hello Brad\".\n",
    "\n",
    "However, sometimes we want to use input from the user to alter data in our application. If we want to build the *Radish* application, we will need some way to input the URL data. We *could* use query parameters for that, and we might end up with a URL like:\n",
    "\n",
    "http://localhost:5000/link/new?name=Google&url=http://google.com&...\n",
    "\n",
    "The problem with this approach is that if a user shares a link to this URL, we will create a new \"link\" entry in our database every time it is accessed. For requests that mutate data, we should use **POST parameters**.\n",
    "\n",
    " While a GET request is made every time you type a URL, for POST parameters the browser must make a special type of request to the web app called a **POST request**."
   ]
  },
  {
   "cell_type": "markdown",
   "id": "c4a27280",
   "metadata": {},
   "source": [
    "To capture and process POST parameters, we make a couple small tweaks to our web app. First, we change the HTML to add `method=\"POST\"` to the form, to tell the browser to make the request using a POST action instead of GET with query parameters. As part of this, the parameters are transferred \"invisibly\" as part of the request body (instead of being in the URL). Rest assured, they are being transferred."
   ]
  },
  {
   "cell_type": "markdown",
   "id": "964e372b",
   "metadata": {},
   "source": [
    "```html\n",
    "<!DOCTYPE html>\n",
    "<html>\n",
    "  <head>\n",
    "    <title>Hello</title>\n",
    "  </head>\n",
    "  <body>\n",
    "    <form action=\"/hello\" method=\"POST\">\n",
    "      Name: <input name=\"name\" placeholder=\"Your name\" /><br />\n",
    "      <button>Enter</button>\n",
    "    </form>\n",
    "  </body>\n",
    "</html>\n",
    "```"
   ]
  },
  {
   "cell_type": "markdown",
   "id": "36b7fa13",
   "metadata": {},
   "source": [
    "Next we change our application functions. We specify in our route that the `hello` function now should be accessed using only POST requests. We also use `flask.request.form` instead of `flask.request.args`. The former is for POST and the latter is for GET (a simple Google search will help you if you ever forget this distinction)."
   ]
  },
  {
   "cell_type": "code",
   "execution_count": 5,
   "id": "0339cf4e",
   "metadata": {},
   "outputs": [],
   "source": [
    "import flask\n",
    "\n",
    "app = flask.Flask(__name__)\n",
    "\n",
    "@app.route('/')\n",
    "def index():\n",
    "  return flask.render_template('index.html')\n",
    "  \n",
    "@app.route('/hello/', methods=[\"POST\"])\n",
    "def hello():\n",
    "  name = flask.request.form.get('name', 'World')\n",
    "  return f'Hello {name}'"
   ]
  },
  {
   "cell_type": "markdown",
   "id": "23926fd9",
   "metadata": {},
   "source": [
    "---"
   ]
  },
  {
   "cell_type": "markdown",
   "id": "fce2ee18",
   "metadata": {},
   "source": [
    "Now that we know how to process POST data, we can create a form for users to add links to Radish:"
   ]
  },
  {
   "cell_type": "markdown",
   "id": "b461cce0",
   "metadata": {},
   "source": [
    "```html\n",
    "<!DOCTYPE html>\n",
    "<html>\n",
    "  <head>\n",
    "    <title>Radish - Add a link</title>\n",
    "  </head>\n",
    "  <body>\n",
    "    <form action=\"/links/create\" method=\"POST\">\n",
    "      <div>URL: <input name=\"url\" placeholder=\"Site URL\" /></div>\n",
    "      <div>Name: <input name=\"name\" placeholder=\"Name of site\" /></div>\n",
    "      <button>Create Link</button>\n",
    "    </form>\n",
    "  </body>\n",
    "</html>\n",
    "```"
   ]
  },
  {
   "cell_type": "markdown",
   "id": "20e04494",
   "metadata": {},
   "source": [
    "Now we need a function in our web app to process data from this form and add the data to the database:"
   ]
  },
  {
   "cell_type": "code",
   "execution_count": 6,
   "id": "f028ee49",
   "metadata": {},
   "outputs": [],
   "source": [
    "from contextlib import closing\n",
    "import sqlite3\n",
    "\n",
    "import flask\n",
    "\n",
    "app = flask.Flask(__name__)\n",
    "\n",
    "@app.route('/')\n",
    "def index():\n",
    "  return flask.render_template('index.html')\n",
    "\n",
    "@app.route('/links/new')\n",
    "def new_link():\n",
    "  return flask.render_template('new_link.html')\n",
    "  \n",
    "@app.route('/links/create', methods=[\"POST\"])\n",
    "def create_link():\n",
    "  name = flask.request.form.get('name')\n",
    "  url = flask.request.form.get('url')\n",
    "  if not name or not url:\n",
    "    flask.abort(400)\n",
    "\n",
    "  db = sqlite3.connect('../db.sqlite')\n",
    "  with closing(db.cursor()) as cursor:\n",
    "    db.execute('''\n",
    "      INSERT INTO links (name, url) VALUES (?, ?)\n",
    "    ''', (name, url))\n",
    "  db.commit()\n",
    "\n",
    "  return flask.redirect('/')"
   ]
  },
  {
   "cell_type": "markdown",
   "id": "dab967f5",
   "metadata": {},
   "source": [
    "While we could have had the same function render `/links/new` and `/links/create`, it would have meant making that function accessible by both GET and POST. We would then have to inspect which method was used and either display the form or process the data. It's cleaner to have them live at separate URLs."
   ]
  },
  {
   "cell_type": "code",
   "execution_count": null,
   "id": "ec2a22cc",
   "metadata": {},
   "outputs": [],
   "source": []
  }
 ],
 "metadata": {
  "kernelspec": {
   "display_name": "Python 3 (ipykernel)",
   "language": "python",
   "name": "python3"
  },
  "language_info": {
   "codemirror_mode": {
    "name": "ipython",
    "version": 3
   },
   "file_extension": ".py",
   "mimetype": "text/x-python",
   "name": "python",
   "nbconvert_exporter": "python",
   "pygments_lexer": "ipython3",
   "version": "3.9.7"
  }
 },
 "nbformat": 4,
 "nbformat_minor": 5
}
