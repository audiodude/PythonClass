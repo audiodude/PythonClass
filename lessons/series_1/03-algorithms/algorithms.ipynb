{
 "cells": [
  {
   "cell_type": "markdown",
   "id": "f7c62b1b",
   "metadata": {},
   "source": [
    "Welcome to Lesson 3 of the Noisebridge Python Class! (https://github.com/audiodude/PythonClass)\n",
    "\n",
    "In this lesson, we will begin studying **algorithms**. An algorithm is a process or sequence of steps used to perform a task or complete a computation. We will start with basic, everyday algorithms and proceed to some more traditional \"computer science\" algorithms.\n",
    "\n",
    "You will learn:\n",
    "\n",
    "* An algorithm for finding the biggest of a list of numbers\n",
    "* An algorithm for counting characters in a string\n",
    "* Using the output of one algorithm as input to another"
   ]
  },
  {
   "cell_type": "markdown",
   "id": "048b8159",
   "metadata": {},
   "source": [
    "Let's say we have a list of numbers:"
   ]
  },
  {
   "cell_type": "code",
   "execution_count": 9,
   "id": "d386559d",
   "metadata": {},
   "outputs": [],
   "source": [
    "numbers = [10, 42, -5, 17, 23, -12, 34, 35, 8]"
   ]
  },
  {
   "cell_type": "markdown",
   "id": "c3b92f44",
   "metadata": {},
   "source": [
    "How do we find the largest number in the list?\n",
    "\n",
    "The algorithm looks something like this:\n",
    "\n",
    "1. Take the first number from the list, and assume it is the biggest.\n",
    "1. Compare it to the next number in the list. If the next number is bigger, consider that the biggest.\n",
    "1. Continue in this way, comparing to the next number in the list each time, until you reach the end of the list.\n",
    "\n",
    "So we \"walk\" or \"iterate\" through the list, comparing the current \"biggest number candidate\" to the next number, until we reach the end of the list.\n",
    "\n",
    "How would we write code for this algorithm in Python?"
   ]
  },
  {
   "cell_type": "code",
   "execution_count": 7,
   "id": "981478f2",
   "metadata": {
    "hide_input": false
   },
   "outputs": [],
   "source": [
    "# Implement the biggest number algorithm"
   ]
  },
  {
   "cell_type": "code",
   "execution_count": 11,
   "id": "9a7fd1bf",
   "metadata": {
    "hide_input": true,
    "tags": [
     "hide-input"
    ]
   },
   "outputs": [
    {
     "name": "stdout",
     "output_type": "stream",
     "text": [
      "42\n"
     ]
    }
   ],
   "source": [
    "def find_biggest(nums):\n",
    "    biggest = numbers[0]\n",
    "    for n in numbers[1:]:\n",
    "        if n > biggest:\n",
    "            biggest = n\n",
    "    return biggest\n",
    "\n",
    "print(find_biggest(numbers))"
   ]
  },
  {
   "cell_type": "markdown",
   "id": "52ed012c",
   "metadata": {},
   "source": [
    "Here, on line 1, we assign the first number in the list (`numbers[0]`) to the variable `biggest`. On line 2, we create a for loop for iterating over the rest of the numbers (`numbers[1:]`, starting from index 1 to the end). Remember from a previous lesson that a for loop assigns each element in the list to the loop variable (`n`) in order.\n",
    "\n",
    "Now, taking each number `n` in order, we compare it to our candidate biggest. If it is bigger than our candidate, it becomes the new candidate for biggest (line 4)."
   ]
  },
  {
   "cell_type": "markdown",
   "id": "2d34a54c",
   "metadata": {},
   "source": [
    "Let's try another algorithm. How would you count the number of occurrences of each letter, number, and punctuation in a string?"
   ]
  },
  {
   "cell_type": "code",
   "execution_count": 3,
   "id": "c5b9b0b9",
   "metadata": {},
   "outputs": [],
   "source": [
    "# We use \\' to \"escape\" the single quote,\n",
    "# since we are using single quotes as the string delimiter\n",
    "s = 'Hello, how are you? I\\'m learning Python'"
   ]
  },
  {
   "cell_type": "markdown",
   "id": "1d5b9612",
   "metadata": {},
   "source": [
    "The steps are as follows:\n",
    "\n",
    "1. Create an empty dict that will hold the mapping between character and number of occurrences.\n",
    "1. Iterate over each character in the list, for each one:\n",
    "    1. If there is an entry in the dict for the character, increment the entry by 1.\n",
    "    1. Otherwise, create an entry in the dictionary for the character and set it to 1.\n",
    "  \n",
    "How would we write *this* algorithm in Python?"
   ]
  },
  {
   "cell_type": "code",
   "execution_count": 12,
   "id": "b9213cbd",
   "metadata": {},
   "outputs": [],
   "source": [
    "# Implement the occurrences counting algorithm"
   ]
  },
  {
   "cell_type": "code",
   "execution_count": 4,
   "id": "dbe319ee",
   "metadata": {
    "hide_input": true
   },
   "outputs": [
    {
     "name": "stdout",
     "output_type": "stream",
     "text": [
      "{' ': 6,\n",
      " \"'\": 1,\n",
      " ',': 1,\n",
      " '?': 1,\n",
      " 'H': 1,\n",
      " 'I': 1,\n",
      " 'P': 1,\n",
      " 'a': 2,\n",
      " 'e': 3,\n",
      " 'g': 1,\n",
      " 'h': 2,\n",
      " 'i': 1,\n",
      " 'l': 3,\n",
      " 'm': 1,\n",
      " 'n': 3,\n",
      " 'o': 4,\n",
      " 'r': 2,\n",
      " 't': 1,\n",
      " 'u': 1,\n",
      " 'w': 1,\n",
      " 'y': 2}\n"
     ]
    }
   ],
   "source": [
    "from pprint import pprint\n",
    "\n",
    "def count_occurrences(string):\n",
    "    answer = {}  # Empty dictionary for holding our character -> occurrences mapping\n",
    "    for char in string:\n",
    "        if char in answer:\n",
    "            answer[char] += 1 # `foo += 1` is the same as `foo = foo + 1`\n",
    "        else:\n",
    "            answer[char] = 1\n",
    "    return answer\n",
    "\n",
    "pprint(count_occurrences(s))"
   ]
  },
  {
   "cell_type": "markdown",
   "id": "18a8415a",
   "metadata": {},
   "source": [
    "The important thing to take away from these exercises is that **an algorithm is different than the code that implements it**. The algorithm is the abstract set of steps that lead to a solution in the general case. The code *implements* the algorithm, but it's possible there are multiple ways of implementing the same algorithm. Think especially of implementing an algorithm in different programming languages. The code is of course different but the algorithm is the same."
   ]
  },
  {
   "cell_type": "markdown",
   "id": "d240fb67",
   "metadata": {},
   "source": [
    "Sometimes the output of one algorithm can be used for a different purpose, such as implementing a different algorithm. For example, consider an **isogram**, which is a word with no repeating letters or numbers, whether in a row or not. How would we use the output of our occurrences counting algorithm to create an algorithm which determines if a given string is an isogram?"
   ]
  },
  {
   "cell_type": "code",
   "execution_count": 1,
   "id": "3de7e07d",
   "metadata": {
    "hide_input": true
   },
   "outputs": [
    {
     "name": "stdout",
     "output_type": "stream",
     "text": [
      "(Steps described here)\n"
     ]
    }
   ],
   "source": [
    "'''\n",
    "1. Go through the steps of the occurrence counting algorithm\n",
    "2. Take the final dictionary, and check if any of the values are greater than 1\n",
    "'''\n",
    "print('(Steps described here)')"
   ]
  },
  {
   "cell_type": "markdown",
   "id": "d6274dbb",
   "metadata": {
    "hide_input": false
   },
   "source": [
    "And what would the resulting code look like?"
   ]
  },
  {
   "cell_type": "code",
   "execution_count": 25,
   "id": "8e3f82e6",
   "metadata": {
    "hide_input": true
   },
   "outputs": [
    {
     "name": "stdout",
     "output_type": "stream",
     "text": [
      "True\n",
      "True\n"
     ]
    }
   ],
   "source": [
    "def is_isogram1(string):\n",
    "    occurrences = count_occurrences(string)\n",
    "    for v in occurrences.values():\n",
    "        if v > 1:\n",
    "            return False\n",
    "    return True\n",
    "\n",
    "def is_isogram2(string):\n",
    "    return not any([x > 1 for x in count_occurrences(string).values()])\n",
    "\n",
    "s = 'Tower'\n",
    "print(is_isogram1(s))\n",
    "print(is_isogram2(s))"
   ]
  },
  {
   "cell_type": "markdown",
   "id": "9c9d4f52",
   "metadata": {
    "hide_input": true
   },
   "source": [
    "These are two ways of implementing an algorithm for checking if a string is an isogram. Notice that both functions call the `count_occurrences` function (which we defined above). The output of that algorithm is the input to this algorithm. If you didn't have a `count_occurrences` function already defined, you could put the implementation \"inline\" inside the `is_isogram` functions: "
   ]
  },
  {
   "cell_type": "code",
   "execution_count": 4,
   "id": "914dbe6e",
   "metadata": {
    "hide_input": true
   },
   "outputs": [
    {
     "name": "stdout",
     "output_type": "stream",
     "text": [
      "True\n"
     ]
    }
   ],
   "source": [
    "def is_isogram3(string):\n",
    "    # Let's assume that this function doesn't exist\n",
    "    # occurrences = count_occurrences(string)\n",
    "    \n",
    "    # We can include its code in our is_isogram function:\n",
    "    occurrences = {}  # Empty dictionary for holding our character -> occurrences mapping\n",
    "    for char in string:\n",
    "        if char in occurrences:\n",
    "            occurrences[char] += 1 # `foo += 1` is the same as `foo = foo + 1`\n",
    "        else:\n",
    "            occurrences[char] = 1\n",
    "\n",
    "    for v in occurrences.values():\n",
    "        if v > 1:\n",
    "            return False\n",
    "    return True\n",
    "\n",
    "print(is_isogram3('Water'))"
   ]
  },
  {
   "cell_type": "markdown",
   "id": "840f7cfd",
   "metadata": {},
   "source": [
    "Before we move on to other algorithms, lets quickly introduce a new kind of loop. So far, we have seen the `for` loop, which iterates over a given list (or other iterable data structure), and assigns each item in the list to a \"loop variable\":"
   ]
  },
  {
   "cell_type": "code",
   "execution_count": 5,
   "id": "3fc03ecf",
   "metadata": {},
   "outputs": [
    {
     "name": "stdout",
     "output_type": "stream",
     "text": [
      "3\n",
      "5\n",
      "2\n",
      "4\n"
     ]
    }
   ],
   "source": [
    "stuff = [3, 5, 2, 4]\n",
    "for s in stuff:\n",
    "    print(s)"
   ]
  },
  {
   "cell_type": "markdown",
   "id": "8543c802",
   "metadata": {},
   "source": [
    "There is also a construct called a `while` loop. A `while` loop continues executing the body of the loop over and over as long as the condition of the `while` loop evaluates to `True`. Here is an example:"
   ]
  },
  {
   "cell_type": "code",
   "execution_count": 6,
   "id": "84c50d95",
   "metadata": {},
   "outputs": [
    {
     "name": "stdout",
     "output_type": "stream",
     "text": [
      "hello hello hello hello hello \n"
     ]
    }
   ],
   "source": [
    "x = ''\n",
    "while len(x) < 30:\n",
    "    x += 'hello '\n",
    "print(x)"
   ]
  },
  {
   "cell_type": "markdown",
   "id": "c278004a",
   "metadata": {},
   "source": [
    "The most important thing in a `while` loop is that you have to update the data that leads to it ending. That means in the above example, the loops ends based on the length of x, and the body of the loop makes x bigger every time. If your loop body does not influence the *condition* being tested, you could end up with an **infinite loop**, which is a common programming error where you program just \"hangs\" and runs forever."
   ]
  },
  {
   "cell_type": "code",
   "execution_count": null,
   "id": "bdff03de",
   "metadata": {},
   "outputs": [],
   "source": [
    "idx = 0\n",
    "while idx < len(stuff):\n",
    "    print(stuff[idx])\n",
    "    # This is an infinite loop. It will print the item at stuff[0] forever\n",
    "    # What we need is an assignment statement for `idx` so that it grows\n",
    "    # every time and eventually is not less than the length of `stuff`.\n",
    "    # idx += 1"
   ]
  },
  {
   "cell_type": "markdown",
   "id": "9dd71731",
   "metadata": {},
   "source": [
    "Finally, let's consider an algorithm like those taught in computer science classes. Here we will look at the problem of sorting a list, in this case a list of numbers (you can also sort lists of strings, or anything that has a defined order).\n",
    "\n",
    "Given the following input, we would like to produce the indicated output:"
   ]
  },
  {
   "cell_type": "code",
   "execution_count": 2,
   "id": "cef2392a",
   "metadata": {},
   "outputs": [],
   "source": [
    "def sort(input_list):\n",
    "    pass\n",
    "    # The special keyword 'pass' is a placeholder. Python will not\n",
    "    # allow you to have an empty block after a function definition, if\n",
    "    # statement or for loop, so if you haven't figured out what goes\n",
    "    # somewhere yet, or if you've commented out all of the actual statements\n",
    "    # you will need to use 'pass'.\n",
    "\n",
    "input_numbers = [10, 42, -5, 17, 23, -12, 34, 35, 8]\n",
    "output_numbers = sort(input_numbers)\n",
    "# [-12, -5, 8, 10, 17, 23, 34, 35, 42]"
   ]
  },
  {
   "cell_type": "markdown",
   "id": "2d727e83",
   "metadata": {},
   "source": [
    "There are many (dozens) of algorithms for sorting lists. Some are more efficient than others, based on the number of steps it takes to sort the list as the list grows. The study of how many steps it takes to sort a list, or perform any algorithm, based on the size of the input is the study of [Big O Notation](https://www.freecodecamp.org/news/big-o-notation-why-it-matters-and-why-it-doesnt-1674cfa8a23c/), which is covered extensively in computer science undergrad courses, but not particularly important for a practical coder.\n",
    "\n",
    "We will be looking at an algorithm called **insertion sort**. The general idea is to iterate through the list and build another list *inside* the list being sorted, that contains all of the numbers that we have already sorted. At each step, we grab the next value in `input_numbers` and place it in the location in the sorted list where it belongs.\n",
    "\n",
    "The steps are as follows:\n",
    "\n",
    "1. Assume the first number of the list is sorted, relative to itself. A list with one number can always be considered already \"sorted\".\n",
    "2. For each remaining number in the list:\n",
    "    1. Assign the variable `candidate` to the new number.\n",
    "    1. Compare `candidate` to the number to its left. (So if candidate is at index `input_numbers[j]`, compare it to the value at `input_numbers[j-1]`.\n",
    "    2. If it is smaller than that number, swap them\n",
    "    3. Continue until you reach a number that is not smaller, or the left end of the list.\n",
    "    \n",
    "Let's look at the python code that implements this algorithm."
   ]
  },
  {
   "cell_type": "code",
   "execution_count": 16,
   "id": "c2792e01",
   "metadata": {},
   "outputs": [],
   "source": [
    "def sort(numbers):\n",
    "    for idx in range(1, len(numbers)):\n",
    "        j = idx\n",
    "        while j > 0 and numbers[j - 1] > numbers[j]:\n",
    "            temp = numbers[j]\n",
    "            numbers[j] = numbers[j - 1]\n",
    "            numbers[j - 1] = temp\n",
    "            j = j - 1\n",
    "        idx += 1"
   ]
  },
  {
   "cell_type": "code",
   "execution_count": 17,
   "id": "b9e4abe7",
   "metadata": {},
   "outputs": [
    {
     "name": "stdout",
     "output_type": "stream",
     "text": [
      "[-12, -5, 8, 10, 17, 23, 34, 35, 42]\n"
     ]
    }
   ],
   "source": [
    "sort(input_numbers)\n",
    "print(input_numbers)"
   ]
  },
  {
   "cell_type": "markdown",
   "id": "464beb02",
   "metadata": {},
   "source": [
    "That's it for this lesson! It was expected that this might be a tough one compared to what we have covered before, so it's okay if you got a little bit lost. For extra help, be sure to come to the upcoming **review session**. Here is a [great lesson](https://www.freecodecamp.org/news/what-is-an-algorithm-definition-for-beginners/) on algorithms from Free Code Camp if you'd like to learn more."
   ]
  },
  {
   "cell_type": "code",
   "execution_count": null,
   "id": "d746df46",
   "metadata": {},
   "outputs": [],
   "source": []
  }
 ],
 "metadata": {
  "kernelspec": {
   "display_name": "Python 3 (ipykernel)",
   "language": "python",
   "name": "python3"
  },
  "language_info": {
   "codemirror_mode": {
    "name": "ipython",
    "version": 3
   },
   "file_extension": ".py",
   "mimetype": "text/x-python",
   "name": "python",
   "nbconvert_exporter": "python",
   "pygments_lexer": "ipython3",
   "version": "3.9.7"
  }
 },
 "nbformat": 4,
 "nbformat_minor": 5
}
