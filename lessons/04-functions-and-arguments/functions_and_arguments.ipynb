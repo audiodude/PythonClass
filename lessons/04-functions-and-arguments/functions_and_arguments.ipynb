{
 "cells": [
  {
   "cell_type": "markdown",
   "id": "ecc47ada",
   "metadata": {},
   "source": [
    "Welcome to **Lesson 4** of the Noisebridge Python Class! (https://github.com/audiodude/PythonClass)\n",
    "\n",
    "In this lesson, we will try to make sure you can write basic Python scripts on your own. This means we will go over some of the more nitpick-y details of the language that we may have glossed over in previous lessons, such indentation and function definitions. We will also cover exceptions and basic debugging. We will learn what can go wrong with your programs and how to recover.\n",
    "\n",
    "You will learn:\n",
    "\n",
    "* Specifics about how Python indentation/whitespace works\n",
    "* Definitions of positional and keyword arguments to functions\n",
    "* The special Python arguments: `*args` and `*kwargs`\n",
    "* Using keyword arguments to extend functionality in a backwards compatible way"
   ]
  },
  {
   "cell_type": "markdown",
   "id": "8c8de6c8",
   "metadata": {},
   "source": [
    "You may have heard that in Python, \"whitespace matters\". If you've been editing the code examples in these notebooks, or writing code in a Replit, you might have already come across an `IndentationError` or two.\n",
    "\n",
    "The rule in Python, in general, is that additional levels of indention are used to define increasingly nested blocks of code. Inside a given \"block\", all of the lines that comprise the block must have the same indentation, ie the same number of tabs or spaces."
   ]
  },
  {
   "cell_type": "code",
   "execution_count": null,
   "id": "56099553",
   "metadata": {},
   "outputs": [],
   "source": [
    "# Top level psuedo-block (not actually a block), no indentation\n",
    "x = 42\n",
    "y = x * 2\n",
    "if y > x:\n",
    "    # The colon above starts a block, inside the if statement\n",
    "    print('y is greater')\n",
    "    z = y * 2\n",
    "    # Note that every line of code in this block aligns\n",
    "    \n",
    "for i in range(x):\n",
    "    if i > 39 and i % 2 == 0:\n",
    "        # A second block requires a new level of indentation\n",
    "        print('%s is over 39 and even' % i)\n",
    "        continue\n",
    "\n",
    "    # Blank lines don't matter\n",
    "    if i % 17 == 0:\n",
    "            # The indentation of a block doesn't need to match\n",
    "            # the indentation of other sibling blocks. It just\n",
    "            # needs to be internally consistent\n",
    "            print('%s is divisible by 17' % i)\n",
    "            x2 = i + 10\n",
    "            \n",
    "    # Outdenting means the end of the block. This line runs after\n",
    "    # each of the if statements above\n",
    "    y2 = x - i\n",
    "    # This is an IndentationError, because there's no new block,\n",
    "    # but the indentation of the next line doesn't match the previous\n",
    "    #  y3 = y2 * 3"
   ]
  },
  {
   "cell_type": "markdown",
   "id": "c5ba277a",
   "metadata": {},
   "source": [
    "*(note to self, uncomment the indentation error and demonstrate that)*"
   ]
  },
  {
   "cell_type": "markdown",
   "id": "8ea02d0b",
   "metadata": {},
   "source": [
    "---"
   ]
  },
  {
   "cell_type": "markdown",
   "id": "615af545",
   "metadata": {},
   "source": [
    "Let's move on to function definitions. Functions can have any number of **positional arguments** and **keyword arguments**. Positional arguments are what we have seen so far, they are required when calling a function:"
   ]
  },
  {
   "cell_type": "code",
   "execution_count": null,
   "id": "8861b92c",
   "metadata": {},
   "outputs": [],
   "source": [
    "def my_func(pos1, pos2):\n",
    "    print(pos1, pos2)\n",
    "\n",
    "my_func(42, 'foo')"
   ]
  },
  {
   "cell_type": "markdown",
   "id": "b46754a7",
   "metadata": {},
   "source": [
    "Keyword arguments are optional and are defined with a **default value**. If the function is called with a given keyword argument missing, the default value is used inside the function. Otherwise, you can assign a value to a keyword argument when calling a function by specifying the name of the argument with an equal sign, then the value."
   ]
  },
  {
   "cell_type": "code",
   "execution_count": null,
   "id": "68299dc9",
   "metadata": {},
   "outputs": [],
   "source": [
    "def my_func2(pos1, pos2, kw1=42):\n",
    "    print(pos1, pos2, kw1)\n",
    "    \n",
    "my_func2(10, 'red', kw1=100)\n",
    "my_func2(20, 'blue')"
   ]
  },
  {
   "cell_type": "markdown",
   "id": "a9e7e819",
   "metadata": {},
   "source": [
    "When calling a function, you must specify the keyword arguments *after* the positional arguments. So the following is an error:"
   ]
  },
  {
   "cell_type": "code",
   "execution_count": null,
   "id": "40ff7d4d",
   "metadata": {},
   "outputs": [],
   "source": [
    "my_func2('foo', kw1='bar', 100)"
   ]
  },
  {
   "cell_type": "markdown",
   "id": "2a96ce81",
   "metadata": {},
   "source": [
    "Keyword arguments themselves, however, can be specified in any order."
   ]
  },
  {
   "cell_type": "code",
   "execution_count": null,
   "id": "a62a7c8a",
   "metadata": {},
   "outputs": [],
   "source": [
    "def my_func3(pos1, pos2, kw1='foo', kw2='bar', kw3='baz'):\n",
    "    print(pos1, pos2, kw1, kw2, kw3)\n",
    "    \n",
    "my_func3(10, 20, kw3='red', kw2='blue')"
   ]
  },
  {
   "cell_type": "markdown",
   "id": "20e6e5df",
   "metadata": {},
   "source": [
    "You can also specify keyword arguments as if they were positional arguments:"
   ]
  },
  {
   "cell_type": "code",
   "execution_count": null,
   "id": "b58207f2",
   "metadata": {},
   "outputs": [],
   "source": [
    "my_func3('red', 'yellow', 'blue')"
   ]
  },
  {
   "cell_type": "markdown",
   "id": "295b9e1d",
   "metadata": {},
   "source": [
    "And positional arguments as if they were keyword arguments:"
   ]
  },
  {
   "cell_type": "code",
   "execution_count": null,
   "id": "7de2cea4",
   "metadata": {},
   "outputs": [],
   "source": [
    "my_func3(pos1=10, pos2=20)"
   ]
  },
  {
   "cell_type": "markdown",
   "id": "06c23deb",
   "metadata": {},
   "source": [
    "Though in practice, doing so can cause confusion for folks who are reading your code."
   ]
  },
  {
   "cell_type": "markdown",
   "id": "90d3d605",
   "metadata": {},
   "source": [
    "---"
   ]
  },
  {
   "cell_type": "markdown",
   "id": "76756b4c",
   "metadata": {},
   "source": [
    "Python provides the special parameters `*args` and `**kwargs`, that capture all of the remaining positional (`*args`) and keyword (`**kwargs`) arguments to a function. Let's see this in practice."
   ]
  },
  {
   "cell_type": "code",
   "execution_count": null,
   "id": "d2ca2c99",
   "metadata": {},
   "outputs": [],
   "source": [
    "def color_them(color, *args):\n",
    "    for arg in args:\n",
    "        print('%s: %s' % (color, arg))\n",
    "        \n",
    "color_them('red', 1, 2, 3)"
   ]
  },
  {
   "cell_type": "markdown",
   "id": "67cd3e05",
   "metadata": {},
   "source": [
    "The first argument, `'red'` is assigned to the argument `color`. Then the next positional arguments, as many as we want, are assigned to `args`, which is a list. Notice that when referring to `args` in the code, we omit the asterisk (`*`), which is only used in the function definition to indicate that `args` is a special variable that is capturing all of the remaining positional arguments.\n",
    "\n",
    "We can define keyword arguments after `*args` if we like."
   ]
  },
  {
   "cell_type": "code",
   "execution_count": null,
   "id": "a63b4731",
   "metadata": {},
   "outputs": [],
   "source": [
    "def color_them2(color, *args, print_twice=False):\n",
    "    for arg in args:\n",
    "        i = 1\n",
    "        if print_twice:\n",
    "            i = 2\n",
    "        # We use a single underscore, '_', to indicate that\n",
    "        # we're not using a variable. It doesn't have any\n",
    "        # special meaning, it's just a convention.\n",
    "        for _ in range(i):\n",
    "            print('%s: %s' % (color, arg))\n",
    "            \n",
    "color_them2('blue', 10, 20, 30, 40, 50, print_twice=True)"
   ]
  },
  {
   "cell_type": "markdown",
   "id": "aa13e77c",
   "metadata": {},
   "source": [
    "What if we want to use a variable length list of `*args` to call a function that can take a variable length list of `*args`?"
   ]
  },
  {
   "cell_type": "code",
   "execution_count": null,
   "id": "fb4585ab",
   "metadata": {},
   "outputs": [],
   "source": [
    "def color_with_header(color, *args):\n",
    "    print('=== %s ===' % color)\n",
    "    color_them(color, *args)\n",
    "    \n",
    "color_with_header('green', 100, 150, 200, 250)"
   ]
  },
  {
   "cell_type": "markdown",
   "id": "2679e236",
   "metadata": {},
   "source": [
    "Here, we again using the asterisk (`*`) but it has a different meaning. When we use it on line 5 above in our call to `color_them`, we are using it as the **unpacking operator**. This means, take an actual list of items, and extract each one, rather than just passing it as a list.\n",
    "\n",
    "You may be wondering why we would use `*args` instead of just passing a single item that represents a list. We'll get back to that, promise."
   ]
  },
  {
   "cell_type": "code",
   "execution_count": null,
   "id": "3cede215",
   "metadata": {},
   "outputs": [],
   "source": [
    "def color_them3(color, things):\n",
    "    for thing in things:\n",
    "        print('%s: %s' % (color, thing))\n",
    "\n",
    "color_them3('yellow', [3, 5, 7])"
   ]
  },
  {
   "cell_type": "markdown",
   "id": "eb7efad8",
   "metadata": {},
   "source": [
    "Just like we have a way to capture any variable number of positional args, we can also capture keyword args using `**kwargs`."
   ]
  },
  {
   "cell_type": "code",
   "execution_count": null,
   "id": "7e8ff1fb",
   "metadata": {},
   "outputs": [],
   "source": [
    "def print_prices(header, multiplier=1, **kwargs):\n",
    "    print(header)\n",
    "    for thing, price in kwargs.items():\n",
    "        print('%s costs %s' % (thing, price * multiplier))\n",
    "        \n",
    "print_prices('The prices:', apple=1.29, orange=1.59, banana=0.89)"
   ]
  },
  {
   "cell_type": "markdown",
   "id": "c93ff438",
   "metadata": {},
   "source": [
    "We can pass literally any valid python identifier to the `print_prices` function, and they will all be captured in the dictionary `kwargs`. Notice that there is still a positional argument (we can have as many of those as we like) and a named keyword argument (`multiplier`) that can be specified as well and will be captured outside of `kwargs` (so `multiplier` won't be part of the `kwargs` dictionary)."
   ]
  },
  {
   "cell_type": "code",
   "execution_count": null,
   "id": "3b9f4bc2",
   "metadata": {},
   "outputs": [],
   "source": [
    "print_prices('Toy prices:', train=5.50, multiplier=2, blocks=1.00)"
   ]
  },
  {
   "cell_type": "markdown",
   "id": "eb96b61d",
   "metadata": {},
   "source": [
    "Like `*args`, we can use the dictionary destruction operator `**` to pass a dictionary to a function as keyword arguments."
   ]
  },
  {
   "cell_type": "code",
   "execution_count": null,
   "id": "4278aeca",
   "metadata": {},
   "outputs": [],
   "source": [
    "def turn_the_car(direction='left', speed=30):\n",
    "    print(direction, speed)\n",
    "    \n",
    "my_kwargs = {'direction': 'right'}\n",
    "turn_the_car(**my_kwargs)"
   ]
  },
  {
   "cell_type": "markdown",
   "id": "54108c71",
   "metadata": {},
   "source": [
    "It's important to note that you can't call the function `turn_the_car` with an arbitrary destructured dictionary, because it's not set up to accept arbitrary keyword arguments."
   ]
  },
  {
   "cell_type": "code",
   "execution_count": null,
   "id": "a815f5f8",
   "metadata": {},
   "outputs": [],
   "source": [
    "my_kwargs2 = {'direction': 'up', 'brake': True, 'foo': 'bar'}\n",
    "turn_the_car(**my_kwargs2)"
   ]
  },
  {
   "cell_type": "markdown",
   "id": "334e00a4",
   "metadata": {},
   "source": [
    "So what's the point of all this? The main reason to capture `*args` and `**kwargs` is so that you can confidently delegate to or wrap helper functions. Let's say we had a function that performs some task. Maybe we want to print out a logging message before and after the task."
   ]
  },
  {
   "cell_type": "code",
   "execution_count": null,
   "id": "bdb26fa6",
   "metadata": {},
   "outputs": [],
   "source": [
    "def perform_task(data, instruction, preference=False, num_rows=100):\n",
    "    # Doesn't actually do anything, left to your imagination\n",
    "    print(data, instruction, preference, num_rows)\n",
    "\n",
    "def log_perform_task(*args, **kwargs):\n",
    "    print('About to run perform_task')\n",
    "    perform_task(*args, **kwargs)\n",
    "    print('Done with perform_task')\n",
    "    \n",
    "perform_task([1,2,3], 'foo')\n",
    "log_perform_task([4,5,6], 'bar', num_rows=50)"
   ]
  },
  {
   "cell_type": "markdown",
   "id": "1fa27553",
   "metadata": {},
   "source": [
    "Here, what we're basicially saying is: \"Whatever positional arguments and keyword arguments were passed to this function, pass those same arguments to the function we're calling\". So the `*args` and `**kwargs` arguments in the definition of `log_perform_task` capture the positional and keyword arguments, which are then **destructured** and passed as the positional and keyword arguments of `perform_task`.\n",
    "\n",
    "We could also modify or remove parameters:"
   ]
  },
  {
   "cell_type": "code",
   "execution_count": null,
   "id": "1a2e62c7",
   "metadata": {},
   "outputs": [],
   "source": [
    "def perform_twice_as_many_rows(*args, **kwargs):\n",
    "    if 'num_rows' in kwargs:\n",
    "        kwargs['num_rows'] *= 2\n",
    "    perform_task(*args, **kwargs)\n",
    "    \n",
    "perform_twice_as_many_rows([1,2,3], 'foo', num_rows=500)"
   ]
  },
  {
   "cell_type": "markdown",
   "id": "e791cf1c",
   "metadata": {},
   "source": [
    "We could have also explicitly defined the necessary parameters for our utility function:"
   ]
  },
  {
   "cell_type": "code",
   "execution_count": null,
   "id": "e01372f9",
   "metadata": {},
   "outputs": [],
   "source": [
    "def log_perform_task_worse(data, instruction, preference=False, num_rows=100):\n",
    "    print('About to run perform_task')\n",
    "    perform_task(data, instruction, preference=preference, num_rows=num_rows)\n",
    "    print('Done with perform_task')"
   ]
  },
  {
   "cell_type": "markdown",
   "id": "79432b6b",
   "metadata": {},
   "source": [
    "The problem with that approach is that we have to update all of our utility functions (and we already have two of them!) whenever the definition of `perform_task` updates. So if we add a new parameter to `perform_task`, the function `log_perfrom_task_worse` will also need to be updated."
   ]
  },
  {
   "cell_type": "code",
   "execution_count": null,
   "id": "01c899d9",
   "metadata": {},
   "outputs": [],
   "source": [
    "def perform_task(data, instruction, preference=False, num_rows=100, capture=True):\n",
    "    print(data, instruction, preference, num_rows, capture)\n",
    "    \n",
    "def log_perform_task_worse(data, instruction, preference=False, num_rows=100, capture=True):\n",
    "    print('About to run perform_task')\n",
    "    perform_task(data, instruction, preference=preference, num_rows=num_rows, capture=capture)\n",
    "    print('Done with perform_task')"
   ]
  },
  {
   "cell_type": "markdown",
   "id": "ca411e8c",
   "metadata": {},
   "source": [
    "Instead, the `*args`/`**kwargs` approach let's us basically say \"We don't care what the arguments to the delegated function are, pass them\"."
   ]
  },
  {
   "cell_type": "markdown",
   "id": "3b96efe9",
   "metadata": {},
   "source": [
    "---"
   ]
  },
  {
   "cell_type": "markdown",
   "id": "bf9ca1db",
   "metadata": {},
   "source": [
    "A popular pattern when writing Python code is to use keyword arguments to introduce new features to a function without having to update all of the existing places where it is called."
   ]
  },
  {
   "cell_type": "code",
   "execution_count": null,
   "id": "0917fb54",
   "metadata": {},
   "outputs": [],
   "source": [
    "def find_job(database, cpu):\n",
    "    workers = []\n",
    "    for name, cycles in database.items():\n",
    "        if cycles >= cpu:\n",
    "            workers.append(name)\n",
    "    return workers\n",
    "        \n",
    "def find_increasing_jobs(database):\n",
    "    candidates = {}\n",
    "    for i in range(0, 100, 10):\n",
    "        candidates[i] = find_job(database, i)\n",
    "    return candidates\n",
    "        \n",
    "db = {\n",
    "    'alpha': 45,\n",
    "    'beta': 55,\n",
    "    'gamma': 91,\n",
    "    'phi': 27,\n",
    "}\n",
    "\n",
    "data = find_increasing_jobs(db)\n",
    "print(data)"
   ]
  },
  {
   "cell_type": "markdown",
   "id": "a1b4bb56",
   "metadata": {},
   "source": [
    "We can add an argument for only returning the first job that meets our criteria. The main thing here to consider is that the default value of the argument should match the behavior before we modified the code. Here we introduce the `first_only` keyword argument, and set it to `False` because the old version of the function behaved as if this value was `False`."
   ]
  },
  {
   "cell_type": "code",
   "execution_count": null,
   "id": "6522b353",
   "metadata": {},
   "outputs": [],
   "source": [
    "def find_job(database, cpu, first_only=False):\n",
    "    workers = []\n",
    "    for name, cycles in database.items():\n",
    "        if cycles >= cpu:\n",
    "            workers.append(name)\n",
    "            if first_only:\n",
    "                break\n",
    "    return workers\n",
    "\n",
    "def find_first_increasing_jobs(database):\n",
    "    candidates = {}\n",
    "    for i in range(0, 100, 10):\n",
    "        candidates[i] = find_job(database, i, first_only=True)\n",
    "    return candidates\n",
    "\n",
    "data = find_increasing_jobs(db)\n",
    "print(data)\n",
    "\n",
    "print('===')\n",
    "\n",
    "data2 = find_first_increasing_jobs(db)\n",
    "print(data2)"
   ]
  },
  {
   "cell_type": "code",
   "execution_count": null,
   "id": "55aac0e3",
   "metadata": {},
   "outputs": [],
   "source": []
  }
 ],
 "metadata": {
  "kernelspec": {
   "display_name": "Python 3 (ipykernel)",
   "language": "python",
   "name": "python3"
  },
  "language_info": {
   "codemirror_mode": {
    "name": "ipython",
    "version": 3
   },
   "file_extension": ".py",
   "mimetype": "text/x-python",
   "name": "python",
   "nbconvert_exporter": "python",
   "pygments_lexer": "ipython3",
   "version": "3.9.7"
  }
 },
 "nbformat": 4,
 "nbformat_minor": 5
}
