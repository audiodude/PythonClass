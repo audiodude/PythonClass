{
 "cells": [
  {
   "cell_type": "markdown",
   "id": "966fad0c",
   "metadata": {},
   "source": [
    "Welcome to lesson 1 of the Noisebridge Python class! ([Noisebridge Wiki](https://www.noisebridge.net/wiki/PyClass) | [Github](https://github.com/audiodude/PythonClass))\n",
    "\n",
    "In this lesson, we'll look at a script which posts \"toots\" to the [Mastodon](https://en.wikipedia.org/wiki/Mastodon_(social_network) social network. By inspecting how this script operates, we will learn about the following:\n",
    "\n",
    "* Import statements (using internal and external libraries)\n",
    "* Variables\n",
    "* Dictionaries\n",
    "* Basic string formatting\n",
    "* Function definitions and usage\n",
    "* Lists\n",
    "* Reading data from a file\n",
    "\n",
    "As part of the lesson, we will experiment with modifying the script to change its behavior, and discussing those modifications."
   ]
  },
  {
   "cell_type": "markdown",
   "id": "e0c4c794",
   "metadata": {},
   "source": [
    "Mastodon is a social network that works almost like Twitter. This lesson would have used Twitter, but it no longer exists. Your Mastodon timeline looks like this:"
   ]
  },
  {
   "cell_type": "markdown",
   "id": "860fb37e",
   "metadata": {},
   "source": [
    "![Screenshot of a Mastodon timeline](https://pixelfed.social/storage/m/_v2/588554065884192073/ea59ea880-d2aad0/QkVl9jbVwl7I/jeBO9OCc9VrskBIUVFPYMTevE2LKogQrM0KEHUHs.png)"
   ]
  },
  {
   "cell_type": "markdown",
   "id": "f2da9769",
   "metadata": {},
   "source": [
    "Here is the script. If you'd like to run it against your own Mastodon server, you should modify the values of `MASTODON_HOST` and `MASTODON_TOKEN` to match your server. Otherwise, you can just run it and it will post to the class Mastodon above, with the contents of \"Toot posted via the API, please ignore\".\n",
    "\n",
    "Don't worry if you don't understand everything (or anything!) in this script just yet, we will expain it."
   ]
  },
  {
   "cell_type": "code",
   "execution_count": null,
   "id": "12f4c515",
   "metadata": {},
   "outputs": [],
   "source": [
    "from pprint import pprint\n",
    "\n",
    "import requests\n",
    "\n",
    "MASTODON_HOST = 'https://mastodon.social'\n",
    "MASTODON_TOKEN = 'dv2DCBcBpxcl1ceenbv6-KhL3a3ICOrjiHY_XmUgPJ0'\n",
    "\n",
    "data = {'status': 'Toot posted via the API, please ignore'}\n",
    "\n",
    "url = '%s/api/v1/statuses' % MASTODON_HOST\n",
    "r = requests.post(url, \n",
    "                  data=data, \n",
    "                  headers={'Authorization': 'Bearer %s' % MASTODON_TOKEN})\n",
    "response_data = r.json()\n",
    "\n",
    "pprint(response_data)"
   ]
  },
  {
   "cell_type": "markdown",
   "id": "3c69b75c",
   "metadata": {},
   "source": [
    "In regular python programming, this **script** would probably live in its own file, something like `post_to_mastodon.py`. You would run the script on the **command line**, using the command `$ python post_to_mastodon.py`.\n",
    "\n",
    "Instead, inside these notebooks, scripts are run when you select the cell with the code and click the `Run` button in the toolbar. Later **cells** can rely on variables and functions defined in previous ones, it's like the notebook keeps a running tally of everything that has been run or defined, all in memory. "
   ]
  },
  {
   "cell_type": "markdown",
   "id": "f134cba0",
   "metadata": {},
   "source": [
    "You can visit [the profile](https://mastodon.social/@nb_bot_test) of the Mastodon user we used to toot to see the toots."
   ]
  },
  {
   "cell_type": "markdown",
   "id": "1afdc58c",
   "metadata": {},
   "source": [
    "Python is an **imperative programming language**. This means that each line of the script gets interpreted/run by the **interpreter** in it's entirety before moving to the next line. So in your mind, you can reason about what will happen next based on each line that has come before."
   ]
  },
  {
   "cell_type": "markdown",
   "id": "154d4119",
   "metadata": {},
   "source": [
    "The key piece of this code that is doing most of the work is line 11, where we call the `post` function of the requests library (which was imported on line 2). This performs an HTTP POST request against the URL/server specified in line 10. Line 14 retrieves the data that the API responded with, and line 16 \"pretty prints\" that data."
   ]
  },
  {
   "cell_type": "markdown",
   "id": "aea41534",
   "metadata": {},
   "source": [
    "Lines 5, 6, 8, 20, 11 and 14 all define **variables**. Variables in Python work similarly to those in other programming languages. They represent a named reference to data in memory. A statement like:\n",
    "\n",
    "`MASTODON_HOST = 'https://mastodon.social'`\n",
    "\n",
    "Uses an **assignment statement** to both define/create the variable MASTODON_HOST, and set its value to the **string** `'https://mastodon.social'`. A string is a sequence of characters, basically any text data.\n",
    "\n",
    "Everywhere you see a variable being used, you can think of the interpreter substituting the data referenced by that variable. So for example:"
   ]
  },
  {
   "cell_type": "code",
   "execution_count": 1,
   "id": "b09f3901",
   "metadata": {},
   "outputs": [
    {
     "name": "stdout",
     "output_type": "stream",
     "text": [
      "Hello world!\n"
     ]
    }
   ],
   "source": [
    "message = 'Hello world!'\n",
    "print(message)"
   ]
  },
  {
   "cell_type": "markdown",
   "id": "a0996eec",
   "metadata": {},
   "source": [
    "Is roughly equivalent to:"
   ]
  },
  {
   "cell_type": "code",
   "execution_count": null,
   "id": "03ba7742",
   "metadata": {},
   "outputs": [],
   "source": [
    "print('Hello world!')"
   ]
  },
  {
   "cell_type": "markdown",
   "id": "e1fd3f62",
   "metadata": {},
   "source": [
    "Line 10 uses **string formatting**. This allows us to easily replace values in strings with variables or other **expressions**. The `%s` in the string on the left side of the `%` **operator** is replaced by the value on the right. "
   ]
  },
  {
   "cell_type": "markdown",
   "id": "296e9c11",
   "metadata": {},
   "source": [
    "`url = '%s/api/v1/statuses' % MASTODON_HOST`\n",
    "\n",
    "*What is the final value of the `url` variable?*"
   ]
  },
  {
   "cell_type": "markdown",
   "id": "3f87b050",
   "metadata": {},
   "source": [
    "You can use multiple placeholders in the same formatting expression, as long as the number of values you provide matches the number of placeholders. Python will raise an **exception** if the number of placeholders and values don't match."
   ]
  },
  {
   "cell_type": "code",
   "execution_count": 2,
   "id": "9950a406",
   "metadata": {},
   "outputs": [
    {
     "name": "stdout",
     "output_type": "stream",
     "text": [
      "2 + 2 is 4\n"
     ]
    }
   ],
   "source": [
    "n = 2\n",
    "print('%s + %s is %s' % (n, n, n + n))"
   ]
  },
  {
   "cell_type": "code",
   "execution_count": 5,
   "id": "64737972",
   "metadata": {},
   "outputs": [
    {
     "ename": "TypeError",
     "evalue": "not all arguments converted during string formatting",
     "output_type": "error",
     "traceback": [
      "\u001b[0;31m---------------------------------------------------------------------------\u001b[0m",
      "\u001b[0;31mTypeError\u001b[0m                                 Traceback (most recent call last)",
      "Cell \u001b[0;32mIn[5], line 4\u001b[0m\n\u001b[1;32m      1\u001b[0m name \u001b[38;5;241m=\u001b[39m \u001b[38;5;124m'\u001b[39m\u001b[38;5;124mGerry\u001b[39m\u001b[38;5;124m'\u001b[39m\n\u001b[1;32m      2\u001b[0m place \u001b[38;5;241m=\u001b[39m \u001b[38;5;124m'\u001b[39m\u001b[38;5;124mworld\u001b[39m\u001b[38;5;124m'\u001b[39m\n\u001b[0;32m----> 4\u001b[0m \u001b[38;5;28mprint\u001b[39m(\u001b[38;5;124;43m'\u001b[39;49m\u001b[38;5;124;43mHello \u001b[39;49m\u001b[38;5;132;43;01m%s\u001b[39;49;00m\u001b[38;5;124;43m'\u001b[39;49m\u001b[43m \u001b[49m\u001b[38;5;241;43m%\u001b[39;49m\u001b[43m \u001b[49m\u001b[43m(\u001b[49m\u001b[43mname\u001b[49m\u001b[43m,\u001b[49m\u001b[43m \u001b[49m\u001b[43mplace\u001b[49m\u001b[43m)\u001b[49m)\n",
      "\u001b[0;31mTypeError\u001b[0m: not all arguments converted during string formatting"
     ]
    }
   ],
   "source": [
    "name = 'Gerry'\n",
    "place = 'world'\n",
    "\n",
    "print('Hello %s' % (name, place))"
   ]
  },
  {
   "cell_type": "code",
   "execution_count": 6,
   "id": "6981ff0c",
   "metadata": {},
   "outputs": [
    {
     "ename": "TypeError",
     "evalue": "not enough arguments for format string",
     "output_type": "error",
     "traceback": [
      "\u001b[0;31m---------------------------------------------------------------------------\u001b[0m",
      "\u001b[0;31mTypeError\u001b[0m                                 Traceback (most recent call last)",
      "Cell \u001b[0;32mIn[6], line 2\u001b[0m\n\u001b[1;32m      1\u001b[0m name \u001b[38;5;241m=\u001b[39m \u001b[38;5;124m'\u001b[39m\u001b[38;5;124mGerry\u001b[39m\u001b[38;5;124m'\u001b[39m\n\u001b[0;32m----> 2\u001b[0m \u001b[38;5;28mprint\u001b[39m(\u001b[38;5;124;43m'\u001b[39;49m\u001b[38;5;124;43mHello \u001b[39;49m\u001b[38;5;132;43;01m%s\u001b[39;49;00m\u001b[38;5;124;43m, are you having a nice \u001b[39;49m\u001b[38;5;132;43;01m%s\u001b[39;49;00m\u001b[38;5;124;43m?\u001b[39;49m\u001b[38;5;124;43m'\u001b[39;49m\u001b[43m \u001b[49m\u001b[38;5;241;43m%\u001b[39;49m\u001b[43m \u001b[49m\u001b[43mname\u001b[49m)\n",
      "\u001b[0;31mTypeError\u001b[0m: not enough arguments for format string"
     ]
    }
   ],
   "source": [
    "name = 'Gerry'\n",
    "print('Hello %s, are you having a nice %s?' % name)"
   ]
  },
  {
   "cell_type": "markdown",
   "id": "2c54b292",
   "metadata": {},
   "source": [
    "We'll talk more about exceptions in a later lesson."
   ]
  },
  {
   "cell_type": "markdown",
   "id": "be1981aa",
   "metadata": {},
   "source": [
    "Let's look back at our script. Line 8 defines the toot that we're going to post. It is a Python dictionary, which is an important **data structure**."
   ]
  },
  {
   "cell_type": "code",
   "execution_count": null,
   "id": "84386b13",
   "metadata": {},
   "outputs": [],
   "source": [
    "data = {'status': 'Toot posted via the API, please ignore'}"
   ]
  },
  {
   "cell_type": "markdown",
   "id": "f867a235",
   "metadata": {},
   "source": [
    "Dictionaries are an example of a **key value store**. This means that for every **unique** key, such as a string or number, there will be exactly one value associated with the string (though the value doesn't have to be a simple number or string, it can be a nested dictionary or other object). This dictionary has one key value pair, where the key is `'status'` and the value is a string which contains the toot we wish to post.\n",
    "\n",
    "Here's another example of a dictionary:"
   ]
  },
  {
   "cell_type": "code",
   "execution_count": 9,
   "id": "aa5f007d",
   "metadata": {},
   "outputs": [],
   "source": [
    "fruit_prices = {\n",
    "    'apple': 1.79,\n",
    "    'banana': 0.89,\n",
    "    'bag of grapes': 2.99,\n",
    "    'pomegranate': 2.99,\n",
    "}"
   ]
  },
  {
   "cell_type": "markdown",
   "id": "04cd3774",
   "metadata": {},
   "source": [
    "And another with nested dictionaries inside it:"
   ]
  },
  {
   "cell_type": "code",
   "execution_count": null,
   "id": "bc186de4",
   "metadata": {},
   "outputs": [],
   "source": [
    "grocery_store = {\n",
    "    'fruit_prices': {\n",
    "        'apple': 1.79,\n",
    "        'banana': 0.89,\n",
    "        'bag of grapes': 2.99,\n",
    "        'pomegranate': 2.99,\n",
    "    },\n",
    "    meat_prices: {\n",
    "        'ham': 8.99,\n",
    "        'steak': 7.99,\n",
    "        'bologna': 3.99,\n",
    "    }\n",
    "}"
   ]
  },
  {
   "cell_type": "markdown",
   "id": "c1946fac",
   "metadata": {},
   "source": [
    "The entire dictionary is defined using curly braces `{}` and the key value pairs inside are separated by commas. The keys and values are separated by colons. Once we've defined the dictionary (make sure you 'Run' the cell above), we can access any of its values using the corresponding key using **slice notation** (square brackets)."
   ]
  },
  {
   "cell_type": "code",
   "execution_count": null,
   "id": "c05b854c",
   "metadata": {},
   "outputs": [],
   "source": [
    "print('%s: The price of a banana' % fruit_prices['banana'])"
   ]
  },
  {
   "cell_type": "markdown",
   "id": "8b1cfeaa",
   "metadata": {},
   "source": [
    "`fruit_prices['banana']` is replaced with the value of the key `'banana'` in the dictionary `fruit_prices`. Can we use variables to access the values of a dictionary?"
   ]
  },
  {
   "cell_type": "code",
   "execution_count": null,
   "id": "ea927963",
   "metadata": {},
   "outputs": [],
   "source": [
    "fruit = 'apple'\n",
    "print('The price of %s is %s' % (fruit, fruit_prices[fruit]))"
   ]
  },
  {
   "cell_type": "markdown",
   "id": "9b485daa",
   "metadata": {},
   "source": [
    "You can also assign a new value to a given key in a dictionary:"
   ]
  },
  {
   "cell_type": "code",
   "execution_count": null,
   "id": "b345509b",
   "metadata": {},
   "outputs": [],
   "source": [
    "# Apples are on sale!\n",
    "print(fruit_prices['apple'])\n",
    "fruit_prices['apple'] = 1.29\n",
    "print(fruit_prices)"
   ]
  },
  {
   "cell_type": "markdown",
   "id": "abbbc9b3",
   "metadata": {},
   "source": [
    "---"
   ]
  },
  {
   "cell_type": "markdown",
   "id": "07c88581",
   "metadata": {},
   "source": [
    "Let's try turning our posting code into a **function**. As a reminder, a function is a piece of code that accepts various **parameters** and provides a **return value**. For example, we are calling the `post` function of the requests library on line 10, and the `json()` function of the response on line 14.\n",
    "\n",
    "When the Python interpreter encounters a function call, it prepares the parameters to the call, then runs all of the code in the function before **returning** to the place it was when the function was called.\n",
    "\n",
    "Here are some examples of functions:"
   ]
  },
  {
   "cell_type": "code",
   "execution_count": 12,
   "id": "47093027",
   "metadata": {},
   "outputs": [
    {
     "name": "stdout",
     "output_type": "stream",
     "text": [
      "{'apple': 1.43, 'banana': 0.71}\n"
     ]
    }
   ],
   "source": [
    "# Without a function\n",
    "sale_prices = {}\n",
    "sale_prices['apple'] = round(fruit_prices['apple'] * 0.80, 2)\n",
    "sale_prices['banana'] = round(fruit_prices['banana'] * 0.80, 2)\n",
    "print(sale_prices)"
   ]
  },
  {
   "cell_type": "code",
   "execution_count": null,
   "id": "e67ba660",
   "metadata": {},
   "outputs": [],
   "source": [
    "def get_sale_prices(fruit):\n",
    "    return round(fruit_prices[fruit] * 0.80, 2)\n",
    "\n",
    "sale_prices = {}\n",
    "sale_prices['apple'] = get_sale_price('apple')\n",
    "sale_prices['banana'] = get_sale_price('banana')\n",
    "print(sale_prices)"
   ]
  },
  {
   "cell_type": "markdown",
   "id": "acf91adb",
   "metadata": {},
   "source": [
    "Notice that we write the **function definition** before the code that calls it. This is necessary so that the Python interpreter knows what `get_sale_price` is. The **return value** of the function follows the **return** keyword. So the **return statement** of `get_sale_prices` is:\n",
    "\n",
    "`return round(fruit_prices[fruit] * 0.80, 2)`\n",
    "\n",
    "After the function returns, you can think of it as the return value being substituted for where the function was called. So the example with the function above is equavalent in result as the non-function example above it."
   ]
  },
  {
   "cell_type": "markdown",
   "id": "d56b01cd",
   "metadata": {},
   "source": [
    "If we were to write a function called `post_to_mastodon`, what would be a logical parameter for it to take?"
   ]
  },
  {
   "cell_type": "code",
   "execution_count": null,
   "id": "d1d68fde",
   "metadata": {},
   "outputs": [],
   "source": [
    "# This is not valid Python code. What should replace the ??\n",
    "def post_to_mastodon(??):\n",
    "    data = {'status': 'Toot posted via the API, please ignore'}\n",
    "\n",
    "    url = '%s/api/v1/statuses' % MASTODON_HOST\n",
    "    r = requests.post(url, \n",
    "                      data=data, \n",
    "                      headers={'Authorization': 'Bearer %s' % MASTODON_TOKEN})\n",
    "    return r.json()"
   ]
  },
  {
   "cell_type": "markdown",
   "id": "f183354b",
   "metadata": {},
   "source": [
    "*(click below to reveal answer)*"
   ]
  },
  {
   "cell_type": "code",
   "execution_count": null,
   "id": "c1fa1acb",
   "metadata": {
    "hide_input": true
   },
   "outputs": [],
   "source": [
    "def post_to_mastodon(text):\n",
    "    data = {'status': text}\n",
    "\n",
    "    url = '%s/api/v1/statuses' % MASTODON_HOST\n",
    "    r = requests.post(url,\n",
    "                      data=data, \n",
    "                      headers={'Authorization': 'Bearer %s' % MASTODON_TOKEN})\n",
    "    return r.json()"
   ]
  },
  {
   "cell_type": "markdown",
   "id": "31a036c2",
   "metadata": {},
   "source": [
    "Notice that when we run this code block, nothing happens (no toot gets posted). That's because we're simply defining the function, but not yet calling (using) it."
   ]
  },
  {
   "cell_type": "code",
   "execution_count": null,
   "id": "6da2c41a",
   "metadata": {},
   "outputs": [],
   "source": [
    "result = post_to_mastodon('Hello, I am using functions!')\n",
    "pprint(result)"
   ]
  },
  {
   "cell_type": "markdown",
   "id": "2363556a",
   "metadata": {},
   "source": [
    "This code should post the text in parentheses as a Mastodon toot. When it is run, it calls the `post_to_mastodon` function with a string (`'Hello, I am using functions!'`). This string is then assigned to the **parameter** `text`. At that time, the `post_to_mastdon` function runs and the code within it is executed. Since we used the value of `text` in our `data` dictionary, that is the value that gets posted. Our function returns the API data, which we then pretty print as before."
   ]
  },
  {
   "cell_type": "markdown",
   "id": "9c248a84",
   "metadata": {},
   "source": [
    "----"
   ]
  },
  {
   "cell_type": "markdown",
   "id": "013f14b3",
   "metadata": {},
   "source": [
    "Another thing to be aware of in our code is the use of **import** statements. Some functions and data structures in Python are \"built-in\" and you can use them without importing anything. However, often we want to use libraries and code that have been provided by the \"standard library\", or even that come from third parties (like `requests`). To do this, we must import that library using an `import` statement.\n",
    "\n",
    "*In the case of third-party (non standard library) code, you also need to install the code into your environment somehow. We don't have to worry about this in Jupyter notebooks.*\n",
    "\n",
    "When we use an import statement, the library is initialized (any code that it needs is run and defined) and the symbol we used to import it is made available to our code. Since we imported `requests`, we can use `requests.post`. The library name acts as a variable of sorts. The following two programs are equivalent:"
   ]
  },
  {
   "cell_type": "code",
   "execution_count": null,
   "id": "9f26a828",
   "metadata": {},
   "outputs": [],
   "source": [
    "import requests\n",
    "requests.post()"
   ]
  },
  {
   "cell_type": "code",
   "execution_count": null,
   "id": "5f0f5337",
   "metadata": {},
   "outputs": [],
   "source": [
    "from requests import post\n",
    "post()"
   ]
  },
  {
   "cell_type": "code",
   "execution_count": null,
   "id": "182e0d43",
   "metadata": {},
   "outputs": [],
   "source": [
    "import requests as funky_chicken\n",
    "funky_chicken.post()"
   ]
  },
  {
   "cell_type": "code",
   "execution_count": null,
   "id": "f2bb246d",
   "metadata": {},
   "outputs": [],
   "source": [
    "from requests import post as do_it\n",
    "do_it()"
   ]
  },
  {
   "cell_type": "markdown",
   "id": "d0b69ddb",
   "metadata": {},
   "source": [
    "---"
   ]
  },
  {
   "cell_type": "markdown",
   "id": "3b4ae63c",
   "metadata": {},
   "source": [
    "# Part 2"
   ]
  },
  {
   "cell_type": "markdown",
   "id": "11fafb5e",
   "metadata": {},
   "source": [
    "So far, we have used only \"hardcoded\" values to post toots. In the very first code block at the top where we made our first post, the toot was defined as part of the program ('Toot posted via the API, please ignore'). Even when we defined the `post_to_mastodon` function, we used what's called a **literal** string to specify the actual text. With the power of Python, we can do so much more!"
   ]
  },
  {
   "cell_type": "markdown",
   "id": "18a37c08",
   "metadata": {},
   "source": [
    "Alongside this Jupyter notebook is a file called 'proverbs.txt'. It contains a number of proverbs/aphorisms, each on its own line. What if we could read the proverbs from this file and post a random one to Mastodon? We can use our `post_to_mastodon` function with the text of the proverb."
   ]
  },
  {
   "cell_type": "code",
   "execution_count": null,
   "id": "23df2888",
   "metadata": {},
   "outputs": [],
   "source": [
    "with open('proverbs.txt', 'r') as file:\n",
    "    # File is open, read its data\n",
    "    text = file.read()\n",
    "# File is closed"
   ]
  },
  {
   "cell_type": "markdown",
   "id": "3d18b446",
   "metadata": {},
   "source": [
    "The above code uses what's called a **context manager** to open a file named `proverbs.txt` and read its entire contents into a variable named `text`. The whole with...as statement is what invokes the context manager. You don't have to worry too much about context managers at the moment, just understand that the point of this code is to make sure that within the lines under the context manager, the file is open, and when those lines end, the file is automatically closed. This is useful because even if there is an error or exception in our code, the file gets closed at the end (which is an important operation from an OS perspective)."
   ]
  },
  {
   "cell_type": "markdown",
   "id": "0cd891c4",
   "metadata": {},
   "source": [
    "Once we have the contents of the file, we can use the python `split` method to transform the entire file into a **list** of proverbs. Since the proverbs are defined one per line, we know that a \"newline\" character separates each one. First, let's look at split."
   ]
  },
  {
   "cell_type": "code",
   "execution_count": 15,
   "id": "7b8e05f1",
   "metadata": {},
   "outputs": [
    {
     "name": "stdout",
     "output_type": "stream",
     "text": [
      "['a', '1', 'b', 'c', '2']\n"
     ]
    }
   ],
   "source": [
    "parts = 'a:1:b:c:2'.split(':')\n",
    "print(parts)"
   ]
  },
  {
   "cell_type": "markdown",
   "id": "d808db37",
   "metadata": {},
   "source": [
    "This code gives us a list (everything in between the `[]` brackets, separated by commas) of each item that is between a ':', which is the argument we gave to `split`. Lists are a powerful and common **data structure** in Python, which are used to manage sequenced values. in other languages, similar data structures are also referred to as \"arrays\"."
   ]
  },
  {
   "cell_type": "markdown",
   "id": "66719e83",
   "metadata": {},
   "source": [
    "We can access specific elements of a list using **slice notation**. To do so, we provide an index or range of indexes that we want to extract from the list. List indexes begin at 0."
   ]
  },
  {
   "cell_type": "code",
   "execution_count": 16,
   "id": "bd627f66",
   "metadata": {},
   "outputs": [
    {
     "name": "stdout",
     "output_type": "stream",
     "text": [
      "a\n",
      "c\n",
      "2\n",
      "['1', 'b']\n",
      "['b', 'c', '2']\n"
     ]
    }
   ],
   "source": [
    "print(parts[0])\n",
    "print(parts[3])\n",
    "print(parts[-1])\n",
    "print(parts[1:3])\n",
    "print(parts[2:])"
   ]
  },
  {
   "cell_type": "markdown",
   "id": "bfda2210",
   "metadata": {},
   "source": [
    "We can add items to the end of the dictionary with the `append` method:"
   ]
  },
  {
   "cell_type": "code",
   "execution_count": 18,
   "id": "b377b995",
   "metadata": {},
   "outputs": [
    {
     "name": "stdout",
     "output_type": "stream",
     "text": [
      "['a', '1', 'b', 'c', '2', 'd']\n"
     ]
    }
   ],
   "source": [
    "parts.append('d')\n",
    "print(parts)"
   ]
  },
  {
   "cell_type": "markdown",
   "id": "c70d4022",
   "metadata": {},
   "source": [
    "Unlike some programming languages, if we attempt to access an index that doesn't exist in the list, we will get an exception:"
   ]
  },
  {
   "cell_type": "code",
   "execution_count": 19,
   "id": "4c8974f8",
   "metadata": {},
   "outputs": [
    {
     "ename": "IndexError",
     "evalue": "list index out of range",
     "output_type": "error",
     "traceback": [
      "\u001b[0;31m---------------------------------------------------------------------------\u001b[0m",
      "\u001b[0;31mIndexError\u001b[0m                                Traceback (most recent call last)",
      "Cell \u001b[0;32mIn[19], line 1\u001b[0m\n\u001b[0;32m----> 1\u001b[0m \u001b[43mparts\u001b[49m\u001b[43m[\u001b[49m\u001b[38;5;241;43m12\u001b[39;49m\u001b[43m]\u001b[49m\n",
      "\u001b[0;31mIndexError\u001b[0m: list index out of range"
     ]
    }
   ],
   "source": [
    "parts[12]"
   ]
  },
  {
   "cell_type": "code",
   "execution_count": 17,
   "id": "500786c8",
   "metadata": {},
   "outputs": [
    {
     "ename": "IndexError",
     "evalue": "list index out of range",
     "output_type": "error",
     "traceback": [
      "\u001b[0;31m---------------------------------------------------------------------------\u001b[0m",
      "\u001b[0;31mIndexError\u001b[0m                                Traceback (most recent call last)",
      "Cell \u001b[0;32mIn[17], line 2\u001b[0m\n\u001b[1;32m      1\u001b[0m \u001b[38;5;66;03m# parts.append('d')\u001b[39;00m\n\u001b[0;32m----> 2\u001b[0m \u001b[43mparts\u001b[49m\u001b[43m[\u001b[49m\u001b[38;5;241;43m-\u001b[39;49m\u001b[38;5;241;43m15\u001b[39;49m\u001b[43m]\u001b[49m\n",
      "\u001b[0;31mIndexError\u001b[0m: list index out of range"
     ]
    }
   ],
   "source": [
    "parts[-15]"
   ]
  },
  {
   "cell_type": "markdown",
   "id": "87bc1628",
   "metadata": {},
   "source": [
    "Lets split our file data (`text`) based on the newline character (`\\n`) to produce a list of proverbs. The built-in `len` function tells us how many proverbs there are."
   ]
  },
  {
   "cell_type": "code",
   "execution_count": null,
   "id": "9b46715f",
   "metadata": {},
   "outputs": [],
   "source": [
    "# text: 'I am proverb one\\nI am proverb two\\nHere is another proverb'\n",
    "\n",
    "proverbs = text.split('\\n')\n",
    "print(len(proverbs))\n",
    "print(proverbs[0])"
   ]
  },
  {
   "cell_type": "markdown",
   "id": "27d5c400",
   "metadata": {},
   "source": [
    "Now let's choose a random proverb from the list. We will **import** the random module to help with this."
   ]
  },
  {
   "cell_type": "code",
   "execution_count": null,
   "id": "94f544a0",
   "metadata": {},
   "outputs": [],
   "source": [
    "import random\n",
    "random.choice(proverbs)"
   ]
  },
  {
   "cell_type": "markdown",
   "id": "d092286d",
   "metadata": {},
   "source": [
    "Every time you run the cell above, it should display a different proverb. Now that we have that, how would we post a random proverb to Mastodon?"
   ]
  },
  {
   "cell_type": "code",
   "execution_count": null,
   "id": "b18cb393",
   "metadata": {},
   "outputs": [],
   "source": [
    "post_to_mastodon(???)"
   ]
  },
  {
   "cell_type": "markdown",
   "id": "303aa196",
   "metadata": {},
   "source": [
    "*(click below to reveal answer)*"
   ]
  },
  {
   "cell_type": "code",
   "execution_count": null,
   "id": "84064e33",
   "metadata": {
    "hide_input": true
   },
   "outputs": [],
   "source": [
    "post_to_mastodon(random.choice(proverbs))"
   ]
  },
  {
   "cell_type": "markdown",
   "id": "fb510ddd",
   "metadata": {},
   "source": [
    "That's it for this lesson! You can read more about lists and dictionaries in the [Python docs](https://docs.python.org/3/tutorial/datastructures.html). Import statements are covered [in great detail here](https://docs.python.org/3/reference/import.html) though you probably don't need to know that much about them at this point. The python docs also cover [string formatting](https://docs.python.org/3/tutorial/inputoutput.html#old-string-formatting), though the method we used here is called the \"old\" way and there are newer ways to do it."
   ]
  },
  {
   "cell_type": "markdown",
   "id": "e402af41",
   "metadata": {},
   "source": [
    "Finally, here is a complete version of the program to post a random proverb to Mastodon. Remember to modify it to use your `MASTODON_HOST` and `MASTODON_TOKEN` if you wish to post to your own account. This script can also be copy and pasted into a `mastodon.py` script on your local computer and run that way (make sure you also have the list of proverbs!)."
   ]
  },
  {
   "cell_type": "code",
   "execution_count": null,
   "id": "8db94da1",
   "metadata": {},
   "outputs": [],
   "source": [
    "from pprint import pprint\n",
    "import random\n",
    "\n",
    "import requests\n",
    "\n",
    "MASTODON_HOST = 'https://mastodon.social'\n",
    "MASTODON_TOKEN = 'dv2DCBcBpxcl1ceenbv6-KhL3a3ICOrjiHY_XmUgPJ0'\n",
    "\n",
    "def post_to_mastodon(text):\n",
    "    data = {'status': text}\n",
    "\n",
    "    url = '%s/api/v1/statuses' % MASTODON_HOST\n",
    "    r = requests.post(url, \n",
    "                      data=data, \n",
    "                      headers={'Authorization': 'Bearer %s' % MASTODON_TOKEN})\n",
    "    return r.json()\n",
    "\n",
    "with open('proverbs.txt', 'r') as file:\n",
    "    text = file.read()\n",
    "proverbs = text.split('\\n')\n",
    "\n",
    "post_to_mastodon(random.choice(proverbs))"
   ]
  },
  {
   "cell_type": "code",
   "execution_count": null,
   "id": "3deb6b4b",
   "metadata": {},
   "outputs": [],
   "source": []
  }
 ],
 "metadata": {
  "kernelspec": {
   "display_name": "Python 3 (ipykernel)",
   "language": "python",
   "name": "python3"
  },
  "language_info": {
   "codemirror_mode": {
    "name": "ipython",
    "version": 3
   },
   "file_extension": ".py",
   "mimetype": "text/x-python",
   "name": "python",
   "nbconvert_exporter": "python",
   "pygments_lexer": "ipython3",
   "version": "3.11.5"
  }
 },
 "nbformat": 4,
 "nbformat_minor": 5
}
