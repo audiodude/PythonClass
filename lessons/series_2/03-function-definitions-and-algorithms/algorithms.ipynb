{
 "cells": [
  {
   "cell_type": "markdown",
   "id": "f7c62b1b",
   "metadata": {},
   "source": [
    "Welcome to Lesson 3 of the Noisebridge Python class! ([Noisebridge Wiki](https://www.noisebridge.net/wiki/PyClass) | [Github](https://github.com/audiodude/PythonClass))\n",
    "\n",
    "In this lesson, we will begin studying **algorithms**. An algorithm is a process or sequence of steps used to perform a task or complete a computation. We will start with basic, everyday algorithms and proceed to some more traditional \"computer science\" algorithms.\n",
    "\n",
    "Before we jump into that, however, we will try to make sure you can write basic Python scripts on your own. This means we will go over some of the more nitpick-y details of the language that we may have glossed over in previous lessons, such indentation and function definitions.\n",
    "\n",
    "In part 1, you will learn:\n",
    "\n",
    "* Specifics about how Python indentation/whitespace works\n",
    "* Definitions of positional and keyword arguments to functions\n",
    "* The special Python arguments: `*args` and `*kwargs`\n",
    "* Using keyword arguments to extend functionality in a backwards compatible way\n",
    "\n",
    "And in part 2:\n",
    "\n",
    "* An algorithm for finding the biggest of a list of numbers\n",
    "* An algorithm for counting characters in a string\n",
    "* Using the output of one algorithm as input to another"
   ]
  },
  {
   "cell_type": "markdown",
   "id": "b3c2c31b",
   "metadata": {},
   "source": [
    "# Part 1: Language Details\n",
    "\n",
    "## Whitespace\n",
    "You may have heard that in Python, \"whitespace matters\". If you've been editing the code examples in these notebooks, or writing code in a Replit, you might have already come across an `IndentationError` or two.\n",
    "\n",
    "The rule in Python, in general, is that additional levels of indention are used to define increasingly nested blocks of code. Inside a given \"block\", all of the lines that comprise the block must have the same indentation, ie the same number of tabs or spaces."
   ]
  },
  {
   "cell_type": "code",
   "execution_count": null,
   "id": "47c7e346",
   "metadata": {},
   "outputs": [],
   "source": [
    "# Top level psuedo-block (not actually a block), no indentation\n",
    "x = 42\n",
    "y = x * 2\n",
    "if y > x:\n",
    "    # The colon above starts a block, inside the if statement\n",
    "    print('y is greater')\n",
    "    z = y * 2\n",
    "    # Note that every line of code in this block aligns\n",
    "    \n",
    "for i in range(x):\n",
    "    if i > 39 and i % 2 == 0:\n",
    "        # A second block requires a new level of indentation\n",
    "        print('%s is over 39 and even' % i)\n",
    "        continue\n",
    "\n",
    "    # Blank lines don't matter\n",
    "    if i % 17 == 0:\n",
    "            # The indentation of a block doesn't need to match\n",
    "            # the indentation of other sibling blocks. It just\n",
    "            # needs to be internally consistent\n",
    "            print('%s is divisible by 17' % i)\n",
    "            x2 = i + 10\n",
    "            \n",
    "    # Outdenting means the end of the block. This line runs after\n",
    "    # each of the if statements above\n",
    "    y2 = x - i\n",
    "    # This is an IndentationError, because there's no new block,\n",
    "    # but the indentation of the next line doesn't match the previous\n",
    "    #  y3 = y2 * 3"
   ]
  },
  {
   "cell_type": "markdown",
   "id": "ed170078",
   "metadata": {},
   "source": [
    "*(note to self, uncomment the indentation error and demonstrate that)*"
   ]
  },
  {
   "cell_type": "markdown",
   "id": "59015b8b",
   "metadata": {},
   "source": [
    "---"
   ]
  },
  {
   "cell_type": "markdown",
   "id": "ee120cda",
   "metadata": {},
   "source": [
    "## Function definitions\n",
    "\n",
    "Let's move on to function definitions. Functions can have any number of **positional arguments** and **keyword arguments**. Positional arguments are what we have seen so far, they are required when calling a function:"
   ]
  },
  {
   "cell_type": "code",
   "execution_count": null,
   "id": "388c7ae3",
   "metadata": {},
   "outputs": [],
   "source": [
    "def my_func(pos1, pos2):\n",
    "    print(pos1, pos2)\n",
    "\n",
    "my_func(42, 'foo')"
   ]
  },
  {
   "cell_type": "markdown",
   "id": "0d355c2a",
   "metadata": {},
   "source": [
    "Keyword arguments are optional and are defined with a **default value**. If the function is called with a given keyword argument missing, the default value is used inside the function. Otherwise, you can assign a value to a keyword argument when calling a function by specifying the name of the argument with an equal sign, then the value."
   ]
  },
  {
   "cell_type": "code",
   "execution_count": null,
   "id": "cd8cbcf8",
   "metadata": {},
   "outputs": [],
   "source": [
    "def my_func2(pos1, pos2, kw1=42):\n",
    "    print(pos1, pos2, kw1)\n",
    "    \n",
    "my_func2(10, 'red', kw1=100)\n",
    "my_func2(20, 'blue')"
   ]
  },
  {
   "cell_type": "markdown",
   "id": "377b0fd5",
   "metadata": {},
   "source": [
    "When calling a function, you must specify the keyword arguments *after* the positional arguments. So the following is an error:"
   ]
  },
  {
   "cell_type": "code",
   "execution_count": null,
   "id": "344c12ef",
   "metadata": {},
   "outputs": [],
   "source": [
    "my_func2('foo', kw1='bar', 100)"
   ]
  },
  {
   "cell_type": "markdown",
   "id": "19545908",
   "metadata": {},
   "source": [
    "Keyword arguments themselves, however, can be specified in any order."
   ]
  },
  {
   "cell_type": "code",
   "execution_count": null,
   "id": "52b560c6",
   "metadata": {},
   "outputs": [],
   "source": [
    "def my_func3(pos1, pos2, kw1='foo', kw2='bar', kw3='baz'):\n",
    "    print(pos1, pos2, kw1, kw2, kw3)\n",
    "    \n",
    "my_func3(10, 20, kw3='red', kw2='blue')"
   ]
  },
  {
   "cell_type": "markdown",
   "id": "8c2aa989",
   "metadata": {},
   "source": [
    "You can also specify keyword arguments as if they were positional arguments:"
   ]
  },
  {
   "cell_type": "code",
   "execution_count": null,
   "id": "1e03a214",
   "metadata": {},
   "outputs": [],
   "source": [
    "my_func3('red', 'yellow', 'blue')"
   ]
  },
  {
   "cell_type": "markdown",
   "id": "8fc0e890",
   "metadata": {},
   "source": [
    "And positional arguments as if they were keyword arguments:"
   ]
  },
  {
   "cell_type": "code",
   "execution_count": null,
   "id": "7847cd08",
   "metadata": {},
   "outputs": [],
   "source": [
    "my_func3(pos1=10, pos2=20)"
   ]
  },
  {
   "cell_type": "markdown",
   "id": "b9a9a268",
   "metadata": {},
   "source": [
    "Though in practice, doing so can cause confusion for folks who are reading your code."
   ]
  },
  {
   "cell_type": "markdown",
   "id": "3650d42e",
   "metadata": {},
   "source": [
    "---"
   ]
  },
  {
   "cell_type": "markdown",
   "id": "1fd19655-820b-4047-b82f-96eef42c0089",
   "metadata": {},
   "source": [
    "## Function 'scope'\n",
    "\n",
    "In programming, scope refers to the places where you can refer to a variable. A variable that you can refer to without a `NameError` is referred to as being \"in-scope\"."
   ]
  },
  {
   "cell_type": "code",
   "execution_count": null,
   "id": "64ec97a3-1c74-430f-ba9a-d32665a21871",
   "metadata": {},
   "outputs": [],
   "source": [
    "def get_discount(price):\n",
    "    return round(price * 0.8, 2)\n",
    "\n",
    "prices = [1.50, 2.10, 3.29]\n",
    "for p in prices:\n",
    "    print(get_discount(p))"
   ]
  },
  {
   "cell_type": "markdown",
   "id": "5ffe9b18-6f31-4707-8f74-1ae1567c9976",
   "metadata": {},
   "source": [
    "The scope of the variable `price`, as defined in the `get_discount` function definition, is only within the get_discount function. You can't refer to that variable outside of the function:"
   ]
  },
  {
   "cell_type": "code",
   "execution_count": null,
   "id": "04a5de37-101c-4d11-bd18-d29fac3d2067",
   "metadata": {},
   "outputs": [],
   "source": [
    "discount_multiplier = 0.8\n",
    "\n",
    "def get_discount(price):\n",
    "    return round(price * discount_multiplier, 2)\n",
    "\n",
    "prices = [1.50, 2.10, 3.29]\n",
    "print(f'Applying discounts with {discount_multiplier}')\n",
    "for p in prices:\n",
    "    print(get_discount(p))\n",
    "    print(price)  # NameError"
   ]
  },
  {
   "cell_type": "markdown",
   "id": "9150037a-ac31-415c-987c-48b8b98e6d85",
   "metadata": {},
   "source": [
    "You can use the same variable name in multiple places, and they will refer to different things:"
   ]
  },
  {
   "cell_type": "code",
   "execution_count": null,
   "id": "eb404f16-6117-4264-979f-23d304920d2f",
   "metadata": {},
   "outputs": [],
   "source": [
    "def get_discount(price):\n",
    "    return price * 0.8\n",
    "\n",
    "def apply_discounts():\n",
    "    price = 1.29\n",
    "    # The get_discount function doesn't use the price variable\n",
    "    # we just defined.\n",
    "    discounted = get_discount(10.59)\n",
    "    print(discounted)\n",
    "\n",
    "apply_discounts()"
   ]
  },
  {
   "cell_type": "markdown",
   "id": "83e5ba02-b5be-48ba-aba3-39d68d11175b",
   "metadata": {},
   "source": [
    "In Python, blocks do not interact with scope. So if you have a variable that is assigned in an `if` or `for` block, it is still available after the block is finished. This can be surprising!"
   ]
  },
  {
   "cell_type": "code",
   "execution_count": null,
   "id": "3b01a2af-8506-44de-857f-c1a011ffe98d",
   "metadata": {},
   "outputs": [],
   "source": [
    "prices = [1.50, 2.10, 3.29]\n",
    "\n",
    "for price in prices:\n",
    "    get_discount(price)\n",
    "\n",
    "# Price still refers to the last thing it was assigned in the for loop!\n",
    "print(price)"
   ]
  },
  {
   "cell_type": "markdown",
   "id": "31ebc9af",
   "metadata": {},
   "source": [
    "## Adding default arguments\n",
    "\n",
    "A popular pattern when writing Python code is to use keyword arguments to introduce new features to a function without having to update all of the existing places where it is called."
   ]
  },
  {
   "cell_type": "code",
   "execution_count": null,
   "id": "1ea57c5f",
   "metadata": {},
   "outputs": [],
   "source": [
    "def find_job(database, cpu):\n",
    "    workers = []\n",
    "    for name, cycles in database.items():\n",
    "        if cycles >= cpu:\n",
    "            workers.append(name)\n",
    "    return workers\n",
    "        \n",
    "def find_increasing_jobs(database):\n",
    "    candidates = {}\n",
    "    for i in range(0, 100, 10):\n",
    "        candidates[i] = find_job(database, i)\n",
    "    return candidates\n",
    "        \n",
    "db = {\n",
    "    'alpha': 45,\n",
    "    'beta': 55,\n",
    "    'gamma': 91,\n",
    "    'phi': 27,\n",
    "}\n",
    "\n",
    "data = find_increasing_jobs(db)\n",
    "print(data)"
   ]
  },
  {
   "cell_type": "markdown",
   "id": "7801a176",
   "metadata": {},
   "source": [
    "We can add an argument for only returning the first job that meets our criteria. The main thing here to consider is that the default value of the argument should match the behavior before we modified the code. Here we introduce the `first_only` keyword argument, and set it to `False` because the old version of the function behaved as if this value was `False`."
   ]
  },
  {
   "cell_type": "code",
   "execution_count": null,
   "id": "229bc790",
   "metadata": {},
   "outputs": [],
   "source": [
    "def find_job(database, cpu, first_only=False):\n",
    "    workers = []\n",
    "    for name, cycles in database.items():\n",
    "        if cycles >= cpu:\n",
    "            workers.append(name)\n",
    "            if first_only:\n",
    "                break\n",
    "    return workers\n",
    "\n",
    "def find_first_increasing_jobs(database):\n",
    "    candidates = {}\n",
    "    for i in range(0, 100, 10):\n",
    "        candidates[i] = find_job(database, i, first_only=True)\n",
    "    return candidates\n",
    "\n",
    "data = find_increasing_jobs(db)\n",
    "print(data)\n",
    "\n",
    "print('===')\n",
    "\n",
    "data2 = find_first_increasing_jobs(db)\n",
    "print(data2)"
   ]
  },
  {
   "cell_type": "markdown",
   "id": "fd943e37-9a17-47ea-a580-cb60264eb0dc",
   "metadata": {},
   "source": [
    "## Iterating over dictionaries\n",
    "\n",
    "We can iterate over dictionaries by calling the dictionary's `.items()` method. It returns an iterable of tuples, with each tuple containing a key and its value:"
   ]
  },
  {
   "cell_type": "code",
   "execution_count": null,
   "id": "895e5ba8-1eac-44d9-92e5-793e3a3b86c6",
   "metadata": {},
   "outputs": [],
   "source": [
    "prices = {\n",
    "    'apple': 0.99,\n",
    "    'orange': 1.29,\n",
    "    'watermelon': {'one': 1.79, 'two': 2.99},\n",
    "}\n",
    "\n",
    "for key, value in prices.items():\n",
    "    print(f'Key is {key}, value is {value}')"
   ]
  },
  {
   "cell_type": "markdown",
   "id": "f5b7e450-50b3-4221-a72c-5123ad82e7f3",
   "metadata": {},
   "source": [
    "---"
   ]
  },
  {
   "cell_type": "markdown",
   "id": "484f0502-ed34-40a8-8c4a-a9266a024460",
   "metadata": {},
   "source": [
    "# Part 2: Algorithms"
   ]
  },
  {
   "cell_type": "markdown",
   "id": "048b8159",
   "metadata": {},
   "source": [
    "Let's say we have a list of numbers:"
   ]
  },
  {
   "cell_type": "code",
   "execution_count": 9,
   "id": "d386559d",
   "metadata": {},
   "outputs": [],
   "source": [
    "numbers = [10, 42, -5, 17, 23, -12, 34, 35, 8]"
   ]
  },
  {
   "cell_type": "markdown",
   "id": "c3b92f44",
   "metadata": {},
   "source": [
    "How do we find the largest number in the list?\n",
    "\n",
    "The algorithm looks something like this:\n",
    "\n",
    "1. Take the first number from the list, and assume it is the biggest.\n",
    "1. Compare it to the next number in the list. If the next number is bigger, consider that the biggest.\n",
    "1. Continue in this way, comparing to the next number in the list each time, until you reach the end of the list.\n",
    "\n",
    "So we \"walk\" or \"iterate\" through the list, comparing the current \"biggest number candidate\" to the next number, until we reach the end of the list.\n",
    "\n",
    "How would we write code for this algorithm in Python?"
   ]
  },
  {
   "cell_type": "code",
   "execution_count": 7,
   "id": "981478f2",
   "metadata": {
    "hide_input": false
   },
   "outputs": [],
   "source": [
    "# Implement the biggest number algorithm"
   ]
  },
  {
   "cell_type": "code",
   "execution_count": 11,
   "id": "9a7fd1bf",
   "metadata": {
    "hide_input": true,
    "tags": [
     "hide-input"
    ]
   },
   "outputs": [
    {
     "name": "stdout",
     "output_type": "stream",
     "text": [
      "42\n"
     ]
    }
   ],
   "source": [
    "def find_biggest(nums):\n",
    "    biggest = numbers[0]\n",
    "    for n in numbers[1:]:\n",
    "        if n > biggest:\n",
    "            biggest = n\n",
    "    return biggest\n",
    "\n",
    "print(find_biggest(numbers))"
   ]
  },
  {
   "cell_type": "markdown",
   "id": "52ed012c",
   "metadata": {},
   "source": [
    "Here, on line 1, we assign the first number in the list (`numbers[0]`) to the variable `biggest`. On line 2, we create a for loop for iterating over the rest of the numbers (`numbers[1:]`, starting from index 1 to the end). Remember from a previous lesson that a for loop assigns each element in the list to the loop variable (`n`) in order.\n",
    "\n",
    "Now, taking each number `n` in order, we compare it to our candidate biggest. If it is bigger than our candidate, it becomes the new candidate for biggest (line 4)."
   ]
  },
  {
   "cell_type": "markdown",
   "id": "2d34a54c",
   "metadata": {},
   "source": [
    "Let's try another algorithm. How would you count the number of occurrences of each letter, number, and punctuation in a string?"
   ]
  },
  {
   "cell_type": "code",
   "execution_count": 3,
   "id": "c5b9b0b9",
   "metadata": {},
   "outputs": [],
   "source": [
    "# We use \\' to \"escape\" the single quote,\n",
    "# since we are using single quotes as the string delimiter\n",
    "s = 'Hello, how are you? I\\'m learning Python'"
   ]
  },
  {
   "cell_type": "markdown",
   "id": "1d5b9612",
   "metadata": {},
   "source": [
    "The steps are as follows:\n",
    "\n",
    "1. Create an empty dict that will hold the mapping between character and number of occurrences.\n",
    "1. Iterate over each character in the list, for each one:\n",
    "    1. If there is an entry in the dict for the character, increment the entry by 1.\n",
    "    1. Otherwise, create an entry in the dictionary for the character and set it to 1.\n",
    "  \n",
    "How would we write *this* algorithm in Python?"
   ]
  },
  {
   "cell_type": "code",
   "execution_count": 12,
   "id": "b9213cbd",
   "metadata": {},
   "outputs": [],
   "source": [
    "# Implement the occurrences counting algorithm"
   ]
  },
  {
   "cell_type": "code",
   "execution_count": 4,
   "id": "dbe319ee",
   "metadata": {
    "hide_input": true
   },
   "outputs": [
    {
     "name": "stdout",
     "output_type": "stream",
     "text": [
      "{' ': 6,\n",
      " \"'\": 1,\n",
      " ',': 1,\n",
      " '?': 1,\n",
      " 'H': 1,\n",
      " 'I': 1,\n",
      " 'P': 1,\n",
      " 'a': 2,\n",
      " 'e': 3,\n",
      " 'g': 1,\n",
      " 'h': 2,\n",
      " 'i': 1,\n",
      " 'l': 3,\n",
      " 'm': 1,\n",
      " 'n': 3,\n",
      " 'o': 4,\n",
      " 'r': 2,\n",
      " 't': 1,\n",
      " 'u': 1,\n",
      " 'w': 1,\n",
      " 'y': 2}\n"
     ]
    }
   ],
   "source": [
    "from pprint import pprint\n",
    "\n",
    "def count_occurrences(string):\n",
    "    answer = {}  # Empty dictionary for holding our character -> occurrences mapping\n",
    "    for char in string:\n",
    "        if char in answer:\n",
    "            answer[char] += 1 # `foo += 1` is the same as `foo = foo + 1`\n",
    "        else:\n",
    "            answer[char] = 1\n",
    "    return answer\n",
    "\n",
    "pprint(count_occurrences(s))"
   ]
  },
  {
   "cell_type": "markdown",
   "id": "18a8415a",
   "metadata": {},
   "source": [
    "The important thing to take away from these exercises is that **an algorithm is different than the code that implements it**. The algorithm is the abstract set of steps that lead to a solution in the general case. The code *implements* the algorithm, but it's possible there are multiple ways of implementing the same algorithm. Think especially of implementing an algorithm in different programming languages. The code is of course different but the algorithm is the same."
   ]
  },
  {
   "cell_type": "markdown",
   "id": "d240fb67",
   "metadata": {},
   "source": [
    "Sometimes the output of one algorithm can be used for a different purpose, such as implementing a different algorithm. For example, consider an **isogram**, which is a word with no repeating letters or numbers, whether in a row or not. How would we use the output of our occurrences counting algorithm to create an algorithm which determines if a given string is an isogram?"
   ]
  },
  {
   "cell_type": "code",
   "execution_count": 1,
   "id": "3de7e07d",
   "metadata": {
    "hide_input": true
   },
   "outputs": [
    {
     "name": "stdout",
     "output_type": "stream",
     "text": [
      "(Steps described here)\n"
     ]
    }
   ],
   "source": [
    "'''\n",
    "1. Go through the steps of the occurrence counting algorithm\n",
    "2. Take the final dictionary, and check if any of the values are greater than 1\n",
    "'''\n",
    "print('(Steps described here)')"
   ]
  },
  {
   "cell_type": "markdown",
   "id": "d6274dbb",
   "metadata": {
    "hide_input": false
   },
   "source": [
    "And what would the resulting code look like?"
   ]
  },
  {
   "cell_type": "code",
   "execution_count": 25,
   "id": "8e3f82e6",
   "metadata": {
    "hide_input": true
   },
   "outputs": [
    {
     "name": "stdout",
     "output_type": "stream",
     "text": [
      "True\n",
      "True\n"
     ]
    }
   ],
   "source": [
    "def is_isogram1(string):\n",
    "    occurrences = count_occurrences(string)\n",
    "    for v in occurrences.values():\n",
    "        if v > 1:\n",
    "            return False\n",
    "    return True\n",
    "\n",
    "def is_isogram2(string):\n",
    "    return not any([x > 1 for x in count_occurrences(string).values()])\n",
    "\n",
    "s = 'Tower'\n",
    "print(is_isogram1(s))\n",
    "print(is_isogram2(s))"
   ]
  },
  {
   "cell_type": "markdown",
   "id": "9c9d4f52",
   "metadata": {
    "hide_input": true
   },
   "source": [
    "These are two ways of implementing an algorithm for checking if a string is an isogram. Notice that both functions call the `count_occurrences` function (which we defined above). The output of that algorithm is the input to this algorithm. If you didn't have a `count_occurrences` function already defined, you could put the implementation \"inline\" inside the `is_isogram` functions: "
   ]
  },
  {
   "cell_type": "code",
   "execution_count": 4,
   "id": "914dbe6e",
   "metadata": {
    "hide_input": true
   },
   "outputs": [
    {
     "name": "stdout",
     "output_type": "stream",
     "text": [
      "True\n"
     ]
    }
   ],
   "source": [
    "def is_isogram3(string):\n",
    "    # Let's assume that this function doesn't exist\n",
    "    # occurrences = count_occurrences(string)\n",
    "    \n",
    "    # We can include its code in our is_isogram function:\n",
    "    occurrences = {}  # Empty dictionary for holding our character -> occurrences mapping\n",
    "    for char in string:\n",
    "        if char in occurrences:\n",
    "            occurrences[char] += 1 # `foo += 1` is the same as `foo = foo + 1`\n",
    "        else:\n",
    "            occurrences[char] = 1\n",
    "\n",
    "    for v in occurrences.values():\n",
    "        if v > 1:\n",
    "            return False\n",
    "    return True\n",
    "\n",
    "print(is_isogram3('Water'))"
   ]
  },
  {
   "cell_type": "markdown",
   "id": "840f7cfd",
   "metadata": {},
   "source": [
    "Before we move on to other algorithms, lets quickly introduce a new kind of loop. So far, we have seen the `for` loop, which iterates over a given list (or other iterable data structure), and assigns each item in the list to a \"loop variable\":"
   ]
  },
  {
   "cell_type": "code",
   "execution_count": 5,
   "id": "3fc03ecf",
   "metadata": {},
   "outputs": [
    {
     "name": "stdout",
     "output_type": "stream",
     "text": [
      "3\n",
      "5\n",
      "2\n",
      "4\n"
     ]
    }
   ],
   "source": [
    "stuff = [3, 5, 2, 4]\n",
    "for s in stuff:\n",
    "    print(s)"
   ]
  },
  {
   "cell_type": "markdown",
   "id": "8543c802",
   "metadata": {},
   "source": [
    "There is also a construct called a `while` loop. A `while` loop continues executing the body of the loop over and over as long as the condition of the `while` loop evaluates to `True`. Here is an example:"
   ]
  },
  {
   "cell_type": "code",
   "execution_count": 6,
   "id": "84c50d95",
   "metadata": {},
   "outputs": [
    {
     "name": "stdout",
     "output_type": "stream",
     "text": [
      "hello hello hello hello hello \n"
     ]
    }
   ],
   "source": [
    "x = ''\n",
    "while len(x) < 30:\n",
    "    x += 'hello '\n",
    "print(x)"
   ]
  },
  {
   "cell_type": "markdown",
   "id": "c278004a",
   "metadata": {},
   "source": [
    "The most important thing in a `while` loop is that you have to update the data that leads to it ending. That means in the above example, the loops ends based on the length of x, and the body of the loop makes x bigger every time. If your loop body does not influence the *condition* being tested, you could end up with an **infinite loop**, which is a common programming error where you program just \"hangs\" and runs forever."
   ]
  },
  {
   "cell_type": "code",
   "execution_count": null,
   "id": "bdff03de",
   "metadata": {},
   "outputs": [],
   "source": [
    "idx = 0\n",
    "while idx < len(stuff):\n",
    "    print(stuff[idx])\n",
    "    # This is an infinite loop. It will print the item at stuff[0] forever\n",
    "    # What we need is an assignment statement for `idx` so that it grows\n",
    "    # every time and eventually is not less than the length of `stuff`.\n",
    "    # idx += 1"
   ]
  },
  {
   "cell_type": "markdown",
   "id": "9dd71731",
   "metadata": {},
   "source": [
    "Finally, let's consider an algorithm like those taught in computer science classes. Here we will look at the problem of sorting a list, in this case a list of numbers (you can also sort lists of strings, or anything that has a defined order).\n",
    "\n",
    "Given the following input, we would like to produce the indicated output:"
   ]
  },
  {
   "cell_type": "code",
   "execution_count": 2,
   "id": "cef2392a",
   "metadata": {},
   "outputs": [],
   "source": [
    "def sort(input_list):\n",
    "    pass\n",
    "    # The special keyword 'pass' is a placeholder. Python will not\n",
    "    # allow you to have an empty block after a function definition, if\n",
    "    # statement or for loop, so if you haven't figured out what goes\n",
    "    # somewhere yet, or if you've commented out all of the actual statements\n",
    "    # you will need to use 'pass'.\n",
    "\n",
    "input_numbers = [10, 42, -5, 17, 23, -12, 34, 35, 8]\n",
    "output_numbers = sort(input_numbers)\n",
    "# [-12, -5, 8, 10, 17, 23, 34, 35, 42]"
   ]
  },
  {
   "cell_type": "markdown",
   "id": "2d727e83",
   "metadata": {},
   "source": [
    "There are many (dozens) of algorithms for sorting lists. Some are more efficient than others, based on the number of steps it takes to sort the list as the list grows. The study of how many steps it takes to sort a list, or perform any algorithm, based on the size of the input is the study of [Big O Notation](https://www.freecodecamp.org/news/big-o-notation-why-it-matters-and-why-it-doesnt-1674cfa8a23c/), which is covered extensively in computer science undergrad courses, but not particularly important for a practical coder.\n",
    "\n",
    "We will be looking at an algorithm called **insertion sort**. The general idea is to iterate through the list and build another list *inside* the list being sorted, that contains all of the numbers that we have already sorted. At each step, we grab the next value in `input_numbers` and place it in the location in the sorted list where it belongs.\n",
    "\n",
    "The steps are as follows:\n",
    "\n",
    "1. Assume the first number of the list is sorted, relative to itself. A list with one number can always be considered already \"sorted\".\n",
    "2. For each remaining number in the list:\n",
    "    1. Assign the variable `candidate` to the new number.\n",
    "    1. Compare `candidate` to the number to its left. (So if candidate is at index `input_numbers[j]`, compare it to the value at `input_numbers[j-1]`.\n",
    "    2. If it is smaller than that number, swap them\n",
    "    3. Continue until you reach a number that is not smaller, or the left end of the list.\n",
    "    \n",
    "Let's look at the python code that implements this algorithm."
   ]
  },
  {
   "cell_type": "code",
   "execution_count": 16,
   "id": "c2792e01",
   "metadata": {},
   "outputs": [],
   "source": [
    "def sort(numbers):\n",
    "    for idx in range(1, len(numbers)):\n",
    "        j = idx\n",
    "        while j > 0 and numbers[j - 1] > numbers[j]:\n",
    "            temp = numbers[j]\n",
    "            numbers[j] = numbers[j - 1]\n",
    "            numbers[j - 1] = temp\n",
    "            j = j - 1\n",
    "        idx += 1"
   ]
  },
  {
   "cell_type": "code",
   "execution_count": 17,
   "id": "b9e4abe7",
   "metadata": {},
   "outputs": [
    {
     "name": "stdout",
     "output_type": "stream",
     "text": [
      "[-12, -5, 8, 10, 17, 23, 34, 35, 42]\n"
     ]
    }
   ],
   "source": [
    "sort(input_numbers)\n",
    "print(input_numbers)"
   ]
  },
  {
   "cell_type": "markdown",
   "id": "464beb02",
   "metadata": {},
   "source": [
    "That's it for this lesson! It was expected that this might be a tough one compared to what we have covered before, so it's okay if you got a little bit lost. For extra help, be sure to come to the upcoming **review session**. Here is a [great lesson](https://www.freecodecamp.org/news/what-is-an-algorithm-definition-for-beginners/) on algorithms from Free Code Camp if you'd like to learn more."
   ]
  },
  {
   "cell_type": "markdown",
   "id": "4aef672e-2574-46e3-9f0d-86c2f3b68f35",
   "metadata": {},
   "source": [
    "---"
   ]
  },
  {
   "cell_type": "markdown",
   "id": "2d8743ae-61aa-4e06-baf7-0ebcc515bcb0",
   "metadata": {},
   "source": [
    "# Appendix: *args and **kwargs\n",
    "\n",
    "Python provides the special parameters `*args` and `**kwargs`, that capture all of the remaining positional (`*args`) and keyword (`**kwargs`) arguments to a function. Let's see this in practice."
   ]
  },
  {
   "cell_type": "code",
   "execution_count": null,
   "id": "236afb28",
   "metadata": {},
   "outputs": [],
   "source": [
    "def color_them(color, *args):\n",
    "    for arg in args:\n",
    "        print('%s: %s' % (color, arg))\n",
    "        \n",
    "color_them('red', 1, 2, 3)"
   ]
  },
  {
   "cell_type": "markdown",
   "id": "75647ddb-ea1b-4e83-b126-f579d5529308",
   "metadata": {},
   "source": [
    "The first argument, `'red'` is assigned to the argument `color`. Then the next positional arguments, as many as we want, are assigned to `args`, which is a list. Notice that when referring to `args` in the code, we omit the asterisk (`*`), which is only used in the function definition to indicate that `args` is a special variable that is capturing all of the remaining positional arguments.\n",
    "\n",
    "We can define keyword arguments after `*args` if we like."
   ]
  },
  {
   "cell_type": "code",
   "execution_count": null,
   "id": "fdb9aa54",
   "metadata": {},
   "outputs": [],
   "source": [
    "def color_them2(color, *args, print_twice=False):\n",
    "    for arg in args:\n",
    "        i = 1\n",
    "        if print_twice:\n",
    "            i = 2\n",
    "        # We use a single underscore, '_', to indicate that\n",
    "        # we're not using a variable. It doesn't have any\n",
    "        # special meaning, it's just a convention.\n",
    "        for _ in range(i):\n",
    "            print('%s: %s' % (color, arg))\n",
    "            \n",
    "color_them2('blue', 10, 20, 30, 40, 50, print_twice=True)"
   ]
  },
  {
   "cell_type": "markdown",
   "id": "654286ea-2248-4fb0-99d8-cb10040473e6",
   "metadata": {},
   "source": [
    "What if we want to use a variable length list of `*args` to call a function that can take a variable length list of `*args`?"
   ]
  },
  {
   "cell_type": "code",
   "execution_count": null,
   "id": "8d59b033",
   "metadata": {},
   "outputs": [],
   "source": [
    "def color_with_header(color, *args):\n",
    "    print('=== %s ===' % color)\n",
    "    color_them(color, *args)\n",
    "    \n",
    "color_with_header('green', 100, 150, 200, 250)"
   ]
  },
  {
   "cell_type": "markdown",
   "id": "ee25a0fc-46e9-428e-bd15-e830160f207c",
   "metadata": {},
   "source": [
    "Here, we again using the asterisk (`*`) but it has a different meaning. When we use it on line 5 above in our call to `color_them`, we are using it as the **unpacking operator**. This means, take an actual list of items, and extract each one, rather than just passing it as a list.\n",
    "\n",
    "You may be wondering why we would use `*args` instead of just passing a single item that represents a list. We'll get back to that, promise."
   ]
  },
  {
   "cell_type": "code",
   "execution_count": null,
   "id": "8b418172",
   "metadata": {},
   "outputs": [],
   "source": [
    "def color_them3(color, things):\n",
    "    for thing in things:\n",
    "        print('%s: %s' % (color, thing))\n",
    "\n",
    "color_them3('yellow', [3, 5, 7])"
   ]
  },
  {
   "cell_type": "markdown",
   "id": "ab2100d9-ffeb-492c-9f18-22b487ac5ce3",
   "metadata": {},
   "source": [
    "Just like we have a way to capture any variable number of positional args, we can also capture keyword args using `**kwargs`."
   ]
  },
  {
   "cell_type": "code",
   "execution_count": null,
   "id": "8ef472bb",
   "metadata": {},
   "outputs": [],
   "source": [
    "def print_prices(header, multiplier=1, **kwargs):\n",
    "    print(header)\n",
    "    for thing, price in kwargs.items():\n",
    "        print('%s costs %s' % (thing, price * multiplier))\n",
    "        \n",
    "print_prices('The prices:', apple=1.29, orange=1.59, banana=0.89)"
   ]
  },
  {
   "cell_type": "markdown",
   "id": "535962f4-a980-4a6c-b787-85fe6e50be36",
   "metadata": {},
   "source": [
    "We can pass literally any valid python identifier to the `print_prices` function, and they will all be captured in the dictionary `kwargs`. Notice that there is still a positional argument (we can have as many of those as we like) and a named keyword argument (`multiplier`) that can be specified as well and will be captured outside of `kwargs` (so `multiplier` won't be part of the `kwargs` dictionary)."
   ]
  },
  {
   "cell_type": "code",
   "execution_count": null,
   "id": "c2774bc6",
   "metadata": {},
   "outputs": [],
   "source": [
    "print_prices('Toy prices:', train=5.50, multiplier=2, blocks=1.00)"
   ]
  },
  {
   "cell_type": "markdown",
   "id": "23eefbdd-2c7d-499e-8e30-85615ecaa317",
   "metadata": {},
   "source": [
    "Like `*args`, we can use the dictionary destruction operator `**` to pass a dictionary to a function as keyword arguments."
   ]
  },
  {
   "cell_type": "code",
   "execution_count": null,
   "id": "be92022b",
   "metadata": {},
   "outputs": [],
   "source": [
    "def turn_the_car(direction='left', speed=30):\n",
    "    print(direction, speed)\n",
    "    \n",
    "my_kwargs = {'direction': 'right'}\n",
    "turn_the_car(**my_kwargs)"
   ]
  },
  {
   "cell_type": "markdown",
   "id": "e448986f-5f24-4cb1-a138-7dd0ee066970",
   "metadata": {},
   "source": [
    "It's important to note that you can't call the function `turn_the_car` with an arbitrary destructured dictionary, because it's not set up to accept arbitrary keyword arguments."
   ]
  },
  {
   "cell_type": "code",
   "execution_count": null,
   "id": "4a732d61",
   "metadata": {},
   "outputs": [],
   "source": [
    "my_kwargs2 = {'direction': 'up', 'brake': True, 'foo': 'bar'}\n",
    "turn_the_car(**my_kwargs2)"
   ]
  },
  {
   "cell_type": "markdown",
   "id": "fe2e00ec-7823-4f28-afdd-f0fb1a292017",
   "metadata": {},
   "source": [
    "So what's the point of all this? The main reason to capture `*args` and `**kwargs` is so that you can confidently delegate to or wrap helper functions. Let's say we had a function that performs some task. Maybe we want to print out a logging message before and after the task."
   ]
  },
  {
   "cell_type": "code",
   "execution_count": null,
   "id": "b9fb3531",
   "metadata": {},
   "outputs": [],
   "source": [
    "def perform_task(data, instruction, preference=False, num_rows=100):\n",
    "    # Doesn't actually do anything, left to your imagination\n",
    "    print(data, instruction, preference, num_rows)\n",
    "\n",
    "def log_perform_task(*args, **kwargs):\n",
    "    print('About to run perform_task')\n",
    "    perform_task(*args, **kwargs)\n",
    "    print('Done with perform_task')\n",
    "    \n",
    "perform_task([1,2,3], 'foo')\n",
    "log_perform_task([4,5,6], 'bar', num_rows=50)"
   ]
  },
  {
   "cell_type": "markdown",
   "id": "2121b3ba-7dc9-4cc7-a4af-e66ff34e86a7",
   "metadata": {},
   "source": [
    "Here, what we're basicially saying is: \"Whatever positional arguments and keyword arguments were passed to this function, pass those same arguments to the function we're calling\". So the `*args` and `**kwargs` arguments in the definition of `log_perform_task` capture the positional and keyword arguments, which are then **destructured** and passed as the positional and keyword arguments of `perform_task`.\n",
    "\n",
    "We could also modify or remove parameters:"
   ]
  },
  {
   "cell_type": "code",
   "execution_count": null,
   "id": "eb7f442a",
   "metadata": {},
   "outputs": [],
   "source": [
    "def perform_twice_as_many_rows(*args, **kwargs):\n",
    "    if 'num_rows' in kwargs:\n",
    "        kwargs['num_rows'] *= 2\n",
    "    perform_task(*args, **kwargs)\n",
    "    \n",
    "perform_twice_as_many_rows([1,2,3], 'foo', num_rows=500)"
   ]
  },
  {
   "cell_type": "markdown",
   "id": "97bde14e-2612-411d-bf84-dde1ad24e166",
   "metadata": {},
   "source": [
    "We could have also explicitly defined the necessary parameters for our utility function:"
   ]
  },
  {
   "cell_type": "code",
   "execution_count": null,
   "id": "8d369ee4",
   "metadata": {},
   "outputs": [],
   "source": [
    "def log_perform_task_worse(data, instruction, preference=False, num_rows=100):\n",
    "    print('About to run perform_task')\n",
    "    perform_task(data, instruction, preference=preference, num_rows=num_rows)\n",
    "    print('Done with perform_task')"
   ]
  },
  {
   "cell_type": "markdown",
   "id": "8439077f-3903-4851-871b-e274b6ef5886",
   "metadata": {},
   "source": [
    "The problem with that approach is that we have to update all of our utility functions (and we already have two of them!) whenever the definition of `perform_task` updates. So if we add a new parameter to `perform_task`, the function `log_perfrom_task_worse` will also need to be updated."
   ]
  },
  {
   "cell_type": "code",
   "execution_count": null,
   "id": "e9484dde",
   "metadata": {},
   "outputs": [],
   "source": [
    "def perform_task(data, instruction, preference=False, num_rows=100, capture=True):\n",
    "    print(data, instruction, preference, num_rows, capture)\n",
    "    \n",
    "def log_perform_task_worse(data, instruction, preference=False, num_rows=100, capture=True):\n",
    "    print('About to run perform_task')\n",
    "    perform_task(data, instruction, preference=preference, num_rows=num_rows, capture=capture)\n",
    "    print('Done with perform_task')"
   ]
  },
  {
   "cell_type": "markdown",
   "id": "bdf9ce47-c276-4e47-be2a-0857f4f40a03",
   "metadata": {},
   "source": [
    "Instead, the `*args`/`**kwargs` approach let's us basically say \"We don't care what the arguments to the delegated function are, pass them\"."
   ]
  }
 ],
 "metadata": {
  "kernelspec": {
   "display_name": "Python 3 (ipykernel)",
   "language": "python",
   "name": "python3"
  },
  "language_info": {
   "codemirror_mode": {
    "name": "ipython",
    "version": 3
   },
   "file_extension": ".py",
   "mimetype": "text/x-python",
   "name": "python",
   "nbconvert_exporter": "python",
   "pygments_lexer": "ipython3",
   "version": "3.11.5"
  }
 },
 "nbformat": 4,
 "nbformat_minor": 5
}
