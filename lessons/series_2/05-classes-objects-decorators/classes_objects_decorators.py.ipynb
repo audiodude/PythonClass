{
 "cells": [
  {
   "cell_type": "markdown",
   "id": "04a5c483",
   "metadata": {},
   "source": [
    "Welcome to week 5 of the Noisebridge Python class! ([Noisebridge Wiki](https://www.noisebridge.net/wiki/PyClass) | [Github](https://github.com/audiodude/PythonClass))\n",
    "\n",
    "In this lesson, we will learn about Object Oriented Programming and how classes and objects work in Python. We will also discuss decorators.\n",
    "\n",
    "You will learn:\n",
    "\n",
    "* How to define a class, and instantiate an object of that class\n",
    "* What a constructor is in OOP\n",
    "* Proper uses of the Python `self` variable\n",
    "* How object properties are stored and calculated\n",
    "* Basic inheritance/class hierarchies\n",
    "* How to use and define decorators\n",
    "\n",
    "Let's go!"
   ]
  },
  {
   "cell_type": "markdown",
   "id": "04854fe2",
   "metadata": {},
   "source": [
    "An **object** is a data structure that encapsulates data (**instance variables**) and functions that operate on that data (**methods**). An object is created by **instantiating** a **class**, where the class can be thought of as the template for the object.\n",
    "\n",
    "Let's look at a code example that we will refer to throughout this lesson. First let's load our schema, as we did in the previous lesson."
   ]
  },
  {
   "cell_type": "code",
   "execution_count": null,
   "id": "99487817",
   "metadata": {},
   "outputs": [],
   "source": [
    "import sqlite3\n",
    "\n",
    "db = sqlite3.connect('db.sqlite3')\n",
    "cursor = db.cursor()\n",
    "cursor.execute('''\n",
    "CREATE TABLE IF NOT EXISTS links (\n",
    "  id INTEGER NOT NULL PRIMARY KEY,\n",
    "  name VARCHAR(255),\n",
    "  url TEXT,\n",
    "  created_at TIMESTAMP,\n",
    "  upvotes INTEGER DEFAULT 0,\n",
    "  downvotes INTEGER DEFAULT 0\n",
    ");\n",
    "''')\n",
    "cursor.close()\n",
    "db.close()"
   ]
  },
  {
   "cell_type": "markdown",
   "id": "829cb3e4",
   "metadata": {},
   "source": [
    "Then, we create a class for inserting or links into the database, and retrieving our links from the database. This could be useful, for example, if we're working on a team where one person is a database expert and knows how to write SQL, but the other team members are less familiar. All of the SQL handling code for the Link is encapsulated in the class, and the application code just deals with Links without worrying how they are persisted. In practice, you would probably use a more full-featured [ORM](https://en.wikipedia.org/wiki/Object%E2%80%93relational_mapping) solution like [SQLALchemy](https://www.sqlalchemy.org/)."
   ]
  },
  {
   "cell_type": "code",
   "execution_count": null,
   "id": "fd374d08",
   "metadata": {},
   "outputs": [],
   "source": [
    "import sqlite3\n",
    "from contextlib import closing\n",
    "\n",
    "class Link:\n",
    "    DB_FILE = 'db.sqlite3'\n",
    "    \n",
    "    def __init__(self):\n",
    "        self.db = sqlite3.connect(self.DB_FILE)\n",
    "        \n",
    "    def set_many(self, name, url, created_at, upvotes, downvotes):\n",
    "        self.name = name\n",
    "        self.url = url\n",
    "        self.created_at = created_at\n",
    "        self.upvotes = upvotes\n",
    "        self.downvotes = downvotes\n",
    "        \n",
    "    def create(self, name, url, created_at, upvotes, downvotes):\n",
    "        self.set_many(name, url, created_at, upvotes, downvotes)\n",
    "        \n",
    "        with closing(self.db.cursor()) as cursor:\n",
    "            cursor.execute('''\n",
    "                INSERT INTO links (name, url, created_at, upvotes, downvotes)\n",
    "                VALUES (?, ?, ?, ?, ?)\n",
    "            ''', (self.name, self.url, self.created_at, self.upvotes, self.downvotes))\n",
    "            if cursor.rowcount == 0:\n",
    "                raise ValueError('Could not insert link')\n",
    "            self.id_ = cursor.lastrowid\n",
    "        self.db.commit()\n",
    "            \n",
    "    def load(self):\n",
    "        if not hasattr(self, 'id_'):\n",
    "            raise ValueError('Cannot load data without setting id_ first')\n",
    "        \n",
    "        with closing(self.db.cursor()) as cursor:\n",
    "            cursor.execute('''\n",
    "                SELECT name, url, created_at, upvotes, downvotes FROM links\n",
    "                WHERE id = ?\n",
    "            ''', (self.id_,))\n",
    "            data = cursor.fetchone()\n",
    "            self.set_many(*data)\n",
    "\n",
    "            \n",
    "# Application code\n",
    "google = Link()\n",
    "google.create('Google', 'https://google.com', '2023-10-23', 100, 10)\n",
    "id_ = google.id_\n",
    "\n",
    "google_copy = Link()\n",
    "google_copy.id_ = id_\n",
    "google_copy.load()\n",
    "\n",
    "assert google.name == google_copy.name"
   ]
  },
  {
   "cell_type": "markdown",
   "id": "ff63e182",
   "metadata": {},
   "source": [
    "The first part is where we define the `Link` class. In the following code, labelled \"Application code\", we use the class to **instantiate** two Link objects. The first one, which is assigned to the variable `google`, is used to create a new link in the database for Google. With the second object, `google_copy`, we load the data we just inserted and use an **assertion** to check that the two objects have the same name. In Python an `assert` statement will raise an exception if the expression on it's right does not evaluate to True. Assert statements are often used in testing."
   ]
  },
  {
   "cell_type": "markdown",
   "id": "0fa1df47",
   "metadata": {},
   "source": [
    "We've already seen a few of the features of classes and objects:\n",
    "\n",
    "* Objects are created (or \"instantiated\") by \"calling\" their class objects (`Link()`)\n",
    "* Objects can have properties (or \"instance variables\"), such as `google.name`\n",
    "* In Python, the first argument to an instance method (a method on the class that operates on an object of that class) is always `self`, which can be used to access the other properties and methods of the object.\n",
    "* Properties can be added to objects, and they don't need to be defined ahead of time. We can use the `hasattr` built-in function to check if a given object has a property with the given name.\n",
    "\n",
    "Let's consider each of these points"
   ]
  },
  {
   "cell_type": "markdown",
   "id": "5af4cbe7",
   "metadata": {},
   "source": [
    "## Constructors"
   ]
  },
  {
   "cell_type": "markdown",
   "id": "e04b7317",
   "metadata": {},
   "source": [
    "In OOP (Object Oriented Programming), a constructor is a method that is used to construct, or instantiate, a member of the class (an object). So in the above example, `Link` is the class, `google` is the object, and it is constructed using the syntax `Link()`. When a class is called in this way and an object is constructed, the special `__init__` (double underscore init) method is called. This method is the constructor, which is similar in purpose to constructors in other OOP languages.\n",
    "\n",
    "Constructors are where you \"set up\" your object. In this example, our objects need a connection to the database, so we create one in the constructor and assign it to `self.db`.\n",
    "\n",
    "Constructors can have any number of arguments, though the first one is always `self`. If, for example, we want to pass in an ID when constructing the object, we could have done:"
   ]
  },
  {
   "cell_type": "code",
   "execution_count": null,
   "id": "4a188f61",
   "metadata": {},
   "outputs": [],
   "source": [
    "class Link2:\n",
    "    DB_FILE = 'db.sqlite3'\n",
    "    def __init__(self, id_):\n",
    "        self.id_ = id_\n",
    "        self.db = sqlite3.connect(self.DB_FILE)"
   ]
  },
  {
   "cell_type": "markdown",
   "id": "5a9d0aa2",
   "metadata": {},
   "source": [
    "In many cases, a constructor will be where the properties, or instance variables, of an object are initialized, such as we just did with `id_`."
   ]
  },
  {
   "cell_type": "markdown",
   "id": "5920b109",
   "metadata": {},
   "source": [
    "## `self`\n",
    "\n",
    "Python passes the object itself as the first argument to every instance method. It is almost universally implemented to assign this to a parameter named `self`, though technically the name could be anything. The `self` parameter operates very similarly to `this` in other OOP languages. It allows you to access member variables and methods of the \"current\" object. So for example, if I had a `Link` object named `google`, I could do:\n",
    "\n",
    "```\n",
    "google.set_many('Google', 'https://google.com', '2023-10-23', 100, 10)\n",
    "```\n",
    "\n",
    "However notice that in both the `load` method and the `create` method, `set_many` is called using `self`. One way to think about this is that when I call:\n",
    "\n",
    "`google.create('Google', 'https://google.com', '2023-10-23', 100, 10)`\n",
    "\n",
    "and the `create` method calls:\n",
    "\n",
    "`self.set_many`\n",
    "\n",
    "It has the same effect as if I had called `set_many` on the `google` object itself, as I did above. Here's another example:"
   ]
  },
  {
   "cell_type": "code",
   "execution_count": null,
   "id": "c3e9605f",
   "metadata": {},
   "outputs": [],
   "source": [
    "class Fruit:\n",
    "    def __init__(self, name, price):\n",
    "        self.name = name\n",
    "        self.price = price\n",
    "        \n",
    "    def discount(self, amount=.20):\n",
    "        self.price = round(self.price * (1 - amount), 2)\n",
    "        \n",
    "    def double_default_discount(self):\n",
    "        self.discount()\n",
    "        self.discount()\n",
    "        \n",
    "apple_1 = Fruit('apple', 2.00)\n",
    "apple_1.double_default_discount()\n",
    "print(apple_1.name, apple_1.price)\n",
    "\n",
    "apple_2 = Fruit('apple2', 2.00)\n",
    "apple_2.discount()\n",
    "apple_2.discount()\n",
    "print(apple_2.name, apple_2.price)\n"
   ]
  },
  {
   "cell_type": "markdown",
   "id": "c3980767",
   "metadata": {},
   "source": [
    "## Properties"
   ]
  },
  {
   "cell_type": "markdown",
   "id": "f128a28b",
   "metadata": {},
   "source": [
    "We have already seen some examples of object properties in our Python code. It might help to understand properties if we refer to them by their other name: instance variables. Basically, they are variables that are \"scoped\" to a specific instance of an object. So we can have two different fruit objects, both with a `price` property, but the prices can be different. Changing one will not affect the other.\n",
    "\n",
    "Also note that properties do not have to be \"declared\" or \"defined\" anywhere. This is different from other OOP languages like Java, where you have to state upfront \"Objects of this class will have a property 'name' which is a String\" or whatever. While we will often add properties to objects in their constructors, it is not strictly necessary. Objects don't need to have the same set of properties defined during their lifetime, and we have already seen an example of this. The `Link` objects we defined only have an `id_` property if they've been recently created or an `id_` has been set on them externally.\n",
    "\n",
    "In fact, in Python, you can add any properties you like to any object without raising an error. Though doing so will likely make your code hard to read and debug."
   ]
  },
  {
   "cell_type": "code",
   "execution_count": null,
   "id": "653408a1",
   "metadata": {},
   "outputs": [],
   "source": [
    "a_fruit = Fruit('generic', 5.00)\n",
    "\n",
    "a_fruit.why = 1\n",
    "a_fruit.would = 2\n",
    "a_fruit.you = 3\n",
    "a_fruit.do = 4\n",
    "a_fruit.this = 5\n",
    "\n",
    "print(a_fruit.you)"
   ]
  },
  {
   "cell_type": "markdown",
   "id": "a14a611f",
   "metadata": {},
   "source": [
    "In Python, we can use `hasattr` to check if a property exists on an object, as we did above. We can also use `getattr` and `setattr` in the case that we want to get or set a property, but the name is dynamic (not known when we are writing the code)."
   ]
  },
  {
   "cell_type": "code",
   "execution_count": null,
   "id": "3e649200",
   "metadata": {},
   "outputs": [],
   "source": [
    "import time\n",
    "\n",
    "assert hasattr(a_fruit, 'name')\n",
    "assert getattr(a_fruit, 'price')\n",
    "\n",
    "# This has no practical purpose, except to demonstrate that the\n",
    "# property name is effectively random and we don't know it ahead\n",
    "# of time.\n",
    "prop = 'quantity%.0f' % time.time()\n",
    "print(prop)\n",
    "\n",
    "setattr(a_fruit, prop, 10)\n",
    "print(getattr(a_fruit, prop))"
   ]
  },
  {
   "cell_type": "markdown",
   "id": "aa826b82",
   "metadata": {},
   "source": [
    "## Inheritance\n",
    "\n",
    "While it is very useful to encapsulate logic into a class/object, another useful feature of OOP is class **inheritance** or **class hierarchies**. Let's look at an example."
   ]
  },
  {
   "cell_type": "code",
   "execution_count": null,
   "id": "86c10c48",
   "metadata": {},
   "outputs": [],
   "source": [
    "class MultiFruit(Fruit):\n",
    "    def __init__(self, name, price, quantity):\n",
    "        super().__init__(name, price)\n",
    "        self.quantity = quantity\n",
    "        \n",
    "    def per_item_price(self):\n",
    "        return round(self.price / self.quantity, 2)\n",
    "    \n",
    "grapes = MultiFruit('grapes', 0.89, 10)\n",
    "print(grapes.per_item_price())\n",
    "grapes.discount()\n",
    "print('Grapes cost %s, or %s per grape' % (grapes.price, grapes.per_item_price()))"
   ]
  },
  {
   "cell_type": "markdown",
   "id": "438bb553",
   "metadata": {},
   "source": [
    "Here, we've created an \"is a\" relationship between `MultiFruit` and `Fruit`. Any object that is a MultiFruit, \"is a\" Fruit (but the opposite is not true!). The `MultiFruit` is said to **inherit** the definitions of `discount` and `double_default_discount` from it's **superclass** (the class that's directly \"above\" it in the class hierarchy, as if we were drawing a tree diagram). Because of this inheritance, we can call `grapes.discount()` on `grapes` just like on any Fruit (because it \"is a\" Fruit).\n",
    "\n",
    "Also notice the use of `super()` in the constructor. Here, we want to initialize our `MultiFruit` with a name and price, just like we do for regular `Fruit`. In this simple example, we could have just initialized those properties directly and skipped the call to the superclass constructor:"
   ]
  },
  {
   "cell_type": "code",
   "execution_count": 33,
   "id": "2e88e8d2",
   "metadata": {},
   "outputs": [],
   "source": [
    "class MultiFruit2(Fruit):\n",
    "    def __init__(self, name, price, quantity):\n",
    "        self.name = name\n",
    "        self.price = price\n",
    "        self.quantity = quantity"
   ]
  },
  {
   "cell_type": "markdown",
   "id": "89d4b41e",
   "metadata": {},
   "source": [
    "However, it's usually a good practice to try to use the superclass constructor in **subclasses**, since we might later update the `Fruit` constructor to, say, calculate ripeness on initialization, and it could introduce bugs if `MultiFruit` was being initialized in a totally separate way."
   ]
  },
  {
   "cell_type": "markdown",
   "id": "0fe439a4",
   "metadata": {},
   "source": [
    "Another powerful feature of inheritance is that since a `MultiFruit` \"is a\" `Fruit`, you can use the former anywhere the latter is required."
   ]
  },
  {
   "cell_type": "code",
   "execution_count": 46,
   "id": "b0fc5561",
   "metadata": {},
   "outputs": [
    {
     "name": "stdout",
     "output_type": "stream",
     "text": [
      "I made you a fruit basket with apple, grapes. It costs 1.99.\n"
     ]
    }
   ],
   "source": [
    "def make_fruit_basket(fruits):\n",
    "    names = [fruit.name for fruit in fruits]\n",
    "    total_price = sum(fruit.price for fruit in fruits)\n",
    "    return 'I made you a fruit basket with %s. It costs %s.' % (', '.join(names), total_price)\n",
    "\n",
    "print(make_fruit_basket([apple_1, grapes]))"
   ]
  },
  {
   "cell_type": "markdown",
   "id": "9263840e",
   "metadata": {},
   "source": [
    "The fruit basket method just cares about the name and price, which all fruits (including multifruits) have. It doesn't matter that grapes also have a quantity. In our original example with `Link`, you could perhaps have a `InMemoryLink` class that doesn't get persisted to the database, but it could still be used anywhere you need a Link."
   ]
  },
  {
   "cell_type": "markdown",
   "id": "a679bb78",
   "metadata": {},
   "source": [
    "## `isinstance`\n",
    "\n",
    "Sometimes, you will get passed a fruit, and you will have different logic depending on if it is a `Fruit` or a `MultiFruit`. While not exactly encouraged, you can use an `isinstance` check to make a determination."
   ]
  },
  {
   "cell_type": "code",
   "execution_count": 37,
   "id": "cdaa24d2",
   "metadata": {},
   "outputs": [],
   "source": [
    "assert isinstance(a_fruit, Fruit)\n",
    "assert not isinstance(a_fruit, MultiFruit)\n",
    "assert isinstance(grapes, Fruit)\n",
    "assert isinstance(grapes, MultiFruit)"
   ]
  },
  {
   "cell_type": "markdown",
   "id": "8d31931f",
   "metadata": {},
   "source": [
    "Although there are superior ways of designing your OOP programs, it's good to know that `isinstance` is there if we absolutely need it. It's far superior to checking the property `.__class__` or using the built-in `type()` directly, because it inspects class hierarchies."
   ]
  },
  {
   "cell_type": "code",
   "execution_count": 41,
   "id": "12eef7bc",
   "metadata": {},
   "outputs": [
    {
     "name": "stdout",
     "output_type": "stream",
     "text": [
      "<class '__main__.MultiFruit'>\n",
      "<class '__main__.MultiFruit'>\n"
     ]
    }
   ],
   "source": [
    "print(type(grapes))\n",
    "print(grapes.__class__)"
   ]
  },
  {
   "cell_type": "markdown",
   "id": "2e469066",
   "metadata": {},
   "source": [
    "# Decorators\n",
    "\n",
    "Technically, a decorator is a function that is passed a function and returns a function. However, they look more like \"annotations\" in other languages, which is generally what they're used for. Decorators will be a fairly big part of our class on Web Apps with Flask, so let's discuss them now.\n",
    "\n",
    "In our `MultiFruit` class, the per_item_price depends solely on the price and quantity of the object. We can use a decorator to mark it as a property, and then have the ability to access it without \"calling\" it (though the underlying function will still be called). Let's see that in action."
   ]
  },
  {
   "cell_type": "code",
   "execution_count": 49,
   "id": "2349f37f",
   "metadata": {},
   "outputs": [
    {
     "name": "stdout",
     "output_type": "stream",
     "text": [
      "0.35\n"
     ]
    }
   ],
   "source": [
    "class MultiFruit3(Fruit):\n",
    "    def __init__(self, name, price, quantity):\n",
    "        super().__init__(name, price)\n",
    "        self.quantity = quantity\n",
    "    \n",
    "    @property\n",
    "    def per_item_price(self):\n",
    "        return round(self.price / self.quantity, 2)\n",
    "    \n",
    "pears = MultiFruit3('pear', 1.39, 4)\n",
    "print(pears.per_item_price)"
   ]
  },
  {
   "cell_type": "markdown",
   "id": "9e85e410",
   "metadata": {},
   "source": [
    "What's going on here? The Python interpreter saw the **decorator** called `property`(the @ sign is just how the decorator is invoked) and extended the behavior of the decorated function in some way. In this case, it created a property on the object that has the same name as the function that was decorated. There are lots of built-in Python decorators for various tasks. And we can write our own!\n",
    "\n",
    "Let's say we wanted to print a message before and after one of our Fruit methods was called. We could copy paste print statements into each method body, but that's repetitive and error-prone. What happens when we want to change the message, but forget to change it everywhere.\n",
    "\n",
    "Instead, we can use a decorator. Let's see how our decorator would look before we implement it."
   ]
  },
  {
   "cell_type": "code",
   "execution_count": 51,
   "id": "83287c9a",
   "metadata": {},
   "outputs": [],
   "source": [
    "class Fruit3:\n",
    "    def __init__(self, name, price):\n",
    "        self.name = name\n",
    "        self.price = price\n",
    "    \n",
    "    @log\n",
    "    def discount(self, amount=.20):\n",
    "        self.price = round(self.price * (1 - amount), 2)\n",
    "    \n",
    "    @log\n",
    "    def double_default_discount(self):\n",
    "        self.discount()\n",
    "        self.discount()"
   ]
  },
  {
   "cell_type": "markdown",
   "id": "d9a41f85",
   "metadata": {},
   "source": [
    "Now we need to implement the `log` decorator. The syntax for defining a decorator is nothing special, recalling that a decorator is simply a function that is passed a function and returns a function. The function that is passed is the function that was decorated. The funcion we return is what will get called in its place."
   ]
  },
  {
   "cell_type": "code",
   "execution_count": 50,
   "id": "26c7cf6a",
   "metadata": {},
   "outputs": [],
   "source": [
    "def log(func):  # It takes the original function\n",
    "    def func_with_log(*args, **kwargs):\n",
    "        # This is the function that will actually\n",
    "        # get called. We take in *args and **kwargs so\n",
    "        # we can pass them through to the original.\n",
    "        print(f'About to call {func.__name__}')\n",
    "        func(*args, **kwargs)\n",
    "        print(f'Done calling {func.__name__}')\n",
    "    return func_with_log  # Return a function"
   ]
  },
  {
   "cell_type": "code",
   "execution_count": 54,
   "id": "da81954b",
   "metadata": {},
   "outputs": [
    {
     "name": "stdout",
     "output_type": "stream",
     "text": [
      "About to call discount\n",
      "Done calling discount\n"
     ]
    }
   ],
   "source": [
    "f = Fruit3('banana', 0.89)\n",
    "f.discount()"
   ]
  }
 ],
 "metadata": {
  "kernelspec": {
   "display_name": "Python 3 (ipykernel)",
   "language": "python",
   "name": "python3"
  },
  "language_info": {
   "codemirror_mode": {
    "name": "ipython",
    "version": 3
   },
   "file_extension": ".py",
   "mimetype": "text/x-python",
   "name": "python",
   "nbconvert_exporter": "python",
   "pygments_lexer": "ipython3",
   "version": "3.9.7"
  }
 },
 "nbformat": 4,
 "nbformat_minor": 5
}
